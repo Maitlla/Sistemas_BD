{
 "cells": [
  {
   "cell_type": "markdown",
   "id": "cb50eeb6-ad67-41bd-8248-2b2f20d995a8",
   "metadata": {},
   "source": [
    "# Web scraping. 1"
   ]
  },
  {
   "cell_type": "markdown",
   "id": "48196f74-f2ef-4d7e-8486-81328fb66e84",
   "metadata": {},
   "source": [
    "Web scraping is a technique used to extract information from web pages using programs that simulate a person's navigation through the WWW.\n",
    "\n",
    "Web scraping can be a good alternative when a website does not offer its information through an API.\n",
    "APIs offer many advantages:\n",
    "* They are documented\n",
    "* They offer structured information\n",
    "* They are relatively stable over time\n",
    "On the other hand, when using web scraping we find some disadvantages:\n",
    "* The information is not structured\n",
    "* The code of the page varies with frequency\n",
    "* The structure of the page is complex and not documented\n",
    "* Some pages prevent the use of scraping\n",
    "\n",
    "## Scraping Steps\n",
    "A scraping process follows the following steps:\n",
    "* Inspect the HTML code of the web site\n",
    "* Download HTML content from the site\n",
    "* Parse HTML code with Beautiful Soup\n",
    "* Work with the extracted data"
   ]
  },
  {
   "cell_type": "markdown",
   "id": "770a6555-f559-48e4-b60f-99608f3e25d8",
   "metadata": {},
   "source": [
    "Un proceso de scraping segue os seguintes pasos:\n",
    "* Inspeccionar o código HTML da páxina web\n",
    "* Descargar contido HTML da páxina\n",
    "* Parsear código HTML con Beautiful Soup\n",
    "* Traballar cos datos extraídos"
   ]
  },
  {
   "cell_type": "code",
   "execution_count": null,
   "id": "3e951099-50d4-41b6-8c44-40ee3b4e2823",
   "metadata": {},
   "outputs": [],
   "source": [
    "# The fundamental libraries are:\n",
    "# requests <- for http requests\n",
    "# BeautifulSoup <- for parsing HTML code"
   ]
  },
  {
   "cell_type": "code",
   "execution_count": 2,
   "id": "12e005aa-2187-43a9-8a53-69661f95e524",
   "metadata": {},
   "outputs": [],
   "source": [
    "import requests\n",
    "from bs4 import BeautifulSoup"
   ]
  },
  {
   "cell_type": "code",
   "execution_count": null,
   "id": "058ac19a-6d02-433e-ac25-fcc157d7421d",
   "metadata": {},
   "outputs": [],
   "source": [
    "# Example of a very simple page\n",
    "# https://bigdatawirtz.github.io/exemplo-web/01.html"
   ]
  },
  {
   "cell_type": "code",
   "execution_count": 4,
   "id": "81224eed-8044-43f9-bbe0-f32aeb43d473",
   "metadata": {},
   "outputs": [
    {
     "name": "stdout",
     "output_type": "stream",
     "text": [
      "<!DOCTYPE html>\n",
      "<html>\n",
      "\n",
      "<head>\n",
      "    <title>Este é o meu exemplo</title>\n",
      "</head>\n",
      "\n",
      "<body>\n",
      "    <p data-attribute=\"atributo\">O meu primeiro texto</p>\n",
      "</body>\n",
      "\n",
      "</html>\n",
      "\n"
     ]
    }
   ],
   "source": [
    "# Http request to web url\n",
    "url = 'https://bigdatawirtz.github.io/exemplo-web/01.html'\n",
    "paxina = requests.get(url)\n",
    "\n",
    "#paxina.content\n",
    "#paxina.text\n",
    "print(paxina.text)"
   ]
  },
  {
   "cell_type": "code",
   "execution_count": 3,
   "id": "6fdae5b3-d32e-42bc-9b76-6dbe7c8bd859",
   "metadata": {},
   "outputs": [],
   "source": [
    "# Parse the web content in response\n",
    "soup = BeautifulSoup(paxina.content, 'html.parser')"
   ]
  },
  {
   "cell_type": "code",
   "execution_count": 4,
   "id": "c8ca71d0-2976-4751-8e02-be220d7bea41",
   "metadata": {},
   "outputs": [
    {
     "data": {
      "text/plain": [
       "bs4.BeautifulSoup"
      ]
     },
     "execution_count": 4,
     "metadata": {},
     "output_type": "execute_result"
    }
   ],
   "source": [
    "type(soup)"
   ]
  },
  {
   "cell_type": "code",
   "execution_count": 6,
   "id": "877f6f6f-14b1-4c1a-ba28-b9c7885c4107",
   "metadata": {},
   "outputs": [
    {
     "name": "stdout",
     "output_type": "stream",
     "text": [
      "<!DOCTYPE html>\n",
      "<html>\n",
      " <head>\n",
      "  <title>\n",
      "   Este é o meu exemplo\n",
      "  </title>\n",
      " </head>\n",
      " <body>\n",
      "  <p data-attribute=\"atributo\">\n",
      "   O meu primeiro texto\n",
      "  </p>\n",
      " </body>\n",
      "</html>\n",
      "\n"
     ]
    }
   ],
   "source": [
    "# Show the content of 'the soup'\n",
    "soup\n",
    "# prettify function can be helpful\n",
    "print(soup.prettify())"
   ]
  },
  {
   "cell_type": "code",
   "execution_count": 7,
   "id": "8774601b-a57d-4b85-8375-cbb61c0c0d4a",
   "metadata": {},
   "outputs": [
    {
     "data": {
      "text/plain": [
       "<title>Este é o meu exemplo</title>"
      ]
     },
     "execution_count": 7,
     "metadata": {},
     "output_type": "execute_result"
    }
   ],
   "source": [
    "# We search for elements according to its tag\n",
    "# Search element title\n",
    "soup.find(\"title\")\n",
    "#soup.title"
   ]
  },
  {
   "cell_type": "code",
   "execution_count": 8,
   "id": "08543874-46de-4ea9-a8f3-0c74b464b81e",
   "metadata": {},
   "outputs": [
    {
     "data": {
      "text/plain": [
       "bs4.element.Tag"
      ]
     },
     "execution_count": 8,
     "metadata": {},
     "output_type": "execute_result"
    }
   ],
   "source": [
    "type(soup.title)"
   ]
  },
  {
   "cell_type": "code",
   "execution_count": 9,
   "id": "616eefdd-16f3-4a01-a16e-000303a094c0",
   "metadata": {},
   "outputs": [
    {
     "data": {
      "text/plain": [
       "'title'"
      ]
     },
     "execution_count": 9,
     "metadata": {},
     "output_type": "execute_result"
    }
   ],
   "source": [
    "# Every Tag has a name\n",
    "soup.title.name"
   ]
  },
  {
   "cell_type": "code",
   "execution_count": 10,
   "id": "5026388d-fa26-45d1-8b54-d9f0b1b91d26",
   "metadata": {},
   "outputs": [
    {
     "data": {
      "text/plain": [
       "str"
      ]
     },
     "execution_count": 10,
     "metadata": {},
     "output_type": "execute_result"
    }
   ],
   "source": [
    "type(soup.title.name)"
   ]
  },
  {
   "cell_type": "code",
   "execution_count": 11,
   "id": "65fa046d-a58d-471b-9fc8-f0c04564e1e0",
   "metadata": {},
   "outputs": [
    {
     "data": {
      "text/plain": [
       "'Este é o meu exemplo'"
      ]
     },
     "execution_count": 11,
     "metadata": {},
     "output_type": "execute_result"
    }
   ],
   "source": [
    "# TAgs encloses text\n",
    "soup.title.text"
   ]
  },
  {
   "cell_type": "code",
   "execution_count": 12,
   "id": "02810c91-eef9-42de-97a6-6bde19409a49",
   "metadata": {},
   "outputs": [
    {
     "data": {
      "text/plain": [
       "str"
      ]
     },
     "execution_count": 12,
     "metadata": {},
     "output_type": "execute_result"
    }
   ],
   "source": [
    "type(soup.title.text)"
   ]
  },
  {
   "cell_type": "code",
   "execution_count": 13,
   "id": "c13b9625-d939-4fc0-be5e-844de47036e1",
   "metadata": {},
   "outputs": [
    {
     "data": {
      "text/plain": [
       "<p data-attribute=\"atributo\">O meu primeiro texto</p>"
      ]
     },
     "execution_count": 13,
     "metadata": {},
     "output_type": "execute_result"
    }
   ],
   "source": [
    "# Search for element \"p\" for paragraph\n",
    "soup.find('p')\n",
    "#soup.p"
   ]
  },
  {
   "cell_type": "code",
   "execution_count": 14,
   "id": "ad6cffbf-05fb-4b5d-a72f-3f7016393e2e",
   "metadata": {},
   "outputs": [
    {
     "data": {
      "text/plain": [
       "'p'"
      ]
     },
     "execution_count": 14,
     "metadata": {},
     "output_type": "execute_result"
    }
   ],
   "source": [
    "soup.p.name"
   ]
  },
  {
   "cell_type": "code",
   "execution_count": 15,
   "id": "c26ea90d-0e84-419d-b1ab-8969f75071a4",
   "metadata": {},
   "outputs": [
    {
     "data": {
      "text/plain": [
       "'O meu primeiro texto'"
      ]
     },
     "execution_count": 15,
     "metadata": {},
     "output_type": "execute_result"
    }
   ],
   "source": [
    "soup.p.text"
   ]
  },
  {
   "cell_type": "code",
   "execution_count": 16,
   "id": "ec2b31f8-42c5-4b97-8612-de6c5a5b9409",
   "metadata": {},
   "outputs": [
    {
     "data": {
      "text/plain": [
       "{'data-attribute': 'atributo'}"
      ]
     },
     "execution_count": 16,
     "metadata": {},
     "output_type": "execute_result"
    }
   ],
   "source": [
    "# In addition to a name and text, labels can have attributes\n",
    "soup.p.attrs"
   ]
  },
  {
   "cell_type": "code",
   "execution_count": 17,
   "id": "39364e71",
   "metadata": {},
   "outputs": [
    {
     "data": {
      "text/plain": [
       "dict"
      ]
     },
     "execution_count": 17,
     "metadata": {},
     "output_type": "execute_result"
    }
   ],
   "source": [
    "type(soup.p.attrs)"
   ]
  },
  {
   "cell_type": "code",
   "execution_count": 18,
   "id": "17040046-cf65-47c5-b407-27d4e8a4e9e6",
   "metadata": {},
   "outputs": [
    {
     "data": {
      "text/plain": [
       "'atributo'"
      ]
     },
     "execution_count": 18,
     "metadata": {},
     "output_type": "execute_result"
    }
   ],
   "source": [
    "# Access the value of the attributes\n",
    "soup.p.attrs['data-attribute']"
   ]
  },
  {
   "cell_type": "code",
   "execution_count": 19,
   "id": "ed20b829-5f77-45f6-b857-2e0f2abbff27",
   "metadata": {},
   "outputs": [
    {
     "name": "stdout",
     "output_type": "stream",
     "text": [
      "<!DOCTYPE html>\n",
      "<html>\n",
      "\n",
      "<head>\n",
      "    <title>Probamos os textos</title>\n",
      "</head>\n",
      "\n",
      "<body>\n",
      "\n",
      "    <h1>Isto é un h1</h1>\n",
      "    <p>Ut enim ad minim veniam,\n",
      "        <em>quis nostrud exercitation ullamco laboris</em>nisi ut aliquip ex ea commodo consequat.\n",
      "        <strong>Duis aute irure dolor in reprehenderit</strong>in voluptate velit esse cillum dolore eu fugiat nulla pariatur.</p>\n",
      "\n",
      "\n",
      "        <h2>Isto é un h2</h2>\n",
      "    <p>Lorem ipsum dolor sit amet,\n",
      "        <strong>consectetur adipisicing elit</strong>.</p>\n",
      "\n",
      "    <h3>Isto é un un h3</h3>\n",
      "    <p><b>Lorem ipsum dolor sit amet</b>, consectetur adipisicing elit, sed do eiusmod tempor incididunt ut labore et dolore magna aliqua. Ut enim ad minim veniam, quis nostrud exercitation ullamco laboris nisi ut aliquip ex ea commodo consequat. Duis aute irure dolor in reprehenderit in voluptate velit esse cillum dolore eu fugiat nulla pariatur. Excepteur sint occaecat cupidatat non proident, sunt in culpa qui officia deserunt mollit anim id est laborum.</p>\n",
      "\n",
      "    <h3>Isto é outro h3</h3>\n",
      "    <p>Excepteur sint occaecat cupidatat non proident, sunt in culpa qui officia deserunt mollit anim id est laborum.</p>\n",
      "\n",
      "    <h4>Isto é un un h4</h4>\n",
      "    <p>Lorem ipsum dolor sit amet, consectetur adipisicing elit, sed do eiusmod tempor incididunt ut labore et dolore magna aliqua. Ut enim ad minim veniam, quis nostrud exercitation ullamco laboris nisi ut aliquip ex ea commodo consequat. Duis aute irure dolor in reprehenderit in voluptate velit esse cillum dolore eu fugiat nulla pariatur. Excepteur sint occaecat cupidatat non proident, sunt in culpa qui officia deserunt mollit anim id est laborum.</p>\n",
      "\n",
      "    <h5 id=\"ancla\">Isto é un un h5, e isto</h5>\n",
      "    <p>\n",
      "        <em>Isto é un texto con énfase</em>\n",
      "    </p>\n",
      "    <p>\n",
      "        <em>Lorem ipsum dolor sit amet, consectetur adipisicing elit, sed do eiusmod tempor incididunt ut labore et dolore magna aliqua</em>. Ut enim ad minim veniam, quis nostrud exercitation ullamco laboris nisi ut aliquip ex ea commodo consequat. Duis aute irure dolor in reprehenderit in voluptate velit esse cillum dolore eu fugiat nulla pariatur. Excepteur sint occaecat cupidatat non proident, sunt in culpa qui officia deserunt mollit anim id est laborum.</p>\n",
      "\n",
      "    <h4>Isto é unha lista sen orde</h4>\n",
      "    <ul>\n",
      "        <li>Primero elemento</li>\n",
      "        <li>Segundo elemento</li>\n",
      "        <li>Terceiro elemento</li>\n",
      "    </ul>\n",
      "\n",
      "    <h4>E isto é unha lista ordenada</h4>\n",
      "    <ol>\n",
      "        <li>Primeiro</li>\n",
      "        <li>Segundo</li>\n",
      "        <li>Terceiro</li>\n",
      "    </ol>\n",
      "\n",
      "    <h6>Isto é un h6</h6>\n",
      "    <p>Excepteur sint occaecat cupidatat non proident, sunt in culpa qui officia deserunt mollit anim id est laborum.</p>\n",
      "\n",
      "    <blockquote cite=\"http://www.worldwildlife.org/who/index.html\">\n",
      "        For 50 years, WWF has been protecting the future of nature. The world’s leading conservation organization, WWF works in 100 countries and is supported by 1.2 million members in the United States and close to 5 million globally.\n",
      "    </blockquote>\n",
      "\n",
      "\n",
      "</body>\n",
      "\n",
      "\n",
      "</html>\n",
      "\n"
     ]
    }
   ],
   "source": [
    "# NEW WEB: https://bigdatawirtz.github.io/exemplo-web/02.html\n",
    "url = 'https://bigdatawirtz.github.io/exemplo-web/02.html'\n",
    "paxina = requests.get(url)\n",
    "\n",
    "print(paxina.text)"
   ]
  },
  {
   "cell_type": "code",
   "execution_count": 20,
   "id": "fdd38379-0e0a-4734-9b04-2e1d06bc7850",
   "metadata": {},
   "outputs": [],
   "source": [
    "# Parser web content\n",
    "soup = BeautifulSoup(paxina.content, 'html.parser')"
   ]
  },
  {
   "cell_type": "code",
   "execution_count": 21,
   "id": "33435700-ca30-44ee-9cc4-822d906c4139",
   "metadata": {},
   "outputs": [
    {
     "data": {
      "text/plain": [
       "<h1>Isto é un h1</h1>"
      ]
     },
     "execution_count": 21,
     "metadata": {},
     "output_type": "execute_result"
    }
   ],
   "source": [
    "# Search for h1\n",
    "soup.h1"
   ]
  },
  {
   "cell_type": "code",
   "execution_count": 23,
   "id": "f1972af7-f002-44b4-bf47-2542a1c271d4",
   "metadata": {},
   "outputs": [
    {
     "data": {
      "text/plain": [
       "'Isto é un h1'"
      ]
     },
     "execution_count": 23,
     "metadata": {},
     "output_type": "execute_result"
    }
   ],
   "source": [
    "soup.h1.text"
   ]
  },
  {
   "cell_type": "code",
   "execution_count": 22,
   "id": "1082699b-435f-489f-8fd0-3d218d323e8d",
   "metadata": {},
   "outputs": [
    {
     "data": {
      "text/plain": [
       "<ul>\n",
       "<li>Primero elemento</li>\n",
       "<li>Segundo elemento</li>\n",
       "<li>Terceiro elemento</li>\n",
       "</ul>"
      ]
     },
     "execution_count": 22,
     "metadata": {},
     "output_type": "execute_result"
    }
   ],
   "source": [
    "# Search for unordered list <ul>\n",
    "soup.ul"
   ]
  },
  {
   "cell_type": "code",
   "execution_count": 24,
   "id": "98b1e71a-eb7d-436e-8ab4-d48a2039c391",
   "metadata": {},
   "outputs": [
    {
     "data": {
      "text/plain": [
       "<li>Primero elemento</li>"
      ]
     },
     "execution_count": 24,
     "metadata": {},
     "output_type": "execute_result"
    }
   ],
   "source": [
    "soup.ul.li"
   ]
  },
  {
   "cell_type": "code",
   "execution_count": 25,
   "id": "becc1056-a502-43cb-bd94-f645597a1254",
   "metadata": {},
   "outputs": [
    {
     "data": {
      "text/plain": [
       "'Primero elemento'"
      ]
     },
     "execution_count": 25,
     "metadata": {},
     "output_type": "execute_result"
    }
   ],
   "source": [
    "soup.ul.li.text"
   ]
  },
  {
   "cell_type": "code",
   "execution_count": 26,
   "id": "eef8c0b6-f7de-4d9f-858c-c3cdb130ed29",
   "metadata": {},
   "outputs": [
    {
     "data": {
      "text/plain": [
       "<h3>Isto é un un h3</h3>"
      ]
     },
     "execution_count": 26,
     "metadata": {},
     "output_type": "execute_result"
    }
   ],
   "source": [
    "# What about searching for several occurrences of an element\n",
    "# Obtaining the first element\n",
    "soup.h3"
   ]
  },
  {
   "cell_type": "code",
   "execution_count": 27,
   "id": "860be097-a4d2-43c8-9e78-9318b578d12e",
   "metadata": {},
   "outputs": [
    {
     "data": {
      "text/plain": [
       "<h3>Isto é un un h3</h3>"
      ]
     },
     "execution_count": 27,
     "metadata": {},
     "output_type": "execute_result"
    }
   ],
   "source": [
    "# Obtaining the first element devuelve el primer elemento 'h3' que encuentre\n",
    "soup.find('h3')"
   ]
  },
  {
   "cell_type": "code",
   "execution_count": 28,
   "id": "2d284370-605d-4d26-8243-c7a01ce90531",
   "metadata": {},
   "outputs": [
    {
     "data": {
      "text/plain": [
       "[<h3>Isto é un un h3</h3>, <h3>Isto é outro h3</h3>]"
      ]
     },
     "execution_count": 28,
     "metadata": {},
     "output_type": "execute_result"
    }
   ],
   "source": [
    "# Obtaining of all the appearances of the element\n",
    "soup.find_all('h3')"
   ]
  },
  {
   "cell_type": "code",
   "execution_count": 34,
   "id": "a4bc91e7",
   "metadata": {},
   "outputs": [
    {
     "name": "stdout",
     "output_type": "stream",
     "text": [
      "<h3>Isto é outro h3</h3>\n"
     ]
    }
   ],
   "source": [
    "elementos_h3 = soup.find_all('h3') \n",
    "elementos_h3 = elementos_h3[1]\n",
    "print(elementos_h3)"
   ]
  },
  {
   "cell_type": "code",
   "execution_count": 29,
   "id": "bc07e04b",
   "metadata": {},
   "outputs": [
    {
     "data": {
      "text/plain": [
       "bs4.element.ResultSet"
      ]
     },
     "execution_count": 29,
     "metadata": {},
     "output_type": "execute_result"
    }
   ],
   "source": [
    "type(soup.find_all('h3'))"
   ]
  },
  {
   "cell_type": "code",
   "execution_count": 30,
   "id": "d0ec674d-0a8d-4954-9bfa-5dfa3765c2f2",
   "metadata": {},
   "outputs": [
    {
     "name": "stdout",
     "output_type": "stream",
     "text": [
      "Isto é un un h3\n",
      "Isto é outro h3\n"
     ]
    }
   ],
   "source": [
    "elementos_h3 = soup.find_all('h3') \n",
    "for i in elementos_h3:\n",
    "              print(i.text)"
   ]
  },
  {
   "cell_type": "code",
   "execution_count": 35,
   "id": "189aa7b9-5243-4b10-98b1-5fac27ad3b68",
   "metadata": {},
   "outputs": [
    {
     "name": "stdout",
     "output_type": "stream",
     "text": [
      "\n",
      "Primeiro\n",
      "Segundo\n",
      "Terceiro\n",
      "\n"
     ]
    }
   ],
   "source": [
    "# Obtaining the elements of an ordered list\n",
    "elementos_lista = soup.find_all('ol')\n",
    "for i in elementos_lista:\n",
    "    print(i.text)"
   ]
  },
  {
   "cell_type": "code",
   "execution_count": 36,
   "id": "be0bca28-22dc-4a8d-89e0-4d63f92904f9",
   "metadata": {},
   "outputs": [
    {
     "name": "stdout",
     "output_type": "stream",
     "text": [
      "Parágrafo  1 :  Ut enim ad minim veniam,\n",
      "        quis nostrud exercitation ullamco laborisnisi ut aliquip ex ea commodo consequat.\n",
      "        Duis aute irure dolor in reprehenderitin voluptate velit esse cillum dolore eu fugiat nulla pariatur.\n",
      "Parágrafo  2 :  Lorem ipsum dolor sit amet,\n",
      "        consectetur adipisicing elit.\n",
      "Parágrafo  3 :  Lorem ipsum dolor sit amet, consectetur adipisicing elit, sed do eiusmod tempor incididunt ut labore et dolore magna aliqua. Ut enim ad minim veniam, quis nostrud exercitation ullamco laboris nisi ut aliquip ex ea commodo consequat. Duis aute irure dolor in reprehenderit in voluptate velit esse cillum dolore eu fugiat nulla pariatur. Excepteur sint occaecat cupidatat non proident, sunt in culpa qui officia deserunt mollit anim id est laborum.\n",
      "Parágrafo  4 :  Excepteur sint occaecat cupidatat non proident, sunt in culpa qui officia deserunt mollit anim id est laborum.\n",
      "Parágrafo  5 :  Lorem ipsum dolor sit amet, consectetur adipisicing elit, sed do eiusmod tempor incididunt ut labore et dolore magna aliqua. Ut enim ad minim veniam, quis nostrud exercitation ullamco laboris nisi ut aliquip ex ea commodo consequat. Duis aute irure dolor in reprehenderit in voluptate velit esse cillum dolore eu fugiat nulla pariatur. Excepteur sint occaecat cupidatat non proident, sunt in culpa qui officia deserunt mollit anim id est laborum.\n",
      "Parágrafo  6 :  \n",
      "Isto é un texto con énfase\n",
      "\n",
      "Parágrafo  7 :  \n",
      "Lorem ipsum dolor sit amet, consectetur adipisicing elit, sed do eiusmod tempor incididunt ut labore et dolore magna aliqua. Ut enim ad minim veniam, quis nostrud exercitation ullamco laboris nisi ut aliquip ex ea commodo consequat. Duis aute irure dolor in reprehenderit in voluptate velit esse cillum dolore eu fugiat nulla pariatur. Excepteur sint occaecat cupidatat non proident, sunt in culpa qui officia deserunt mollit anim id est laborum.\n",
      "Parágrafo  8 :  Excepteur sint occaecat cupidatat non proident, sunt in culpa qui officia deserunt mollit anim id est laborum.\n"
     ]
    }
   ],
   "source": [
    "# List the paragraphs present on the web site\n",
    "lista_paragrafos = soup.find_all('p')\n",
    "contador = 1\n",
    "for i in lista_paragrafos:\n",
    "    print(\"Parágrafo \", contador , \": \" , i.text)\n",
    "    contador = contador + 1"
   ]
  },
  {
   "cell_type": "code",
   "execution_count": 37,
   "id": "e9038636-7a7c-4165-8e4c-046bd87eabc5",
   "metadata": {},
   "outputs": [
    {
     "name": "stdout",
     "output_type": "stream",
     "text": [
      "<!DOCTYPE html>\n",
      "<html>\n",
      "\n",
      "<head>\n",
      "\n",
      "    <title>Links</title>\n",
      "    <meta charset=\"utf-8\">\n",
      "\n",
      "</head>\n",
      "\n",
      "<body>\n",
      "\n",
      "    <ol>\n",
      "        <li><a href=\"01.html\" title=\"Estrutura\">Estrutura</a>\n",
      "        </li>\n",
      "        <li><a href=\"02.html\" title=\"Textos\">Textos</a>\n",
      "        </li>\n",
      "        <li><a href=\"03.html\" title=\"Definition Lists\">Definition Lists</a>\n",
      "        </li>\n",
      "        <li><a href=\"04.html\" title=\"Índice\">Índice (enlaces)</a>\n",
      "        </li>\n",
      "        <li><a href=\"http://www.esat.es/id3\" target=\"_blank\" title=\"Índice\">Enlace con target _blank</a>\n",
      "        </li>\n",
      "        <li><a href=\"02.html#ancla\" title=\"Textos\">Enlace con anchor</a>\n",
      "        </li>\n",
      "        <li><a href=\"http://www.meteogalicia.gal\" target=\"_blank\" title=\"Índice\">Meteogalicia</a>\n",
      "        </li>\n",
      "        <li><a href=\"http://www.praza.gal\" target=\"_blank\" title=\"Índice\">Xornal Praza</a>\n",
      "        </li>\n",
      "\n",
      "    </ol>\n",
      "\n",
      "    <img src=\"http://www.esat.es/imagenes/postgrado_diseno_interactivo_digital.png\" width=\"900\" height=\"270\" alt=\"ID3\">\n",
      "\n",
      "</body>\n",
      "\n",
      "</html>\n",
      "\n"
     ]
    }
   ],
   "source": [
    "# New web page with links\n",
    "url = 'https://bigdatawirtz.github.io/exemplo-web/04.html'\n",
    "paxina = requests.get(url)\n",
    "\n",
    "print(paxina.text)"
   ]
  },
  {
   "cell_type": "code",
   "execution_count": 38,
   "id": "934b1bbd-303e-4fb0-9092-5b09655d7e39",
   "metadata": {},
   "outputs": [
    {
     "data": {
      "text/plain": [
       "<!DOCTYPE html>\n",
       "\n",
       "<html>\n",
       "<head>\n",
       "<title>Links</title>\n",
       "<meta charset=\"utf-8\"/>\n",
       "</head>\n",
       "<body>\n",
       "<ol>\n",
       "<li><a href=\"01.html\" title=\"Estrutura\">Estrutura</a>\n",
       "</li>\n",
       "<li><a href=\"02.html\" title=\"Textos\">Textos</a>\n",
       "</li>\n",
       "<li><a href=\"03.html\" title=\"Definition Lists\">Definition Lists</a>\n",
       "</li>\n",
       "<li><a href=\"04.html\" title=\"Índice\">Índice (enlaces)</a>\n",
       "</li>\n",
       "<li><a href=\"http://www.esat.es/id3\" target=\"_blank\" title=\"Índice\">Enlace con target _blank</a>\n",
       "</li>\n",
       "<li><a href=\"02.html#ancla\" title=\"Textos\">Enlace con anchor</a>\n",
       "</li>\n",
       "<li><a href=\"http://www.meteogalicia.gal\" target=\"_blank\" title=\"Índice\">Meteogalicia</a>\n",
       "</li>\n",
       "<li><a href=\"http://www.praza.gal\" target=\"_blank\" title=\"Índice\">Xornal Praza</a>\n",
       "</li>\n",
       "</ol>\n",
       "<img alt=\"ID3\" height=\"270\" src=\"http://www.esat.es/imagenes/postgrado_diseno_interactivo_digital.png\" width=\"900\"/>\n",
       "</body>\n",
       "</html>"
      ]
     },
     "execution_count": 38,
     "metadata": {},
     "output_type": "execute_result"
    }
   ],
   "source": [
    "# Parsing\n",
    "soup = BeautifulSoup(paxina.content,'html.parser')\n",
    "soup"
   ]
  },
  {
   "cell_type": "code",
   "execution_count": 39,
   "id": "7f4d067a-2324-410e-8dae-8d2025fad5ca",
   "metadata": {},
   "outputs": [
    {
     "data": {
      "text/plain": [
       "[<a href=\"01.html\" title=\"Estrutura\">Estrutura</a>,\n",
       " <a href=\"02.html\" title=\"Textos\">Textos</a>,\n",
       " <a href=\"03.html\" title=\"Definition Lists\">Definition Lists</a>,\n",
       " <a href=\"04.html\" title=\"Índice\">Índice (enlaces)</a>,\n",
       " <a href=\"http://www.esat.es/id3\" target=\"_blank\" title=\"Índice\">Enlace con target _blank</a>,\n",
       " <a href=\"02.html#ancla\" title=\"Textos\">Enlace con anchor</a>,\n",
       " <a href=\"http://www.meteogalicia.gal\" target=\"_blank\" title=\"Índice\">Meteogalicia</a>,\n",
       " <a href=\"http://www.praza.gal\" target=\"_blank\" title=\"Índice\">Xornal Praza</a>]"
      ]
     },
     "execution_count": 39,
     "metadata": {},
     "output_type": "execute_result"
    }
   ],
   "source": [
    "# Search for all occurrences of a tag\n",
    "soup.find_all(\"a\")"
   ]
  },
  {
   "cell_type": "code",
   "execution_count": 40,
   "id": "f832f59a-20e7-4ed8-8966-e80b509c4961",
   "metadata": {},
   "outputs": [
    {
     "data": {
      "text/plain": [
       "bs4.element.ResultSet"
      ]
     },
     "execution_count": 40,
     "metadata": {},
     "output_type": "execute_result"
    }
   ],
   "source": [
    "# Remember: this is not a list\n",
    "type(soup.find_all('a'))"
   ]
  },
  {
   "cell_type": "code",
   "execution_count": 41,
   "id": "7ed899d7-76a4-472b-bdee-3205ad187f3e",
   "metadata": {},
   "outputs": [
    {
     "name": "stdout",
     "output_type": "stream",
     "text": [
      "<a href=\"01.html\" title=\"Estrutura\">Estrutura</a>\n",
      "<a href=\"02.html\" title=\"Textos\">Textos</a>\n",
      "<a href=\"03.html\" title=\"Definition Lists\">Definition Lists</a>\n",
      "<a href=\"04.html\" title=\"Índice\">Índice (enlaces)</a>\n",
      "<a href=\"http://www.esat.es/id3\" target=\"_blank\" title=\"Índice\">Enlace con target _blank</a>\n",
      "<a href=\"02.html#ancla\" title=\"Textos\">Enlace con anchor</a>\n",
      "<a href=\"http://www.meteogalicia.gal\" target=\"_blank\" title=\"Índice\">Meteogalicia</a>\n",
      "<a href=\"http://www.praza.gal\" target=\"_blank\" title=\"Índice\">Xornal Praza</a>\n"
     ]
    }
   ],
   "source": [
    "# Iterate result\n",
    "for enlace in soup.find_all('a'):\n",
    "    print(enlace)"
   ]
  },
  {
   "cell_type": "code",
   "execution_count": 42,
   "id": "9f595b4f-f0c1-4288-a724-b7ba9b03ed86",
   "metadata": {},
   "outputs": [
    {
     "name": "stdout",
     "output_type": "stream",
     "text": [
      "Estrutura\n",
      "Textos\n",
      "Definition Lists\n",
      "Índice (enlaces)\n",
      "Enlace con target _blank\n",
      "Enlace con anchor\n",
      "Meteogalicia\n",
      "Xornal Praza\n"
     ]
    }
   ],
   "source": [
    "# Iterate <a> elements to extract texts\n",
    "for enlace in soup.find_all('a'):\n",
    "    print(enlace.text)"
   ]
  },
  {
   "cell_type": "code",
   "execution_count": 43,
   "id": "94067544-fc49-4cfe-910e-61581f854de4",
   "metadata": {},
   "outputs": [
    {
     "name": "stdout",
     "output_type": "stream",
     "text": [
      "01.html\n",
      "02.html\n",
      "03.html\n",
      "04.html\n",
      "http://www.esat.es/id3\n",
      "02.html#ancla\n",
      "http://www.meteogalicia.gal\n",
      "http://www.praza.gal\n"
     ]
    }
   ],
   "source": [
    "# Links aren't in the texts, but in the href attribute\n",
    "for enlace in soup.find_all('a'):\n",
    "    print(enlace.get('href'))"
   ]
  },
  {
   "cell_type": "code",
   "execution_count": 44,
   "id": "8932a718-4551-46b9-8a71-5fe406be34c5",
   "metadata": {},
   "outputs": [
    {
     "name": "stdout",
     "output_type": "stream",
     "text": [
      "Estrutura\n",
      "Textos\n",
      "Definition Lists\n",
      "Índice\n",
      "Índice\n",
      "Textos\n",
      "Índice\n",
      "Índice\n"
     ]
    }
   ],
   "source": [
    "# Another attributes\n",
    "for enlace in soup.find_all('a'):\n",
    "    print(enlace.get('title'))"
   ]
  },
  {
   "cell_type": "code",
   "execution_count": null,
   "id": "2c99afdc-5be9-4453-9c01-54abf439fb68",
   "metadata": {},
   "outputs": [],
   "source": []
  }
 ],
 "metadata": {
  "kernelspec": {
   "display_name": "Python 3 (ipykernel)",
   "language": "python",
   "name": "python3"
  },
  "language_info": {
   "codemirror_mode": {
    "name": "ipython",
    "version": 3
   },
   "file_extension": ".py",
   "mimetype": "text/x-python",
   "name": "python",
   "nbconvert_exporter": "python",
   "pygments_lexer": "ipython3",
   "version": "3.12.0"
  }
 },
 "nbformat": 4,
 "nbformat_minor": 5
}
