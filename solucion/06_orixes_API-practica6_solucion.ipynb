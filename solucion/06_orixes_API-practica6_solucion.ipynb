{
 "cells": [
  {
   "cell_type": "code",
   "execution_count": 1,
   "id": "a4a78c8f-6cdb-4fcd-89f5-729135106c5e",
   "metadata": {},
   "outputs": [],
   "source": [
    "# METEOGALICIA\n",
    "# Busca a documentación para a predición meteorolóxica por concellos a curto prazo (\"Predición por concellos\") \n",
    "# Copia o enderezo do ficheiro PDF\n",
    "# ENLACE: https://www.meteogalicia.gal/datosred/infoweb/meteo/docs/rss/JSON_Pred_Concello_gl.pdf"
   ]
  },
  {
   "cell_type": "code",
   "execution_count": 2,
   "id": "583581b9-0b93-42ae-b56e-54372b957b65",
   "metadata": {},
   "outputs": [],
   "source": [
    "# Consulta a predición a curto prazo para o concello de Monfero\n",
    "# Utiliza a documentación para entender como funciona a API e que significan os resultados"
   ]
  },
  {
   "cell_type": "code",
   "execution_count": 3,
   "id": "d6bb683a-95ab-4dbc-a7ce-6504a7ac5b2e",
   "metadata": {},
   "outputs": [],
   "source": [
    "import requests"
   ]
  },
  {
   "cell_type": "code",
   "execution_count": 4,
   "id": "da695bc1-6cd9-4494-8b56-e499dc294cf8",
   "metadata": {},
   "outputs": [
    {
     "data": {
      "text/plain": [
       "{'predConcello': {'idConcello': 15050,\n",
       "  'listaPredDiaConcello': [{'ceo': {'manha': 117, 'noite': 210, 'tarde': 118},\n",
       "    'dataPredicion': '2021-12-10T00:00:00',\n",
       "    'nivelAviso': 0,\n",
       "    'pchoiva': {'manha': 80, 'noite': 80, 'tarde': 80},\n",
       "    'tMax': 12,\n",
       "    'tMin': 10,\n",
       "    'tmaxFranxa': None,\n",
       "    'tminFranxa': None,\n",
       "    'uvMax': 1,\n",
       "    'vento': {'manha': 316, 'noite': 306, 'tarde': 307}},\n",
       "   {'ceo': {'manha': 110, 'noite': 205, 'tarde': 105},\n",
       "    'dataPredicion': '2021-12-11T00:00:00',\n",
       "    'nivelAviso': 0,\n",
       "    'pchoiva': {'manha': 80, 'noite': 40, 'tarde': 40},\n",
       "    'tMax': 12,\n",
       "    'tMin': 10,\n",
       "    'tmaxFranxa': None,\n",
       "    'tminFranxa': None,\n",
       "    'uvMax': 1,\n",
       "    'vento': {'manha': 306, 'noite': 304, 'tarde': 306}},\n",
       "   {'ceo': {'manha': 103, 'noite': 202, 'tarde': 102},\n",
       "    'dataPredicion': '2021-12-12T00:00:00',\n",
       "    'nivelAviso': 0,\n",
       "    'pchoiva': {'manha': 5, 'noite': 5, 'tarde': 5},\n",
       "    'tMax': 14,\n",
       "    'tMin': 8,\n",
       "    'tmaxFranxa': None,\n",
       "    'tminFranxa': None,\n",
       "    'uvMax': 1,\n",
       "    'vento': {'manha': 304, 'noite': 313, 'tarde': 305}},\n",
       "   {'ceo': {'manha': 103, 'noite': 203, 'tarde': 108},\n",
       "    'dataPredicion': '2021-12-13T00:00:00',\n",
       "    'nivelAviso': None,\n",
       "    'pchoiva': {'manha': 5, 'noite': 5, 'tarde': 60},\n",
       "    'tMax': 13,\n",
       "    'tMin': 10,\n",
       "    'tmaxFranxa': None,\n",
       "    'tminFranxa': None,\n",
       "    'uvMax': -9999,\n",
       "    'vento': {'manha': 304, 'noite': 312, 'tarde': 305}}],\n",
       "  'nome': 'Monfero'}}"
      ]
     },
     "execution_count": 4,
     "metadata": {},
     "output_type": "execute_result"
    }
   ],
   "source": [
    "idConcello = '15050' # Monfero\n",
    "endpoint = 'https://servizos.meteogalicia.gal/mgrss/predicion/jsonPredConcellos.action'\n",
    "payload = {'idConc': idConcello}\n",
    "response = requests.get(endpoint, params = payload)\n",
    "response.json()"
   ]
  },
  {
   "cell_type": "code",
   "execution_count": 5,
   "id": "2f2e1260-d2b9-42d0-bb91-5fc64ad37c00",
   "metadata": {},
   "outputs": [],
   "source": [
    "# Meteogalicia tamén ofrece información sobre as praias a través da súa API\n",
    "# https://www.meteogalicia.gal/datosred/infoweb/meteo/docs/rss/JSON_Pred_Praia_gl.pdf"
   ]
  },
  {
   "cell_type": "code",
   "execution_count": 6,
   "id": "069beef4-2ad2-4db0-93da-6d559c17b7c8",
   "metadata": {},
   "outputs": [
    {
     "name": "stdout",
     "output_type": "stream",
     "text": [
      "Temperaturas: 14/12\n"
     ]
    }
   ],
   "source": [
    "# Consulta a temperatura máxima e mínima previstas a curto prazo para o concello de Paderne\n",
    "idConcello = '15064' # Paderne\n",
    "endpoint = 'https://servizos.meteogalicia.gal/mgrss/predicion/jsonPredConcellos.action'\n",
    "payload = {'idConc': idConcello}\n",
    "response = requests.get(endpoint, params = payload)\n",
    "tMax = response.json()['predConcello']['listaPredDiaConcello'][0]['tMax']\n",
    "tMin = response.json()['predConcello']['listaPredDiaConcello'][0]['tMin']\n",
    "print(\"Temperaturas: \" + str(tMax) + \"/\" + str(tMin))"
   ]
  },
  {
   "cell_type": "code",
   "execution_count": 7,
   "id": "d2b6aa37-d01c-44cf-ba3a-50e62f12751e",
   "metadata": {},
   "outputs": [
    {
     "data": {
      "text/plain": [
       "'Temperaturas Min/Max: 12º/14º'"
      ]
     },
     "execution_count": 7,
     "metadata": {},
     "output_type": "execute_result"
    }
   ],
   "source": [
    "# Outra maneira de imprimir texto: Fancier Output Formatting\n",
    "f'Temperaturas Min/Max: {tMin}º/{tMax}º'"
   ]
  },
  {
   "cell_type": "code",
   "execution_count": 8,
   "id": "46c52797-4aaa-49d2-8555-2245597c2a3d",
   "metadata": {},
   "outputs": [
    {
     "data": {
      "text/plain": [
       "'Temperatura da auga en Riazor:15º e Temperatura da auga nas Catedrais:14º'"
      ]
     },
     "execution_count": 8,
     "metadata": {},
     "output_type": "execute_result"
    }
   ],
   "source": [
    "# Comproba a predición para a temperatura da auga da praia de Riazor e comparaa coa da praia das Catedrais\n",
    "idPraia = '2448' # Praia de Riazor\n",
    "endpoint = 'https://servizos.meteogalicia.gal/mgrss/predicion/jsonPredPraia.action'\n",
    "response = requests.get(endpoint, params = {'idPraia': idPraia})\n",
    "tempRiazor = response.json()['predPraia']['listaPredDiaPraia'][0]['tAuga']\n",
    "idPraia = '1987' # Praia das Catedrais\n",
    "response = requests.get(endpoint, params = {'idPraia': idPraia})\n",
    "tempCatedrais = response.json()['predPraia']['listaPredDiaPraia'][0]['tAuga']\n",
    "f'Temperatura da auga en Riazor:{tempRiazor}º e Temperatura da auga nas Catedrais:{tempCatedrais}º'"
   ]
  },
  {
   "cell_type": "code",
   "execution_count": 9,
   "id": "90c2bea6-592c-457d-9569-6955ba45bef4",
   "metadata": {},
   "outputs": [],
   "source": [
    "# Especulación con criptodivisas\n",
    "# Utiliza unha API para calcular por cantos euros podes cambiar os dous bitcoins que encontraches limpando o sofá\n",
    "\n",
    "# Axuda: Utiliza algunha api de balde, como por exemplo:\n",
    "# https://www.coinapi.io/\n",
    "# https://min-api.cryptocompare.com/"
   ]
  },
  {
   "cell_type": "code",
   "execution_count": 10,
   "id": "2a704155-22a2-4e66-a183-5a3ea325da31",
   "metadata": {},
   "outputs": [
    {
     "data": {
      "text/plain": [
       "'Teño 84046.2462481151€ en bitcoins!!'"
      ]
     },
     "execution_count": 10,
     "metadata": {},
     "output_type": "execute_result"
    }
   ],
   "source": [
    "# exemplo con autenticación en headers\n",
    "url= 'https://rest.coinapi.io/v1/exchangerate/BTC/EUR'\n",
    "apikey = {'X-CoinAPI-Key': '8C2E4A4D-B577-427D-BDCA-D33E78D99132'}\n",
    "response = requests.get(url, headers = apikey)\n",
    "factor_de_cambio = response.json()['rate']\n",
    "total = 2 * factor_de_cambio\n",
    "f'Teño {total}€ en bitcoins!!'"
   ]
  },
  {
   "cell_type": "code",
   "execution_count": 11,
   "id": "a162f217-01fe-46e4-8b74-5f307aa8a611",
   "metadata": {},
   "outputs": [
    {
     "data": {
      "text/plain": [
       "'Teño 84091.76€ en bitcoins!!'"
      ]
     },
     "execution_count": 11,
     "metadata": {},
     "output_type": "execute_result"
    }
   ],
   "source": [
    "# https://min-api.cryptocompare.com/\n",
    "# Non require autenticación para a consulta do cambio\n",
    "url= 'https://min-api.cryptocompare.com/data/price'\n",
    "\n",
    "#payload = {'api_key':API_KEY, 'fsym':'BTC','tsyms':'EUR'}\n",
    "payload = {'fsym':'BTC','tsyms':'EUR'}\n",
    "\n",
    "#params = {'api_key': 'd59fe22b0d9e1acfa7c07f9df046f2e53f55d354833131ce30aa4b2987292ff2'}\n",
    "response = requests.get(url, params = payload)\n",
    "\n",
    "response.json()\n",
    "#response.url\n",
    "\n",
    "factor_de_cambio = response.json()['EUR']\n",
    "total_euros = 2 * factor_de_cambio\n",
    "f'Teño {total_euros}€ en bitcoins!!'"
   ]
  },
  {
   "cell_type": "code",
   "execution_count": 12,
   "id": "3f79e5c7-c40e-422b-b3ae-6e06cfc6b7f1",
   "metadata": {},
   "outputs": [
    {
     "data": {
      "text/plain": [
       "'Teño 9.716151599999998€ en ethereuns!!'"
      ]
     },
     "execution_count": 12,
     "metadata": {},
     "output_type": "execute_result"
    }
   ],
   "source": [
    "# Como a xogada saíu redonda ocórreseche seguir especulando\n",
    "# Retira 50.000€ e inviste o resto en Ethereum\n",
    "# Cantas criptomoedas ethereum podes obter?\n",
    "euros_a_investir = total_euros - 50000\n",
    "\n",
    "url= 'https://min-api.cryptocompare.com/data/price'\n",
    "\n",
    "#payload = {'api_key':API_KEY, 'fsym':'BTC','tsyms':'EUR'}\n",
    "payload = {'fsym':'EUR','tsyms':'ETH'}\n",
    "\n",
    "#params = {'api_key': 'd59fe22b0d9e1acfa7c07f9df046f2e53f55d354833131ce30aa4b2987292ff2'}\n",
    "response = requests.get(url, params = payload)\n",
    "\n",
    "response.json()\n",
    "#response.url\n",
    "\n",
    "factor_de_cambio = response.json()['ETH']\n",
    "total = euros_a_investir * factor_de_cambio\n",
    "f'Teño {total}€ en ethereuns!!'\n"
   ]
  }
 ],
 "metadata": {
  "kernelspec": {
   "display_name": "Python 3 (ipykernel)",
   "language": "python",
   "name": "python3"
  },
  "language_info": {
   "codemirror_mode": {
    "name": "ipython",
    "version": 3
   },
   "file_extension": ".py",
   "mimetype": "text/x-python",
   "name": "python",
   "nbconvert_exporter": "python",
   "pygments_lexer": "ipython3",
   "version": "3.8.12"
  }
 },
 "nbformat": 4,
 "nbformat_minor": 5
}
