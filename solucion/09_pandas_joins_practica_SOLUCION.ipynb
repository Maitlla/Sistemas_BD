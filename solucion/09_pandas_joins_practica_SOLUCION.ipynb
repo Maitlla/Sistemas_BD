{
 "cells": [
  {
   "cell_type": "markdown",
   "id": "bc0323eb-701d-4f72-ae14-b10226e7e317",
   "metadata": {},
   "source": [
    "### Operacións con Dataframes"
   ]
  },
  {
   "cell_type": "code",
   "execution_count": null,
   "id": "ee2fe571-e145-404b-88b0-4a4ff651fede",
   "metadata": {},
   "outputs": [],
   "source": [
    "# 1. Descarga contra a API covid de narrativa algúns datos\n",
    "# https://covid19tracking.narrativa.com/es/spain/api.html\n",
    "# * Descargarás os mesmos datos para diferentes países: España e Portugal\n",
    "# * Os datos serán os correspondentes aos 30 últimos días\n",
    "# - contaxiados totais\n",
    "# - novos contaxiados\n",
    "# - total mortes\n",
    "# - novas morte\n",
    "# Crea un único dataframe con todos os datos"
   ]
  },
  {
   "cell_type": "code",
   "execution_count": null,
   "id": "47ca5a1e-7ffe-44bf-8ca3-5cdd3795c6f5",
   "metadata": {},
   "outputs": [],
   "source": [
    "# Nota: realiza dúas peticións diferentes, unha para España e outra para Portugal"
   ]
  },
  {
   "cell_type": "code",
   "execution_count": 1,
   "id": "7a2f5158-909e-4265-a407-3e4726cf5c1b",
   "metadata": {},
   "outputs": [],
   "source": [
    "import requests\n",
    "import pandas as pd"
   ]
  },
  {
   "cell_type": "code",
   "execution_count": null,
   "id": "5b41ae43-f75d-42a9-a1c0-a8b8f0ac1ebb",
   "metadata": {},
   "outputs": [],
   "source": [
    "pais = 'Spain'"
   ]
  },
  {
   "cell_type": "code",
   "execution_count": null,
   "id": "b790746a-5d3f-4dc9-aa6d-3741585e4d85",
   "metadata": {},
   "outputs": [],
   "source": [
    "data_ini = '2021-12-15'\n",
    "data_fin = '2022-01-15'\n",
    "\n",
    "url_base = 'https://api.covid19tracking.narrativa.com/api/'\n",
    "url = url_base+'/country/'+pais\n",
    "payload = {'date_from': data_ini, 'date_to': data_fin }\n",
    "\n",
    "response = requests.get(url, params = payload)\n",
    "\n",
    "#response.url\n",
    "\n",
    "lista_datos= []\n",
    "for dia in response.json()['dates']:\n",
    "    contaxios_total = response.json()['dates'][dia]['countries'][pais]['today_confirmed']\n",
    "    contaxios_hoxe = response.json()['dates'][dia]['countries'][pais]['today_new_confirmed']\n",
    "    mortes_total = response.json()['dates'][dia]['countries'][pais]['today_deaths']\n",
    "    mortes_hoxe = response.json()['dates'][dia]['countries'][pais]['today_new_deaths']\n",
    "    lista_datos.append([dia,contaxios_total,contaxios_hoxe,mortes_total,mortes_hoxe])"
   ]
  },
  {
   "cell_type": "code",
   "execution_count": null,
   "id": "f7596703-e70a-42ed-9a30-d2d9dc89d0e8",
   "metadata": {},
   "outputs": [],
   "source": [
    "df_spain = pd.DataFrame(lista_datos,columns=['dia','contaxios','contaxios_hoxe','mortes','mortes_hoxe'])\n",
    "df_spain = df_spain.set_index('dia')\n",
    "#df_spain"
   ]
  },
  {
   "cell_type": "code",
   "execution_count": null,
   "id": "c7d235a7-4e62-4fe9-bf44-131346bc7af5",
   "metadata": {},
   "outputs": [],
   "source": [
    "pais = 'Portugal'"
   ]
  },
  {
   "cell_type": "code",
   "execution_count": null,
   "id": "57dfd8c2-2cc0-4656-819d-090411767440",
   "metadata": {},
   "outputs": [],
   "source": [
    "data_ini = '2021-12-15'\n",
    "data_fin = '2022-01-15'\n",
    "\n",
    "url_base = 'https://api.covid19tracking.narrativa.com/api/'\n",
    "url = url_base+'/country/'+pais\n",
    "payload = {'date_from': data_ini, 'date_to': data_fin }\n",
    "\n",
    "response = requests.get(url, params = payload)\n",
    "\n",
    "#response.url\n",
    "\n",
    "lista_datos= []\n",
    "for dia in response.json()['dates']:\n",
    "    contaxios_total = response.json()['dates'][dia]['countries'][pais]['today_confirmed']\n",
    "    contaxios_hoxe = response.json()['dates'][dia]['countries'][pais]['today_new_confirmed']\n",
    "    mortes_total = response.json()['dates'][dia]['countries'][pais]['today_deaths']\n",
    "    mortes_hoxe = response.json()['dates'][dia]['countries'][pais]['today_new_deaths']\n",
    "    lista_datos.append([dia,contaxios_total,contaxios_hoxe,mortes_total,mortes_hoxe])"
   ]
  },
  {
   "cell_type": "code",
   "execution_count": null,
   "id": "24a3e734-f546-4a1d-99c8-e5a15b08cafd",
   "metadata": {},
   "outputs": [],
   "source": [
    "df_portugal = pd.DataFrame(lista_datos,columns=['dia','contaxios','contaxios_hoxe','mortes','mortes_hoxe'])\n",
    "df_portugal = df_portugal.set_index('dia')\n",
    "#df_portugal"
   ]
  },
  {
   "cell_type": "code",
   "execution_count": null,
   "id": "f7ce0e74-bb53-4def-8042-79e47c86b5b8",
   "metadata": {},
   "outputs": [],
   "source": [
    "df_total_merged = pd.merge(df_spain,df_portugal,on='dia',suffixes=('_es','_pt'))\n",
    "df_total_merged"
   ]
  },
  {
   "cell_type": "code",
   "execution_count": null,
   "id": "80af1061-6e78-4b24-8957-2eacb7505fa4",
   "metadata": {},
   "outputs": [],
   "source": [
    "# Pero... realmente ten sentido facer un merge e non un concat???\n",
    "# Que pasa se facemos un concat??"
   ]
  },
  {
   "cell_type": "code",
   "execution_count": null,
   "id": "10141073-5716-4e40-8df5-0d27047d15da",
   "metadata": {},
   "outputs": [],
   "source": [
    "df_total_concat = pd.concat([df_spain,df_portugal])\n",
    "df_total_concat"
   ]
  },
  {
   "cell_type": "code",
   "execution_count": null,
   "id": "03849f8f-24cb-486c-b11d-fd1a35b98c1e",
   "metadata": {},
   "outputs": [],
   "source": [
    "# Se facemos un concat perdemos información do país\n",
    "# Podemos engadir unha nova columna para o país antes de facer o concat"
   ]
  },
  {
   "cell_type": "code",
   "execution_count": null,
   "id": "eddf753a-9e11-4cd9-a648-6715d55e3855",
   "metadata": {},
   "outputs": [],
   "source": [
    "df_spain['pais'] = 'Spain'"
   ]
  },
  {
   "cell_type": "code",
   "execution_count": null,
   "id": "52edac6f-52cc-41cb-ba0d-02a479bed1a6",
   "metadata": {},
   "outputs": [],
   "source": [
    "df_spain"
   ]
  },
  {
   "cell_type": "code",
   "execution_count": null,
   "id": "d3676cd3-59fc-4b74-8dbe-4f46952f81b5",
   "metadata": {},
   "outputs": [],
   "source": [
    "df_portugal['pais'] = 'Portugal'"
   ]
  },
  {
   "cell_type": "code",
   "execution_count": null,
   "id": "eb34c06d-532c-4026-a6da-a04e2a2f9a4c",
   "metadata": {},
   "outputs": [],
   "source": [
    "df_total_concat = pd.concat([df_spain,df_portugal])\n",
    "df_total_concat"
   ]
  },
  {
   "cell_type": "code",
   "execution_count": null,
   "id": "191a46b3-cfe6-4232-9bbc-516df7117aab",
   "metadata": {},
   "outputs": [],
   "source": [
    "# 2. Descarga contra a API covid de narrativa algúns datos\n",
    "# https://covid19tracking.narrativa.com/es/spain/api.html\n",
    "# Descarga os datos da primeira semana de novembro21, decembro21 e xaneiro22 para FRANCIA\n",
    "# - novos contaxiados\n",
    "# - novas mortes\n",
    "# Crea un único dataframe con todos os datos"
   ]
  },
  {
   "cell_type": "code",
   "execution_count": null,
   "id": "0033d974-94a5-4b97-bd16-cdf45f949460",
   "metadata": {},
   "outputs": [],
   "source": [
    "pais = 'France'\n",
    "data_ini = '2021-11-01'\n",
    "data_fin = '2021-11-07'\n",
    "\n",
    "url_base = 'https://api.covid19tracking.narrativa.com/api/'\n",
    "url = url_base+'/country/'+pais\n",
    "payload = {'date_from': data_ini, 'date_to': data_fin }\n",
    "\n",
    "response = requests.get(url, params = payload)\n",
    "#response.url\n",
    "\n",
    "lista_datos= []\n",
    "for dia in response.json()['dates']:\n",
    "    contaxios_hoxe = response.json()['dates'][dia]['countries'][pais]['today_new_confirmed']\n",
    "    mortes_hoxe = response.json()['dates'][dia]['countries'][pais]['today_new_deaths']\n",
    "    lista_datos.append([dia,contaxios_hoxe,mortes_hoxe])\n",
    "    \n",
    "df_novembro = pd.DataFrame(lista_datos,columns=['dia','contaxios','mortes'])\n",
    "df_novembro = df_novembro.set_index('dia')\n",
    "#df_novembro"
   ]
  },
  {
   "cell_type": "code",
   "execution_count": null,
   "id": "a0b7979d-aa0e-41d9-b18d-8db9f55cde70",
   "metadata": {},
   "outputs": [],
   "source": [
    "pais = 'France'\n",
    "data_ini = '2021-12-01'\n",
    "data_fin = '2021-12-07'\n",
    "\n",
    "url_base = 'https://api.covid19tracking.narrativa.com/api/'\n",
    "url = url_base+'/country/'+pais\n",
    "payload = {'date_from': data_ini, 'date_to': data_fin }\n",
    "\n",
    "response = requests.get(url, params = payload)\n",
    "\n",
    "lista_datos= []\n",
    "for dia in response.json()['dates']:\n",
    "    contaxios_hoxe = response.json()['dates'][dia]['countries'][pais]['today_new_confirmed']\n",
    "    mortes_hoxe = response.json()['dates'][dia]['countries'][pais]['today_new_deaths']\n",
    "    lista_datos.append([dia,contaxios_hoxe,mortes_hoxe])\n",
    "    \n",
    "df_decembro = pd.DataFrame(lista_datos,columns=['dia','contaxios','mortes'])\n",
    "df_decembro = df_decembro.set_index('dia')"
   ]
  },
  {
   "cell_type": "code",
   "execution_count": null,
   "id": "1b09862f-0da7-4c3d-a15e-b87be520f9e5",
   "metadata": {},
   "outputs": [],
   "source": [
    "pais = 'France'\n",
    "data_ini = '2022-01-01'\n",
    "data_fin = '2022-01-07'\n",
    "\n",
    "url_base = 'https://api.covid19tracking.narrativa.com/api/'\n",
    "url = url_base+'/country/'+pais\n",
    "payload = {'date_from': data_ini, 'date_to': data_fin }\n",
    "\n",
    "response = requests.get(url, params = payload)\n",
    "\n",
    "lista_datos= []\n",
    "for dia in response.json()['dates']:\n",
    "    contaxios_hoxe = response.json()['dates'][dia]['countries'][pais]['today_new_confirmed']\n",
    "    mortes_hoxe = response.json()['dates'][dia]['countries'][pais]['today_new_deaths']\n",
    "    lista_datos.append([dia,contaxios_hoxe,mortes_hoxe])\n",
    "    \n",
    "df_xaneiro = pd.DataFrame(lista_datos,columns=['dia','contaxios','mortes'])\n",
    "df_xaneiro = df_xaneiro.set_index('dia')"
   ]
  },
  {
   "cell_type": "code",
   "execution_count": null,
   "id": "2ed2606a-1c46-49a6-b10f-27de078baa4e",
   "metadata": {},
   "outputs": [],
   "source": [
    "df_semanas = pd.concat([df_novembro,df_decembro,df_xaneiro])\n",
    "df_semanas"
   ]
  },
  {
   "cell_type": "code",
   "execution_count": null,
   "id": "b5de82a1-fa70-4d7e-9a01-c4bac37a724b",
   "metadata": {},
   "outputs": [],
   "source": [
    "# 3. Carga os datos de títulos e salarios e combínaos para crear un único dataframe\n",
    "# extras-titulos&salarios.zip\n",
    "# - titulos.csv\n",
    "# - salarios.csv"
   ]
  },
  {
   "cell_type": "code",
   "execution_count": null,
   "id": "48fc3ad2-bef8-4dc7-81b4-b5abc41466d4",
   "metadata": {},
   "outputs": [],
   "source": [
    "import pandas as pd"
   ]
  },
  {
   "cell_type": "code",
   "execution_count": null,
   "id": "c8169f18-99a0-45bf-9d83-4b3f62990a1e",
   "metadata": {},
   "outputs": [],
   "source": [
    "df_titulos = pd.read_csv('../datasets/titulos.csv',sep=';')\n",
    "df_titulos.head()"
   ]
  },
  {
   "cell_type": "code",
   "execution_count": null,
   "id": "02f6df5d-1338-47e3-b4ce-8ff40e45c487",
   "metadata": {},
   "outputs": [],
   "source": [
    "df_salarios = pd.read_csv('../datasets/salarios.csv',sep=';')\n",
    "df_salarios.head()"
   ]
  },
  {
   "cell_type": "code",
   "execution_count": null,
   "id": "183da085-5385-4ba8-8ba2-c8b4db759c1a",
   "metadata": {},
   "outputs": [],
   "source": [
    "df_empregados = pd.merge(df_titulos,df_salarios,left_on='codigo_empregado',right_on='emp_no')\n",
    "df_empregados"
   ]
  },
  {
   "cell_type": "code",
   "execution_count": null,
   "id": "dba4a488-3519-412a-bcc3-084beeaf3e4f",
   "metadata": {},
   "outputs": [],
   "source": [
    "df_empregados = df_empregados.drop(columns=['emp_no'])\n",
    "df_empregados"
   ]
  },
  {
   "cell_type": "code",
   "execution_count": null,
   "id": "e1aaca44-de16-44c5-99d9-2341534fbcbc",
   "metadata": {},
   "outputs": [],
   "source": [
    "df_empregados = df_empregados.rename(columns={'salary':'salario'})\n",
    "df_empregados"
   ]
  }
 ],
 "metadata": {
  "kernelspec": {
   "display_name": "Python 3 (ipykernel)",
   "language": "python",
   "name": "python3"
  },
  "language_info": {
   "codemirror_mode": {
    "name": "ipython",
    "version": 3
   },
   "file_extension": ".py",
   "mimetype": "text/x-python",
   "name": "python",
   "nbconvert_exporter": "python",
   "pygments_lexer": "ipython3",
   "version": "3.12.0"
  }
 },
 "nbformat": 4,
 "nbformat_minor": 5
}
