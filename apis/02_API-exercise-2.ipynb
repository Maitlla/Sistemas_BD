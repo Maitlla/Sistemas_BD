{
 "cells": [
  {
   "cell_type": "markdown",
   "metadata": {},
   "source": [
    "# APIs. Exercise 2\n",
    "## Meteogalicia API"
   ]
  },
  {
   "cell_type": "code",
   "execution_count": null,
   "id": "a4a78c8f-6cdb-4fcd-89f5-729135106c5e",
   "metadata": {},
   "outputs": [],
   "source": [
    "# METEOGALICIA\n",
    "# Look for the documentation for the meteorological forecast by counties in the short term (\"Predición por concellos\")\n",
    "# In the main page go to RSS, GeoRSS and JSON\n",
    "# Copy the PDF file url\n",
    "# LINK HERE:https://meteo-estaticos.xunta.gal/datosred/infoweb/meteo/docs/rss/JSON_Pred_Concello_gl.pdf"
   ]
  },
  {
   "cell_type": "code",
   "execution_count": null,
   "id": "4984891c-7fb2-4734-b688-40aa5734e84c",
   "metadata": {},
   "outputs": [],
   "source": [
    "# Each API has its specific documentation, sometimes in web format, sometimes PDF, ... \n",
    "# Take a look at the documentation offered by Meteogalicia for the short term forecasting by municipality\n",
    "# to understand the type of service and data offered and to be able to carry out the exercise."
   ]
  },
  {
   "cell_type": "code",
   "execution_count": null,
   "id": "583581b9-0b93-42ae-b56e-54372b957b65",
   "metadata": {},
   "outputs": [],
   "source": [
    "# Query the short term forecast for the municipality of Monfero.\n",
    "# Use the documentation to understand how the API works and what the results mean\n",
    "# It's enough to get the JSON with the prediction\n",
    "# You can try to access the different elements"
   ]
  },
  {
   "cell_type": "code",
   "execution_count": 1,
   "id": "53d53d0b",
   "metadata": {},
   "outputs": [
    {
     "data": {
      "text/plain": [
       "{'idConcello': 15050,\n",
       " 'listaPredDiaConcello': [{'ceo': {'manha': 110, 'noite': 204, 'tarde': 104},\n",
       "   'dataPredicion': '2024-02-07T00:00:00',\n",
       "   'nivelAviso': 0,\n",
       "   'pchoiva': {'manha': 90, 'noite': 45, 'tarde': 35},\n",
       "   'tMax': 14,\n",
       "   'tMin': 10,\n",
       "   'tmaxFranxa': {'manha': 13, 'noite': 13, 'tarde': 14},\n",
       "   'tminFranxa': {'manha': 12, 'noite': 11, 'tarde': 13},\n",
       "   'uvMax': 2,\n",
       "   'vento': {'manha': 314, 'noite': 322, 'tarde': 314}},\n",
       "  {'ceo': {'manha': 117, 'noite': 208, 'tarde': 117},\n",
       "   'dataPredicion': '2024-02-08T00:00:00',\n",
       "   'nivelAviso': 0,\n",
       "   'pchoiva': {'manha': 95, 'noite': 95, 'tarde': 95},\n",
       "   'tMax': 13,\n",
       "   'tMin': 10,\n",
       "   'tmaxFranxa': {'manha': 12, 'noite': 13, 'tarde': 13},\n",
       "   'tminFranxa': {'manha': 11, 'noite': 11, 'tarde': 10},\n",
       "   'uvMax': 2,\n",
       "   'vento': {'manha': 321, 'noite': 314, 'tarde': 313}},\n",
       "  {'ceo': {'manha': 107, 'noite': 208, 'tarde': 107},\n",
       "   'dataPredicion': '2024-02-09T00:00:00',\n",
       "   'nivelAviso': 0,\n",
       "   'pchoiva': {'manha': 95, 'noite': 95, 'tarde': 95},\n",
       "   'tMax': 13,\n",
       "   'tMin': 9,\n",
       "   'tmaxFranxa': {'manha': -9999, 'noite': -9999, 'tarde': -9999},\n",
       "   'tminFranxa': {'manha': -9999, 'noite': -9999, 'tarde': -9999},\n",
       "   'uvMax': 2,\n",
       "   'vento': {'manha': 314, 'noite': 307, 'tarde': 307}}],\n",
       " 'nome': 'Monfero'}"
      ]
     },
     "execution_count": 1,
     "metadata": {},
     "output_type": "execute_result"
    }
   ],
   "source": [
    "import requests\n",
    "endpoint = \"https://servizos.meteogalicia.gal/mgrss/predicion/jsonPredConcellos.action?idConc=15050\"\n",
    "response = requests.get(endpoint)\n",
    "response.json()[\"predConcello\"]"
   ]
  },
  {
   "cell_type": "code",
   "execution_count": 2,
   "id": "b9d98ad8",
   "metadata": {},
   "outputs": [
    {
     "data": {
      "text/plain": [
       "(15, 11)"
      ]
     },
     "execution_count": 2,
     "metadata": {},
     "output_type": "execute_result"
    }
   ],
   "source": [
    "# Check the maximum and minimum temperatures forecast in the short term for the municipality of Paderne.\n",
    "# In concrete, for the day after the current one (for tomorrow)\n",
    "endpoint = \"https://servizos.meteogalicia.gal/mgrss/predicion/jsonPredConcellos.action?idConc=15064\"\n",
    "response = requests.get(endpoint)\n",
    "paderne = response.json()[\"predConcello\"][\"listaPredDiaConcello\"][1]\n",
    "paderne[\"tMax\"], paderne[\"tMin\"]"
   ]
  },
  {
   "cell_type": "code",
   "execution_count": null,
   "id": "d6bb683a-95ab-4dbc-a7ce-6504a7ac5b2e",
   "metadata": {},
   "outputs": [],
   "source": []
  },
  {
   "cell_type": "code",
   "execution_count": null,
   "id": "2f2e1260-d2b9-42d0-bb91-5fc64ad37c00",
   "metadata": {},
   "outputs": [],
   "source": [
    "# Meteogalicia also offers information about the beaches through its API.\n",
    "# https://www.meteogalicia.gal/datosred/infoweb/meteo/docs/rss/JSON_Pred_Praia_gl.pdf"
   ]
  },
  {
   "cell_type": "code",
   "execution_count": 41,
   "id": "46c52797-4aaa-49d2-8555-2245597c2a3d",
   "metadata": {},
   "outputs": [
    {
     "name": "stdout",
     "output_type": "stream",
     "text": [
      "La temperatura de Riazor es 12\n"
     ]
    }
   ],
   "source": [
    "# Check the prediction for the temperature of the water in Riazor beach and compare it with that of the Catedrais beach.\n",
    "endpoint = \"https://servizos.meteogalicia.gal/mgrss/predicion/jsonPredPraia.action?idPraia=2448\"\n",
    "response = requests.get(endpoint)\n",
    "temperatura = response.json()[\"predPraia\"][\"listaPredDiaPraia\"][0][\"tAuga\"]\n",
    "print(f\"La temperatura de Riazor es {temperatura}\")"
   ]
  },
  {
   "cell_type": "code",
   "execution_count": 42,
   "id": "1ff27f02-80f3-428c-b192-2bf8948b95c1",
   "metadata": {},
   "outputs": [
    {
     "name": "stdout",
     "output_type": "stream",
     "text": [
      "La temperatura de As Catedrais es 14\n"
     ]
    }
   ],
   "source": [
    "endpoint = \"https://servizos.meteogalicia.gal/mgrss/predicion/jsonPredPraia.action?idPraia=1987\"\n",
    "response = requests.get(endpoint)\n",
    "temperatura = response.json()[\"predPraia\"][\"listaPredDiaPraia\"][0][\"tAuga\"]\n",
    "print(f\"La temperatura de As Catedrais es {temperatura}\")"
   ]
  },
  {
   "cell_type": "code",
   "execution_count": null,
   "id": "fdfe2aad",
   "metadata": {},
   "outputs": [],
   "source": [
    "# Research on the Meteogalicia website among the different services available.\n",
    "# Connect to one of the services and extract some information.\n",
    "# Imagine a use case for this data (it can be something simple, you don't have to think in BigData)\n",
    "# If it's something simple, you can try programming it!!!"
   ]
  },
  {
   "cell_type": "code",
   "execution_count": null,
   "id": "902fed70",
   "metadata": {},
   "outputs": [],
   "source": []
  }
 ],
 "metadata": {
  "kernelspec": {
   "display_name": "Python 3 (ipykernel)",
   "language": "python",
   "name": "python3"
  },
  "language_info": {
   "codemirror_mode": {
    "name": "ipython",
    "version": 3
   },
   "file_extension": ".py",
   "mimetype": "text/x-python",
   "name": "python",
   "nbconvert_exporter": "python",
   "pygments_lexer": "ipython3",
   "version": "3.12.0"
  }
 },
 "nbformat": 4,
 "nbformat_minor": 5
}
