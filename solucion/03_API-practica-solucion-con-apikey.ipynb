{
 "cells": [
  {
   "cell_type": "code",
   "execution_count": 3,
   "id": "d6bb683a-95ab-4dbc-a7ce-6504a7ac5b2e",
   "metadata": {},
   "outputs": [],
   "source": [
    "import requests"
   ]
  },
  {
   "cell_type": "code",
   "execution_count": 9,
   "id": "90c2bea6-592c-457d-9569-6955ba45bef4",
   "metadata": {},
   "outputs": [],
   "source": [
    "# Especulación con criptodivisas\n",
    "# Utiliza unha API para calcular por cantos euros podes cambiar os dous bitcoins que encontraches limpando o sofá\n",
    "\n",
    "# Axuda: Utiliza algunha api de balde, como por exemplo:\n",
    "# https://www.coinapi.io/\n",
    "# https://min-api.cryptocompare.com/"
   ]
  },
  {
   "cell_type": "code",
   "execution_count": 10,
   "id": "2a704155-22a2-4e66-a183-5a3ea325da31",
   "metadata": {},
   "outputs": [
    {
     "data": {
      "text/plain": [
       "'Teño 84046.2462481151€ en bitcoins!!'"
      ]
     },
     "execution_count": 10,
     "metadata": {},
     "output_type": "execute_result"
    }
   ],
   "source": [
    "# exemplo con autenticación en headers\n",
    "url= 'https://rest.coinapi.io/v1/exchangerate/BTC/EUR'\n",
    "apikey = {'X-CoinAPI-Key': '8C2E4A4D-B577-427D-BDCA-D33E78D99132'}\n",
    "response = requests.get(url, headers = apikey)\n",
    "factor_de_cambio = response.json()['rate']\n",
    "total = 2 * factor_de_cambio\n",
    "f'Teño {total}€ en bitcoins!!'"
   ]
  },
  {
   "cell_type": "code",
   "execution_count": 11,
   "id": "a162f217-01fe-46e4-8b74-5f307aa8a611",
   "metadata": {},
   "outputs": [
    {
     "data": {
      "text/plain": [
       "'Teño 84091.76€ en bitcoins!!'"
      ]
     },
     "execution_count": 11,
     "metadata": {},
     "output_type": "execute_result"
    }
   ],
   "source": [
    "# https://min-api.cryptocompare.com/\n",
    "# Non require autenticación para a consulta do cambio\n",
    "url= 'https://min-api.cryptocompare.com/data/price'\n",
    "\n",
    "#payload = {'api_key':API_KEY, 'fsym':'BTC','tsyms':'EUR'}\n",
    "payload = {'fsym':'BTC','tsyms':'EUR'}\n",
    "\n",
    "#params = {'api_key': 'd59fe22b0d9e1acfa7c07f9df046f2e53f55d354833131ce30aa4b2987292ff2'}\n",
    "response = requests.get(url, params = payload)\n",
    "\n",
    "response.json()\n",
    "#response.url\n",
    "\n",
    "factor_de_cambio = response.json()['EUR']\n",
    "total_euros = 2 * factor_de_cambio\n",
    "f'Teño {total_euros}€ en bitcoins!!'"
   ]
  },
  {
   "cell_type": "code",
   "execution_count": 12,
   "id": "3f79e5c7-c40e-422b-b3ae-6e06cfc6b7f1",
   "metadata": {},
   "outputs": [
    {
     "data": {
      "text/plain": [
       "'Teño 9.716151599999998€ en ethereuns!!'"
      ]
     },
     "execution_count": 12,
     "metadata": {},
     "output_type": "execute_result"
    }
   ],
   "source": [
    "# Como a xogada saíu redonda ocórreseche seguir especulando\n",
    "# Retira 50.000€ e inviste o resto en Ethereum\n",
    "# Cantas criptomoedas ethereum podes obter?\n",
    "euros_a_investir = total_euros - 50000\n",
    "\n",
    "url= 'https://min-api.cryptocompare.com/data/price'\n",
    "\n",
    "#payload = {'api_key':API_KEY, 'fsym':'BTC','tsyms':'EUR'}\n",
    "payload = {'fsym':'EUR','tsyms':'ETH'}\n",
    "\n",
    "#params = {'api_key': 'd59fe22b0d9e1acfa7c07f9df046f2e53f55d354833131ce30aa4b2987292ff2'}\n",
    "response = requests.get(url, params = payload)\n",
    "\n",
    "response.json()\n",
    "#response.url\n",
    "\n",
    "factor_de_cambio = response.json()['ETH']\n",
    "total = euros_a_investir * factor_de_cambio\n",
    "f'Teño {total}€ en ethereuns!!'\n"
   ]
  }
 ],
 "metadata": {
  "kernelspec": {
   "display_name": "Python 3",
   "language": "python",
   "name": "python3"
  },
  "language_info": {
   "codemirror_mode": {
    "name": "ipython",
    "version": 3
   },
   "file_extension": ".py",
   "mimetype": "text/x-python",
   "name": "python",
   "nbconvert_exporter": "python",
   "pygments_lexer": "ipython3",
   "version": "3.8.10 (default, Nov 14 2022, 12:59:47) \n[GCC 9.4.0]"
  },
  "vscode": {
   "interpreter": {
    "hash": "916dbcbb3f70747c44a77c7bcd40155683ae19c65e1c03b4aa3499c5328201f1"
   }
  }
 },
 "nbformat": 4,
 "nbformat_minor": 5
}
