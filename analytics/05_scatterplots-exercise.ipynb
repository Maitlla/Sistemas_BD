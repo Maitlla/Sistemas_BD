{
 "cells": [
  {
   "cell_type": "markdown",
   "id": "8cc94896-5d3d-453d-b71e-ad27e7326dba",
   "metadata": {},
   "source": [
    "# Exercise 5. Scatter plots\n",
    "\n",
    "API SEABORN - Scatterplots\n",
    "\n",
    "https://seaborn.pydata.org/generated/seaborn.scatterplot.html\n",
    "\n",
    "Scatter plots are useful for understanding the relationship between two continuous variables.\n",
    "\n",
    "We can add a third categorical variable (with colors, or with another type of graphs).\n",
    "\n",
    "Remember that in bar charts the relationship was between a numerical variable and another categorical variable."
   ]
  },
  {
   "cell_type": "code",
   "execution_count": 1,
   "id": "161ec80d-1c6c-4a92-8183-deef4bdf08aa",
   "metadata": {},
   "outputs": [],
   "source": [
    "import pandas as pd\n",
    "import matplotlib.pyplot as plt\n",
    "import seaborn as sns"
   ]
  },
  {
   "cell_type": "code",
   "execution_count": null,
   "id": "59fdfec8",
   "metadata": {},
   "outputs": [],
   "source": [
    "# Load the dataset with information of the experiment about candies\n",
    "# https://fivethirtyeight.com/videos/the-ultimate-halloween-candy-power-ranking/\n",
    "# candy.csv"
   ]
  },
  {
   "cell_type": "code",
   "execution_count": null,
   "id": "6ed4ca0f-d7bc-41a2-83c1-0c8bc21d051c",
   "metadata": {},
   "outputs": [],
   "source": [
    "# 1. Load the dataset about candies\n",
    "# Cargar el conjunto de datos sobre caramelos"
   ]
  },
  {
   "cell_type": "code",
   "execution_count": 2,
   "id": "6f4fd5e5",
   "metadata": {},
   "outputs": [],
   "source": [
    "df_candy = pd.read_csv(\"../datasets/candy.csv\")"
   ]
  },
  {
   "cell_type": "code",
   "execution_count": 7,
   "id": "9c0eb72d",
   "metadata": {},
   "outputs": [],
   "source": [
    "# candy_data = pd.read_csv(\"../datasets/candy.csv\", index_col='id')"
   ]
  },
  {
   "cell_type": "code",
   "execution_count": null,
   "id": "1cb0374c",
   "metadata": {},
   "outputs": [],
   "source": [
    "# 2. Take a look at the dataset\n",
    "# Echa un vistazo al conjunto de datos"
   ]
  },
  {
   "cell_type": "code",
   "execution_count": 3,
   "id": "2b01034c-7f57-4b46-83e8-8f834db9f9a6",
   "metadata": {},
   "outputs": [
    {
     "data": {
      "text/html": [
       "<div>\n",
       "<style scoped>\n",
       "    .dataframe tbody tr th:only-of-type {\n",
       "        vertical-align: middle;\n",
       "    }\n",
       "\n",
       "    .dataframe tbody tr th {\n",
       "        vertical-align: top;\n",
       "    }\n",
       "\n",
       "    .dataframe thead th {\n",
       "        text-align: right;\n",
       "    }\n",
       "</style>\n",
       "<table border=\"1\" class=\"dataframe\">\n",
       "  <thead>\n",
       "    <tr style=\"text-align: right;\">\n",
       "      <th></th>\n",
       "      <th>id</th>\n",
       "      <th>competitorname</th>\n",
       "      <th>chocolate</th>\n",
       "      <th>fruity</th>\n",
       "      <th>caramel</th>\n",
       "      <th>peanutyalmondy</th>\n",
       "      <th>nougat</th>\n",
       "      <th>crispedricewafer</th>\n",
       "      <th>hard</th>\n",
       "      <th>bar</th>\n",
       "      <th>pluribus</th>\n",
       "      <th>sugarpercent</th>\n",
       "      <th>pricepercent</th>\n",
       "      <th>winpercent</th>\n",
       "    </tr>\n",
       "  </thead>\n",
       "  <tbody>\n",
       "    <tr>\n",
       "      <th>0</th>\n",
       "      <td>0</td>\n",
       "      <td>100 Grand</td>\n",
       "      <td>Yes</td>\n",
       "      <td>No</td>\n",
       "      <td>Yes</td>\n",
       "      <td>No</td>\n",
       "      <td>No</td>\n",
       "      <td>Yes</td>\n",
       "      <td>No</td>\n",
       "      <td>Yes</td>\n",
       "      <td>No</td>\n",
       "      <td>0.732</td>\n",
       "      <td>0.860</td>\n",
       "      <td>66.971725</td>\n",
       "    </tr>\n",
       "    <tr>\n",
       "      <th>1</th>\n",
       "      <td>1</td>\n",
       "      <td>3 Musketeers</td>\n",
       "      <td>Yes</td>\n",
       "      <td>No</td>\n",
       "      <td>No</td>\n",
       "      <td>No</td>\n",
       "      <td>Yes</td>\n",
       "      <td>No</td>\n",
       "      <td>No</td>\n",
       "      <td>Yes</td>\n",
       "      <td>No</td>\n",
       "      <td>0.604</td>\n",
       "      <td>0.511</td>\n",
       "      <td>67.602936</td>\n",
       "    </tr>\n",
       "    <tr>\n",
       "      <th>2</th>\n",
       "      <td>2</td>\n",
       "      <td>Air Heads</td>\n",
       "      <td>No</td>\n",
       "      <td>Yes</td>\n",
       "      <td>No</td>\n",
       "      <td>No</td>\n",
       "      <td>No</td>\n",
       "      <td>No</td>\n",
       "      <td>No</td>\n",
       "      <td>No</td>\n",
       "      <td>No</td>\n",
       "      <td>0.906</td>\n",
       "      <td>0.511</td>\n",
       "      <td>52.341465</td>\n",
       "    </tr>\n",
       "    <tr>\n",
       "      <th>3</th>\n",
       "      <td>3</td>\n",
       "      <td>Almond Joy</td>\n",
       "      <td>Yes</td>\n",
       "      <td>No</td>\n",
       "      <td>No</td>\n",
       "      <td>Yes</td>\n",
       "      <td>No</td>\n",
       "      <td>No</td>\n",
       "      <td>No</td>\n",
       "      <td>Yes</td>\n",
       "      <td>No</td>\n",
       "      <td>0.465</td>\n",
       "      <td>0.767</td>\n",
       "      <td>50.347546</td>\n",
       "    </tr>\n",
       "    <tr>\n",
       "      <th>4</th>\n",
       "      <td>4</td>\n",
       "      <td>Baby Ruth</td>\n",
       "      <td>Yes</td>\n",
       "      <td>No</td>\n",
       "      <td>Yes</td>\n",
       "      <td>Yes</td>\n",
       "      <td>Yes</td>\n",
       "      <td>No</td>\n",
       "      <td>No</td>\n",
       "      <td>Yes</td>\n",
       "      <td>No</td>\n",
       "      <td>0.604</td>\n",
       "      <td>0.767</td>\n",
       "      <td>56.914547</td>\n",
       "    </tr>\n",
       "    <tr>\n",
       "      <th>...</th>\n",
       "      <td>...</td>\n",
       "      <td>...</td>\n",
       "      <td>...</td>\n",
       "      <td>...</td>\n",
       "      <td>...</td>\n",
       "      <td>...</td>\n",
       "      <td>...</td>\n",
       "      <td>...</td>\n",
       "      <td>...</td>\n",
       "      <td>...</td>\n",
       "      <td>...</td>\n",
       "      <td>...</td>\n",
       "      <td>...</td>\n",
       "      <td>...</td>\n",
       "    </tr>\n",
       "    <tr>\n",
       "      <th>78</th>\n",
       "      <td>78</td>\n",
       "      <td>Twizzlers</td>\n",
       "      <td>No</td>\n",
       "      <td>Yes</td>\n",
       "      <td>No</td>\n",
       "      <td>No</td>\n",
       "      <td>No</td>\n",
       "      <td>No</td>\n",
       "      <td>No</td>\n",
       "      <td>No</td>\n",
       "      <td>No</td>\n",
       "      <td>0.220</td>\n",
       "      <td>0.116</td>\n",
       "      <td>45.466282</td>\n",
       "    </tr>\n",
       "    <tr>\n",
       "      <th>79</th>\n",
       "      <td>79</td>\n",
       "      <td>Warheads</td>\n",
       "      <td>No</td>\n",
       "      <td>Yes</td>\n",
       "      <td>No</td>\n",
       "      <td>No</td>\n",
       "      <td>No</td>\n",
       "      <td>No</td>\n",
       "      <td>Yes</td>\n",
       "      <td>No</td>\n",
       "      <td>No</td>\n",
       "      <td>0.093</td>\n",
       "      <td>0.116</td>\n",
       "      <td>39.011898</td>\n",
       "    </tr>\n",
       "    <tr>\n",
       "      <th>80</th>\n",
       "      <td>80</td>\n",
       "      <td>Welch's Fruit Snacks</td>\n",
       "      <td>No</td>\n",
       "      <td>Yes</td>\n",
       "      <td>No</td>\n",
       "      <td>No</td>\n",
       "      <td>No</td>\n",
       "      <td>No</td>\n",
       "      <td>No</td>\n",
       "      <td>No</td>\n",
       "      <td>Yes</td>\n",
       "      <td>0.313</td>\n",
       "      <td>0.313</td>\n",
       "      <td>44.375519</td>\n",
       "    </tr>\n",
       "    <tr>\n",
       "      <th>81</th>\n",
       "      <td>81</td>\n",
       "      <td>Werther's Original Caramel</td>\n",
       "      <td>No</td>\n",
       "      <td>No</td>\n",
       "      <td>Yes</td>\n",
       "      <td>No</td>\n",
       "      <td>No</td>\n",
       "      <td>No</td>\n",
       "      <td>Yes</td>\n",
       "      <td>No</td>\n",
       "      <td>No</td>\n",
       "      <td>0.186</td>\n",
       "      <td>0.267</td>\n",
       "      <td>41.904308</td>\n",
       "    </tr>\n",
       "    <tr>\n",
       "      <th>82</th>\n",
       "      <td>82</td>\n",
       "      <td>Whoppers</td>\n",
       "      <td>Yes</td>\n",
       "      <td>No</td>\n",
       "      <td>No</td>\n",
       "      <td>No</td>\n",
       "      <td>No</td>\n",
       "      <td>Yes</td>\n",
       "      <td>No</td>\n",
       "      <td>No</td>\n",
       "      <td>Yes</td>\n",
       "      <td>0.872</td>\n",
       "      <td>0.848</td>\n",
       "      <td>49.524113</td>\n",
       "    </tr>\n",
       "  </tbody>\n",
       "</table>\n",
       "<p>83 rows × 14 columns</p>\n",
       "</div>"
      ],
      "text/plain": [
       "    id              competitorname chocolate fruity caramel peanutyalmondy  \\\n",
       "0    0                   100 Grand       Yes     No     Yes             No   \n",
       "1    1                3 Musketeers       Yes     No      No             No   \n",
       "2    2                   Air Heads        No    Yes      No             No   \n",
       "3    3                  Almond Joy       Yes     No      No            Yes   \n",
       "4    4                   Baby Ruth       Yes     No     Yes            Yes   \n",
       "..  ..                         ...       ...    ...     ...            ...   \n",
       "78  78                   Twizzlers        No    Yes      No             No   \n",
       "79  79                    Warheads        No    Yes      No             No   \n",
       "80  80        Welch's Fruit Snacks        No    Yes      No             No   \n",
       "81  81  Werther's Original Caramel        No     No     Yes             No   \n",
       "82  82                    Whoppers       Yes     No      No             No   \n",
       "\n",
       "   nougat crispedricewafer hard  bar pluribus  sugarpercent  pricepercent  \\\n",
       "0      No              Yes   No  Yes       No         0.732         0.860   \n",
       "1     Yes               No   No  Yes       No         0.604         0.511   \n",
       "2      No               No   No   No       No         0.906         0.511   \n",
       "3      No               No   No  Yes       No         0.465         0.767   \n",
       "4     Yes               No   No  Yes       No         0.604         0.767   \n",
       "..    ...              ...  ...  ...      ...           ...           ...   \n",
       "78     No               No   No   No       No         0.220         0.116   \n",
       "79     No               No  Yes   No       No         0.093         0.116   \n",
       "80     No               No   No   No      Yes         0.313         0.313   \n",
       "81     No               No  Yes   No       No         0.186         0.267   \n",
       "82     No              Yes   No   No      Yes         0.872         0.848   \n",
       "\n",
       "    winpercent  \n",
       "0    66.971725  \n",
       "1    67.602936  \n",
       "2    52.341465  \n",
       "3    50.347546  \n",
       "4    56.914547  \n",
       "..         ...  \n",
       "78   45.466282  \n",
       "79   39.011898  \n",
       "80   44.375519  \n",
       "81   41.904308  \n",
       "82   49.524113  \n",
       "\n",
       "[83 rows x 14 columns]"
      ]
     },
     "execution_count": 3,
     "metadata": {},
     "output_type": "execute_result"
    }
   ],
   "source": [
    "df_candy"
   ]
  },
  {
   "cell_type": "code",
   "execution_count": 4,
   "id": "7bc766a5",
   "metadata": {},
   "outputs": [
    {
     "data": {
      "text/html": [
       "<div>\n",
       "<style scoped>\n",
       "    .dataframe tbody tr th:only-of-type {\n",
       "        vertical-align: middle;\n",
       "    }\n",
       "\n",
       "    .dataframe tbody tr th {\n",
       "        vertical-align: top;\n",
       "    }\n",
       "\n",
       "    .dataframe thead th {\n",
       "        text-align: right;\n",
       "    }\n",
       "</style>\n",
       "<table border=\"1\" class=\"dataframe\">\n",
       "  <thead>\n",
       "    <tr style=\"text-align: right;\">\n",
       "      <th></th>\n",
       "      <th>id</th>\n",
       "      <th>competitorname</th>\n",
       "      <th>chocolate</th>\n",
       "      <th>fruity</th>\n",
       "      <th>caramel</th>\n",
       "      <th>peanutyalmondy</th>\n",
       "      <th>nougat</th>\n",
       "      <th>crispedricewafer</th>\n",
       "      <th>hard</th>\n",
       "      <th>bar</th>\n",
       "      <th>pluribus</th>\n",
       "      <th>sugarpercent</th>\n",
       "      <th>pricepercent</th>\n",
       "      <th>winpercent</th>\n",
       "    </tr>\n",
       "  </thead>\n",
       "  <tbody>\n",
       "    <tr>\n",
       "      <th>0</th>\n",
       "      <td>0</td>\n",
       "      <td>100 Grand</td>\n",
       "      <td>Yes</td>\n",
       "      <td>No</td>\n",
       "      <td>Yes</td>\n",
       "      <td>No</td>\n",
       "      <td>No</td>\n",
       "      <td>Yes</td>\n",
       "      <td>No</td>\n",
       "      <td>Yes</td>\n",
       "      <td>No</td>\n",
       "      <td>0.732</td>\n",
       "      <td>0.860</td>\n",
       "      <td>66.971725</td>\n",
       "    </tr>\n",
       "    <tr>\n",
       "      <th>1</th>\n",
       "      <td>1</td>\n",
       "      <td>3 Musketeers</td>\n",
       "      <td>Yes</td>\n",
       "      <td>No</td>\n",
       "      <td>No</td>\n",
       "      <td>No</td>\n",
       "      <td>Yes</td>\n",
       "      <td>No</td>\n",
       "      <td>No</td>\n",
       "      <td>Yes</td>\n",
       "      <td>No</td>\n",
       "      <td>0.604</td>\n",
       "      <td>0.511</td>\n",
       "      <td>67.602936</td>\n",
       "    </tr>\n",
       "    <tr>\n",
       "      <th>2</th>\n",
       "      <td>2</td>\n",
       "      <td>Air Heads</td>\n",
       "      <td>No</td>\n",
       "      <td>Yes</td>\n",
       "      <td>No</td>\n",
       "      <td>No</td>\n",
       "      <td>No</td>\n",
       "      <td>No</td>\n",
       "      <td>No</td>\n",
       "      <td>No</td>\n",
       "      <td>No</td>\n",
       "      <td>0.906</td>\n",
       "      <td>0.511</td>\n",
       "      <td>52.341465</td>\n",
       "    </tr>\n",
       "    <tr>\n",
       "      <th>3</th>\n",
       "      <td>3</td>\n",
       "      <td>Almond Joy</td>\n",
       "      <td>Yes</td>\n",
       "      <td>No</td>\n",
       "      <td>No</td>\n",
       "      <td>Yes</td>\n",
       "      <td>No</td>\n",
       "      <td>No</td>\n",
       "      <td>No</td>\n",
       "      <td>Yes</td>\n",
       "      <td>No</td>\n",
       "      <td>0.465</td>\n",
       "      <td>0.767</td>\n",
       "      <td>50.347546</td>\n",
       "    </tr>\n",
       "    <tr>\n",
       "      <th>4</th>\n",
       "      <td>4</td>\n",
       "      <td>Baby Ruth</td>\n",
       "      <td>Yes</td>\n",
       "      <td>No</td>\n",
       "      <td>Yes</td>\n",
       "      <td>Yes</td>\n",
       "      <td>Yes</td>\n",
       "      <td>No</td>\n",
       "      <td>No</td>\n",
       "      <td>Yes</td>\n",
       "      <td>No</td>\n",
       "      <td>0.604</td>\n",
       "      <td>0.767</td>\n",
       "      <td>56.914547</td>\n",
       "    </tr>\n",
       "  </tbody>\n",
       "</table>\n",
       "</div>"
      ],
      "text/plain": [
       "   id competitorname chocolate fruity caramel peanutyalmondy nougat  \\\n",
       "0   0      100 Grand       Yes     No     Yes             No     No   \n",
       "1   1   3 Musketeers       Yes     No      No             No    Yes   \n",
       "2   2      Air Heads        No    Yes      No             No     No   \n",
       "3   3     Almond Joy       Yes     No      No            Yes     No   \n",
       "4   4      Baby Ruth       Yes     No     Yes            Yes    Yes   \n",
       "\n",
       "  crispedricewafer hard  bar pluribus  sugarpercent  pricepercent  winpercent  \n",
       "0              Yes   No  Yes       No         0.732         0.860   66.971725  \n",
       "1               No   No  Yes       No         0.604         0.511   67.602936  \n",
       "2               No   No   No       No         0.906         0.511   52.341465  \n",
       "3               No   No  Yes       No         0.465         0.767   50.347546  \n",
       "4               No   No  Yes       No         0.604         0.767   56.914547  "
      ]
     },
     "execution_count": 4,
     "metadata": {},
     "output_type": "execute_result"
    }
   ],
   "source": [
    "df_candy.head()"
   ]
  },
  {
   "cell_type": "markdown",
   "id": "2d0a233c",
   "metadata": {},
   "source": [
    "The dataset contains 83 rows, where each corresponds to a different candy bar. There are 13 columns:\n",
    "\n",
    "\n",
    "- 'competitorname' contains the name of the candy bar.\n",
    "- the next 9 columns (from 'chocolate' to 'pluribus') describe the candy. For instance, rows with chocolate candies have \"Yes\" in the - - 'chocolate' column (and candies without chocolate have \"No\" in the same column).\n",
    "- 'sugarpercent' provides some indication of the amount of sugar, where higher values signify higher sugar content.\n",
    "- 'pricepercent' shows the price per unit, relative to the other candies in the dataset.\n",
    "- 'winpercent' is calculated from the survey results;higher values indicate that the candy was more popular with survey respondents.\n"
   ]
  },
  {
   "cell_type": "code",
   "execution_count": 5,
   "id": "77e46cec",
   "metadata": {},
   "outputs": [
    {
     "name": "stdout",
     "output_type": "stream",
     "text": [
      "<class 'pandas.core.frame.DataFrame'>\n",
      "RangeIndex: 83 entries, 0 to 82\n",
      "Data columns (total 14 columns):\n",
      " #   Column            Non-Null Count  Dtype  \n",
      "---  ------            --------------  -----  \n",
      " 0   id                83 non-null     int64  \n",
      " 1   competitorname    83 non-null     object \n",
      " 2   chocolate         83 non-null     object \n",
      " 3   fruity            83 non-null     object \n",
      " 4   caramel           83 non-null     object \n",
      " 5   peanutyalmondy    83 non-null     object \n",
      " 6   nougat            83 non-null     object \n",
      " 7   crispedricewafer  83 non-null     object \n",
      " 8   hard              83 non-null     object \n",
      " 9   bar               83 non-null     object \n",
      " 10  pluribus          83 non-null     object \n",
      " 11  sugarpercent      83 non-null     float64\n",
      " 12  pricepercent      83 non-null     float64\n",
      " 13  winpercent        83 non-null     float64\n",
      "dtypes: float64(3), int64(1), object(10)\n",
      "memory usage: 9.2+ KB\n"
     ]
    }
   ],
   "source": [
    "df_candy.info()"
   ]
  },
  {
   "cell_type": "code",
   "execution_count": 6,
   "id": "5d3e5368",
   "metadata": {},
   "outputs": [
    {
     "data": {
      "text/html": [
       "<div>\n",
       "<style scoped>\n",
       "    .dataframe tbody tr th:only-of-type {\n",
       "        vertical-align: middle;\n",
       "    }\n",
       "\n",
       "    .dataframe tbody tr th {\n",
       "        vertical-align: top;\n",
       "    }\n",
       "\n",
       "    .dataframe thead th {\n",
       "        text-align: right;\n",
       "    }\n",
       "</style>\n",
       "<table border=\"1\" class=\"dataframe\">\n",
       "  <thead>\n",
       "    <tr style=\"text-align: right;\">\n",
       "      <th></th>\n",
       "      <th>id</th>\n",
       "      <th>sugarpercent</th>\n",
       "      <th>pricepercent</th>\n",
       "      <th>winpercent</th>\n",
       "    </tr>\n",
       "  </thead>\n",
       "  <tbody>\n",
       "    <tr>\n",
       "      <th>count</th>\n",
       "      <td>83.000000</td>\n",
       "      <td>83.000000</td>\n",
       "      <td>83.000000</td>\n",
       "      <td>83.000000</td>\n",
       "    </tr>\n",
       "    <tr>\n",
       "      <th>mean</th>\n",
       "      <td>41.000000</td>\n",
       "      <td>0.489916</td>\n",
       "      <td>0.472627</td>\n",
       "      <td>50.584908</td>\n",
       "    </tr>\n",
       "    <tr>\n",
       "      <th>std</th>\n",
       "      <td>24.103942</td>\n",
       "      <td>0.276498</td>\n",
       "      <td>0.286503</td>\n",
       "      <td>14.748880</td>\n",
       "    </tr>\n",
       "    <tr>\n",
       "      <th>min</th>\n",
       "      <td>0.000000</td>\n",
       "      <td>0.034000</td>\n",
       "      <td>0.011000</td>\n",
       "      <td>22.445341</td>\n",
       "    </tr>\n",
       "    <tr>\n",
       "      <th>25%</th>\n",
       "      <td>20.500000</td>\n",
       "      <td>0.267000</td>\n",
       "      <td>0.261000</td>\n",
       "      <td>39.163280</td>\n",
       "    </tr>\n",
       "    <tr>\n",
       "      <th>50%</th>\n",
       "      <td>41.000000</td>\n",
       "      <td>0.465000</td>\n",
       "      <td>0.465000</td>\n",
       "      <td>48.982651</td>\n",
       "    </tr>\n",
       "    <tr>\n",
       "      <th>75%</th>\n",
       "      <td>61.500000</td>\n",
       "      <td>0.732000</td>\n",
       "      <td>0.703000</td>\n",
       "      <td>60.332349</td>\n",
       "    </tr>\n",
       "    <tr>\n",
       "      <th>max</th>\n",
       "      <td>82.000000</td>\n",
       "      <td>0.988000</td>\n",
       "      <td>0.976000</td>\n",
       "      <td>84.180290</td>\n",
       "    </tr>\n",
       "  </tbody>\n",
       "</table>\n",
       "</div>"
      ],
      "text/plain": [
       "              id  sugarpercent  pricepercent  winpercent\n",
       "count  83.000000     83.000000     83.000000   83.000000\n",
       "mean   41.000000      0.489916      0.472627   50.584908\n",
       "std    24.103942      0.276498      0.286503   14.748880\n",
       "min     0.000000      0.034000      0.011000   22.445341\n",
       "25%    20.500000      0.267000      0.261000   39.163280\n",
       "50%    41.000000      0.465000      0.465000   48.982651\n",
       "75%    61.500000      0.732000      0.703000   60.332349\n",
       "max    82.000000      0.988000      0.976000   84.180290"
      ]
     },
     "execution_count": 6,
     "metadata": {},
     "output_type": "execute_result"
    }
   ],
   "source": [
    "df_candy.describe()"
   ]
  },
  {
   "cell_type": "code",
   "execution_count": null,
   "id": "67b0a9f3",
   "metadata": {},
   "outputs": [],
   "source": [
    "# 3. What is the most expensive candy (pricepercent)?\n",
    "# ¿Cuál es el caramelo más caro (precio por ciento)?"
   ]
  },
  {
   "cell_type": "code",
   "execution_count": 7,
   "id": "7aa83968",
   "metadata": {},
   "outputs": [
    {
     "data": {
      "text/html": [
       "<div>\n",
       "<style scoped>\n",
       "    .dataframe tbody tr th:only-of-type {\n",
       "        vertical-align: middle;\n",
       "    }\n",
       "\n",
       "    .dataframe tbody tr th {\n",
       "        vertical-align: top;\n",
       "    }\n",
       "\n",
       "    .dataframe thead th {\n",
       "        text-align: right;\n",
       "    }\n",
       "</style>\n",
       "<table border=\"1\" class=\"dataframe\">\n",
       "  <thead>\n",
       "    <tr style=\"text-align: right;\">\n",
       "      <th></th>\n",
       "      <th>id</th>\n",
       "      <th>competitorname</th>\n",
       "      <th>chocolate</th>\n",
       "      <th>fruity</th>\n",
       "      <th>caramel</th>\n",
       "      <th>peanutyalmondy</th>\n",
       "      <th>nougat</th>\n",
       "      <th>crispedricewafer</th>\n",
       "      <th>hard</th>\n",
       "      <th>bar</th>\n",
       "      <th>pluribus</th>\n",
       "      <th>sugarpercent</th>\n",
       "      <th>pricepercent</th>\n",
       "      <th>winpercent</th>\n",
       "    </tr>\n",
       "  </thead>\n",
       "  <tbody>\n",
       "    <tr>\n",
       "      <th>60</th>\n",
       "      <td>60</td>\n",
       "      <td>Nestle Smarties</td>\n",
       "      <td>Yes</td>\n",
       "      <td>No</td>\n",
       "      <td>No</td>\n",
       "      <td>No</td>\n",
       "      <td>No</td>\n",
       "      <td>No</td>\n",
       "      <td>No</td>\n",
       "      <td>No</td>\n",
       "      <td>Yes</td>\n",
       "      <td>0.267</td>\n",
       "      <td>0.976</td>\n",
       "      <td>37.887188</td>\n",
       "    </tr>\n",
       "  </tbody>\n",
       "</table>\n",
       "</div>"
      ],
      "text/plain": [
       "    id   competitorname chocolate fruity caramel peanutyalmondy nougat  \\\n",
       "60  60  Nestle Smarties       Yes     No      No             No     No   \n",
       "\n",
       "   crispedricewafer hard bar pluribus  sugarpercent  pricepercent  winpercent  \n",
       "60               No   No  No      Yes         0.267         0.976   37.887188  "
      ]
     },
     "execution_count": 7,
     "metadata": {},
     "output_type": "execute_result"
    }
   ],
   "source": [
    "df_candy.sort_values('pricepercent',ascending=False).head(1)"
   ]
  },
  {
   "cell_type": "code",
   "execution_count": null,
   "id": "333228e2",
   "metadata": {},
   "outputs": [],
   "source": [
    "# 4. Which are the 5 worst rated sweets (winpercent)?\n",
    "# ¿Cuáles son los 5 dulces peor valorados (winpercent)?"
   ]
  },
  {
   "cell_type": "code",
   "execution_count": 8,
   "id": "465b2a5d",
   "metadata": {},
   "outputs": [
    {
     "data": {
      "text/html": [
       "<div>\n",
       "<style scoped>\n",
       "    .dataframe tbody tr th:only-of-type {\n",
       "        vertical-align: middle;\n",
       "    }\n",
       "\n",
       "    .dataframe tbody tr th {\n",
       "        vertical-align: top;\n",
       "    }\n",
       "\n",
       "    .dataframe thead th {\n",
       "        text-align: right;\n",
       "    }\n",
       "</style>\n",
       "<table border=\"1\" class=\"dataframe\">\n",
       "  <thead>\n",
       "    <tr style=\"text-align: right;\">\n",
       "      <th></th>\n",
       "      <th>id</th>\n",
       "      <th>competitorname</th>\n",
       "      <th>chocolate</th>\n",
       "      <th>fruity</th>\n",
       "      <th>caramel</th>\n",
       "      <th>peanutyalmondy</th>\n",
       "      <th>nougat</th>\n",
       "      <th>crispedricewafer</th>\n",
       "      <th>hard</th>\n",
       "      <th>bar</th>\n",
       "      <th>pluribus</th>\n",
       "      <th>sugarpercent</th>\n",
       "      <th>pricepercent</th>\n",
       "      <th>winpercent</th>\n",
       "    </tr>\n",
       "  </thead>\n",
       "  <tbody>\n",
       "    <tr>\n",
       "      <th>42</th>\n",
       "      <td>42</td>\n",
       "      <td>Nik L Nip</td>\n",
       "      <td>No</td>\n",
       "      <td>Yes</td>\n",
       "      <td>No</td>\n",
       "      <td>No</td>\n",
       "      <td>No</td>\n",
       "      <td>No</td>\n",
       "      <td>No</td>\n",
       "      <td>No</td>\n",
       "      <td>Yes</td>\n",
       "      <td>0.197</td>\n",
       "      <td>0.976</td>\n",
       "      <td>22.445341</td>\n",
       "    </tr>\n",
       "    <tr>\n",
       "      <th>5</th>\n",
       "      <td>5</td>\n",
       "      <td>Boston Baked Beans</td>\n",
       "      <td>No</td>\n",
       "      <td>No</td>\n",
       "      <td>No</td>\n",
       "      <td>Yes</td>\n",
       "      <td>No</td>\n",
       "      <td>No</td>\n",
       "      <td>No</td>\n",
       "      <td>No</td>\n",
       "      <td>Yes</td>\n",
       "      <td>0.313</td>\n",
       "      <td>0.511</td>\n",
       "      <td>23.417824</td>\n",
       "    </tr>\n",
       "    <tr>\n",
       "      <th>10</th>\n",
       "      <td>10</td>\n",
       "      <td>Chiclets</td>\n",
       "      <td>No</td>\n",
       "      <td>Yes</td>\n",
       "      <td>No</td>\n",
       "      <td>No</td>\n",
       "      <td>No</td>\n",
       "      <td>No</td>\n",
       "      <td>No</td>\n",
       "      <td>No</td>\n",
       "      <td>Yes</td>\n",
       "      <td>0.046</td>\n",
       "      <td>0.325</td>\n",
       "      <td>24.524988</td>\n",
       "    </tr>\n",
       "    <tr>\n",
       "      <th>70</th>\n",
       "      <td>70</td>\n",
       "      <td>Super Bubble</td>\n",
       "      <td>No</td>\n",
       "      <td>Yes</td>\n",
       "      <td>No</td>\n",
       "      <td>No</td>\n",
       "      <td>No</td>\n",
       "      <td>No</td>\n",
       "      <td>No</td>\n",
       "      <td>No</td>\n",
       "      <td>No</td>\n",
       "      <td>0.162</td>\n",
       "      <td>0.116</td>\n",
       "      <td>27.303865</td>\n",
       "    </tr>\n",
       "    <tr>\n",
       "      <th>24</th>\n",
       "      <td>24</td>\n",
       "      <td>Jawbusters</td>\n",
       "      <td>No</td>\n",
       "      <td>Yes</td>\n",
       "      <td>No</td>\n",
       "      <td>No</td>\n",
       "      <td>No</td>\n",
       "      <td>No</td>\n",
       "      <td>Yes</td>\n",
       "      <td>No</td>\n",
       "      <td>Yes</td>\n",
       "      <td>0.093</td>\n",
       "      <td>0.511</td>\n",
       "      <td>28.127439</td>\n",
       "    </tr>\n",
       "  </tbody>\n",
       "</table>\n",
       "</div>"
      ],
      "text/plain": [
       "    id      competitorname chocolate fruity caramel peanutyalmondy nougat  \\\n",
       "42  42           Nik L Nip        No    Yes      No             No     No   \n",
       "5    5  Boston Baked Beans        No     No      No            Yes     No   \n",
       "10  10            Chiclets        No    Yes      No             No     No   \n",
       "70  70        Super Bubble        No    Yes      No             No     No   \n",
       "24  24          Jawbusters        No    Yes      No             No     No   \n",
       "\n",
       "   crispedricewafer hard bar pluribus  sugarpercent  pricepercent  winpercent  \n",
       "42               No   No  No      Yes         0.197         0.976   22.445341  \n",
       "5                No   No  No      Yes         0.313         0.511   23.417824  \n",
       "10               No   No  No      Yes         0.046         0.325   24.524988  \n",
       "70               No   No  No       No         0.162         0.116   27.303865  \n",
       "24               No  Yes  No      Yes         0.093         0.511   28.127439  "
      ]
     },
     "execution_count": 8,
     "metadata": {},
     "output_type": "execute_result"
    }
   ],
   "source": [
    "df_candy.sort_values('winpercent',ascending=True).head(5)"
   ]
  },
  {
   "cell_type": "markdown",
   "id": "b2d83424",
   "metadata": {},
   "source": []
  },
  {
   "cell_type": "code",
   "execution_count": null,
   "id": "6d93a9bf",
   "metadata": {},
   "outputs": [],
   "source": [
    "# 5. Do people prefer sweets with more sugar?\n",
    "# Investigate the relationship between the two variables.\n",
    "# ¿La gente prefiere los dulces con más azúcar?\n",
    "# Investigue la relación entre las dos variables."
   ]
  },
  {
   "cell_type": "code",
   "execution_count": 9,
   "id": "2334b587-e104-40e6-95cd-14da6a46a074",
   "metadata": {},
   "outputs": [
    {
     "data": {
      "text/plain": [
       "<Axes: xlabel='sugarpercent', ylabel='winpercent'>"
      ]
     },
     "execution_count": 9,
     "metadata": {},
     "output_type": "execute_result"
    },
    {
     "data": {
      "image/png": "[encoded data removed]",
      "text/plain": [
       "<Figure size 640x480 with 1 Axes>"
      ]
     },
     "metadata": {},
     "output_type": "display_data"
    }
   ],
   "source": [
    "sns.scatterplot(x=df_candy.sugarpercent, y=df_candy.winpercent)"
   ]
  },
  {
   "cell_type": "markdown",
   "id": "9df09bcc",
   "metadata": {},
   "source": [
    "La correlación no está clara."
   ]
  },
  {
   "cell_type": "code",
   "execution_count": null,
   "id": "4a2926e5",
   "metadata": {},
   "outputs": [],
   "source": [
    "# 6. Show the strength of the correlation between the two variables, now with a regression line.\n",
    "# Muestre la fuerza de la correlación entre las dos variables, ahora con una línea de regresión."
   ]
  },
  {
   "cell_type": "code",
   "execution_count": 10,
   "id": "29014f08-4485-43ac-b2ae-a9ff3cf24db5",
   "metadata": {},
   "outputs": [
    {
     "data": {
      "text/plain": [
       "<Axes: xlabel='sugarpercent', ylabel='winpercent'>"
      ]
     },
     "execution_count": 10,
     "metadata": {},
     "output_type": "execute_result"
    },
    {
     "data": {
      "image/png": "[encoded data removed]",
      "text/plain": [
       "<Figure size 640x480 with 1 Axes>"
      ]
     },
     "metadata": {},
     "output_type": "display_data"
    }
   ],
   "source": [
    "sns.regplot(x=df_candy.sugarpercent, y=df_candy.winpercent)"
   ]
  },
  {
   "cell_type": "code",
   "execution_count": null,
   "id": "8b7540c8",
   "metadata": {},
   "outputs": [],
   "source": [
    "# 7. Would you say it is a strong or weak correlation?\n",
    "# ¿Dirías que es una correlación fuerte o débil?"
   ]
  },
  {
   "cell_type": "markdown",
   "id": "ab296655",
   "metadata": {},
   "source": [
    "Parece que la relación no es muy fuerte, pero existe. Los dulces con más azúcar tienen más éxito."
   ]
  },
  {
   "cell_type": "code",
   "execution_count": null,
   "id": "fce69927",
   "metadata": {},
   "outputs": [],
   "source": [
    "# 8. Shows the relationship between price and popularity of a candy.\n",
    "# Nesta ocasión utiliza a variable categórica \"chocolate\".\n",
    "# Muestra la relación entre precio y popularidad de un caramelo.\n",
    "# Nesta ocasión utiliza una variable categórica \"chocolate\"."
   ]
  },
  {
   "cell_type": "code",
   "execution_count": 16,
   "id": "1f6c5d91-4083-4d77-81a2-1ee1ab18442a",
   "metadata": {},
   "outputs": [
    {
     "name": "stderr",
     "output_type": "stream",
     "text": [
      "/home/xuwira30/miniconda3/envs/sistemas/lib/python3.12/site-packages/seaborn/_oldcore.py:1498: FutureWarning: is_categorical_dtype is deprecated and will be removed in a future version. Use isinstance(dtype, CategoricalDtype) instead\n",
      "  if pd.api.types.is_categorical_dtype(vector):\n",
      "/home/xuwira30/miniconda3/envs/sistemas/lib/python3.12/site-packages/seaborn/_oldcore.py:1498: FutureWarning: is_categorical_dtype is deprecated and will be removed in a future version. Use isinstance(dtype, CategoricalDtype) instead\n",
      "  if pd.api.types.is_categorical_dtype(vector):\n",
      "/home/xuwira30/miniconda3/envs/sistemas/lib/python3.12/site-packages/seaborn/_oldcore.py:1498: FutureWarning: is_categorical_dtype is deprecated and will be removed in a future version. Use isinstance(dtype, CategoricalDtype) instead\n",
      "  if pd.api.types.is_categorical_dtype(vector):\n",
      "/home/xuwira30/miniconda3/envs/sistemas/lib/python3.12/site-packages/seaborn/_oldcore.py:1498: FutureWarning: is_categorical_dtype is deprecated and will be removed in a future version. Use isinstance(dtype, CategoricalDtype) instead\n",
      "  if pd.api.types.is_categorical_dtype(vector):\n",
      "/home/xuwira30/miniconda3/envs/sistemas/lib/python3.12/site-packages/seaborn/_oldcore.py:1498: FutureWarning: is_categorical_dtype is deprecated and will be removed in a future version. Use isinstance(dtype, CategoricalDtype) instead\n",
      "  if pd.api.types.is_categorical_dtype(vector):\n"
     ]
    },
    {
     "data": {
      "text/plain": [
       "<Axes: xlabel='pricepercent', ylabel='winpercent'>"
      ]
     },
     "execution_count": 16,
     "metadata": {},
     "output_type": "execute_result"
    },
    {
     "data": {
      "image/png": "[encoded data removed]",
      "text/plain": [
       "<Figure size 640x480 with 1 Axes>"
      ]
     },
     "metadata": {},
     "output_type": "display_data"
    }
   ],
   "source": [
    "sns.scatterplot(x=df_candy.pricepercent, y=df_candy.winpercent, hue=df_candy.chocolate)"
   ]
  },
  {
   "cell_type": "code",
   "execution_count": null,
   "id": "4c82fdbb",
   "metadata": {},
   "outputs": [],
   "source": [
    "# 9. Do you detect any interesting patterns?\n",
    "# ¿Detectas algún patrón interesante?"
   ]
  },
  {
   "cell_type": "markdown",
   "id": "4f024ee7",
   "metadata": {},
   "source": [
    "Parece que los dulces de chocolate obtienen los mejores resultados"
   ]
  },
  {
   "cell_type": "code",
   "execution_count": null,
   "id": "e3dbc6bb",
   "metadata": {},
   "outputs": [],
   "source": [
    "# 10. Use regression lines to clarify the relationships between these variables taking into account the variable \"chocolate\".\n",
    "# Utilice líneas de regresión para aclarar las relaciones entre estas variables teniendo en cuenta la variable \"chocolate\"."
   ]
  },
  {
   "cell_type": "code",
   "execution_count": 11,
   "id": "058a225a-944d-44a7-b892-d3c3123ba196",
   "metadata": {},
   "outputs": [
    {
     "data": {
      "text/plain": [
       "<seaborn.axisgrid.FacetGrid at 0x7ff684a74380>"
      ]
     },
     "execution_count": 11,
     "metadata": {},
     "output_type": "execute_result"
    },
    {
     "data": {
      "image/png": "[encoded data removed]",
      "text/plain": [
       "<Figure size 578.611x500 with 1 Axes>"
      ]
     },
     "metadata": {},
     "output_type": "display_data"
    }
   ],
   "source": [
    "sns.lmplot(x='pricepercent',y='winpercent', hue='chocolate', data=df_candy)"
   ]
  },
  {
   "cell_type": "code",
   "execution_count": null,
   "id": "79d4d10e",
   "metadata": {},
   "outputs": [],
   "source": [
    "# 11. What conclusion do you get from these graphs\n",
    "# ¿Qué conclusión sacas de estos gráficos?"
   ]
  },
  {
   "cell_type": "markdown",
   "id": "0a1b2630",
   "metadata": {},
   "source": [
    "Los caramelos más caros son los más valorados en los caramelos de chocolate.\n",
    "\n",
    "Por otro lado, los dulces sin chocolate más caros tienen los peores resultados.\n",
    "\n",
    "Conclusión: el precio sólo mejora la puntuación de los dulces de chocolate."
   ]
  }
 ],
 "metadata": {
  "kernelspec": {
   "display_name": "Python 3 (ipykernel)",
   "language": "python",
   "name": "python3"
  },
  "language_info": {
   "codemirror_mode": {
    "name": "ipython",
    "version": 3
   },
   "file_extension": ".py",
   "mimetype": "text/x-python",
   "name": "python",
   "nbconvert_exporter": "python",
   "pygments_lexer": "ipython3",
   "version": "3.1.0"
  }
 },
 "nbformat": 4,
 "nbformat_minor": 5
}
