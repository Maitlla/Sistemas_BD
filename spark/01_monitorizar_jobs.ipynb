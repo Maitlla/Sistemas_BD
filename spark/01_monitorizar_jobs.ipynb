{
 "cells": [
  {
   "cell_type": "code",
   "execution_count": null,
   "id": "6fae0f38",
   "metadata": {},
   "outputs": [],
   "source": [
    "# Mostra o contexto de execución Spark Context\n",
    "sc"
   ]
  },
  {
   "cell_type": "code",
   "execution_count": null,
   "id": "5a43c0a2",
   "metadata": {},
   "outputs": [],
   "source": [
    "# Crea unha lista con 8 elementos\n",
    "lista = [1,2,3,4,5,6,7,8]"
   ]
  },
  {
   "cell_type": "code",
   "execution_count": null,
   "id": "0c1606ee",
   "metadata": {},
   "outputs": [],
   "source": [
    "# Comproba o tipo\n",
    "type(lista)"
   ]
  },
  {
   "cell_type": "code",
   "execution_count": null,
   "id": "31ae2e08",
   "metadata": {},
   "outputs": [],
   "source": [
    "# Crea un elemento RDD a partir da lista\n",
    "un_rdd = sc.parallelize(lista)"
   ]
  },
  {
   "cell_type": "code",
   "execution_count": null,
   "id": "115b05a9",
   "metadata": {},
   "outputs": [],
   "source": [
    "# Conta o número de elementos\n",
    "un_rdd.count()"
   ]
  },
  {
   "cell_type": "code",
   "execution_count": null,
   "id": "0edcc5cd",
   "metadata": {},
   "outputs": [],
   "source": [
    "# Comproba a execución do traballo na interface de xestión de PySpark:\n",
    "# http://localhost:4040/jobs/"
   ]
  },
  {
   "cell_type": "code",
   "execution_count": null,
   "id": "6f5c7475",
   "metadata": {},
   "outputs": [],
   "source": [
    "# Comproba o typo do elemento\n",
    "type(un_rdd)"
   ]
  },
  {
   "cell_type": "code",
   "execution_count": null,
   "id": "80fe682c",
   "metadata": {},
   "outputs": [],
   "source": []
  },
  {
   "cell_type": "code",
   "execution_count": null,
   "id": "0533c69d",
   "metadata": {},
   "outputs": [],
   "source": [
    "# Lectura dun ficheiro desde HDFS\n",
    "# Asegúrate de que o ficheiro existe no \"home\" do usuario en HDFS"
   ]
  },
  {
   "cell_type": "code",
   "execution_count": null,
   "id": "e4e91555",
   "metadata": {},
   "outputs": [],
   "source": [
    "ficheiro_ruta = \"100compras.txt\""
   ]
  },
  {
   "cell_type": "code",
   "execution_count": null,
   "id": "ae43eeae",
   "metadata": {},
   "outputs": [],
   "source": [
    "# Lectura do ficheiro a RDD\n",
    "compras100 = sc.textFile(ficheiro_ruta)"
   ]
  },
  {
   "cell_type": "code",
   "execution_count": null,
   "id": "76a90591",
   "metadata": {},
   "outputs": [],
   "source": [
    "compras100.count()"
   ]
  },
  {
   "cell_type": "code",
   "execution_count": null,
   "id": "4c5915f0",
   "metadata": {},
   "outputs": [],
   "source": [
    "# Comproba a execución do traballo na interface de xestión de PySpark:\n",
    "# http://localhost:4040/jobs/"
   ]
  },
  {
   "cell_type": "code",
   "execution_count": null,
   "id": "2b758315",
   "metadata": {},
   "outputs": [],
   "source": [
    "type(compras100100)"
   ]
  },
  {
   "cell_type": "code",
   "execution_count": null,
   "id": "5cd701b3",
   "metadata": {},
   "outputs": [],
   "source": []
  },
  {
   "cell_type": "code",
   "execution_count": null,
   "id": "83374fca",
   "metadata": {},
   "outputs": [],
   "source": [
    "# Lectura do ficheiro como Dataframe\n",
    "df_compras = spark.read.text(ficheiro_ruta)"
   ]
  },
  {
   "cell_type": "code",
   "execution_count": null,
   "id": "515704c2",
   "metadata": {},
   "outputs": [],
   "source": [
    "# conta o número de liñas\n",
    "df_compras.count()"
   ]
  },
  {
   "cell_type": "code",
   "execution_count": null,
   "id": "60bd9de3",
   "metadata": {},
   "outputs": [],
   "source": [
    "# En resumo:\n",
    "# Podemos ver a execución das operacións a través da ferramenta de monitorización de traballos en localhos:4040\n",
    "# A execución de operacións deriva na creación dun DAG"
   ]
  },
  {
   "cell_type": "code",
   "execution_count": null,
   "id": "27a590d3",
   "metadata": {},
   "outputs": [],
   "source": [
    "sc"
   ]
  },
  {
   "cell_type": "code",
   "execution_count": null,
   "id": "a8832424",
   "metadata": {},
   "outputs": [],
   "source": []
  }
 ],
 "metadata": {
  "kernelspec": {
   "display_name": "Python 3 (ipykernel)",
   "language": "python",
   "name": "python3"
  },
  "language_info": {
   "codemirror_mode": {
    "name": "ipython",
    "version": 3
   },
   "file_extension": ".py",
   "mimetype": "text/x-python",
   "name": "python",
   "nbconvert_exporter": "python",
   "pygments_lexer": "ipython3",
   "version": "3.8.10"
  }
 },
 "nbformat": 4,
 "nbformat_minor": 5
}
