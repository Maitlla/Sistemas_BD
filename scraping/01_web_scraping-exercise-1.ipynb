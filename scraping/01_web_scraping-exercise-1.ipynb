{
 "cells": [
  {
   "cell_type": "markdown",
   "id": "cb50eeb6-ad67-41bd-8248-2b2f20d995a8",
   "metadata": {},
   "source": [
    "# Web scraping. Exercise 2"
   ]
  },
  {
   "cell_type": "code",
   "execution_count": 1,
   "id": "3e951099-50d4-41b6-8c44-40ee3b4e2823",
   "metadata": {},
   "outputs": [],
   "source": [
    "# Import the libraries needed for scrapping"
   ]
  },
  {
   "cell_type": "code",
   "execution_count": 2,
   "id": "12e005aa-2187-43a9-8a53-69661f95e524",
   "metadata": {},
   "outputs": [],
   "source": [
    "import requests\n",
    "from bs4 import BeautifulSoup"
   ]
  },
  {
   "cell_type": "code",
   "execution_count": null,
   "id": "058ac19a-6d02-433e-ac25-fcc157d7421d",
   "metadata": {},
   "outputs": [],
   "source": [
    "# Example page for scrapping\n",
    "# https://bigdatawirtz.github.io/exemplo-web/web_sample_practica_scraping.html"
   ]
  },
  {
   "cell_type": "code",
   "execution_count": 3,
   "id": "d28d4b27",
   "metadata": {},
   "outputs": [
    {
     "name": "stdout",
     "output_type": "stream",
     "text": [
      "<html>\n",
      "\n",
      "<head>\n",
      "<title>A very simple webpage</title>\n",
      "<basefont size=4>\n",
      "</head>\n",
      "\n",
      "<body bgcolor=FFFFFF>\n",
      "\n",
      "<h1>A very simple webpage. This is an \"h1\" level header.</h1>\n",
      "\n",
      "<h2>This is a level h2 header.</h2>\n",
      "\n",
      "<h6>This is a level h6 header.  Pretty small!</h6>\n",
      "\n",
      "<p>This is a standard paragraph.</p>\n",
      "\n",
      "<p align=center>Now I've aligned it in the center of the screen.</p>\n",
      "\n",
      "<p align=right>Now aligned to the right</p>\n",
      "\n",
      "<p><b>Bold text</b></p>\n",
      "\n",
      "<p><strong>Strongly emphasized text</strong>  Can you tell the difference vs. bold?</p>\n",
      "\n",
      "<p><i>Italics</i></p>\n",
      "\n",
      "<p><em>Emphasized text</em>  Just like Italics!</p>\n",
      "\n",
      "<p>Here is a pretty picture: <img src=example/prettypicture.jpg alt=\"Pretty Picture\"></p>\n",
      "\n",
      "<p>Same thing, aligned differently to the paragraph: <img align=top src=example/prettypicture.jpg alt=\"Pretty Picture\"></p>\n",
      "\n",
      "<hr>\n",
      "\n",
      "<h2>How about a nice ordered list!</h2>\n",
      "<ol id=\"lista-porcos\">\n",
      "  <li>This little piggy went to market</li>\n",
      "  <li>This little piggy went to SB228 class</li>\n",
      "  <li>This little piggy went to an expensive restaurant in Downtown Palo Alto</li>\n",
      "  <li>This little piggy ate too much at Indian Buffet.</li>\n",
      "  <li>This little piggy got lost</li>\n",
      "</ol>\n",
      "\n",
      "<h2>Unordered list</h2>\n",
      "<ul id=\"lista-simple\">\n",
      "  <li>First element</li>\n",
      "  <li>Second element</li>\n",
      "  <li>Third element</li>\n",
      "</ul>\n",
      "\n",
      "<hr>\n",
      "\n",
      "<h2>Nested Lists!</h2>\n",
      "<ul id=\"lista-nested\">\n",
      "  <li>Things to to today:\n",
      "    <ol>\n",
      "      <li>Walk the dog</li>\n",
      "      <li>Feed the cat</li>\n",
      "      <li>Mow the lawn</li>\n",
      "    </ol>\n",
      "  </li>\n",
      "  <li>Things to do tomorrow:\n",
      "    <ol>\n",
      "      <li>Lunch with mom</li>\n",
      "      <li>Feed the hamster</li>\n",
      "      <li>Clean kitchen</li>\n",
      "    </ol>\n",
      "  </li>\n",
      "</ul>\n",
      "\n",
      "<p>And finally, how about some <a href=http://www.yahoo.com/>Links?</a></p>\n",
      "\n",
      "<p>Or let's just link to <a href=https://bigdatawirtz.github.io/exemplo-web>another page on this server</a></p>\n",
      "\n",
      "<p><strong>Remember</strong>, you can view the HTMl code from this or any other page by using the \"View Page Source\" command of your browser.</p>\n",
      "\n",
      "\n",
      "</body>\n",
      "\n",
      "</html>\n",
      "\n"
     ]
    }
   ],
   "source": [
    "# Shows the text of the web page\n",
    "# Http request to web url\n",
    "url = 'https://bigdatawirtz.github.io/exemplo-web/web_sample_practica_scraping.html'\n",
    "paxina = requests.get(url)\n",
    "\n",
    "#paxina.content\n",
    "#paxina.text\n",
    "print(paxina.text)"
   ]
  },
  {
   "cell_type": "code",
   "execution_count": 4,
   "id": "c2d8f60e",
   "metadata": {},
   "outputs": [],
   "source": [
    "# Parse the web content in response\n",
    "# Analizar respuesta del contenido web\n",
    "soup = BeautifulSoup(paxina.content, 'html.parser')"
   ]
  },
  {
   "cell_type": "code",
   "execution_count": 5,
   "id": "b9fa767f",
   "metadata": {},
   "outputs": [
    {
     "data": {
      "text/plain": [
       "bs4.BeautifulSoup"
      ]
     },
     "execution_count": 5,
     "metadata": {},
     "output_type": "execute_result"
    }
   ],
   "source": [
    "type(soup)"
   ]
  },
  {
   "cell_type": "code",
   "execution_count": 6,
   "id": "a54a89f1",
   "metadata": {},
   "outputs": [
    {
     "name": "stdout",
     "output_type": "stream",
     "text": [
      "<html>\n",
      " <head>\n",
      "  <title>\n",
      "   A very simple webpage\n",
      "  </title>\n",
      "  <basefont size=\"4\"/>\n",
      " </head>\n",
      " <body bgcolor=\"FFFFFF\">\n",
      "  <h1>\n",
      "   A very simple webpage. This is an \"h1\" level header.\n",
      "  </h1>\n",
      "  <h2>\n",
      "   This is a level h2 header.\n",
      "  </h2>\n",
      "  <h6>\n",
      "   This is a level h6 header.  Pretty small!\n",
      "  </h6>\n",
      "  <p>\n",
      "   This is a standard paragraph.\n",
      "  </p>\n",
      "  <p align=\"center\">\n",
      "   Now I've aligned it in the center of the screen.\n",
      "  </p>\n",
      "  <p align=\"right\">\n",
      "   Now aligned to the right\n",
      "  </p>\n",
      "  <p>\n",
      "   <b>\n",
      "    Bold text\n",
      "   </b>\n",
      "  </p>\n",
      "  <p>\n",
      "   <strong>\n",
      "    Strongly emphasized text\n",
      "   </strong>\n",
      "   Can you tell the difference vs. bold?\n",
      "  </p>\n",
      "  <p>\n",
      "   <i>\n",
      "    Italics\n",
      "   </i>\n",
      "  </p>\n",
      "  <p>\n",
      "   <em>\n",
      "    Emphasized text\n",
      "   </em>\n",
      "   Just like Italics!\n",
      "  </p>\n",
      "  <p>\n",
      "   Here is a pretty picture:\n",
      "   <img alt=\"Pretty Picture\" src=\"example/prettypicture.jpg\"/>\n",
      "  </p>\n",
      "  <p>\n",
      "   Same thing, aligned differently to the paragraph:\n",
      "   <img align=\"top\" alt=\"Pretty Picture\" src=\"example/prettypicture.jpg\"/>\n",
      "  </p>\n",
      "  <hr/>\n",
      "  <h2>\n",
      "   How about a nice ordered list!\n",
      "  </h2>\n",
      "  <ol id=\"lista-porcos\">\n",
      "   <li>\n",
      "    This little piggy went to market\n",
      "   </li>\n",
      "   <li>\n",
      "    This little piggy went to SB228 class\n",
      "   </li>\n",
      "   <li>\n",
      "    This little piggy went to an expensive restaurant in Downtown Palo Alto\n",
      "   </li>\n",
      "   <li>\n",
      "    This little piggy ate too much at Indian Buffet.\n",
      "   </li>\n",
      "   <li>\n",
      "    This little piggy got lost\n",
      "   </li>\n",
      "  </ol>\n",
      "  <h2>\n",
      "   Unordered list\n",
      "  </h2>\n",
      "  <ul id=\"lista-simple\">\n",
      "   <li>\n",
      "    First element\n",
      "   </li>\n",
      "   <li>\n",
      "    Second element\n",
      "   </li>\n",
      "   <li>\n",
      "    Third element\n",
      "   </li>\n",
      "  </ul>\n",
      "  <hr/>\n",
      "  <h2>\n",
      "   Nested Lists!\n",
      "  </h2>\n",
      "  <ul id=\"lista-nested\">\n",
      "   <li>\n",
      "    Things to to today:\n",
      "    <ol>\n",
      "     <li>\n",
      "      Walk the dog\n",
      "     </li>\n",
      "     <li>\n",
      "      Feed the cat\n",
      "     </li>\n",
      "     <li>\n",
      "      Mow the lawn\n",
      "     </li>\n",
      "    </ol>\n",
      "   </li>\n",
      "   <li>\n",
      "    Things to do tomorrow:\n",
      "    <ol>\n",
      "     <li>\n",
      "      Lunch with mom\n",
      "     </li>\n",
      "     <li>\n",
      "      Feed the hamster\n",
      "     </li>\n",
      "     <li>\n",
      "      Clean kitchen\n",
      "     </li>\n",
      "    </ol>\n",
      "   </li>\n",
      "  </ul>\n",
      "  <p>\n",
      "   And finally, how about some\n",
      "   <a href=\"http://www.yahoo.com/\">\n",
      "    Links?\n",
      "   </a>\n",
      "  </p>\n",
      "  <p>\n",
      "   Or let's just link to\n",
      "   <a href=\"https://bigdatawirtz.github.io/exemplo-web\">\n",
      "    another page on this server\n",
      "   </a>\n",
      "  </p>\n",
      "  <p>\n",
      "   <strong>\n",
      "    Remember\n",
      "   </strong>\n",
      "   , you can view the HTMl code from this or any other page by using the \"View Page Source\" command of your browser.\n",
      "  </p>\n",
      " </body>\n",
      "</html>\n",
      "\n"
     ]
    }
   ],
   "source": [
    "# Show the content of 'the soup'\n",
    "soup\n",
    "# prettify function can be helpful\n",
    "print(soup.prettify())"
   ]
  },
  {
   "cell_type": "code",
   "execution_count": 6,
   "id": "0a9ee591-1871-4c33-93a6-ca75b0cddbac",
   "metadata": {},
   "outputs": [
    {
     "data": {
      "text/plain": [
       "<title>A very simple webpage</title>"
      ]
     },
     "execution_count": 6,
     "metadata": {},
     "output_type": "execute_result"
    }
   ],
   "source": [
    "# Shows the page title\n",
    "soup.title"
   ]
  },
  {
   "cell_type": "code",
   "execution_count": 7,
   "id": "ab1c8d11",
   "metadata": {},
   "outputs": [
    {
     "data": {
      "text/plain": [
       "'A very simple webpage'"
      ]
     },
     "execution_count": 7,
     "metadata": {},
     "output_type": "execute_result"
    }
   ],
   "source": [
    "# Shows the page title\n",
    "soup.title.text"
   ]
  },
  {
   "cell_type": "code",
   "execution_count": 8,
   "id": "6fdae5b3-d32e-42bc-9b76-6dbe7c8bd859",
   "metadata": {},
   "outputs": [
    {
     "data": {
      "text/plain": [
       "<h1>A very simple webpage. This is an \"h1\" level header.</h1>"
      ]
     },
     "execution_count": 8,
     "metadata": {},
     "output_type": "execute_result"
    }
   ],
   "source": [
    "# Search for the contents of the H1 header\n",
    "soup.h1"
   ]
  },
  {
   "cell_type": "code",
   "execution_count": 9,
   "id": "62191a76",
   "metadata": {},
   "outputs": [
    {
     "data": {
      "text/plain": [
       "'A very simple webpage. This is an \"h1\" level header.'"
      ]
     },
     "execution_count": 9,
     "metadata": {},
     "output_type": "execute_result"
    }
   ],
   "source": [
    "soup.h1.text"
   ]
  },
  {
   "cell_type": "code",
   "execution_count": 30,
   "id": "877f6f6f-14b1-4c1a-ba28-b9c7885c4107",
   "metadata": {},
   "outputs": [
    {
     "data": {
      "text/plain": [
       "'example/prettypicture.jpg'"
      ]
     },
     "execution_count": 30,
     "metadata": {},
     "output_type": "execute_result"
    }
   ],
   "source": [
    "# Show the route to the image shown on the web\n",
    "imagen = soup.find(\"img\")\n",
    "imagen.get(\"src\")"
   ]
  },
  {
   "cell_type": "markdown",
   "id": "4f2227aa",
   "metadata": {},
   "source": [
    "<p>Here is a pretty picture: <img src=example/prettypicture.jpg alt=\"Pretty Picture\"></p>\n",
    "https://bigdatawirtz.github.io/exemplo-web/example/prettypicture.jpg"
   ]
  },
  {
   "cell_type": "code",
   "execution_count": 31,
   "id": "e4674687",
   "metadata": {},
   "outputs": [
    {
     "data": {
      "text/plain": [
       "'Pretty Picture'"
      ]
     },
     "execution_count": 31,
     "metadata": {},
     "output_type": "execute_result"
    }
   ],
   "source": [
    "# Show the alternative text of the image \n",
    "imagen = soup.find(\"img\")\n",
    "imagen.get(\"alt\")"
   ]
  },
  {
   "cell_type": "code",
   "execution_count": 36,
   "id": "8774601b-a57d-4b85-8375-cbb61c0c0d4a",
   "metadata": {},
   "outputs": [
    {
     "name": "stdout",
     "output_type": "stream",
     "text": [
      "<strong>Strongly emphasized text</strong>\n",
      "Strongly emphasized text\n",
      "<strong>Remember</strong>\n",
      "Remember\n"
     ]
    }
   ],
   "source": [
    "# Displays all the \"strongly\" highlighted texts on the page\n",
    "# Muestra todos los textos resaltados \"fuertemente\" en la página.\n",
    "strong = soup.find_all(\"strong\")\n",
    "for n in strong:\n",
    "    print(n)\n",
    "    print(n.text)"
   ]
  },
  {
   "cell_type": "code",
   "execution_count": 39,
   "id": "616eefdd-16f3-4a01-a16e-000303a094c0",
   "metadata": {},
   "outputs": [
    {
     "name": "stdout",
     "output_type": "stream",
     "text": [
      "<a href=\"http://www.yahoo.com/\">Links?</a>\n",
      "<a href=\"https://bigdatawirtz.github.io/exemplo-web\">another page on this server</a>\n"
     ]
    }
   ],
   "source": [
    "# Displays all the links on the page\n",
    "# Muestra todos los links de la página\n",
    "for enlace in soup.find_all(\"a\"):\n",
    "    print(enlace)"
   ]
  },
  {
   "cell_type": "code",
   "execution_count": 40,
   "id": "0e545cf5",
   "metadata": {},
   "outputs": [
    {
     "name": "stdout",
     "output_type": "stream",
     "text": [
      "<img alt=\"Pretty Picture\" src=\"example/prettypicture.jpg\"/>\n",
      "<img align=\"top\" alt=\"Pretty Picture\" src=\"example/prettypicture.jpg\"/>\n"
     ]
    }
   ],
   "source": [
    "for enlace in soup.find_all(\"img\"):\n",
    "    print(enlace)"
   ]
  },
  {
   "cell_type": "code",
   "execution_count": 41,
   "id": "8053ac3d-c6f6-4bd1-b73b-c989c76def49",
   "metadata": {},
   "outputs": [
    {
     "name": "stdout",
     "output_type": "stream",
     "text": [
      "<a href=\"http://www.yahoo.com/\">Links?</a>\n",
      "<a href=\"https://bigdatawirtz.github.io/exemplo-web\">another page on this server</a>\n"
     ]
    }
   ],
   "source": [
    "# Mostra os textos/palabras que teñen enlace \n",
    "# Mostra todos os enlaces presentes na páxina\n",
    "for enlace in soup.find_all(\"a\"):\n",
    "    print(enlace)"
   ]
  },
  {
   "cell_type": "code",
   "execution_count": null,
   "id": "b7992dd9",
   "metadata": {},
   "outputs": [],
   "source": []
  },
  {
   "cell_type": "code",
   "execution_count": 42,
   "id": "545f16b1-e8a2-420b-be06-eec647271cd1",
   "metadata": {},
   "outputs": [
    {
     "name": "stdout",
     "output_type": "stream",
     "text": [
      "Hay 12 'p'\n"
     ]
    }
   ],
   "source": [
    "# Count the number of paragraphs on the web page\n",
    "count = 0\n",
    "paragraphs = soup.find_all(\"p\")\n",
    "for n in paragraphs:\n",
    "    count += 1\n",
    "print(f\"Hay {count} 'p'\")\n",
    "   "
   ]
  },
  {
   "cell_type": "code",
   "execution_count": 43,
   "id": "0e085fbf-ce66-4c41-a79c-b6186689b237",
   "metadata": {},
   "outputs": [
    {
     "name": "stdout",
     "output_type": "stream",
     "text": [
      "This is a standard paragraph.\n",
      "Now I've aligned it in the center of the screen.\n",
      "Now aligned to the right\n",
      "Bold text\n",
      "Strongly emphasized text  Can you tell the difference vs. bold?\n",
      "Italics\n",
      "Emphasized text  Just like Italics!\n",
      "Here is a pretty picture: \n",
      "Same thing, aligned differently to the paragraph: \n",
      "And finally, how about some Links?\n",
      "Or let's just link to another page on this server\n",
      "Remember, you can view the HTMl code from this or any other page by using the \"View Page Source\" command of your browser.\n"
     ]
    }
   ],
   "source": [
    "# Show the contents of the last paragraph\n",
    "paragraph = soup.find_all('p')\n",
    "for n in paragraph:\n",
    "    print(n.text)"
   ]
  },
  {
   "cell_type": "code",
   "execution_count": 44,
   "id": "ed20b829-5f77-45f6-b857-2e0f2abbff27",
   "metadata": {},
   "outputs": [
    {
     "name": "stdout",
     "output_type": "stream",
     "text": [
      "<!DOCTYPE html>\n",
      "<html>\n",
      "\n",
      "<head>\n",
      "    <title>Páxina web con seccións</title>\n",
      "    <meta charset=\"utf-8\">\n",
      "</head>\n",
      "\n",
      "<body>\n",
      "    <article>\n",
      "        <header class='art'>\n",
      "            <h1>Título do artigo</h1>\n",
      "            <p>Introducción do artigo</p>\n",
      "        </header>\n",
      "        <section id=\"main_content\">\n",
      "            <p>Lorem ipsum dolor sit amet, consectetur adipisicing elit, sed do eiusmod tempor incididunt ut labore et dolore magna aliqua. Ut enim ad minim veniam, quis nostrud exercitation ullamco laboris nisi ut aliquip ex ea commodo consequat.</p>\n",
      "        </section>\n",
      "        <section id=\"aux_content\">\n",
      "            <p>Duis aute irure dolor in reprehenderit in voluptate velit esse cillum dolore eu fugiat nulla pariatur. Excepteur sint occaecat cupidatat non proident, sunt in culpa qui officia deserunt mollit anim id est laborum.</p>\n",
      "        </section>\n",
      "        <footer class=\"art\">\n",
      "            <p>Pé do artigo</p>\n",
      "        </footer>\n",
      "    </article>\n",
      "    <footer class=\"web\">\n",
      "        <p>Pé de toda a web</p>\n",
      "    </footer>\n",
      "</body>\n",
      "\n",
      "</html>\n",
      "\n"
     ]
    }
   ],
   "source": [
    "# NOVA PÁXINA: https://bigdatawirtz.github.io/exemplo-web/08.html\n",
    "# Bótalle unha ollada ao código da páxina\n",
    "url = 'https://bigdatawirtz.github.io/exemplo-web/08.html'\n",
    "paxina = requests.get(url)\n",
    "\n",
    "#paxina.content\n",
    "#paxina.text\n",
    "print(paxina.text)"
   ]
  },
  {
   "cell_type": "code",
   "execution_count": 59,
   "id": "fdd38379-0e0a-4734-9b04-2e1d06bc7850",
   "metadata": {},
   "outputs": [],
   "source": [
    "# Parsear o contido da web\n",
    "# Analizar respuesta del contenido web\n",
    "soup = BeautifulSoup(paxina.content, 'html.parser')"
   ]
  },
  {
   "cell_type": "code",
   "execution_count": 49,
   "id": "4ba02ac7",
   "metadata": {},
   "outputs": [
    {
     "data": {
      "text/plain": [
       "bs4.BeautifulSoup"
      ]
     },
     "execution_count": 49,
     "metadata": {},
     "output_type": "execute_result"
    }
   ],
   "source": [
    "type(soup)"
   ]
  },
  {
   "cell_type": "code",
   "execution_count": 51,
   "id": "33435700-ca30-44ee-9cc4-822d906c4139",
   "metadata": {},
   "outputs": [
    {
     "data": {
      "text/plain": [
       "'Páxina web con seccións'"
      ]
     },
     "execution_count": 51,
     "metadata": {},
     "output_type": "execute_result"
    }
   ],
   "source": [
    "# Mostra o título da páxina\n",
    "soup.title.text"
   ]
  },
  {
   "cell_type": "code",
   "execution_count": 57,
   "id": "f1972af7-f002-44b4-bf47-2542a1c271d4",
   "metadata": {},
   "outputs": [
    {
     "data": {
      "text/plain": [
       "'utf-8'"
      ]
     },
     "execution_count": 57,
     "metadata": {},
     "output_type": "execute_result"
    }
   ],
   "source": [
    "# Mostra o charset da páxina, dentro de \"meta\"\n",
    "head = soup.find(\"meta\")\n",
    "head.get(\"charset\")"
   ]
  },
  {
   "cell_type": "code",
   "execution_count": null,
   "id": "1082699b-435f-489f-8fd0-3d218d323e8d",
   "metadata": {},
   "outputs": [],
   "source": [
    "# Conta o número de parágrafos que ten a páxina\n"
   ]
  },
  {
   "cell_type": "code",
   "execution_count": null,
   "id": "35c29cdf-ea0c-44c8-a18c-d0cc137a7d87",
   "metadata": {},
   "outputs": [],
   "source": [
    "# Mostrar o texto no pé do artigo\n"
   ]
  },
  {
   "cell_type": "code",
   "execution_count": null,
   "id": "f0ad1f3e-10dd-486f-9415-2d7d1b7769df",
   "metadata": {},
   "outputs": [],
   "source": [
    "# Mostrar o texto no pé da web\n"
   ]
  },
  {
   "cell_type": "code",
   "execution_count": null,
   "id": "561bebcf-f43a-4ab6-9ca4-74287fe3b273",
   "metadata": {},
   "outputs": [],
   "source": [
    "# Mostrar id da sección\n"
   ]
  }
 ],
 "metadata": {
  "kernelspec": {
   "display_name": "Python 3 (ipykernel)",
   "language": "python",
   "name": "python3"
  },
  "language_info": {
   "codemirror_mode": {
    "name": "ipython",
    "version": 3
   },
   "file_extension": ".py",
   "mimetype": "text/x-python",
   "name": "python",
   "nbconvert_exporter": "python",
   "pygments_lexer": "ipython3",
   "version": "3.12.0"
  }
 },
 "nbformat": 4,
 "nbformat_minor": 5
}
