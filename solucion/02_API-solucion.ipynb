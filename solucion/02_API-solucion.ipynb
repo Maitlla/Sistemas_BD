{
 "cells": [
  {
   "cell_type": "code",
   "execution_count": null,
   "id": "a4a78c8f-6cdb-4fcd-89f5-729135106c5e",
   "metadata": {},
   "outputs": [],
   "source": [
    "# METEOGALICIA\n",
    "# Busca a documentación para a predición meteorolóxica por concellos a curto prazo (\"Predición por concellos\") \n",
    "# Copia o enderezo do ficheiro PDF\n",
    "# ENLACE: https://www.meteogalicia.gal/datosred/infoweb/meteo/docs/rss/JSON_Pred_Concello_gl.pdf"
   ]
  },
  {
   "cell_type": "code",
   "execution_count": null,
   "id": "53daf6d1",
   "metadata": {},
   "outputs": [],
   "source": [
    "# Cada API ten a súa documentación específica, ás veces en formato web, ás veces PDF, ... \n",
    "# Bótalle un ollo á documentación que ofrece Meteogalicia para a predición a curto prazo por concello\n",
    "# para entender o tipo de servizo e datos que ofrece e poder realizar o exercicio."
   ]
  },
  {
   "cell_type": "code",
   "execution_count": null,
   "id": "583581b9-0b93-42ae-b56e-54372b957b65",
   "metadata": {},
   "outputs": [],
   "source": [
    "# Consulta a predición a curto prazo para o concello de Monfero\n",
    "# Utiliza a documentación para entender como funciona a API e que significan os resultados"
   ]
  },
  {
   "cell_type": "code",
   "execution_count": null,
   "id": "d6bb683a-95ab-4dbc-a7ce-6504a7ac5b2e",
   "metadata": {},
   "outputs": [],
   "source": [
    "import requests"
   ]
  },
  {
   "cell_type": "code",
   "execution_count": null,
   "id": "da695bc1-6cd9-4494-8b56-e499dc294cf8",
   "metadata": {},
   "outputs": [],
   "source": [
    "idConcello = '15050' # Monfero\n",
    "endpoint = 'https://servizos.meteogalicia.gal/mgrss/predicion/jsonPredConcellos.action'\n",
    "payload = {'idConc': idConcello}\n",
    "response = requests.get(endpoint, params = payload)\n",
    "response.json()"
   ]
  },
  {
   "cell_type": "code",
   "execution_count": null,
   "id": "069beef4-2ad2-4db0-93da-6d559c17b7c8",
   "metadata": {},
   "outputs": [],
   "source": [
    "# Consulta a temperatura máxima e mínima previstas a curto prazo para o concello de Paderne\n",
    "# En concreto, para o día seguinte ao actual (para mañá)\n",
    "idConcello = '15064' # Paderne\n",
    "endpoint = 'https://servizos.meteogalicia.gal/mgrss/predicion/jsonPredConcellos.action'\n",
    "payload = {'idConc': idConcello}\n",
    "response = requests.get(endpoint, params = payload)\n",
    "tMax = response.json()['predConcello']['listaPredDiaConcello'][1]['tMax']\n",
    "tMin = response.json()['predConcello']['listaPredDiaConcello'][1]['tMin']\n",
    "print(\"Temperaturas: \" + str(tMax) + \"/\" + str(tMin))"
   ]
  },
  {
   "cell_type": "code",
   "execution_count": null,
   "id": "d2b6aa37-d01c-44cf-ba3a-50e62f12751e",
   "metadata": {},
   "outputs": [],
   "source": [
    "# Outra maneira de imprimir texto: Fancier Output Formatting\n",
    "f'Temperaturas Min/Max: {tMin}º/{tMax}º'"
   ]
  },
  {
   "cell_type": "code",
   "execution_count": null,
   "id": "3d339555",
   "metadata": {},
   "outputs": [],
   "source": [
    "# Meteogalicia tamén ofrece información sobre as praias a través da súa API\n",
    "# https://www.meteogalicia.gal/datosred/infoweb/meteo/docs/rss/JSON_Pred_Praia_gl.pdf"
   ]
  },
  {
   "cell_type": "code",
   "execution_count": null,
   "id": "46c52797-4aaa-49d2-8555-2245597c2a3d",
   "metadata": {},
   "outputs": [],
   "source": [
    "# Comproba a predición para a temperatura da auga da praia de Riazor e comparaa coa da praia das Catedrais\n",
    "idPraia = '2448' # Praia de Riazor\n",
    "endpoint = 'https://servizos.meteogalicia.gal/mgrss/predicion/jsonPredPraia.action'\n",
    "response = requests.get(endpoint, params = {'idPraia': idPraia})\n",
    "tempRiazor = response.json()['predPraia']['listaPredDiaPraia'][0]['tAuga']\n",
    "idPraia = '1987' # Praia das Catedrais\n",
    "response = requests.get(endpoint, params = {'idPraia': idPraia})\n",
    "tempCatedrais = response.json()['predPraia']['listaPredDiaPraia'][0]['tAuga']\n",
    "f'Temperatura da auga en Riazor:{tempRiazor}º e Temperatura da auga nas Catedrais:{tempCatedrais}º'"
   ]
  },
  {
   "cell_type": "code",
   "execution_count": null,
   "id": "6b64ab7c",
   "metadata": {},
   "outputs": [],
   "source": [
    "# Investiga na páxina de Meteogalicia entre os diferentes servizos dispoñibles\n",
    "# Conéctate a algún dos servizos e extrae algunha información\n",
    "# Imaxina un caso de uso para eses datos"
   ]
  },
  {
   "cell_type": "code",
   "execution_count": null,
   "id": "126bf753",
   "metadata": {},
   "outputs": [],
   "source": [
    "# Estou experimentando cun sistema intelixente de rego automático en Monfero\n",
    "# No verán hai épocas onde chove pouco e teño que regar a horta, pero teño pouca auga e hai que economizar\n",
    "# Combinando a predición de choivas a tres días podo dicirlle ao meu sistema se\n",
    "# compensa regar ou esperar que chova.\n",
    "\n",
    "# Aínda teño que afinar o cálculo de probabilidades, pero polo momento teño suficiente con observar a predicción\n",
    "# do día seguinte (logo xa ampliarei a 3). Tomarei os datos das 3 probabilidades por día (mañá, noite e tarde).\n",
    "# Tomei a decisión de NON regar se a probabilidade de choiva está por riba do 40% no día seguinte nalgún período do día.\n",
    "\n",
    "idConcello = '15050' # Monfero\n",
    "endpoint = 'https://servizos.meteogalicia.gal/mgrss/predicion/jsonPredConcellos.action'\n",
    "payload = {'idConc': idConcello}\n",
    "response = requests.get(endpoint, params = payload)\n",
    "choivaManha = response.json()['predConcello']['listaPredDiaConcello'][1]['pchoiva']['manha']\n",
    "choivaTarde = response.json()['predConcello']['listaPredDiaConcello'][1]['pchoiva']['tarde']\n",
    "choivaNoite = response.json()['predConcello']['listaPredDiaConcello'][1]['pchoiva']['noite']\n",
    "#f'Choivas: {choivaManha}%/{choivaTarde}%/{choivaNoite}%'\n",
    "if max(choivaManha,choivaTarde,choivaNoite)>40:\n",
    "    print('NON hai que regar')"
   ]
  },
  {
   "cell_type": "code",
   "execution_count": null,
   "id": "caa27221",
   "metadata": {},
   "outputs": [],
   "source": []
  }
 ],
 "metadata": {
  "kernelspec": {
   "display_name": "systems",
   "language": "python",
   "name": "python3"
  },
  "language_info": {
   "codemirror_mode": {
    "name": "ipython",
    "version": 3
   },
   "file_extension": ".py",
   "mimetype": "text/x-python",
   "name": "python",
   "nbconvert_exporter": "python",
   "pygments_lexer": "ipython3",
   "version": "3.7.15"
  },
  "vscode": {
   "interpreter": {
    "hash": "63eb1e5c3aa5268319f56c3b664e0523445c946ec0f1445e261f1f92702f6b14"
   }
  }
 },
 "nbformat": 4,
 "nbformat_minor": 5
}
