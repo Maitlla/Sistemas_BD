{
 "cells": [
  {
   "cell_type": "markdown",
   "metadata": {},
   "source": [
    "# Visualizations. Exercise 1. Shapefiles"
   ]
  },
  {
   "cell_type": "code",
   "execution_count": 1,
   "metadata": {},
   "outputs": [],
   "source": [
    "# Import required libraries\n",
    "import geopandas as gpd"
   ]
  },
  {
   "cell_type": "code",
   "execution_count": null,
   "metadata": {},
   "outputs": [],
   "source": []
  },
  {
   "cell_type": "code",
   "execution_count": null,
   "metadata": {},
   "outputs": [],
   "source": [
    "# Load the geographic data of municipalities downloaded from Sergas\n",
    "# Galician cartography in vectorial format for geographic information systems.\n",
    "# Cargar los datos geográficos de los municipios descargados del Sergas\n",
    "# Cartografía gallega en formato vectorial para sistemas de información geográfica\n",
    "# https://www.sergas.es/Saude-publica/GIS-Cartografia-Galicia-formato-vectorial-SHP"
   ]
  },
  {
   "cell_type": "code",
   "execution_count": 2,
   "metadata": {},
   "outputs": [
    {
     "data": {
      "text/html": [
       "<div>\n",
       "<style scoped>\n",
       "    .dataframe tbody tr th:only-of-type {\n",
       "        vertical-align: middle;\n",
       "    }\n",
       "\n",
       "    .dataframe tbody tr th {\n",
       "        vertical-align: top;\n",
       "    }\n",
       "\n",
       "    .dataframe thead th {\n",
       "        text-align: right;\n",
       "    }\n",
       "</style>\n",
       "<table border=\"1\" class=\"dataframe\">\n",
       "  <thead>\n",
       "    <tr style=\"text-align: right;\">\n",
       "      <th></th>\n",
       "      <th>beginLifes</th>\n",
       "      <th>endLifespa</th>\n",
       "      <th>CPRO10</th>\n",
       "      <th>CMUN10</th>\n",
       "      <th>CENTCO10</th>\n",
       "      <th>CENTSI10</th>\n",
       "      <th>NOMB10</th>\n",
       "      <th>NOME10</th>\n",
       "      <th>PODE10</th>\n",
       "      <th>VADE10</th>\n",
       "      <th>MUDE10</th>\n",
       "      <th>X_UTM29_ED</th>\n",
       "      <th>Y_UTM29_ED</th>\n",
       "      <th>COD_INE9</th>\n",
       "      <th>ORIG_FID</th>\n",
       "      <th>geometry</th>\n",
       "    </tr>\n",
       "  </thead>\n",
       "  <tbody>\n",
       "    <tr>\n",
       "      <th>0</th>\n",
       "      <td>2006-09-01</td>\n",
       "      <td>None</td>\n",
       "      <td>15.0</td>\n",
       "      <td>1.0</td>\n",
       "      <td>1.0</td>\n",
       "      <td>1.0</td>\n",
       "      <td>ATRIO</td>\n",
       "      <td>O Adro</td>\n",
       "      <td>57.0</td>\n",
       "      <td>28.0</td>\n",
       "      <td>29.0</td>\n",
       "      <td>557095.14</td>\n",
       "      <td>4785466.93</td>\n",
       "      <td>150010101</td>\n",
       "      <td>0</td>\n",
       "      <td>POINT (556969.762 4785252.799)</td>\n",
       "    </tr>\n",
       "    <tr>\n",
       "      <th>1</th>\n",
       "      <td>2006-09-01</td>\n",
       "      <td>None</td>\n",
       "      <td>15.0</td>\n",
       "      <td>1.0</td>\n",
       "      <td>1.0</td>\n",
       "      <td>2.0</td>\n",
       "      <td>BEADE</td>\n",
       "      <td>Beade</td>\n",
       "      <td>64.0</td>\n",
       "      <td>26.0</td>\n",
       "      <td>38.0</td>\n",
       "      <td>556576.62</td>\n",
       "      <td>4786346.22</td>\n",
       "      <td>150010102</td>\n",
       "      <td>1</td>\n",
       "      <td>POINT (556451.241 4786132.093)</td>\n",
       "    </tr>\n",
       "    <tr>\n",
       "      <th>2</th>\n",
       "      <td>2006-09-01</td>\n",
       "      <td>None</td>\n",
       "      <td>15.0</td>\n",
       "      <td>1.0</td>\n",
       "      <td>1.0</td>\n",
       "      <td>3.0</td>\n",
       "      <td>BORREIROS</td>\n",
       "      <td>Borreiros de Abaixo</td>\n",
       "      <td>28.0</td>\n",
       "      <td>13.0</td>\n",
       "      <td>15.0</td>\n",
       "      <td>558579.68</td>\n",
       "      <td>4786604.86</td>\n",
       "      <td>150010103</td>\n",
       "      <td>2</td>\n",
       "      <td>POINT (558454.302 4786390.742)</td>\n",
       "    </tr>\n",
       "    <tr>\n",
       "      <th>3</th>\n",
       "      <td>2006-09-01</td>\n",
       "      <td>None</td>\n",
       "      <td>15.0</td>\n",
       "      <td>1.0</td>\n",
       "      <td>1.0</td>\n",
       "      <td>4.0</td>\n",
       "      <td>CALVELOS</td>\n",
       "      <td>Calvelos</td>\n",
       "      <td>21.0</td>\n",
       "      <td>11.0</td>\n",
       "      <td>10.0</td>\n",
       "      <td>556976.22</td>\n",
       "      <td>4785159.57</td>\n",
       "      <td>150010104</td>\n",
       "      <td>3</td>\n",
       "      <td>POINT (556850.848 4784945.431)</td>\n",
       "    </tr>\n",
       "    <tr>\n",
       "      <th>4</th>\n",
       "      <td>2006-09-01</td>\n",
       "      <td>None</td>\n",
       "      <td>15.0</td>\n",
       "      <td>1.0</td>\n",
       "      <td>1.0</td>\n",
       "      <td>5.0</td>\n",
       "      <td>CANCELADA</td>\n",
       "      <td>Cancelada</td>\n",
       "      <td>82.0</td>\n",
       "      <td>42.0</td>\n",
       "      <td>40.0</td>\n",
       "      <td>558268.04</td>\n",
       "      <td>4786289.38</td>\n",
       "      <td>150010105</td>\n",
       "      <td>4</td>\n",
       "      <td>POINT (558142.662 4786075.258)</td>\n",
       "    </tr>\n",
       "  </tbody>\n",
       "</table>\n",
       "</div>"
      ],
      "text/plain": [
       "   beginLifes endLifespa  CPRO10  CMUN10  CENTCO10  CENTSI10     NOMB10  \\\n",
       "0  2006-09-01       None    15.0     1.0       1.0       1.0      ATRIO   \n",
       "1  2006-09-01       None    15.0     1.0       1.0       2.0      BEADE   \n",
       "2  2006-09-01       None    15.0     1.0       1.0       3.0  BORREIROS   \n",
       "3  2006-09-01       None    15.0     1.0       1.0       4.0   CALVELOS   \n",
       "4  2006-09-01       None    15.0     1.0       1.0       5.0  CANCELADA   \n",
       "\n",
       "                NOME10  PODE10  VADE10  MUDE10 X_UTM29_ED  Y_UTM29_ED  \\\n",
       "0               O Adro    57.0    28.0    29.0  557095.14  4785466.93   \n",
       "1                Beade    64.0    26.0    38.0  556576.62  4786346.22   \n",
       "2  Borreiros de Abaixo    28.0    13.0    15.0  558579.68  4786604.86   \n",
       "3             Calvelos    21.0    11.0    10.0  556976.22  4785159.57   \n",
       "4            Cancelada    82.0    42.0    40.0  558268.04  4786289.38   \n",
       "\n",
       "    COD_INE9  ORIG_FID                        geometry  \n",
       "0  150010101         0  POINT (556969.762 4785252.799)  \n",
       "1  150010102         1  POINT (556451.241 4786132.093)  \n",
       "2  150010103         2  POINT (558454.302 4786390.742)  \n",
       "3  150010104         3  POINT (556850.848 4784945.431)  \n",
       "4  150010105         4  POINT (558142.662 4786075.258)  "
      ]
     },
     "execution_count": 2,
     "metadata": {},
     "output_type": "execute_result"
    }
   ],
   "source": [
    "df_cartography = gpd.read_file('../datasets/Entidades_Singulares_Poboacion/ENTIDADE_SINGULAR_Pob_2010_20111205.shp')\n",
    "df_cartography.head()"
   ]
  },
  {
   "cell_type": "code",
   "execution_count": 5,
   "metadata": {},
   "outputs": [
    {
     "data": {
      "text/plain": [
       "<Axes: >"
      ]
     },
     "execution_count": 5,
     "metadata": {},
     "output_type": "execute_result"
    },
    {
     "data": {
      "image/png": "[encoded data removed]",
      "text/plain": [
       "<Figure size 800x800 with 1 Axes>"
      ]
     },
     "metadata": {},
     "output_type": "display_data"
    }
   ],
   "source": [
    "df_cartography.plot(figsize=(8,8))"
   ]
  },
  {
   "cell_type": "code",
   "execution_count": null,
   "metadata": {},
   "outputs": [],
   "source": [
    "# Show coordinate system\n",
    "# Mostrar sistema de coordenadas\n",
    "# https://spatialreference.org/ref/epsg/etrs89-utm-zone-29n/"
   ]
  },
  {
   "cell_type": "code",
   "execution_count": 3,
   "metadata": {},
   "outputs": [
    {
     "name": "stdout",
     "output_type": "stream",
     "text": [
      "EPSG:25829\n"
     ]
    }
   ],
   "source": [
    "print(df_cartography.crs)"
   ]
  },
  {
   "cell_type": "code",
   "execution_count": null,
   "metadata": {},
   "outputs": [],
   "source": [
    "# Paint provinces with a different color\n",
    "# Pintar provincias con un color diferente."
   ]
  },
  {
   "cell_type": "code",
   "execution_count": null,
   "metadata": {},
   "outputs": [],
   "source": [
    "# ejemplo hay que adaptarlo\n",
    "df_cartography['color'] = df_cartography.Provincia.apply(lambda x: 'red' if x == 'Ourense' else 'blue')"
   ]
  },
  {
   "cell_type": "code",
   "execution_count": null,
   "metadata": {},
   "outputs": [],
   "source": [
    "# Paint the large and small counties in different colors\n",
    "# The small ones are the ones below the average\n",
    "# Pinta los condados grandes y pequeños en diferentes colores.\n",
    "# Los pequeños son los que están por debajo del promedio"
   ]
  },
  {
   "cell_type": "code",
   "execution_count": null,
   "metadata": {},
   "outputs": [],
   "source": [
    "\n"
   ]
  },
  {
   "cell_type": "code",
   "execution_count": null,
   "metadata": {},
   "outputs": [],
   "source": [
    "# Do you think that there are exceptionally small municipalities in relation to the rest?\n",
    "# Will there be any too big?\n",
    "# Highlight on a map the extremely small or large municipalities in relation to the rest."
   ]
  },
  {
   "cell_type": "code",
   "execution_count": null,
   "metadata": {},
   "outputs": [],
   "source": [
    "# ¿Crees que existen municipios excepcionalmente pequeños en relación al resto?\n",
    "# ¿Habrá alguno demasiado grande?\n",
    "# Destacar en un mapa los municipios extremadamente pequeños o grandes en relación al resto."
   ]
  },
  {
   "cell_type": "code",
   "execution_count": null,
   "metadata": {},
   "outputs": [],
   "source": []
  },
  {
   "cell_type": "code",
   "execution_count": null,
   "metadata": {},
   "outputs": [],
   "source": [
    "# Download the following datasets and make a map\n",
    "# Maps: autonomous community, railroad stations, train lines.\n",
    "# Paint a map of Galicia where you can see:\n",
    "# - The train lines (different colors depending on the type of train)\n",
    "# - The train stations (only those in use)"
   ]
  },
  {
   "cell_type": "code",
   "execution_count": null,
   "metadata": {},
   "outputs": [],
   "source": [
    "# Descargue los siguientes conjuntos de datos y haga un mapa\n",
    "# Mapas: comunidad autónoma, estaciones de ferrocarril, líneas de tren.\n",
    "# Pinta un mapa de Galicia donde puedas ver:\n",
    "# - Las líneas del tren (diferentes colores según el tipo de tren)\n",
    "# - Las estaciones de tren (sólo las que están en uso)"
   ]
  },
  {
   "cell_type": "code",
   "execution_count": null,
   "metadata": {},
   "outputs": [],
   "source": []
  }
 ],
 "metadata": {
  "kernelspec": {
   "display_name": "systems",
   "language": "python",
   "name": "python3"
  },
  "language_info": {
   "codemirror_mode": {
    "name": "ipython",
    "version": 3
   },
   "file_extension": ".py",
   "mimetype": "text/x-python",
   "name": "python",
   "nbconvert_exporter": "python",
   "pygments_lexer": "ipython3",
   "version": "3.12.0"
  },
  "orig_nbformat": 4,
  "vscode": {
   "interpreter": {
    "hash": "63eb1e5c3aa5268319f56c3b664e0523445c946ec0f1445e261f1f92702f6b14"
   }
  }
 },
 "nbformat": 4,
 "nbformat_minor": 2
}
