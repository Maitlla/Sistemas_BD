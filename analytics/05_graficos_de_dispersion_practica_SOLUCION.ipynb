{
 "cells": [
  {
   "cell_type": "markdown",
   "id": "8cc94896-5d3d-453d-b71e-ad27e7326dba",
   "metadata": {},
   "source": [
    "###  Scatter Plots - Gráficos de dispersión"
   ]
  },
  {
   "cell_type": "code",
   "execution_count": 19,
   "id": "c8c22402-0e91-410a-bad3-4a2ac7aa3d36",
   "metadata": {},
   "outputs": [],
   "source": [
    "# Os gráficos de dispersión son útiles para coñecer a relación entre dúas variables CONTÍNUAS\n",
    "# Podemos engadir unha terceira variable categórica (mediante cores, ou con outro tipo de gráficos)"
   ]
  },
  {
   "cell_type": "code",
   "execution_count": 2,
   "id": "9fd8ddea",
   "metadata": {},
   "outputs": [],
   "source": [
    "# Exemplo tomado de kaggle: data visualizations tutoriails\n",
    "# https://www.kaggle.com/learn/data-visualization"
   ]
  },
  {
   "cell_type": "code",
   "execution_count": null,
   "id": "161ec80d-1c6c-4a92-8183-deef4bdf08aa",
   "metadata": {},
   "outputs": [],
   "source": [
    "import pandas as pd\n",
    "import matplotlib.pyplot as plt\n",
    "import seaborn as sns"
   ]
  },
  {
   "cell_type": "code",
   "execution_count": null,
   "id": "59fdfec8",
   "metadata": {},
   "outputs": [],
   "source": [
    "# Carga o dataset coa información do experimento sobre chuches\n",
    "# https://fivethirtyeight.com/videos/the-ultimate-halloween-candy-power-ranking/\n",
    "# candy.csv <- dispoñible no repositorio en datasets"
   ]
  },
  {
   "cell_type": "code",
   "execution_count": 5,
   "id": "6ed4ca0f-d7bc-41a2-83c1-0c8bc21d051c",
   "metadata": {},
   "outputs": [],
   "source": [
    "# datos sobre caramelos\n",
    "candy_data = pd.read_csv(\"../datasets/candy.csv\", index_col='id')"
   ]
  },
  {
   "cell_type": "code",
   "execution_count": null,
   "id": "1cb0374c",
   "metadata": {},
   "outputs": [],
   "source": [
    "# Bota unha ollada ao dataset"
   ]
  },
  {
   "cell_type": "code",
   "execution_count": 6,
   "id": "2b01034c-7f57-4b46-83e8-8f834db9f9a6",
   "metadata": {},
   "outputs": [
    {
     "data": {
      "text/html": [
       "<div>\n",
       "<style scoped>\n",
       "    .dataframe tbody tr th:only-of-type {\n",
       "        vertical-align: middle;\n",
       "    }\n",
       "\n",
       "    .dataframe tbody tr th {\n",
       "        vertical-align: top;\n",
       "    }\n",
       "\n",
       "    .dataframe thead th {\n",
       "        text-align: right;\n",
       "    }\n",
       "</style>\n",
       "<table border=\"1\" class=\"dataframe\">\n",
       "  <thead>\n",
       "    <tr style=\"text-align: right;\">\n",
       "      <th></th>\n",
       "      <th>competitorname</th>\n",
       "      <th>chocolate</th>\n",
       "      <th>fruity</th>\n",
       "      <th>caramel</th>\n",
       "      <th>peanutyalmondy</th>\n",
       "      <th>nougat</th>\n",
       "      <th>crispedricewafer</th>\n",
       "      <th>hard</th>\n",
       "      <th>bar</th>\n",
       "      <th>pluribus</th>\n",
       "      <th>sugarpercent</th>\n",
       "      <th>pricepercent</th>\n",
       "      <th>winpercent</th>\n",
       "    </tr>\n",
       "    <tr>\n",
       "      <th>id</th>\n",
       "      <th></th>\n",
       "      <th></th>\n",
       "      <th></th>\n",
       "      <th></th>\n",
       "      <th></th>\n",
       "      <th></th>\n",
       "      <th></th>\n",
       "      <th></th>\n",
       "      <th></th>\n",
       "      <th></th>\n",
       "      <th></th>\n",
       "      <th></th>\n",
       "      <th></th>\n",
       "    </tr>\n",
       "  </thead>\n",
       "  <tbody>\n",
       "    <tr>\n",
       "      <th>0</th>\n",
       "      <td>100 Grand</td>\n",
       "      <td>Yes</td>\n",
       "      <td>No</td>\n",
       "      <td>Yes</td>\n",
       "      <td>No</td>\n",
       "      <td>No</td>\n",
       "      <td>Yes</td>\n",
       "      <td>No</td>\n",
       "      <td>Yes</td>\n",
       "      <td>No</td>\n",
       "      <td>0.732</td>\n",
       "      <td>0.860</td>\n",
       "      <td>66.971725</td>\n",
       "    </tr>\n",
       "    <tr>\n",
       "      <th>1</th>\n",
       "      <td>3 Musketeers</td>\n",
       "      <td>Yes</td>\n",
       "      <td>No</td>\n",
       "      <td>No</td>\n",
       "      <td>No</td>\n",
       "      <td>Yes</td>\n",
       "      <td>No</td>\n",
       "      <td>No</td>\n",
       "      <td>Yes</td>\n",
       "      <td>No</td>\n",
       "      <td>0.604</td>\n",
       "      <td>0.511</td>\n",
       "      <td>67.602936</td>\n",
       "    </tr>\n",
       "    <tr>\n",
       "      <th>2</th>\n",
       "      <td>Air Heads</td>\n",
       "      <td>No</td>\n",
       "      <td>Yes</td>\n",
       "      <td>No</td>\n",
       "      <td>No</td>\n",
       "      <td>No</td>\n",
       "      <td>No</td>\n",
       "      <td>No</td>\n",
       "      <td>No</td>\n",
       "      <td>No</td>\n",
       "      <td>0.906</td>\n",
       "      <td>0.511</td>\n",
       "      <td>52.341465</td>\n",
       "    </tr>\n",
       "    <tr>\n",
       "      <th>3</th>\n",
       "      <td>Almond Joy</td>\n",
       "      <td>Yes</td>\n",
       "      <td>No</td>\n",
       "      <td>No</td>\n",
       "      <td>Yes</td>\n",
       "      <td>No</td>\n",
       "      <td>No</td>\n",
       "      <td>No</td>\n",
       "      <td>Yes</td>\n",
       "      <td>No</td>\n",
       "      <td>0.465</td>\n",
       "      <td>0.767</td>\n",
       "      <td>50.347546</td>\n",
       "    </tr>\n",
       "    <tr>\n",
       "      <th>4</th>\n",
       "      <td>Baby Ruth</td>\n",
       "      <td>Yes</td>\n",
       "      <td>No</td>\n",
       "      <td>Yes</td>\n",
       "      <td>Yes</td>\n",
       "      <td>Yes</td>\n",
       "      <td>No</td>\n",
       "      <td>No</td>\n",
       "      <td>Yes</td>\n",
       "      <td>No</td>\n",
       "      <td>0.604</td>\n",
       "      <td>0.767</td>\n",
       "      <td>56.914547</td>\n",
       "    </tr>\n",
       "  </tbody>\n",
       "</table>\n",
       "</div>"
      ],
      "text/plain": [
       "   competitorname chocolate fruity caramel peanutyalmondy nougat  \\\n",
       "id                                                                 \n",
       "0       100 Grand       Yes     No     Yes             No     No   \n",
       "1    3 Musketeers       Yes     No      No             No    Yes   \n",
       "2       Air Heads        No    Yes      No             No     No   \n",
       "3      Almond Joy       Yes     No      No            Yes     No   \n",
       "4       Baby Ruth       Yes     No     Yes            Yes    Yes   \n",
       "\n",
       "   crispedricewafer hard  bar pluribus  sugarpercent  pricepercent  winpercent  \n",
       "id                                                                              \n",
       "0               Yes   No  Yes       No         0.732         0.860   66.971725  \n",
       "1                No   No  Yes       No         0.604         0.511   67.602936  \n",
       "2                No   No   No       No         0.906         0.511   52.341465  \n",
       "3                No   No  Yes       No         0.465         0.767   50.347546  \n",
       "4                No   No  Yes       No         0.604         0.767   56.914547  "
      ]
     },
     "execution_count": 6,
     "metadata": {},
     "output_type": "execute_result"
    }
   ],
   "source": [
    "candy_data.head()"
   ]
  },
  {
   "cell_type": "markdown",
   "id": "2d0a233c",
   "metadata": {},
   "source": [
    "The dataset contains 83 rows, where each corresponds to a different candy bar. There are 13 columns:\n",
    "\n",
    "\n",
    "- 'competitorname' contains the name of the candy bar.\n",
    "- the next 9 columns (from 'chocolate' to 'pluribus') describe the candy. For instance, rows with chocolate candies have \"Yes\" in the - - 'chocolate' column (and candies without chocolate have \"No\" in the same column).\n",
    "- 'sugarpercent' provides some indication of the amount of sugar, where higher values signify higher sugar content.\n",
    "- 'pricepercent' shows the price per unit, relative to the other candies in the dataset.\n",
    "- 'winpercent' is calculated from the survey results; higher values indicate that the candy was more popular with survey respondents.\n"
   ]
  },
  {
   "cell_type": "code",
   "execution_count": null,
   "id": "67b0a9f3",
   "metadata": {},
   "outputs": [],
   "source": [
    "# Cal é a chuche máis cara? (pricepercent)"
   ]
  },
  {
   "cell_type": "code",
   "execution_count": 9,
   "id": "7aa83968",
   "metadata": {},
   "outputs": [
    {
     "data": {
      "text/html": [
       "<div>\n",
       "<style scoped>\n",
       "    .dataframe tbody tr th:only-of-type {\n",
       "        vertical-align: middle;\n",
       "    }\n",
       "\n",
       "    .dataframe tbody tr th {\n",
       "        vertical-align: top;\n",
       "    }\n",
       "\n",
       "    .dataframe thead th {\n",
       "        text-align: right;\n",
       "    }\n",
       "</style>\n",
       "<table border=\"1\" class=\"dataframe\">\n",
       "  <thead>\n",
       "    <tr style=\"text-align: right;\">\n",
       "      <th></th>\n",
       "      <th>competitorname</th>\n",
       "      <th>chocolate</th>\n",
       "      <th>fruity</th>\n",
       "      <th>caramel</th>\n",
       "      <th>peanutyalmondy</th>\n",
       "      <th>nougat</th>\n",
       "      <th>crispedricewafer</th>\n",
       "      <th>hard</th>\n",
       "      <th>bar</th>\n",
       "      <th>pluribus</th>\n",
       "      <th>sugarpercent</th>\n",
       "      <th>pricepercent</th>\n",
       "      <th>winpercent</th>\n",
       "    </tr>\n",
       "    <tr>\n",
       "      <th>id</th>\n",
       "      <th></th>\n",
       "      <th></th>\n",
       "      <th></th>\n",
       "      <th></th>\n",
       "      <th></th>\n",
       "      <th></th>\n",
       "      <th></th>\n",
       "      <th></th>\n",
       "      <th></th>\n",
       "      <th></th>\n",
       "      <th></th>\n",
       "      <th></th>\n",
       "      <th></th>\n",
       "    </tr>\n",
       "  </thead>\n",
       "  <tbody>\n",
       "    <tr>\n",
       "      <th>60</th>\n",
       "      <td>Nestle Smarties</td>\n",
       "      <td>Yes</td>\n",
       "      <td>No</td>\n",
       "      <td>No</td>\n",
       "      <td>No</td>\n",
       "      <td>No</td>\n",
       "      <td>No</td>\n",
       "      <td>No</td>\n",
       "      <td>No</td>\n",
       "      <td>Yes</td>\n",
       "      <td>0.267</td>\n",
       "      <td>0.976</td>\n",
       "      <td>37.887188</td>\n",
       "    </tr>\n",
       "  </tbody>\n",
       "</table>\n",
       "</div>"
      ],
      "text/plain": [
       "     competitorname chocolate fruity caramel peanutyalmondy nougat  \\\n",
       "id                                                                   \n",
       "60  Nestle Smarties       Yes     No      No             No     No   \n",
       "\n",
       "   crispedricewafer hard bar pluribus  sugarpercent  pricepercent  winpercent  \n",
       "id                                                                             \n",
       "60               No   No  No      Yes         0.267         0.976   37.887188  "
      ]
     },
     "execution_count": 9,
     "metadata": {},
     "output_type": "execute_result"
    }
   ],
   "source": [
    "candy_data.sort_values('pricepercent',ascending=False).head(1)"
   ]
  },
  {
   "cell_type": "code",
   "execution_count": null,
   "id": "333228e2",
   "metadata": {},
   "outputs": [],
   "source": [
    "# Cales son as 5 chuches peor valoradas? (winpercent)"
   ]
  },
  {
   "cell_type": "code",
   "execution_count": 10,
   "id": "465b2a5d",
   "metadata": {},
   "outputs": [
    {
     "data": {
      "text/html": [
       "<div>\n",
       "<style scoped>\n",
       "    .dataframe tbody tr th:only-of-type {\n",
       "        vertical-align: middle;\n",
       "    }\n",
       "\n",
       "    .dataframe tbody tr th {\n",
       "        vertical-align: top;\n",
       "    }\n",
       "\n",
       "    .dataframe thead th {\n",
       "        text-align: right;\n",
       "    }\n",
       "</style>\n",
       "<table border=\"1\" class=\"dataframe\">\n",
       "  <thead>\n",
       "    <tr style=\"text-align: right;\">\n",
       "      <th></th>\n",
       "      <th>competitorname</th>\n",
       "      <th>chocolate</th>\n",
       "      <th>fruity</th>\n",
       "      <th>caramel</th>\n",
       "      <th>peanutyalmondy</th>\n",
       "      <th>nougat</th>\n",
       "      <th>crispedricewafer</th>\n",
       "      <th>hard</th>\n",
       "      <th>bar</th>\n",
       "      <th>pluribus</th>\n",
       "      <th>sugarpercent</th>\n",
       "      <th>pricepercent</th>\n",
       "      <th>winpercent</th>\n",
       "    </tr>\n",
       "    <tr>\n",
       "      <th>id</th>\n",
       "      <th></th>\n",
       "      <th></th>\n",
       "      <th></th>\n",
       "      <th></th>\n",
       "      <th></th>\n",
       "      <th></th>\n",
       "      <th></th>\n",
       "      <th></th>\n",
       "      <th></th>\n",
       "      <th></th>\n",
       "      <th></th>\n",
       "      <th></th>\n",
       "      <th></th>\n",
       "    </tr>\n",
       "  </thead>\n",
       "  <tbody>\n",
       "    <tr>\n",
       "      <th>42</th>\n",
       "      <td>Nik L Nip</td>\n",
       "      <td>No</td>\n",
       "      <td>Yes</td>\n",
       "      <td>No</td>\n",
       "      <td>No</td>\n",
       "      <td>No</td>\n",
       "      <td>No</td>\n",
       "      <td>No</td>\n",
       "      <td>No</td>\n",
       "      <td>Yes</td>\n",
       "      <td>0.197</td>\n",
       "      <td>0.976</td>\n",
       "      <td>22.445341</td>\n",
       "    </tr>\n",
       "    <tr>\n",
       "      <th>5</th>\n",
       "      <td>Boston Baked Beans</td>\n",
       "      <td>No</td>\n",
       "      <td>No</td>\n",
       "      <td>No</td>\n",
       "      <td>Yes</td>\n",
       "      <td>No</td>\n",
       "      <td>No</td>\n",
       "      <td>No</td>\n",
       "      <td>No</td>\n",
       "      <td>Yes</td>\n",
       "      <td>0.313</td>\n",
       "      <td>0.511</td>\n",
       "      <td>23.417824</td>\n",
       "    </tr>\n",
       "    <tr>\n",
       "      <th>10</th>\n",
       "      <td>Chiclets</td>\n",
       "      <td>No</td>\n",
       "      <td>Yes</td>\n",
       "      <td>No</td>\n",
       "      <td>No</td>\n",
       "      <td>No</td>\n",
       "      <td>No</td>\n",
       "      <td>No</td>\n",
       "      <td>No</td>\n",
       "      <td>Yes</td>\n",
       "      <td>0.046</td>\n",
       "      <td>0.325</td>\n",
       "      <td>24.524988</td>\n",
       "    </tr>\n",
       "    <tr>\n",
       "      <th>70</th>\n",
       "      <td>Super Bubble</td>\n",
       "      <td>No</td>\n",
       "      <td>Yes</td>\n",
       "      <td>No</td>\n",
       "      <td>No</td>\n",
       "      <td>No</td>\n",
       "      <td>No</td>\n",
       "      <td>No</td>\n",
       "      <td>No</td>\n",
       "      <td>No</td>\n",
       "      <td>0.162</td>\n",
       "      <td>0.116</td>\n",
       "      <td>27.303865</td>\n",
       "    </tr>\n",
       "    <tr>\n",
       "      <th>24</th>\n",
       "      <td>Jawbusters</td>\n",
       "      <td>No</td>\n",
       "      <td>Yes</td>\n",
       "      <td>No</td>\n",
       "      <td>No</td>\n",
       "      <td>No</td>\n",
       "      <td>No</td>\n",
       "      <td>Yes</td>\n",
       "      <td>No</td>\n",
       "      <td>Yes</td>\n",
       "      <td>0.093</td>\n",
       "      <td>0.511</td>\n",
       "      <td>28.127439</td>\n",
       "    </tr>\n",
       "  </tbody>\n",
       "</table>\n",
       "</div>"
      ],
      "text/plain": [
       "        competitorname chocolate fruity caramel peanutyalmondy nougat  \\\n",
       "id                                                                      \n",
       "42           Nik L Nip        No    Yes      No             No     No   \n",
       "5   Boston Baked Beans        No     No      No            Yes     No   \n",
       "10            Chiclets        No    Yes      No             No     No   \n",
       "70        Super Bubble        No    Yes      No             No     No   \n",
       "24          Jawbusters        No    Yes      No             No     No   \n",
       "\n",
       "   crispedricewafer hard bar pluribus  sugarpercent  pricepercent  winpercent  \n",
       "id                                                                             \n",
       "42               No   No  No      Yes         0.197         0.976   22.445341  \n",
       "5                No   No  No      Yes         0.313         0.511   23.417824  \n",
       "10               No   No  No      Yes         0.046         0.325   24.524988  \n",
       "70               No   No  No       No         0.162         0.116   27.303865  \n",
       "24               No  Yes  No      Yes         0.093         0.511   28.127439  "
      ]
     },
     "execution_count": 10,
     "metadata": {},
     "output_type": "execute_result"
    }
   ],
   "source": [
    "candy_data.sort_values('winpercent',ascending=True).head(5)"
   ]
  },
  {
   "cell_type": "code",
   "execution_count": 13,
   "id": "6d93a9bf",
   "metadata": {},
   "outputs": [],
   "source": [
    "# Prefire a xente chuches con máis azucre?\n",
    "# Investiga a relación entre as dúas variables"
   ]
  },
  {
   "cell_type": "code",
   "execution_count": 12,
   "id": "2334b587-e104-40e6-95cd-14da6a46a074",
   "metadata": {},
   "outputs": [
    {
     "data": {
      "text/plain": [
       "<AxesSubplot:xlabel='sugarpercent', ylabel='winpercent'>"
      ]
     },
     "execution_count": 12,
     "metadata": {},
     "output_type": "execute_result"
    },
    {
     "data": {
      "image/png": "[encoded data removed]",
      "text/plain": [
       "<Figure size 432x288 with 1 Axes>"
      ]
     },
     "metadata": {
      "needs_background": "light"
     },
     "output_type": "display_data"
    }
   ],
   "source": [
    "sns.scatterplot(x=candy_data.sugarpercent, y=candy_data.winpercent)"
   ]
  },
  {
   "cell_type": "code",
   "execution_count": null,
   "id": "07e83926",
   "metadata": {},
   "outputs": [],
   "source": [
    "## A relación non  está clara"
   ]
  },
  {
   "cell_type": "code",
   "execution_count": 16,
   "id": "4a2926e5",
   "metadata": {},
   "outputs": [],
   "source": [
    "# Mostra a forza da correlación entre as dúas variables, agora cunha recta de regresión"
   ]
  },
  {
   "cell_type": "code",
   "execution_count": 17,
   "id": "29014f08-4485-43ac-b2ae-a9ff3cf24db5",
   "metadata": {},
   "outputs": [
    {
     "data": {
      "text/plain": [
       "<AxesSubplot:xlabel='sugarpercent', ylabel='winpercent'>"
      ]
     },
     "execution_count": 17,
     "metadata": {},
     "output_type": "execute_result"
    },
    {
     "data": {
      "image/png": "[encoded data removed]",
      "text/plain": [
       "<Figure size 432x288 with 1 Axes>"
      ]
     },
     "metadata": {
      "needs_background": "light"
     },
     "output_type": "display_data"
    }
   ],
   "source": [
    "sns.regplot(x=candy_data.sugarpercent, y=candy_data.winpercent)"
   ]
  },
  {
   "cell_type": "code",
   "execution_count": 18,
   "id": "8b7540c8",
   "metadata": {},
   "outputs": [],
   "source": [
    "# Dirías que se trata dunha correlación forte ou feble"
   ]
  },
  {
   "cell_type": "code",
   "execution_count": null,
   "id": "c98a23d2",
   "metadata": {},
   "outputs": [],
   "source": [
    "## Semella que a relación non é moi forte, mais existe. Teñen máis éxito as chuches con máis azucre"
   ]
  },
  {
   "cell_type": "code",
   "execution_count": null,
   "id": "fce69927",
   "metadata": {},
   "outputs": [],
   "source": [
    "# Mostra a relación entre o prezo e a popularidade dunha chuches\n",
    "# Nesta ocasión utiliza a variable categórica \"chocolate\""
   ]
  },
  {
   "cell_type": "code",
   "execution_count": 19,
   "id": "1f6c5d91-4083-4d77-81a2-1ee1ab18442a",
   "metadata": {},
   "outputs": [
    {
     "data": {
      "text/plain": [
       "<AxesSubplot:xlabel='pricepercent', ylabel='winpercent'>"
      ]
     },
     "execution_count": 19,
     "metadata": {},
     "output_type": "execute_result"
    },
    {
     "data": {
      "image/png": "[encoded data removed]",
      "text/plain": [
       "<Figure size 432x288 with 1 Axes>"
      ]
     },
     "metadata": {
      "needs_background": "light"
     },
     "output_type": "display_data"
    }
   ],
   "source": [
    "sns.scatterplot(x=candy_data.pricepercent, y=candy_data.winpercent, hue=candy_data.chocolate)"
   ]
  },
  {
   "cell_type": "code",
   "execution_count": null,
   "id": "4c82fdbb",
   "metadata": {},
   "outputs": [],
   "source": [
    "# Detectas algún patrón interesante?"
   ]
  },
  {
   "cell_type": "code",
   "execution_count": null,
   "id": "cc786f98",
   "metadata": {},
   "outputs": [],
   "source": [
    "## Semella que as chuches con chocolate obteñen os resultados máis altos"
   ]
  },
  {
   "cell_type": "code",
   "execution_count": null,
   "id": "e3dbc6bb",
   "metadata": {},
   "outputs": [],
   "source": [
    "# Utiliza rectas de regresión para aclarar as relacións entre as variables\n",
    "# tendo en conta a variable \"chocolate\""
   ]
  },
  {
   "cell_type": "code",
   "execution_count": 20,
   "id": "058a225a-944d-44a7-b892-d3c3123ba196",
   "metadata": {},
   "outputs": [
    {
     "data": {
      "text/plain": [
       "<seaborn.axisgrid.FacetGrid at 0x7fa0359f0970>"
      ]
     },
     "execution_count": 20,
     "metadata": {},
     "output_type": "execute_result"
    },
    {
     "data": {
      "image/png": "[encoded data removed]",
      "text/plain": [
       "<Figure size 416.375x360 with 1 Axes>"
      ]
     },
     "metadata": {
      "needs_background": "light"
     },
     "output_type": "display_data"
    }
   ],
   "source": [
    "sns.lmplot(x='pricepercent',y='winpercent', hue='chocolate', data=candy_data) # Your code here"
   ]
  },
  {
   "cell_type": "code",
   "execution_count": null,
   "id": "79d4d10e",
   "metadata": {},
   "outputs": [],
   "source": [
    "# Que conclusión tomas a raíz destes gráficos"
   ]
  },
  {
   "cell_type": "code",
   "execution_count": null,
   "id": "7c78ee81",
   "metadata": {},
   "outputs": [],
   "source": [
    "## Nas chuches con cocholate están mellor valoradas as máis caras\n",
    "## Pola contra, as chuches sen chocolate mais caras obeñen peores resultados\n",
    "## Conclusión: o prezo só mellora a puntuación nas chuches de chocolate"
   ]
  }
 ],
 "metadata": {
  "kernelspec": {
   "display_name": "Python 3 (ipykernel)",
   "language": "python",
   "name": "python3"
  },
  "language_info": {
   "codemirror_mode": {
    "name": "ipython",
    "version": 3
   },
   "file_extension": ".py",
   "mimetype": "text/x-python",
   "name": "python",
   "nbconvert_exporter": "python",
   "pygments_lexer": "ipython3",
   "version": "3.12.0"
  }
 },
 "nbformat": 4,
 "nbformat_minor": 5
}
