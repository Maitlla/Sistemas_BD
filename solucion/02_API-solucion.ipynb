{
 "cells": [
  {
   "cell_type": "code",
   "execution_count": null,
   "id": "a4a78c8f-6cdb-4fcd-89f5-729135106c5e",
   "metadata": {},
   "outputs": [],
   "source": [
    "# METEOGALICIA\n",
    "# Busca a documentación para a predición meteorolóxica por concellos a curto prazo (\"Predición por concellos\") \n",
    "# Copia o enderezo do ficheiro PDF\n",
    "# ENLACE: https://www.meteogalicia.gal/datosred/infoweb/meteo/docs/rss/JSON_Pred_Concello_gl.pdf"
   ]
  },
  {
   "cell_type": "code",
   "execution_count": null,
   "id": "53daf6d1",
   "metadata": {},
   "outputs": [],
   "source": [
    "# Cada API ten a súa documentación específica, ás veces en formato web, ás veces PDF, ... \n",
    "# Bótalle un ollo á documentación que ofrece Meteogalicia para a predición a curto prazo por concello\n",
    "# para entender o tipo de servizo e datos que ofrece e poder realizar o exercicio."
   ]
  },
  {
   "cell_type": "code",
   "execution_count": null,
   "id": "583581b9-0b93-42ae-b56e-54372b957b65",
   "metadata": {},
   "outputs": [],
   "source": [
    "# Consulta a predición a curto prazo para o concello de Monfero\n",
    "# Utiliza a documentación para entender como funciona a API e que significan os resultados"
   ]
  },
  {
   "cell_type": "code",
   "execution_count": 1,
   "id": "d6bb683a-95ab-4dbc-a7ce-6504a7ac5b2e",
   "metadata": {},
   "outputs": [],
   "source": [
    "import requests"
   ]
  },
  {
   "cell_type": "code",
   "execution_count": 2,
   "id": "da695bc1-6cd9-4494-8b56-e499dc294cf8",
   "metadata": {},
   "outputs": [
    {
     "data": {
      "text/plain": [
       "{'predConcello': {'idConcello': 15050,\n",
       "  'listaPredDiaConcello': [{'ceo': {'manha': 107, 'noite': 218, 'tarde': 107},\n",
       "    'dataPredicion': '2024-02-15T00:00:00',\n",
       "    'nivelAviso': 0,\n",
       "    'pchoiva': {'manha': 90, 'noite': 95, 'tarde': 95},\n",
       "    'tMax': 16,\n",
       "    'tMin': 10,\n",
       "    'tmaxFranxa': {'manha': 15, 'noite': 10, 'tarde': 12},\n",
       "    'tminFranxa': {'manha': 13, 'noite': 8, 'tarde': 10},\n",
       "    'uvMax': 2,\n",
       "    'vento': {'manha': 313, 'noite': 307, 'tarde': 306}},\n",
       "   {'ceo': {'manha': 104, 'noite': 204, 'tarde': 103},\n",
       "    'dataPredicion': '2024-02-16T00:00:00',\n",
       "    'nivelAviso': 0,\n",
       "    'pchoiva': {'manha': 35, 'noite': 50, 'tarde': 50},\n",
       "    'tMax': 14,\n",
       "    'tMin': 7,\n",
       "    'tmaxFranxa': {'manha': 12, 'noite': 11, 'tarde': 14},\n",
       "    'tminFranxa': {'manha': 7, 'noite': 8, 'tarde': 12},\n",
       "    'uvMax': 2,\n",
       "    'vento': {'manha': 306, 'noite': 304, 'tarde': 306}},\n",
       "   {'ceo': {'manha': 105, 'noite': 205, 'tarde': 105},\n",
       "    'dataPredicion': '2024-02-17T00:00:00',\n",
       "    'nivelAviso': 0,\n",
       "    'pchoiva': {'manha': 50, 'noite': 45, 'tarde': 50},\n",
       "    'tMax': 14,\n",
       "    'tMin': 8,\n",
       "    'tmaxFranxa': {'manha': -9999, 'noite': -9999, 'tarde': -9999},\n",
       "    'tminFranxa': {'manha': -9999, 'noite': -9999, 'tarde': -9999},\n",
       "    'uvMax': 3,\n",
       "    'vento': {'manha': 304, 'noite': 304, 'tarde': 304}}],\n",
       "  'nome': 'Monfero'}}"
      ]
     },
     "execution_count": 2,
     "metadata": {},
     "output_type": "execute_result"
    }
   ],
   "source": [
    "idConcello = '15050' # Monfero\n",
    "endpoint = 'https://servizos.meteogalicia.gal/mgrss/predicion/jsonPredConcellos.action'\n",
    "payload = {'idConc': idConcello}\n",
    "response = requests.get(endpoint, params = payload)\n",
    "response.json()"
   ]
  },
  {
   "cell_type": "code",
   "execution_count": 3,
   "id": "069beef4-2ad2-4db0-93da-6d559c17b7c8",
   "metadata": {},
   "outputs": [
    {
     "name": "stdout",
     "output_type": "stream",
     "text": [
      "Temperaturas mínimas: 7º\n",
      "Temperaturas máximas: 16º\n"
     ]
    }
   ],
   "source": [
    "# Consulta a temperatura máxima e mínima previstas a curto prazo para o concello de Paderne\n",
    "# En concreto, para o día seguinte ao actual (para mañá)\n",
    "idConcello = '15064' # Paderne\n",
    "endpoint = 'https://servizos.meteogalicia.gal/mgrss/predicion/jsonPredConcellos.action'\n",
    "payload = {'idConc': idConcello}\n",
    "response = requests.get(endpoint, params = payload)\n",
    "tMax = response.json()['predConcello']['listaPredDiaConcello'][1]['tMax']\n",
    "tMin = response.json()['predConcello']['listaPredDiaConcello'][1]['tMin']\n",
    "print(f\"Temperaturas mínimas: {str(tMin)}º\")\n",
    "print(f\"Temperaturas máximas: {str(tMax)}º\")"
   ]
  },
  {
   "cell_type": "code",
   "execution_count": 4,
   "id": "d2b6aa37-d01c-44cf-ba3a-50e62f12751e",
   "metadata": {},
   "outputs": [
    {
     "data": {
      "text/plain": [
       "'Temperaturas Min/Max: 7º/16º'"
      ]
     },
     "execution_count": 4,
     "metadata": {},
     "output_type": "execute_result"
    }
   ],
   "source": [
    "# Outra maneira de imprimir texto: Fancier Output Formatting\n",
    "f'Temperaturas Min/Max: {tMin}º/{tMax}º'"
   ]
  },
  {
   "cell_type": "code",
   "execution_count": null,
   "id": "3d339555",
   "metadata": {},
   "outputs": [],
   "source": [
    "# Meteogalicia tamén ofrece información sobre as praias a través da súa API\n",
    "# https://www.meteogalicia.gal/datosred/infoweb/meteo/docs/rss/JSON_Pred_Praia_gl.pdf"
   ]
  },
  {
   "cell_type": "code",
   "execution_count": 5,
   "id": "742baecc",
   "metadata": {},
   "outputs": [],
   "source": [
    "import requests"
   ]
  },
  {
   "cell_type": "code",
   "execution_count": 7,
   "id": "46c52797-4aaa-49d2-8555-2245597c2a3d",
   "metadata": {},
   "outputs": [
    {
     "name": "stdout",
     "output_type": "stream",
     "text": [
      "Temperatura del agua en Bastiagueiro: 13º\n",
      "Temperatura del agua en Riazor: 13º\n"
     ]
    }
   ],
   "source": [
    "# Comproba a predición para a temperatura da auga da praia de Riazor e comparaa coa da praia das Catedrais\n",
    "idPraia = '2449' # Playa de Bastiagueiro en Oleiros es 2449\n",
    "endpoint = 'https://servizos.meteogalicia.gal/mgrss/predicion/jsonPredPraia.action'\n",
    "response = requests.get(endpoint, params = {'idPraia': idPraia})\n",
    "tempBastiagueiro = response.json()['predPraia']['listaPredDiaPraia'][0]['tAuga']\n",
    "idPraia = '2448' # Playa de Riazor A Coruña: 2448\n",
    "response = requests.get(endpoint, params = {'idPraia': idPraia})\n",
    "tempRiazor = response.json()['predPraia']['listaPredDiaPraia'][0]['tAuga']\n",
    "print(f'Temperatura del agua en Bastiagueiro: {tempBastiagueiro}º')\n",
    "print(f'Temperatura del agua en Riazor: {tempRiazor}º')\n"
   ]
  },
  {
   "cell_type": "code",
   "execution_count": 10,
   "id": "18a16583",
   "metadata": {},
   "outputs": [
    {
     "name": "stdout",
     "output_type": "stream",
     "text": [
      "Playa ID: 2449\n",
      "Coordenadas geográficas: Latitud 43.3716, Longitud -8.40426\n",
      "Temperatura del agua: 13°C\n",
      "Índice UV máximo: 1\n"
     ]
    }
   ],
   "source": [
    "    endpoint = 'https://servizos.meteogalicia.gal/mgrss/predicion/jsonPredPraia.action'\n",
    "    response = requests.get(endpoint, params={'idPraia': '2449'})\n",
    "    data = response.json()['predPraia']['listaPredDiaPraia'][0]\n",
    "\n",
    "    temperatura_agua = data['tAuga']\n",
    "    latitud = response.json()['predPraia']['lat']\n",
    "    longitud = response.json()['predPraia']['lon']\n",
    "    id_playa = response.json()['predPraia']['idPraia']\n",
    "    indice_uv_maximo = data['uvMax']\n",
    "\n",
    "    print(f'Playa ID: {id_playa}')\n",
    "    print(f'Coordenadas geográficas: Latitud {latitud}, Longitud {longitud}')\n",
    "    print(f'Temperatura del agua: {temperatura_agua}°C')\n",
    "    print(f'Índice UV máximo: {indice_uv_maximo}')"
   ]
  },
  {
   "cell_type": "code",
   "execution_count": null,
   "id": "6b64ab7c",
   "metadata": {},
   "outputs": [],
   "source": [
    "# Investiga na páxina de Meteogalicia entre os diferentes servizos dispoñibles\n",
    "# Conéctate a algún dos servizos e extrae algunha información\n",
    "# Imaxina un caso de uso para eses datos"
   ]
  },
  {
   "cell_type": "code",
   "execution_count": 8,
   "id": "126bf753",
   "metadata": {},
   "outputs": [
    {
     "name": "stdout",
     "output_type": "stream",
     "text": [
      "NON hai que regar\n"
     ]
    }
   ],
   "source": [
    "# Estou experimentando cun sistema intelixente de rego automático en Monfero\n",
    "# No verán hai épocas onde chove pouco e teño que regar a horta, pero teño pouca auga e hai que economizar\n",
    "# Combinando a predición de choivas a tres días podo dicirlle ao meu sistema se\n",
    "# compensa regar ou esperar que chova.\n",
    "\n",
    "# Aínda teño que afinar o cálculo de probabilidades, pero polo momento teño suficiente con observar a predicción\n",
    "# do día seguinte (logo xa ampliarei a 3). Tomarei os datos das 3 probabilidades por día (mañá, noite e tarde).\n",
    "# Tomei a decisión de NON regar se a probabilidade de choiva está por riba do 40% no día seguinte nalgún período do día.\n",
    "\n",
    "idConcello = '15050' # Monfero\n",
    "endpoint = 'https://servizos.meteogalicia.gal/mgrss/predicion/jsonPredConcellos.action'\n",
    "payload = {'idConc': idConcello}\n",
    "response = requests.get(endpoint, params = payload)\n",
    "choivaManha = response.json()['predConcello']['listaPredDiaConcello'][1]['pchoiva']['manha']\n",
    "choivaTarde = response.json()['predConcello']['listaPredDiaConcello'][1]['pchoiva']['tarde']\n",
    "choivaNoite = response.json()['predConcello']['listaPredDiaConcello'][1]['pchoiva']['noite']\n",
    "#f'Choivas: {choivaManha}%/{choivaTarde}%/{choivaNoite}%'\n",
    "if max(choivaManha,choivaTarde,choivaNoite)>40:\n",
    "    print('NON hai que regar')"
   ]
  },
  {
   "cell_type": "code",
   "execution_count": 9,
   "id": "caa27221",
   "metadata": {},
   "outputs": [
    {
     "name": "stdout",
     "output_type": "stream",
     "text": [
      "Temperaturas mínimas: 7º\n",
      "Temperaturas máximas: 16º\n",
      "Lluvias de mañana: 35%\n",
      "Lluvias de tarde: 50%\n",
      "Lluvias de noche: 50%\n"
     ]
    }
   ],
   "source": [
    "idConcello = '15064' # Paderne\n",
    "endpoint = 'https://servizos.meteogalicia.gal/mgrss/predicion/jsonPredConcellos.action'\n",
    "payload = {'idConc': idConcello}\n",
    "response = requests.get(endpoint, params = payload)\n",
    "tMax = response.json()['predConcello']['listaPredDiaConcello'][1]['tMax']\n",
    "tMin = response.json()['predConcello']['listaPredDiaConcello'][1]['tMin']\n",
    "choivaManha = response.json()['predConcello']['listaPredDiaConcello'][1]['pchoiva']['manha']\n",
    "choivaTarde = response.json()['predConcello']['listaPredDiaConcello'][1]['pchoiva']['tarde']\n",
    "choivaNoite = response.json()['predConcello']['listaPredDiaConcello'][1]['pchoiva']['noite']\n",
    "print(f\"Temperaturas mínimas: {str(tMin)}º\")\n",
    "print(f\"Temperaturas máximas: {str(tMax)}º\")\n",
    "print(f\"Lluvias de mañana: {choivaManha}%\")\n",
    "print(f\"Lluvias de tarde: {choivaTarde}%\")\n",
    "print(f\"Lluvias de noche: {choivaNoite}%\")"
   ]
  }
 ],
 "metadata": {
  "kernelspec": {
   "display_name": "systems",
   "language": "python",
   "name": "python3"
  },
  "language_info": {
   "codemirror_mode": {
    "name": "ipython",
    "version": 3
   },
   "file_extension": ".py",
   "mimetype": "text/x-python",
   "name": "python",
   "nbconvert_exporter": "python",
   "pygments_lexer": "ipython3",
   "version": "3.12.0"
  },
  "vscode": {
   "interpreter": {
    "hash": "63eb1e5c3aa5268319f56c3b664e0523445c946ec0f1445e261f1f92702f6b14"
   }
  }
 },
 "nbformat": 4,
 "nbformat_minor": 5
}
