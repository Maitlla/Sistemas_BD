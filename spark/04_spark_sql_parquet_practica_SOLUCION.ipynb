{
 "cells": [
  {
   "cell_type": "markdown",
   "id": "a26bafe4",
   "metadata": {},
   "source": [
    "### Dataframes, Spark SQL e Parquet - practica"
   ]
  },
  {
   "cell_type": "code",
   "execution_count": 13,
   "id": "40427984",
   "metadata": {},
   "outputs": [],
   "source": [
    "# Carga o ficheiro purchases.txt desde o sistema de ficheiros local"
   ]
  },
  {
   "cell_type": "code",
   "execution_count": 1,
   "id": "c03506d3",
   "metadata": {},
   "outputs": [
    {
     "name": "stderr",
     "output_type": "stream",
     "text": [
      "\r",
      "[Stage 0:>                                                          (0 + 1) / 1]\r",
      "\r",
      "                                                                                \r"
     ]
    }
   ],
   "source": [
    "df = spark.read.csv('file:///home/hduser/Descargas/purchases.txt',sep='\\t')"
   ]
  },
  {
   "cell_type": "code",
   "execution_count": 2,
   "id": "c34f9704",
   "metadata": {},
   "outputs": [
    {
     "name": "stdout",
     "output_type": "stream",
     "text": [
      "+----------+-----+--------------+--------------------+------+----------+\n",
      "|       _c0|  _c1|           _c2|                 _c3|   _c4|       _c5|\n",
      "+----------+-----+--------------+--------------------+------+----------+\n",
      "|2012-01-01|09:00|      San Jose|      Men's Clothing|214.05|      Amex|\n",
      "|2012-01-01|09:00|    Fort Worth|    Women's Clothing|153.57|      Visa|\n",
      "|2012-01-01|09:00|     San Diego|               Music| 66.08|      Cash|\n",
      "|2012-01-01|09:00|    Pittsburgh|        Pet Supplies|493.51|  Discover|\n",
      "|2012-01-01|09:00|         Omaha| Children's Clothing|235.63|MasterCard|\n",
      "|2012-01-01|09:00|      Stockton|      Men's Clothing|247.18|MasterCard|\n",
      "|2012-01-01|09:00|        Austin|             Cameras| 379.6|      Visa|\n",
      "|2012-01-01|09:00|      New York|Consumer Electronics| 296.8|      Cash|\n",
      "|2012-01-01|09:00|Corpus Christi|                Toys| 25.38|  Discover|\n",
      "|2012-01-01|09:00|    Fort Worth|                Toys|213.88|      Visa|\n",
      "|2012-01-01|09:00|     Las Vegas|         Video Games| 53.26|      Visa|\n",
      "|2012-01-01|09:00|        Newark|         Video Games| 39.75|      Cash|\n",
      "|2012-01-01|09:00|        Austin|             Cameras|469.63|MasterCard|\n",
      "|2012-01-01|09:00|    Greensboro|                DVDs|290.82|MasterCard|\n",
      "|2012-01-01|09:00| San Francisco|               Music|260.65|  Discover|\n",
      "|2012-01-01|09:00|       Lincoln|              Garden| 136.9|      Visa|\n",
      "|2012-01-01|09:00|       Buffalo|    Women's Clothing|483.82|      Visa|\n",
      "|2012-01-01|09:00|      San Jose|    Women's Clothing|215.82|      Cash|\n",
      "|2012-01-01|09:00|        Boston|             Cameras|418.94|      Amex|\n",
      "|2012-01-01|09:00|       Houston|                Baby|309.16|      Visa|\n",
      "+----------+-----+--------------+--------------------+------+----------+\n",
      "only showing top 20 rows\n",
      "\n"
     ]
    }
   ],
   "source": [
    "df.show()"
   ]
  },
  {
   "cell_type": "code",
   "execution_count": 3,
   "id": "5d0b566e",
   "metadata": {},
   "outputs": [
    {
     "name": "stdout",
     "output_type": "stream",
     "text": [
      "root\n",
      " |-- _c0: string (nullable = true)\n",
      " |-- _c1: string (nullable = true)\n",
      " |-- _c2: string (nullable = true)\n",
      " |-- _c3: string (nullable = true)\n",
      " |-- _c4: string (nullable = true)\n",
      " |-- _c5: string (nullable = true)\n",
      "\n"
     ]
    }
   ],
   "source": [
    "# De xeito predeterminado, read.csv, identifica todos os campos como texto\n",
    "df.printSchema()"
   ]
  },
  {
   "cell_type": "code",
   "execution_count": 12,
   "id": "7e601505",
   "metadata": {},
   "outputs": [
    {
     "name": "stderr",
     "output_type": "stream",
     "text": [
      "\r",
      "[Stage 10:>                                                         (0 + 2) / 2]\r"
     ]
    },
    {
     "name": "stdout",
     "output_type": "stream",
     "text": [
      "root\n",
      " |-- _c0: string (nullable = true)\n",
      " |-- _c1: string (nullable = true)\n",
      " |-- _c2: string (nullable = true)\n",
      " |-- _c3: string (nullable = true)\n",
      " |-- _c4: double (nullable = true)\n",
      " |-- _c5: string (nullable = true)\n",
      "\n"
     ]
    },
    {
     "name": "stderr",
     "output_type": "stream",
     "text": [
      "\r",
      "                                                                                \r"
     ]
    }
   ],
   "source": [
    "# Podemos utilizar a opción 'inferSchema' para que pyspark intente determinar os tipos de datos\n",
    "df = spark.read.csv('file:///home/hduser/Descargas/purchases.txt',sep='\\t',inferSchema=True)\n",
    "df.printSchema()"
   ]
  },
  {
   "cell_type": "code",
   "execution_count": 5,
   "id": "d6d3abff",
   "metadata": {},
   "outputs": [
    {
     "name": "stdout",
     "output_type": "stream",
     "text": [
      "root\n",
      " |-- data: string (nullable = true)\n",
      " |-- hora: string (nullable = true)\n",
      " |-- tenda: string (nullable = true)\n",
      " |-- categoria: string (nullable = true)\n",
      " |-- venda: string (nullable = true)\n",
      " |-- pago: string (nullable = true)\n",
      "\n"
     ]
    }
   ],
   "source": [
    "# Hai varias maneiras de indicar os nomes das columnas\n",
    "df = spark.read.csv('file:///home/hduser/Descargas/purchases.txt',sep='\\t')\n",
    "df = df.toDF('data','hora','tenda','categoria','venda','pago')\n",
    "df.printSchema()"
   ]
  },
  {
   "cell_type": "code",
   "execution_count": 6,
   "id": "883cc671",
   "metadata": {},
   "outputs": [
    {
     "name": "stdout",
     "output_type": "stream",
     "text": [
      "root\n",
      " |-- data: string (nullable = true)\n",
      " |-- hora: string (nullable = true)\n",
      " |-- tenda: string (nullable = true)\n",
      " |-- categoria: string (nullable = true)\n",
      " |-- venda: float (nullable = true)\n",
      " |-- pago: string (nullable = true)\n",
      "\n"
     ]
    }
   ],
   "source": [
    "# Existen tamén diferentes maneiras de mudar o tipo das columnas de xeito explícito\n",
    "# algúns tipos: int, float, double, date...\n",
    "# Referencia aos datatypes\n",
    "# https://spark.apache.org/docs/latest/sql-ref-datatypes.html\n",
    "# Un dos métodos é utilizar 'withColumn', que serve para tranformar unha columna\n",
    "# Neste caso engadimos un 'cast' a float para a columna vendas\n",
    "df = df.withColumn('venda',df.venda.cast('float'))\n",
    "df.printSchema()"
   ]
  },
  {
   "cell_type": "code",
   "execution_count": 7,
   "id": "3d80b4ff",
   "metadata": {},
   "outputs": [
    {
     "name": "stdout",
     "output_type": "stream",
     "text": [
      "root\n",
      " |-- data: date (nullable = true)\n",
      " |-- hora: string (nullable = true)\n",
      " |-- tenda: string (nullable = true)\n",
      " |-- categoria: string (nullable = true)\n",
      " |-- venda: float (nullable = true)\n",
      " |-- pago: string (nullable = true)\n",
      "\n"
     ]
    }
   ],
   "source": [
    "df = df.withColumn('data',df.data.cast('date'))\n",
    "df.printSchema()"
   ]
  },
  {
   "cell_type": "code",
   "execution_count": 66,
   "id": "bbd249fe",
   "metadata": {},
   "outputs": [],
   "source": [
    "# Non hai unha maneira directa de traballar con datatype específico para 'hora'"
   ]
  },
  {
   "cell_type": "code",
   "execution_count": 8,
   "id": "9ba8468d",
   "metadata": {},
   "outputs": [],
   "source": [
    "# Crea unha táboa sobre o dataframe para poder realizar consultas SQL"
   ]
  },
  {
   "cell_type": "code",
   "execution_count": 9,
   "id": "cdc82009",
   "metadata": {},
   "outputs": [],
   "source": [
    "df.createOrReplaceTempView('compras')"
   ]
  },
  {
   "cell_type": "code",
   "execution_count": 10,
   "id": "e152d994",
   "metadata": {},
   "outputs": [],
   "source": [
    "# Mostra os datos do dataframe"
   ]
  },
  {
   "cell_type": "code",
   "execution_count": 11,
   "id": "4786ec4c",
   "metadata": {},
   "outputs": [
    {
     "name": "stdout",
     "output_type": "stream",
     "text": [
      "+----------+-----+--------------+--------------------+------+----------+\n",
      "|      data| hora|         tenda|           categoria| venda|      pago|\n",
      "+----------+-----+--------------+--------------------+------+----------+\n",
      "|2012-01-01|09:00|      San Jose|      Men's Clothing|214.05|      Amex|\n",
      "|2012-01-01|09:00|    Fort Worth|    Women's Clothing|153.57|      Visa|\n",
      "|2012-01-01|09:00|     San Diego|               Music| 66.08|      Cash|\n",
      "|2012-01-01|09:00|    Pittsburgh|        Pet Supplies|493.51|  Discover|\n",
      "|2012-01-01|09:00|         Omaha| Children's Clothing|235.63|MasterCard|\n",
      "|2012-01-01|09:00|      Stockton|      Men's Clothing|247.18|MasterCard|\n",
      "|2012-01-01|09:00|        Austin|             Cameras| 379.6|      Visa|\n",
      "|2012-01-01|09:00|      New York|Consumer Electronics| 296.8|      Cash|\n",
      "|2012-01-01|09:00|Corpus Christi|                Toys| 25.38|  Discover|\n",
      "|2012-01-01|09:00|    Fort Worth|                Toys|213.88|      Visa|\n",
      "|2012-01-01|09:00|     Las Vegas|         Video Games| 53.26|      Visa|\n",
      "|2012-01-01|09:00|        Newark|         Video Games| 39.75|      Cash|\n",
      "|2012-01-01|09:00|        Austin|             Cameras|469.63|MasterCard|\n",
      "|2012-01-01|09:00|    Greensboro|                DVDs|290.82|MasterCard|\n",
      "|2012-01-01|09:00| San Francisco|               Music|260.65|  Discover|\n",
      "|2012-01-01|09:00|       Lincoln|              Garden| 136.9|      Visa|\n",
      "|2012-01-01|09:00|       Buffalo|    Women's Clothing|483.82|      Visa|\n",
      "|2012-01-01|09:00|      San Jose|    Women's Clothing|215.82|      Cash|\n",
      "|2012-01-01|09:00|        Boston|             Cameras|418.94|      Amex|\n",
      "|2012-01-01|09:00|       Houston|                Baby|309.16|      Visa|\n",
      "+----------+-----+--------------+--------------------+------+----------+\n",
      "only showing top 20 rows\n",
      "\n"
     ]
    }
   ],
   "source": [
    "df.show()"
   ]
  },
  {
   "cell_type": "code",
   "execution_count": 12,
   "id": "6650fb84",
   "metadata": {},
   "outputs": [],
   "source": [
    "# Mostra os datos da táboa cunha consulta SQL"
   ]
  },
  {
   "cell_type": "code",
   "execution_count": 13,
   "id": "7b97200d",
   "metadata": {},
   "outputs": [
    {
     "name": "stdout",
     "output_type": "stream",
     "text": [
      "+----------+-----+--------------+--------------------+------+----------+\n",
      "|      data| hora|         tenda|           categoria| venda|      pago|\n",
      "+----------+-----+--------------+--------------------+------+----------+\n",
      "|2012-01-01|09:00|      San Jose|      Men's Clothing|214.05|      Amex|\n",
      "|2012-01-01|09:00|    Fort Worth|    Women's Clothing|153.57|      Visa|\n",
      "|2012-01-01|09:00|     San Diego|               Music| 66.08|      Cash|\n",
      "|2012-01-01|09:00|    Pittsburgh|        Pet Supplies|493.51|  Discover|\n",
      "|2012-01-01|09:00|         Omaha| Children's Clothing|235.63|MasterCard|\n",
      "|2012-01-01|09:00|      Stockton|      Men's Clothing|247.18|MasterCard|\n",
      "|2012-01-01|09:00|        Austin|             Cameras| 379.6|      Visa|\n",
      "|2012-01-01|09:00|      New York|Consumer Electronics| 296.8|      Cash|\n",
      "|2012-01-01|09:00|Corpus Christi|                Toys| 25.38|  Discover|\n",
      "|2012-01-01|09:00|    Fort Worth|                Toys|213.88|      Visa|\n",
      "|2012-01-01|09:00|     Las Vegas|         Video Games| 53.26|      Visa|\n",
      "|2012-01-01|09:00|        Newark|         Video Games| 39.75|      Cash|\n",
      "|2012-01-01|09:00|        Austin|             Cameras|469.63|MasterCard|\n",
      "|2012-01-01|09:00|    Greensboro|                DVDs|290.82|MasterCard|\n",
      "|2012-01-01|09:00| San Francisco|               Music|260.65|  Discover|\n",
      "|2012-01-01|09:00|       Lincoln|              Garden| 136.9|      Visa|\n",
      "|2012-01-01|09:00|       Buffalo|    Women's Clothing|483.82|      Visa|\n",
      "|2012-01-01|09:00|      San Jose|    Women's Clothing|215.82|      Cash|\n",
      "|2012-01-01|09:00|        Boston|             Cameras|418.94|      Amex|\n",
      "|2012-01-01|09:00|       Houston|                Baby|309.16|      Visa|\n",
      "+----------+-----+--------------+--------------------+------+----------+\n",
      "only showing top 20 rows\n",
      "\n"
     ]
    }
   ],
   "source": [
    "spark.sql(\"SELECT * FROM compras\").show()"
   ]
  },
  {
   "cell_type": "code",
   "execution_count": 14,
   "id": "ac0ee7ee",
   "metadata": {},
   "outputs": [],
   "source": [
    "# Conta o número de vendas por tenda"
   ]
  },
  {
   "cell_type": "code",
   "execution_count": 15,
   "id": "407371ed",
   "metadata": {},
   "outputs": [
    {
     "name": "stderr",
     "output_type": "stream",
     "text": [
      "\r",
      "[Stage 6:>                                                          (0 + 2) / 2]\r"
     ]
    },
    {
     "name": "stdout",
     "output_type": "stream",
     "text": [
      "+---------------+------+\n",
      "|          tenda|vendas|\n",
      "+---------------+------+\n",
      "|North Las Vegas| 40013|\n",
      "|        Phoenix| 40333|\n",
      "|          Omaha| 40209|\n",
      "|      Anchorage| 39806|\n",
      "|        Anaheim| 40086|\n",
      "|     Greensboro| 40232|\n",
      "|         Dallas| 40368|\n",
      "|        Oakland| 39728|\n",
      "|         Laredo| 40342|\n",
      "|     Scottsdale| 40173|\n",
      "|    San Antonio| 40197|\n",
      "|    Bakersfield| 40326|\n",
      "|        Raleigh| 40261|\n",
      "|    Chula Vista| 40080|\n",
      "|   Philadelphia| 40748|\n",
      "|     Louisville| 40099|\n",
      "|    Los Angeles| 40254|\n",
      "|       Chandler| 39826|\n",
      "|     Sacramento| 40561|\n",
      "|   Indianapolis| 40321|\n",
      "+---------------+------+\n",
      "only showing top 20 rows\n",
      "\n"
     ]
    },
    {
     "name": "stderr",
     "output_type": "stream",
     "text": [
      "\r",
      "                                                                                \r"
     ]
    }
   ],
   "source": [
    "spark.sql(\"SELECT tenda, count(*) AS vendas FROM compras GROUP BY tenda\").show()"
   ]
  },
  {
   "cell_type": "code",
   "execution_count": 22,
   "id": "1dd5f794",
   "metadata": {},
   "outputs": [],
   "source": [
    "# Fai un total de vendas por categoría"
   ]
  },
  {
   "cell_type": "code",
   "execution_count": 23,
   "id": "254d5739",
   "metadata": {},
   "outputs": [
    {
     "name": "stderr",
     "output_type": "stream",
     "text": [
      "[Stage 17:=============================>                            (1 + 1) / 2]\r"
     ]
    },
    {
     "name": "stdout",
     "output_type": "stream",
     "text": [
      "+--------------------+--------------------+\n",
      "|           categoria|        total_vendas|\n",
      "+--------------------+--------------------+\n",
      "| Children's Clothing| 5.762482093999994E7|\n",
      "|      Sporting Goods| 5.759908588999996E7|\n",
      "|                 CDs| 5.741075303999995E7|\n",
      "|           Computers| 5.731540632000032E7|\n",
      "|Consumer Electronics|5.7452374130000055E7|\n",
      "|   Health and Beauty|5.7481589560001045E7|\n",
      "|        Pet Supplies| 5.719725023999971E7|\n",
      "|                DVDs| 5.764921214000037E7|\n",
      "|                Baby|5.7491808440000996E7|\n",
      "|              Crafts| 5.741815449999973E7|\n",
      "|    Women's Clothing| 5.743444896999931E7|\n",
      "|         Video Games| 5.751316558000001E7|\n",
      "|               Books| 5.745075790999974E7|\n",
      "|               Music| 5.749548970000029E7|\n",
      "|      Men's Clothing| 5.762127904000029E7|\n",
      "|             Cameras| 5.729904664000106E7|\n",
      "|              Garden| 5.753983310999994E7|\n",
      "|                Toys| 5.746347710999978E7|\n",
      "+--------------------+--------------------+\n",
      "\n"
     ]
    },
    {
     "name": "stderr",
     "output_type": "stream",
     "text": [
      "\r",
      "                                                                                \r"
     ]
    }
   ],
   "source": [
    "spark.sql(\"SELECT categoria, sum(venda) AS total_vendas FROM compras GROUP BY categoria\").show()"
   ]
  },
  {
   "cell_type": "code",
   "execution_count": 24,
   "id": "eae63e9d",
   "metadata": {},
   "outputs": [],
   "source": [
    "# Garda o dataframe en HDFS en formato parquet, con particións para as diferentes tendas"
   ]
  },
  {
   "cell_type": "code",
   "execution_count": 26,
   "id": "3b752bf5",
   "metadata": {},
   "outputs": [
    {
     "name": "stderr",
     "output_type": "stream",
     "text": [
      "                                                                                \r"
     ]
    }
   ],
   "source": [
    "df.write.partitionBy(\"tenda\").mode(\"overwrite\").parquet(\"output/purchases.parquet\")"
   ]
  },
  {
   "cell_type": "code",
   "execution_count": 27,
   "id": "04e3b5f6",
   "metadata": {},
   "outputs": [],
   "source": [
    "# Carga os datos da tenda de San Jose"
   ]
  },
  {
   "cell_type": "code",
   "execution_count": 28,
   "id": "f1be7852",
   "metadata": {},
   "outputs": [],
   "source": [
    "df_sanjose = spark.read.parquet(\"output/purchases.parquet/tenda=San Jose\")"
   ]
  },
  {
   "cell_type": "code",
   "execution_count": 29,
   "id": "cac3ef80",
   "metadata": {},
   "outputs": [],
   "source": [
    "# Mostra os datos do dataframe"
   ]
  },
  {
   "cell_type": "code",
   "execution_count": 30,
   "id": "29dcd5ba",
   "metadata": {},
   "outputs": [
    {
     "name": "stdout",
     "output_type": "stream",
     "text": [
      "+----------+-----+--------------------+------+----------+\n",
      "|      data| hora|           categoria| venda|      pago|\n",
      "+----------+-----+--------------------+------+----------+\n",
      "|2012-04-23|09:54|      Sporting Goods| 75.37|      Visa|\n",
      "|2012-01-01|09:00|      Men's Clothing|214.05|      Amex|\n",
      "|2012-04-23|09:55|    Women's Clothing|126.63|      Cash|\n",
      "|2012-01-01|09:00|    Women's Clothing|215.82|      Cash|\n",
      "|2012-04-23|10:00|                DVDs|392.57|MasterCard|\n",
      "|2012-01-01|09:09|                Toys|337.71|      Cash|\n",
      "|2012-04-23|10:11|              Crafts| 79.64|      Visa|\n",
      "|2012-01-01|09:17|              Garden|192.82|      Cash|\n",
      "|2012-04-23|10:12|                Toys|205.45|      Visa|\n",
      "|2012-01-01|09:19|             Cameras| 95.81|      Cash|\n",
      "|2012-04-23|10:18|                Baby| 24.25|      Amex|\n",
      "|2012-01-01|09:19|        Pet Supplies|253.33|  Discover|\n",
      "|2012-04-23|10:19|         Video Games|123.07|      Visa|\n",
      "|2012-01-01|09:20|           Computers| 160.6|      Amex|\n",
      "|2012-04-23|10:19|              Crafts| 95.34|      Visa|\n",
      "|2012-01-01|09:20|             Cameras|285.57|MasterCard|\n",
      "|2012-04-23|10:24|               Music|215.48|      Cash|\n",
      "|2012-01-01|09:22|                 CDs|250.46|      Cash|\n",
      "|2012-04-23|10:26|Consumer Electronics|151.92|      Visa|\n",
      "|2012-01-01|09:24|                DVDs|204.88|      Visa|\n",
      "+----------+-----+--------------------+------+----------+\n",
      "only showing top 20 rows\n",
      "\n"
     ]
    }
   ],
   "source": [
    "df_sanjose.show()"
   ]
  },
  {
   "cell_type": "code",
   "execution_count": 31,
   "id": "4e479007",
   "metadata": {},
   "outputs": [],
   "source": [
    "# Crea unha táboa sobre o dataframe dos datos de San Jose"
   ]
  },
  {
   "cell_type": "code",
   "execution_count": 32,
   "id": "ec4b0476",
   "metadata": {},
   "outputs": [],
   "source": [
    "df_sanjose.createOrReplaceTempView('compras_sanjose')"
   ]
  },
  {
   "cell_type": "code",
   "execution_count": 33,
   "id": "4fd70aaa",
   "metadata": {},
   "outputs": [],
   "source": [
    "# Mostra os datos da táboa"
   ]
  },
  {
   "cell_type": "code",
   "execution_count": 34,
   "id": "d0c156d8",
   "metadata": {},
   "outputs": [
    {
     "name": "stdout",
     "output_type": "stream",
     "text": [
      "+----------+-----+--------------------+------+----------+\n",
      "|      data| hora|           categoria| venda|      pago|\n",
      "+----------+-----+--------------------+------+----------+\n",
      "|2012-04-23|09:54|      Sporting Goods| 75.37|      Visa|\n",
      "|2012-01-01|09:00|      Men's Clothing|214.05|      Amex|\n",
      "|2012-04-23|09:55|    Women's Clothing|126.63|      Cash|\n",
      "|2012-01-01|09:00|    Women's Clothing|215.82|      Cash|\n",
      "|2012-04-23|10:00|                DVDs|392.57|MasterCard|\n",
      "|2012-01-01|09:09|                Toys|337.71|      Cash|\n",
      "|2012-04-23|10:11|              Crafts| 79.64|      Visa|\n",
      "|2012-01-01|09:17|              Garden|192.82|      Cash|\n",
      "|2012-04-23|10:12|                Toys|205.45|      Visa|\n",
      "|2012-01-01|09:19|             Cameras| 95.81|      Cash|\n",
      "|2012-04-23|10:18|                Baby| 24.25|      Amex|\n",
      "|2012-01-01|09:19|        Pet Supplies|253.33|  Discover|\n",
      "|2012-04-23|10:19|         Video Games|123.07|      Visa|\n",
      "|2012-01-01|09:20|           Computers| 160.6|      Amex|\n",
      "|2012-04-23|10:19|              Crafts| 95.34|      Visa|\n",
      "|2012-01-01|09:20|             Cameras|285.57|MasterCard|\n",
      "|2012-04-23|10:24|               Music|215.48|      Cash|\n",
      "|2012-01-01|09:22|                 CDs|250.46|      Cash|\n",
      "|2012-04-23|10:26|Consumer Electronics|151.92|      Visa|\n",
      "|2012-01-01|09:24|                DVDs|204.88|      Visa|\n",
      "+----------+-----+--------------------+------+----------+\n",
      "only showing top 20 rows\n",
      "\n"
     ]
    }
   ],
   "source": [
    "spark.sql(\"SELECT * FROM compras_sanjose\").show()"
   ]
  },
  {
   "cell_type": "code",
   "execution_count": 35,
   "id": "d46d8846",
   "metadata": {},
   "outputs": [],
   "source": [
    "# Consulta o total de vendas de San José por tipo de elementos (categoría)"
   ]
  },
  {
   "cell_type": "code",
   "execution_count": 36,
   "id": "eaa7ff30",
   "metadata": {},
   "outputs": [
    {
     "name": "stdout",
     "output_type": "stream",
     "text": [
      "+--------------------+-----------------+\n",
      "|           categoria|       sum(venda)|\n",
      "+--------------------+-----------------+\n",
      "| Children's Clothing|549454.2400000002|\n",
      "|      Sporting Goods|540678.4099999999|\n",
      "|           Computers|561784.7000000001|\n",
      "|                 CDs|586499.6699999999|\n",
      "|Consumer Electronics|556462.0700000003|\n",
      "|   Health and Beauty|553600.1900000002|\n",
      "|        Pet Supplies|540508.1199999999|\n",
      "|                DVDs|569417.1900000002|\n",
      "|                Baby|566853.5200000006|\n",
      "|              Crafts|548947.0099999993|\n",
      "|    Women's Clothing|540482.1600000001|\n",
      "|         Video Games|573047.9199999998|\n",
      "|               Books|         522989.8|\n",
      "|               Music|550085.7599999995|\n",
      "|      Men's Clothing|551148.6200000006|\n",
      "|              Garden|559343.9099999996|\n",
      "|             Cameras|527568.3399999999|\n",
      "|                Toys|537849.7799999998|\n",
      "+--------------------+-----------------+\n",
      "\n"
     ]
    }
   ],
   "source": [
    "spark.sql(\"SELECT categoria, sum(venda) FROM compras_sanjose GROUP BY categoria\").show()"
   ]
  },
  {
   "cell_type": "code",
   "execution_count": null,
   "id": "d4160b24",
   "metadata": {},
   "outputs": [],
   "source": []
  },
  {
   "cell_type": "code",
   "execution_count": null,
   "id": "d9b0376b",
   "metadata": {},
   "outputs": [],
   "source": []
  }
 ],
 "metadata": {
  "kernelspec": {
   "display_name": "Python 3 (ipykernel)",
   "language": "python",
   "name": "python3"
  },
  "language_info": {
   "codemirror_mode": {
    "name": "ipython",
    "version": 3
   },
   "file_extension": ".py",
   "mimetype": "text/x-python",
   "name": "python",
   "nbconvert_exporter": "python",
   "pygments_lexer": "ipython3",
   "version": "3.8.10"
  }
 },
 "nbformat": 4,
 "nbformat_minor": 5
}
