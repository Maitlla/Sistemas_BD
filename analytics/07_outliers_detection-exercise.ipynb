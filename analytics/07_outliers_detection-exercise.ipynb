{
 "cells": [
  {
   "attachments": {},
   "cell_type": "markdown",
   "metadata": {},
   "source": [
    "# Exercise 7. Outliers detection"
   ]
  },
  {
   "cell_type": "code",
   "execution_count": 1,
   "metadata": {},
   "outputs": [],
   "source": [
    "import pandas as pd\n",
    "import matplotlib.pyplot as plt\n",
    "import seaborn as sns"
   ]
  },
  {
   "cell_type": "code",
   "execution_count": 1,
   "metadata": {},
   "outputs": [],
   "source": [
    "# Load the dataset with population data of Galician counties 'concellos_con_poboacion.csv'\n",
    "# Cargar el dataset con los datos de población de las comarcas gallegas 'concellos_con_poboacion.csv'"
   ]
  },
  {
   "cell_type": "code",
   "execution_count": 2,
   "metadata": {},
   "outputs": [
    {
     "data": {
      "text/html": [
       "<div>\n",
       "<style scoped>\n",
       "    .dataframe tbody tr th:only-of-type {\n",
       "        vertical-align: middle;\n",
       "    }\n",
       "\n",
       "    .dataframe tbody tr th {\n",
       "        vertical-align: top;\n",
       "    }\n",
       "\n",
       "    .dataframe thead th {\n",
       "        text-align: right;\n",
       "    }\n",
       "</style>\n",
       "<table border=\"1\" class=\"dataframe\">\n",
       "  <thead>\n",
       "    <tr style=\"text-align: right;\">\n",
       "      <th></th>\n",
       "      <th>CODIGOINE</th>\n",
       "      <th>poboacion</th>\n",
       "    </tr>\n",
       "    <tr>\n",
       "      <th>Concello</th>\n",
       "      <th></th>\n",
       "      <th></th>\n",
       "    </tr>\n",
       "  </thead>\n",
       "  <tbody>\n",
       "    <tr>\n",
       "      <th>Sarreaus</th>\n",
       "      <td>32078</td>\n",
       "      <td>1114.0</td>\n",
       "    </tr>\n",
       "    <tr>\n",
       "      <th>Taboadela</th>\n",
       "      <td>32079</td>\n",
       "      <td>1452.0</td>\n",
       "    </tr>\n",
       "    <tr>\n",
       "      <th>Bola, A</th>\n",
       "      <td>32014</td>\n",
       "      <td>1075.0</td>\n",
       "    </tr>\n",
       "    <tr>\n",
       "      <th>Maside</th>\n",
       "      <td>32045</td>\n",
       "      <td>2718.0</td>\n",
       "    </tr>\n",
       "    <tr>\n",
       "      <th>Trasmiras</th>\n",
       "      <td>32082</td>\n",
       "      <td>1261.0</td>\n",
       "    </tr>\n",
       "    <tr>\n",
       "      <th>...</th>\n",
       "      <td>...</td>\n",
       "      <td>...</td>\n",
       "    </tr>\n",
       "    <tr>\n",
       "      <th>Salvaterra de Miño</th>\n",
       "      <td>36050</td>\n",
       "      <td>10048.0</td>\n",
       "    </tr>\n",
       "    <tr>\n",
       "      <th>Sanxenxo</th>\n",
       "      <td>36051</td>\n",
       "      <td>17635.0</td>\n",
       "    </tr>\n",
       "    <tr>\n",
       "      <th>Silleda</th>\n",
       "      <td>36052</td>\n",
       "      <td>8845.0</td>\n",
       "    </tr>\n",
       "    <tr>\n",
       "      <th>Soutomaior</th>\n",
       "      <td>36053</td>\n",
       "      <td>7482.0</td>\n",
       "    </tr>\n",
       "    <tr>\n",
       "      <th>Cerdedo-Cotobade</th>\n",
       "      <td>36011</td>\n",
       "      <td>NaN</td>\n",
       "    </tr>\n",
       "  </tbody>\n",
       "</table>\n",
       "<p>313 rows × 2 columns</p>\n",
       "</div>"
      ],
      "text/plain": [
       "                    CODIGOINE  poboacion\n",
       "Concello                                \n",
       "Sarreaus                32078     1114.0\n",
       "Taboadela               32079     1452.0\n",
       "Bola, A                 32014     1075.0\n",
       "Maside                  32045     2718.0\n",
       "Trasmiras               32082     1261.0\n",
       "...                       ...        ...\n",
       "Salvaterra de Miño      36050    10048.0\n",
       "Sanxenxo                36051    17635.0\n",
       "Silleda                 36052     8845.0\n",
       "Soutomaior              36053     7482.0\n",
       "Cerdedo-Cotobade        36011        NaN\n",
       "\n",
       "[313 rows x 2 columns]"
      ]
     },
     "execution_count": 2,
     "metadata": {},
     "output_type": "execute_result"
    }
   ],
   "source": [
    "# We load a dataset with example data: length of rivers, in miles\n",
    "# Cargamos un conjunto de datos con datos de ejemplo: longitud de los ríos, en millas\n",
    "concello = pd.read_csv('../datasets/concellos_con_poboacion.csv',index_col=0)\n",
    "concello"
   ]
  },
  {
   "cell_type": "code",
   "execution_count": 4,
   "metadata": {},
   "outputs": [
    {
     "name": "stdout",
     "output_type": "stream",
     "text": [
      "<class 'pandas.core.frame.DataFrame'>\n",
      "Index: 313 entries, Sarreaus to Cerdedo-Cotobade\n",
      "Data columns (total 2 columns):\n",
      " #   Column     Non-Null Count  Dtype  \n",
      "---  ------     --------------  -----  \n",
      " 0   CODIGOINE  313 non-null    int64  \n",
      " 1   poboacion  312 non-null    float64\n",
      "dtypes: float64(1), int64(1)\n",
      "memory usage: 15.4+ KB\n"
     ]
    }
   ],
   "source": [
    "concello.info()"
   ]
  },
  {
   "cell_type": "code",
   "execution_count": 2,
   "metadata": {},
   "outputs": [],
   "source": [
    "# Shows the distribution of population data with a histogram\n",
    "# Muestra la distribución de los datos de población con un histograma"
   ]
  },
  {
   "cell_type": "code",
   "execution_count": 3,
   "metadata": {},
   "outputs": [
    {
     "name": "stderr",
     "output_type": "stream",
     "text": [
      "/home/xuwira30/miniconda3/envs/sistemas/lib/python3.12/site-packages/seaborn/_oldcore.py:1119: FutureWarning: use_inf_as_na option is deprecated and will be removed in a future version. Convert inf values to NaN before operating instead.\n",
      "  with pd.option_context('mode.use_inf_as_na', True):\n"
     ]
    },
    {
     "data": {
      "text/plain": [
       "<seaborn.axisgrid.FacetGrid at 0x7f92d9ee0ad0>"
      ]
     },
     "execution_count": 3,
     "metadata": {},
     "output_type": "execute_result"
    },
    {
     "data": {
      "image/png": "[encoded data removed]",
      "text/plain": [
       "<Figure size 500x500 with 1 Axes>"
      ]
     },
     "metadata": {},
     "output_type": "display_data"
    }
   ],
   "source": [
    "sns.displot(data=concello,x='poboacion')"
   ]
  },
  {
   "cell_type": "code",
   "execution_count": 3,
   "metadata": {},
   "outputs": [],
   "source": [
    "# Shows the distribution of population data with a boxplot\n",
    "# Muestra la distribución de los datos de población con un boxplot"
   ]
  },
  {
   "cell_type": "code",
   "execution_count": 10,
   "metadata": {},
   "outputs": [
    {
     "name": "stderr",
     "output_type": "stream",
     "text": [
      "/home/xuwira30/miniconda3/envs/sistemas/lib/python3.12/site-packages/seaborn/_oldcore.py:1498: FutureWarning: is_categorical_dtype is deprecated and will be removed in a future version. Use isinstance(dtype, CategoricalDtype) instead\n",
      "  if pd.api.types.is_categorical_dtype(vector):\n"
     ]
    },
    {
     "data": {
      "text/plain": [
       "<Axes: xlabel='poboacion'>"
      ]
     },
     "execution_count": 10,
     "metadata": {},
     "output_type": "execute_result"
    },
    {
     "data": {
      "image/png": "[encoded data removed]",
      "text/plain": [
       "<Figure size 640x480 with 1 Axes>"
      ]
     },
     "metadata": {},
     "output_type": "display_data"
    }
   ],
   "source": [
    "sns.boxplot(data=concello,x='poboacion')"
   ]
  },
  {
   "cell_type": "code",
   "execution_count": 4,
   "metadata": {},
   "outputs": [],
   "source": [
    "# Show statistics with the function describe\n",
    "# Mostrar estadísticas con la función describe"
   ]
  },
  {
   "cell_type": "code",
   "execution_count": 11,
   "metadata": {},
   "outputs": [
    {
     "data": {
      "text/html": [
       "<div>\n",
       "<style scoped>\n",
       "    .dataframe tbody tr th:only-of-type {\n",
       "        vertical-align: middle;\n",
       "    }\n",
       "\n",
       "    .dataframe tbody tr th {\n",
       "        vertical-align: top;\n",
       "    }\n",
       "\n",
       "    .dataframe thead th {\n",
       "        text-align: right;\n",
       "    }\n",
       "</style>\n",
       "<table border=\"1\" class=\"dataframe\">\n",
       "  <thead>\n",
       "    <tr style=\"text-align: right;\">\n",
       "      <th></th>\n",
       "      <th>CODIGOINE</th>\n",
       "      <th>poboacion</th>\n",
       "    </tr>\n",
       "  </thead>\n",
       "  <tbody>\n",
       "    <tr>\n",
       "      <th>count</th>\n",
       "      <td>313.000000</td>\n",
       "      <td>312.000000</td>\n",
       "    </tr>\n",
       "    <tr>\n",
       "      <th>mean</th>\n",
       "      <td>26712.846645</td>\n",
       "      <td>8621.557692</td>\n",
       "    </tr>\n",
       "    <tr>\n",
       "      <th>std</th>\n",
       "      <td>8117.474679</td>\n",
       "      <td>24631.368696</td>\n",
       "    </tr>\n",
       "    <tr>\n",
       "      <th>min</th>\n",
       "      <td>15001.000000</td>\n",
       "      <td>223.000000</td>\n",
       "    </tr>\n",
       "    <tr>\n",
       "      <th>25%</th>\n",
       "      <td>15081.000000</td>\n",
       "      <td>1405.500000</td>\n",
       "    </tr>\n",
       "    <tr>\n",
       "      <th>50%</th>\n",
       "      <td>27065.000000</td>\n",
       "      <td>2988.500000</td>\n",
       "    </tr>\n",
       "    <tr>\n",
       "      <th>75%</th>\n",
       "      <td>32075.000000</td>\n",
       "      <td>6785.500000</td>\n",
       "    </tr>\n",
       "    <tr>\n",
       "      <th>max</th>\n",
       "      <td>36901.000000</td>\n",
       "      <td>293837.000000</td>\n",
       "    </tr>\n",
       "  </tbody>\n",
       "</table>\n",
       "</div>"
      ],
      "text/plain": [
       "          CODIGOINE      poboacion\n",
       "count    313.000000     312.000000\n",
       "mean   26712.846645    8621.557692\n",
       "std     8117.474679   24631.368696\n",
       "min    15001.000000     223.000000\n",
       "25%    15081.000000    1405.500000\n",
       "50%    27065.000000    2988.500000\n",
       "75%    32075.000000    6785.500000\n",
       "max    36901.000000  293837.000000"
      ]
     },
     "execution_count": 11,
     "metadata": {},
     "output_type": "execute_result"
    }
   ],
   "source": [
    "concello.describe()"
   ]
  },
  {
   "cell_type": "code",
   "execution_count": 5,
   "metadata": {},
   "outputs": [],
   "source": [
    "# Shows a list (dataframe) of the municipalities that could be considered outliers\n",
    "# Muestra una lista (dataframe) de los municipios que podrían considerarse atípicos"
   ]
  },
  {
   "cell_type": "code",
   "execution_count": 5,
   "metadata": {},
   "outputs": [
    {
     "data": {
      "text/plain": [
       "'Whiskers: -6664.5/14855.5'"
      ]
     },
     "execution_count": 5,
     "metadata": {},
     "output_type": "execute_result"
    }
   ],
   "source": [
    "Q1 = concello.poboacion.quantile(0.25)\n",
    "Q3 = concello.poboacion.quantile(0.75)\n",
    "IQR = Q3 - Q1\n",
    "BI = (Q1 - 1.5 * IQR)\n",
    "BS = (Q3 + 1.5 * IQR)\n",
    "f'Whiskers: {BI}/{BS}'"
   ]
  },
  {
   "cell_type": "code",
   "execution_count": 7,
   "metadata": {},
   "outputs": [
    {
     "data": {
      "text/plain": [
       "'223.0/293837.0'"
      ]
     },
     "execution_count": 7,
     "metadata": {},
     "output_type": "execute_result"
    }
   ],
   "source": [
    "minimo = concello.poboacion.min()\n",
    "maximo = concello.poboacion.max()\n",
    "f'{minimo}/{maximo}'"
   ]
  },
  {
   "cell_type": "markdown",
   "metadata": {},
   "source": [
    "BI es inferior al mínimo, por lo que el bigote izquierdo será el mínimo"
   ]
  },
  {
   "cell_type": "code",
   "execution_count": 8,
   "metadata": {},
   "outputs": [
    {
     "data": {
      "text/html": [
       "<div>\n",
       "<style scoped>\n",
       "    .dataframe tbody tr th:only-of-type {\n",
       "        vertical-align: middle;\n",
       "    }\n",
       "\n",
       "    .dataframe tbody tr th {\n",
       "        vertical-align: top;\n",
       "    }\n",
       "\n",
       "    .dataframe thead th {\n",
       "        text-align: right;\n",
       "    }\n",
       "</style>\n",
       "<table border=\"1\" class=\"dataframe\">\n",
       "  <thead>\n",
       "    <tr style=\"text-align: right;\">\n",
       "      <th></th>\n",
       "      <th>CODIGOINE</th>\n",
       "      <th>poboacion</th>\n",
       "    </tr>\n",
       "    <tr>\n",
       "      <th>Concello</th>\n",
       "      <th></th>\n",
       "      <th></th>\n",
       "    </tr>\n",
       "  </thead>\n",
       "  <tbody>\n",
       "    <tr>\n",
       "      <th>Gondomar</th>\n",
       "      <td>36021</td>\n",
       "      <td>14920.0</td>\n",
       "    </tr>\n",
       "    <tr>\n",
       "      <th>Mos</th>\n",
       "      <td>36033</td>\n",
       "      <td>15190.0</td>\n",
       "    </tr>\n",
       "    <tr>\n",
       "      <th>Viveiro</th>\n",
       "      <td>27066</td>\n",
       "      <td>15312.0</td>\n",
       "    </tr>\n",
       "    <tr>\n",
       "      <th>Sada</th>\n",
       "      <td>15075</td>\n",
       "      <td>16382.0</td>\n",
       "    </tr>\n",
       "    <tr>\n",
       "      <th>Poio</th>\n",
       "      <td>36041</td>\n",
       "      <td>17230.0</td>\n",
       "    </tr>\n",
       "    <tr>\n",
       "      <th>Tui</th>\n",
       "      <td>36055</td>\n",
       "      <td>17398.0</td>\n",
       "    </tr>\n",
       "    <tr>\n",
       "      <th>Sanxenxo</th>\n",
       "      <td>36051</td>\n",
       "      <td>17635.0</td>\n",
       "    </tr>\n",
       "    <tr>\n",
       "      <th>Nigrán</th>\n",
       "      <td>36035</td>\n",
       "      <td>18005.0</td>\n",
       "    </tr>\n",
       "    <tr>\n",
       "      <th>Monforte de Lemos</th>\n",
       "      <td>27031</td>\n",
       "      <td>18242.0</td>\n",
       "    </tr>\n",
       "    <tr>\n",
       "      <th>Teo</th>\n",
       "      <td>15082</td>\n",
       "      <td>18778.0</td>\n",
       "    </tr>\n",
       "    <tr>\n",
       "      <th>Boiro</th>\n",
       "      <td>15011</td>\n",
       "      <td>18955.0</td>\n",
       "    </tr>\n",
       "    <tr>\n",
       "      <th>Moaña</th>\n",
       "      <td>36029</td>\n",
       "      <td>19496.0</td>\n",
       "    </tr>\n",
       "    <tr>\n",
       "      <th>Lalín</th>\n",
       "      <td>36024</td>\n",
       "      <td>20199.0</td>\n",
       "    </tr>\n",
       "    <tr>\n",
       "      <th>Porriño, O</th>\n",
       "      <td>36039</td>\n",
       "      <td>20212.0</td>\n",
       "    </tr>\n",
       "    <tr>\n",
       "      <th>Estrada, A</th>\n",
       "      <td>36017</td>\n",
       "      <td>20261.0</td>\n",
       "    </tr>\n",
       "    <tr>\n",
       "      <th>Ponteareas</th>\n",
       "      <td>36042</td>\n",
       "      <td>22942.0</td>\n",
       "    </tr>\n",
       "    <tr>\n",
       "      <th>Marín</th>\n",
       "      <td>36026</td>\n",
       "      <td>24248.0</td>\n",
       "    </tr>\n",
       "    <tr>\n",
       "      <th>Cambre</th>\n",
       "      <td>15017</td>\n",
       "      <td>24616.0</td>\n",
       "    </tr>\n",
       "    <tr>\n",
       "      <th>Cangas</th>\n",
       "      <td>36008</td>\n",
       "      <td>26708.0</td>\n",
       "    </tr>\n",
       "    <tr>\n",
       "      <th>Ribeira</th>\n",
       "      <td>15073</td>\n",
       "      <td>26839.0</td>\n",
       "    </tr>\n",
       "    <tr>\n",
       "      <th>Redondela</th>\n",
       "      <td>36045</td>\n",
       "      <td>29192.0</td>\n",
       "    </tr>\n",
       "    <tr>\n",
       "      <th>Culleredo</th>\n",
       "      <td>15031</td>\n",
       "      <td>30758.0</td>\n",
       "    </tr>\n",
       "    <tr>\n",
       "      <th>Carballo</th>\n",
       "      <td>15019</td>\n",
       "      <td>31414.0</td>\n",
       "    </tr>\n",
       "    <tr>\n",
       "      <th>Ames</th>\n",
       "      <td>15002</td>\n",
       "      <td>31993.0</td>\n",
       "    </tr>\n",
       "    <tr>\n",
       "      <th>Arteixo</th>\n",
       "      <td>15005</td>\n",
       "      <td>32894.0</td>\n",
       "    </tr>\n",
       "    <tr>\n",
       "      <th>Oleiros</th>\n",
       "      <td>15058</td>\n",
       "      <td>36922.0</td>\n",
       "    </tr>\n",
       "    <tr>\n",
       "      <th>Vilagarcía de Arousa</th>\n",
       "      <td>36060</td>\n",
       "      <td>37545.0</td>\n",
       "    </tr>\n",
       "    <tr>\n",
       "      <th>Narón</th>\n",
       "      <td>15054</td>\n",
       "      <td>38913.0</td>\n",
       "    </tr>\n",
       "    <tr>\n",
       "      <th>Ferrol</th>\n",
       "      <td>15036</td>\n",
       "      <td>64785.0</td>\n",
       "    </tr>\n",
       "    <tr>\n",
       "      <th>Pontevedra</th>\n",
       "      <td>36038</td>\n",
       "      <td>83114.0</td>\n",
       "    </tr>\n",
       "    <tr>\n",
       "      <th>Lugo</th>\n",
       "      <td>27028</td>\n",
       "      <td>97613.0</td>\n",
       "    </tr>\n",
       "    <tr>\n",
       "      <th>Santiago de Compostela</th>\n",
       "      <td>15078</td>\n",
       "      <td>97858.0</td>\n",
       "    </tr>\n",
       "    <tr>\n",
       "      <th>Ourense</th>\n",
       "      <td>32054</td>\n",
       "      <td>104596.0</td>\n",
       "    </tr>\n",
       "    <tr>\n",
       "      <th>Coruña, A</th>\n",
       "      <td>15030</td>\n",
       "      <td>245468.0</td>\n",
       "    </tr>\n",
       "    <tr>\n",
       "      <th>Vigo</th>\n",
       "      <td>36057</td>\n",
       "      <td>293837.0</td>\n",
       "    </tr>\n",
       "  </tbody>\n",
       "</table>\n",
       "</div>"
      ],
      "text/plain": [
       "                        CODIGOINE  poboacion\n",
       "Concello                                    \n",
       "Gondomar                    36021    14920.0\n",
       "Mos                         36033    15190.0\n",
       "Viveiro                     27066    15312.0\n",
       "Sada                        15075    16382.0\n",
       "Poio                        36041    17230.0\n",
       "Tui                         36055    17398.0\n",
       "Sanxenxo                    36051    17635.0\n",
       "Nigrán                      36035    18005.0\n",
       "Monforte de Lemos           27031    18242.0\n",
       "Teo                         15082    18778.0\n",
       "Boiro                       15011    18955.0\n",
       "Moaña                       36029    19496.0\n",
       "Lalín                       36024    20199.0\n",
       "Porriño, O                  36039    20212.0\n",
       "Estrada, A                  36017    20261.0\n",
       "Ponteareas                  36042    22942.0\n",
       "Marín                       36026    24248.0\n",
       "Cambre                      15017    24616.0\n",
       "Cangas                      36008    26708.0\n",
       "Ribeira                     15073    26839.0\n",
       "Redondela                   36045    29192.0\n",
       "Culleredo                   15031    30758.0\n",
       "Carballo                    15019    31414.0\n",
       "Ames                        15002    31993.0\n",
       "Arteixo                     15005    32894.0\n",
       "Oleiros                     15058    36922.0\n",
       "Vilagarcía de Arousa        36060    37545.0\n",
       "Narón                       15054    38913.0\n",
       "Ferrol                      15036    64785.0\n",
       "Pontevedra                  36038    83114.0\n",
       "Lugo                        27028    97613.0\n",
       "Santiago de Compostela      15078    97858.0\n",
       "Ourense                     32054   104596.0\n",
       "Coruña, A                   15030   245468.0\n",
       "Vigo                        36057   293837.0"
      ]
     },
     "execution_count": 8,
     "metadata": {},
     "output_type": "execute_result"
    }
   ],
   "source": [
    "outliers = concello[(concello.poboacion < BI) | (concello.poboacion > BS)].sort_values('poboacion')\n",
    "outliers"
   ]
  },
  {
   "cell_type": "code",
   "execution_count": 6,
   "metadata": {},
   "outputs": [],
   "source": [
    "# Create a new dataframe eliminating the outliers\n",
    "# Crear un nuevo dataframe eliminando los valores atípicos"
   ]
  },
  {
   "cell_type": "code",
   "execution_count": 11,
   "metadata": {},
   "outputs": [
    {
     "data": {
      "text/html": [
       "<div>\n",
       "<style scoped>\n",
       "    .dataframe tbody tr th:only-of-type {\n",
       "        vertical-align: middle;\n",
       "    }\n",
       "\n",
       "    .dataframe tbody tr th {\n",
       "        vertical-align: top;\n",
       "    }\n",
       "\n",
       "    .dataframe thead th {\n",
       "        text-align: right;\n",
       "    }\n",
       "</style>\n",
       "<table border=\"1\" class=\"dataframe\">\n",
       "  <thead>\n",
       "    <tr style=\"text-align: right;\">\n",
       "      <th></th>\n",
       "      <th>CODIGOINE</th>\n",
       "      <th>poboacion</th>\n",
       "    </tr>\n",
       "    <tr>\n",
       "      <th>Concello</th>\n",
       "      <th></th>\n",
       "      <th></th>\n",
       "    </tr>\n",
       "  </thead>\n",
       "  <tbody>\n",
       "    <tr>\n",
       "      <th>Negueira de Muñiz</th>\n",
       "      <td>27035</td>\n",
       "      <td>223.0</td>\n",
       "    </tr>\n",
       "    <tr>\n",
       "      <th>Teixeira, A</th>\n",
       "      <td>32080</td>\n",
       "      <td>336.0</td>\n",
       "    </tr>\n",
       "    <tr>\n",
       "      <th>Beade</th>\n",
       "      <td>32010</td>\n",
       "      <td>379.0</td>\n",
       "    </tr>\n",
       "    <tr>\n",
       "      <th>Larouco</th>\n",
       "      <td>32038</td>\n",
       "      <td>427.0</td>\n",
       "    </tr>\n",
       "    <tr>\n",
       "      <th>Chandrexa de Queixa</th>\n",
       "      <td>32029</td>\n",
       "      <td>482.0</td>\n",
       "    </tr>\n",
       "    <tr>\n",
       "      <th>...</th>\n",
       "      <td>...</td>\n",
       "      <td>...</td>\n",
       "    </tr>\n",
       "    <tr>\n",
       "      <th>Cambados</th>\n",
       "      <td>36006</td>\n",
       "      <td>13673.0</td>\n",
       "    </tr>\n",
       "    <tr>\n",
       "      <th>Tomiño</th>\n",
       "      <td>36054</td>\n",
       "      <td>13730.0</td>\n",
       "    </tr>\n",
       "    <tr>\n",
       "      <th>Carballiño, O</th>\n",
       "      <td>32019</td>\n",
       "      <td>13911.0</td>\n",
       "    </tr>\n",
       "    <tr>\n",
       "      <th>Vilalba</th>\n",
       "      <td>27065</td>\n",
       "      <td>14006.0</td>\n",
       "    </tr>\n",
       "    <tr>\n",
       "      <th>Noia</th>\n",
       "      <td>15057</td>\n",
       "      <td>14240.0</td>\n",
       "    </tr>\n",
       "  </tbody>\n",
       "</table>\n",
       "<p>277 rows × 2 columns</p>\n",
       "</div>"
      ],
      "text/plain": [
       "                     CODIGOINE  poboacion\n",
       "Concello                                 \n",
       "Negueira de Muñiz        27035      223.0\n",
       "Teixeira, A              32080      336.0\n",
       "Beade                    32010      379.0\n",
       "Larouco                  32038      427.0\n",
       "Chandrexa de Queixa      32029      482.0\n",
       "...                        ...        ...\n",
       "Cambados                 36006    13673.0\n",
       "Tomiño                   36054    13730.0\n",
       "Carballiño, O            32019    13911.0\n",
       "Vilalba                  27065    14006.0\n",
       "Noia                     15057    14240.0\n",
       "\n",
       "[277 rows x 2 columns]"
      ]
     },
     "execution_count": 11,
     "metadata": {},
     "output_type": "execute_result"
    }
   ],
   "source": [
    "concello_nooutliers = concello[(concello.poboacion >= BI) & (concello.poboacion <= BS)].sort_values('poboacion')\n",
    "concello_nooutliers"
   ]
  },
  {
   "cell_type": "code",
   "execution_count": 7,
   "metadata": {},
   "outputs": [],
   "source": [
    "# Draw a new boxplot on the new dataframe\n",
    "# Dibuja un nuevo boxplot en el nuevo marco de datos"
   ]
  },
  {
   "cell_type": "code",
   "execution_count": 12,
   "metadata": {},
   "outputs": [
    {
     "data": {
      "text/plain": [
       "<Axes: xlabel='poboacion'>"
      ]
     },
     "execution_count": 12,
     "metadata": {},
     "output_type": "execute_result"
    },
    {
     "data": {
      "image/png": "[encoded data removed]",
      "text/plain": [
       "<Figure size 640x480 with 1 Axes>"
      ]
     },
     "metadata": {},
     "output_type": "display_data"
    }
   ],
   "source": [
    "sns.boxplot(data=concello_nooutliers,x='poboacion')"
   ]
  },
  {
   "cell_type": "code",
   "execution_count": 9,
   "metadata": {},
   "outputs": [],
   "source": [
    "# Are there more outliers? What are they?\n",
    "# ¿Hay más valores atípicos? ¿Cuáles son?"
   ]
  },
  {
   "cell_type": "code",
   "execution_count": 13,
   "metadata": {},
   "outputs": [
    {
     "data": {
      "text/plain": [
       "'Whiskers: -4463.0/10929.0'"
      ]
     },
     "execution_count": 13,
     "metadata": {},
     "output_type": "execute_result"
    }
   ],
   "source": [
    "Q1 = concello_nooutliers.poboacion.quantile(0.25)\n",
    "Q3 = concello_nooutliers.poboacion.quantile(0.75)\n",
    "IQR = Q3 - Q1\n",
    "BI = (Q1 - 1.5 * IQR)\n",
    "BS = (Q3 + 1.5 * IQR)\n",
    "f'Whiskers: {BI}/{BS}'"
   ]
  },
  {
   "cell_type": "code",
   "execution_count": 14,
   "metadata": {},
   "outputs": [
    {
     "data": {
      "text/html": [
       "<div>\n",
       "<style scoped>\n",
       "    .dataframe tbody tr th:only-of-type {\n",
       "        vertical-align: middle;\n",
       "    }\n",
       "\n",
       "    .dataframe tbody tr th {\n",
       "        vertical-align: top;\n",
       "    }\n",
       "\n",
       "    .dataframe thead th {\n",
       "        text-align: right;\n",
       "    }\n",
       "</style>\n",
       "<table border=\"1\" class=\"dataframe\">\n",
       "  <thead>\n",
       "    <tr style=\"text-align: right;\">\n",
       "      <th></th>\n",
       "      <th>CODIGOINE</th>\n",
       "      <th>poboacion</th>\n",
       "    </tr>\n",
       "    <tr>\n",
       "      <th>Concello</th>\n",
       "      <th></th>\n",
       "      <th></th>\n",
       "    </tr>\n",
       "  </thead>\n",
       "  <tbody>\n",
       "    <tr>\n",
       "      <th>Rianxo</th>\n",
       "      <td>15072</td>\n",
       "      <td>11004.0</td>\n",
       "    </tr>\n",
       "    <tr>\n",
       "      <th>Barbadás</th>\n",
       "      <td>32008</td>\n",
       "      <td>11022.0</td>\n",
       "    </tr>\n",
       "    <tr>\n",
       "      <th>Laracha, A</th>\n",
       "      <td>15041</td>\n",
       "      <td>11521.0</td>\n",
       "    </tr>\n",
       "    <tr>\n",
       "      <th>Bueu</th>\n",
       "      <td>36004</td>\n",
       "      <td>11987.0</td>\n",
       "    </tr>\n",
       "    <tr>\n",
       "      <th>Baiona</th>\n",
       "      <td>36003</td>\n",
       "      <td>12286.0</td>\n",
       "    </tr>\n",
       "    <tr>\n",
       "      <th>Ordes</th>\n",
       "      <td>15059</td>\n",
       "      <td>12605.0</td>\n",
       "    </tr>\n",
       "    <tr>\n",
       "      <th>Fene</th>\n",
       "      <td>15035</td>\n",
       "      <td>12832.0</td>\n",
       "    </tr>\n",
       "    <tr>\n",
       "      <th>Betanzos</th>\n",
       "      <td>15009</td>\n",
       "      <td>13030.0</td>\n",
       "    </tr>\n",
       "    <tr>\n",
       "      <th>Sarria</th>\n",
       "      <td>27057</td>\n",
       "      <td>13257.0</td>\n",
       "    </tr>\n",
       "    <tr>\n",
       "      <th>Barco de Valdeorras, O</th>\n",
       "      <td>32009</td>\n",
       "      <td>13384.0</td>\n",
       "    </tr>\n",
       "    <tr>\n",
       "      <th>Verín</th>\n",
       "      <td>32085</td>\n",
       "      <td>13644.0</td>\n",
       "    </tr>\n",
       "    <tr>\n",
       "      <th>Cambados</th>\n",
       "      <td>36006</td>\n",
       "      <td>13673.0</td>\n",
       "    </tr>\n",
       "    <tr>\n",
       "      <th>Tomiño</th>\n",
       "      <td>36054</td>\n",
       "      <td>13730.0</td>\n",
       "    </tr>\n",
       "    <tr>\n",
       "      <th>Carballiño, O</th>\n",
       "      <td>32019</td>\n",
       "      <td>13911.0</td>\n",
       "    </tr>\n",
       "    <tr>\n",
       "      <th>Vilalba</th>\n",
       "      <td>27065</td>\n",
       "      <td>14006.0</td>\n",
       "    </tr>\n",
       "    <tr>\n",
       "      <th>Noia</th>\n",
       "      <td>15057</td>\n",
       "      <td>14240.0</td>\n",
       "    </tr>\n",
       "  </tbody>\n",
       "</table>\n",
       "</div>"
      ],
      "text/plain": [
       "                        CODIGOINE  poboacion\n",
       "Concello                                    \n",
       "Rianxo                      15072    11004.0\n",
       "Barbadás                    32008    11022.0\n",
       "Laracha, A                  15041    11521.0\n",
       "Bueu                        36004    11987.0\n",
       "Baiona                      36003    12286.0\n",
       "Ordes                       15059    12605.0\n",
       "Fene                        15035    12832.0\n",
       "Betanzos                    15009    13030.0\n",
       "Sarria                      27057    13257.0\n",
       "Barco de Valdeorras, O      32009    13384.0\n",
       "Verín                       32085    13644.0\n",
       "Cambados                    36006    13673.0\n",
       "Tomiño                      36054    13730.0\n",
       "Carballiño, O               32019    13911.0\n",
       "Vilalba                     27065    14006.0\n",
       "Noia                        15057    14240.0"
      ]
     },
     "execution_count": 14,
     "metadata": {},
     "output_type": "execute_result"
    }
   ],
   "source": [
    "outliers = concello_nooutliers[(concello_nooutliers.poboacion < BI) | (concello_nooutliers.poboacion > BS)].sort_values('poboacion')\n",
    "outliers"
   ]
  },
  {
   "cell_type": "code",
   "execution_count": 10,
   "metadata": {},
   "outputs": [],
   "source": [
    "# Eliminate new outliers\n",
    "# Eliminar nuevos valores atípicos"
   ]
  },
  {
   "cell_type": "code",
   "execution_count": 15,
   "metadata": {},
   "outputs": [
    {
     "data": {
      "text/html": [
       "<div>\n",
       "<style scoped>\n",
       "    .dataframe tbody tr th:only-of-type {\n",
       "        vertical-align: middle;\n",
       "    }\n",
       "\n",
       "    .dataframe tbody tr th {\n",
       "        vertical-align: top;\n",
       "    }\n",
       "\n",
       "    .dataframe thead th {\n",
       "        text-align: right;\n",
       "    }\n",
       "</style>\n",
       "<table border=\"1\" class=\"dataframe\">\n",
       "  <thead>\n",
       "    <tr style=\"text-align: right;\">\n",
       "      <th></th>\n",
       "      <th>CODIGOINE</th>\n",
       "      <th>poboacion</th>\n",
       "    </tr>\n",
       "    <tr>\n",
       "      <th>Concello</th>\n",
       "      <th></th>\n",
       "      <th></th>\n",
       "    </tr>\n",
       "  </thead>\n",
       "  <tbody>\n",
       "    <tr>\n",
       "      <th>Negueira de Muñiz</th>\n",
       "      <td>27035</td>\n",
       "      <td>223.0</td>\n",
       "    </tr>\n",
       "    <tr>\n",
       "      <th>Teixeira, A</th>\n",
       "      <td>32080</td>\n",
       "      <td>336.0</td>\n",
       "    </tr>\n",
       "    <tr>\n",
       "      <th>Beade</th>\n",
       "      <td>32010</td>\n",
       "      <td>379.0</td>\n",
       "    </tr>\n",
       "    <tr>\n",
       "      <th>Larouco</th>\n",
       "      <td>32038</td>\n",
       "      <td>427.0</td>\n",
       "    </tr>\n",
       "    <tr>\n",
       "      <th>Chandrexa de Queixa</th>\n",
       "      <td>32029</td>\n",
       "      <td>482.0</td>\n",
       "    </tr>\n",
       "    <tr>\n",
       "      <th>...</th>\n",
       "      <td>...</td>\n",
       "      <td>...</td>\n",
       "    </tr>\n",
       "    <tr>\n",
       "      <th>Pontes de García Rodríguez, As</th>\n",
       "      <td>15070</td>\n",
       "      <td>10032.0</td>\n",
       "    </tr>\n",
       "    <tr>\n",
       "      <th>Salvaterra de Miño</th>\n",
       "      <td>36050</td>\n",
       "      <td>10048.0</td>\n",
       "    </tr>\n",
       "    <tr>\n",
       "      <th>Foz</th>\n",
       "      <td>27019</td>\n",
       "      <td>10078.0</td>\n",
       "    </tr>\n",
       "    <tr>\n",
       "      <th>Vilanova de Arousa</th>\n",
       "      <td>36061</td>\n",
       "      <td>10306.0</td>\n",
       "    </tr>\n",
       "    <tr>\n",
       "      <th>Grove, O</th>\n",
       "      <td>36022</td>\n",
       "      <td>10699.0</td>\n",
       "    </tr>\n",
       "  </tbody>\n",
       "</table>\n",
       "<p>261 rows × 2 columns</p>\n",
       "</div>"
      ],
      "text/plain": [
       "                                CODIGOINE  poboacion\n",
       "Concello                                            \n",
       "Negueira de Muñiz                   27035      223.0\n",
       "Teixeira, A                         32080      336.0\n",
       "Beade                               32010      379.0\n",
       "Larouco                             32038      427.0\n",
       "Chandrexa de Queixa                 32029      482.0\n",
       "...                                   ...        ...\n",
       "Pontes de García Rodríguez, As      15070    10032.0\n",
       "Salvaterra de Miño                  36050    10048.0\n",
       "Foz                                 27019    10078.0\n",
       "Vilanova de Arousa                  36061    10306.0\n",
       "Grove, O                            36022    10699.0\n",
       "\n",
       "[261 rows x 2 columns]"
      ]
     },
     "execution_count": 15,
     "metadata": {},
     "output_type": "execute_result"
    }
   ],
   "source": [
    "concello_nooutliers2 = concello_nooutliers[(concello_nooutliers.poboacion >= BI) & (concello_nooutliers.poboacion <= BS)].sort_values('poboacion')\n",
    "concello_nooutliers2"
   ]
  },
  {
   "cell_type": "code",
   "execution_count": 11,
   "metadata": {},
   "outputs": [],
   "source": [
    "# There are still outliers? .... (let it go! ;-))\n",
    "# ¿Todavía hay valores atípicos? .... (¡déjalo! ;-))"
   ]
  },
  {
   "cell_type": "code",
   "execution_count": 16,
   "metadata": {},
   "outputs": [
    {
     "data": {
      "text/plain": [
       "<Axes: xlabel='poboacion'>"
      ]
     },
     "execution_count": 16,
     "metadata": {},
     "output_type": "execute_result"
    },
    {
     "data": {
      "image/png": "[encoded data removed]",
      "text/plain": [
       "<Figure size 640x480 with 1 Axes>"
      ]
     },
     "metadata": {},
     "output_type": "display_data"
    }
   ],
   "source": [
    "sns.boxplot(data=concello_nooutliers2,x='poboacion')"
   ]
  },
  {
   "cell_type": "code",
   "execution_count": null,
   "metadata": {},
   "outputs": [],
   "source": [
    "# We could repeat the process until the outliers disappear completely\n",
    "# Podríamos repetir el proceso hasta que los valores atípicos desaparezcan por completo"
   ]
  },
  {
   "cell_type": "code",
   "execution_count": null,
   "metadata": {},
   "outputs": [],
   "source": []
  }
 ],
 "metadata": {
  "kernelspec": {
   "display_name": "systems",
   "language": "python",
   "name": "python3"
  },
  "language_info": {
   "codemirror_mode": {
    "name": "ipython",
    "version": 3
   },
   "file_extension": ".py",
   "mimetype": "text/x-python",
   "name": "python",
   "nbconvert_exporter": "python",
   "pygments_lexer": "ipython3",
   "version": "3.1.0"
  },
  "orig_nbformat": 4,
  "vscode": {
   "interpreter": {
    "hash": "63eb1e5c3aa5268319f56c3b664e0523445c946ec0f1445e261f1f92702f6b14"
   }
  }
 },
 "nbformat": 4,
 "nbformat_minor": 2
}
