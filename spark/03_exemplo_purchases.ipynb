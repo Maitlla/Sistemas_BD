{
 "cells": [
  {
   "cell_type": "code",
   "execution_count": null,
   "id": "1cf354d0",
   "metadata": {},
   "outputs": [],
   "source": [
    "# Exemplo de consultas sobre DataFrames con PySpark"
   ]
  },
  {
   "cell_type": "code",
   "execution_count": null,
   "id": "bcdce800",
   "metadata": {},
   "outputs": [],
   "source": [
    "# Cargar dataset\n",
    "compras = spark.read.csv('purchases.txt',sep='\\t')\n",
    "compras.show()"
   ]
  },
  {
   "cell_type": "code",
   "execution_count": null,
   "id": "e7b1f68b",
   "metadata": {},
   "outputs": [],
   "source": [
    "# Podemos aplicarlle nomes ás columnas\n",
    "compras = compras.toDF('data','hora','tenda','categoria','venda','pago')\n",
    "compras.show()"
   ]
  },
  {
   "cell_type": "code",
   "execution_count": null,
   "id": "54ee77b0",
   "metadata": {},
   "outputs": [],
   "source": [
    "# Seleccionar tanda, categoria e venda\n",
    "compras.select('tenda','categoria','venda').show()"
   ]
  },
  {
   "cell_type": "code",
   "execution_count": null,
   "id": "4deef0f5",
   "metadata": {},
   "outputs": [],
   "source": [
    "# Mostrar datos da tenda de San José\n",
    "compras.filter(compras['tenda'] == 'San Jose').show()"
   ]
  },
  {
   "cell_type": "code",
   "execution_count": null,
   "id": "e1917df7",
   "metadata": {},
   "outputs": [],
   "source": [
    "# Mostra por pantalla os datos das vendas pagadas con 'MasterCard'\n",
    "compras.filter(compras['pago'] == 'MasterCard').show()"
   ]
  },
  {
   "cell_type": "code",
   "execution_count": null,
   "id": "4ecaf9b7",
   "metadata": {},
   "outputs": [],
   "source": [
    "# datos das vendas maiores de 200 compradas con MasterCard\n",
    "compras.filter((compras['venda'] > 200) & (compras['pago'] == 'MasterCard')).show()"
   ]
  },
  {
   "cell_type": "code",
   "execution_count": null,
   "id": "878755f0",
   "metadata": {},
   "outputs": [],
   "source": []
  },
  {
   "cell_type": "code",
   "execution_count": null,
   "id": "9eb28b28",
   "metadata": {},
   "outputs": [],
   "source": [
    "# Conta o número de liñas\n",
    "compras.count()"
   ]
  },
  {
   "cell_type": "code",
   "execution_count": null,
   "id": "9a042e97",
   "metadata": {},
   "outputs": [],
   "source": [
    "# Contar o número de compras por tenda\n",
    "compras.groupBy('tenda').count().show()"
   ]
  },
  {
   "cell_type": "code",
   "execution_count": null,
   "id": "e58e3f84",
   "metadata": {},
   "outputs": [],
   "source": [
    "compras.groupBy('tenda').count().sort('count').show()"
   ]
  },
  {
   "cell_type": "code",
   "execution_count": null,
   "id": "49a81856",
   "metadata": {},
   "outputs": [],
   "source": [
    "# Calcular o total de vendas (suma) por tenda\n",
    "\n",
    "#compras.groupBy('tenda').sum('venda').show()\n",
    "\n",
    "# O código anterior fallaría debido ao tipo \"string\" de 'venda'"
   ]
  },
  {
   "cell_type": "code",
   "execution_count": null,
   "id": "0e97296d",
   "metadata": {},
   "outputs": [],
   "source": [
    "compras.printSchema()"
   ]
  },
  {
   "cell_type": "code",
   "execution_count": null,
   "id": "f2431935",
   "metadata": {},
   "outputs": [],
   "source": [
    "# Existen múltiples formas de modificar o schema dun DataFrame\n",
    "# Esta sería unha delas\n",
    "compras = compras.withColumn('venda',compras['venda'].cast('float').alias('venda'))"
   ]
  },
  {
   "cell_type": "code",
   "execution_count": null,
   "id": "e70f0696",
   "metadata": {},
   "outputs": [],
   "source": [
    "compras.printSchema()"
   ]
  },
  {
   "cell_type": "code",
   "execution_count": null,
   "id": "d9e7b474",
   "metadata": {},
   "outputs": [],
   "source": [
    "# O mesmo código de antes agora si funciona\n",
    "compras.groupBy('tenda').sum('venda').show()"
   ]
  },
  {
   "cell_type": "code",
   "execution_count": null,
   "id": "da1450c1",
   "metadata": {},
   "outputs": [],
   "source": [
    "# Número de vendas por tipo de pago\n",
    "compras.groupBy('pago').count().show()"
   ]
  },
  {
   "cell_type": "code",
   "execution_count": null,
   "id": "a49e222f",
   "metadata": {
    "scrolled": true
   },
   "outputs": [],
   "source": [
    "# Venda mais alta para cada tipo de pago\n",
    "compras.groupBy('pago').max('venda').show()"
   ]
  },
  {
   "cell_type": "code",
   "execution_count": null,
   "id": "331b6cda",
   "metadata": {},
   "outputs": [],
   "source": [
    "# Total de vendas e número de vendas por tipo de pago (indicando tamén o tipo de pago)\n",
    "grupo_pago = compras.groupBy('pago')\n",
    "type(grupo_pago)\n",
    "grupo_pago.agg({\"venda\":\"count\",\"venda\":\"sum\"}).show()"
   ]
  },
  {
   "cell_type": "code",
   "execution_count": null,
   "id": "4ef6dbaf",
   "metadata": {},
   "outputs": [],
   "source": []
  }
 ],
 "metadata": {
  "kernelspec": {
   "display_name": "Python 3 (ipykernel)",
   "language": "python",
   "name": "python3"
  },
  "language_info": {
   "codemirror_mode": {
    "name": "ipython",
    "version": 3
   },
   "file_extension": ".py",
   "mimetype": "text/x-python",
   "name": "python",
   "nbconvert_exporter": "python",
   "pygments_lexer": "ipython3",
   "version": "3.8.10"
  }
 },
 "nbformat": 4,
 "nbformat_minor": 5
}
