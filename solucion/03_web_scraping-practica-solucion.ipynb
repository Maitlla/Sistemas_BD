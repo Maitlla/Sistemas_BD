{
 "cells": [
  {
   "cell_type": "markdown",
   "id": "29cc9d9d-35c5-4b81-9f74-13acb8bfe25e",
   "metadata": {},
   "source": [
    "### Exercicios Extra de Scraping"
   ]
  },
  {
   "cell_type": "code",
   "execution_count": null,
   "id": "63aaf230-7b2b-452b-9182-54a0c59317bd",
   "metadata": {},
   "outputs": [],
   "source": [
    "# 1. Extrae o prezo do bitcoin mediante scraping da seguinte web\n",
    "# https://awebanalysis.com/es/coin-details/bitcoin/"
   ]
  },
  {
   "cell_type": "code",
   "execution_count": null,
   "id": "5c89f47d-041b-4367-98c3-f786c013aa9f",
   "metadata": {},
   "outputs": [],
   "source": [
    "from bs4 import BeautifulSoup\n",
    "import requests"
   ]
  },
  {
   "cell_type": "code",
   "execution_count": null,
   "id": "1fcce0ca-e1ca-494b-aa54-388ef2098e5f",
   "metadata": {},
   "outputs": [],
   "source": [
    "url = 'https://awebanalysis.com/es/coin-details/bitcoin/'\n",
    "response = requests.get(url)\n",
    "soup = BeautifulSoup(response.content,'html.parser')"
   ]
  },
  {
   "cell_type": "code",
   "execution_count": null,
   "id": "da842760-eaca-4cca-b5c0-824e20e88072",
   "metadata": {},
   "outputs": [],
   "source": [
    "#print(soup.prettify())"
   ]
  },
  {
   "cell_type": "code",
   "execution_count": null,
   "id": "bf8f20e1-4c00-4637-a6ff-e843ef3b4683",
   "metadata": {},
   "outputs": [],
   "source": [
    "result = soup.find('td',{'class': 'text-larger'})\n",
    "result.text"
   ]
  },
  {
   "cell_type": "code",
   "execution_count": null,
   "id": "ccf6b307-8eff-4589-9de9-5a833601f6f4",
   "metadata": {},
   "outputs": [],
   "source": [
    "result = soup.find(class_='text-larger')\n",
    "result.text"
   ]
  },
  {
   "cell_type": "code",
   "execution_count": null,
   "id": "6beb0f88-c984-48e3-a10a-e245435e64c7",
   "metadata": {},
   "outputs": [],
   "source": [
    "# 2. Imprime os títulos das entradas da páxina principal de \"Menéame\"\n",
    "# https://www.meneame.net/"
   ]
  },
  {
   "cell_type": "code",
   "execution_count": null,
   "id": "0a21b0b5-7a7d-4ec3-8b2c-f602b505edda",
   "metadata": {},
   "outputs": [],
   "source": [
    "headers = { 'User-Agent' : 'Mozilla/5.0 (X11;Ubuntu;Linux x86_64;rv:94.0) Gecko/20100101 Firefox/94.0' }\n",
    "url = 'https://www.meneame.net/'\n",
    "response = requests.get(url, headers = headers)"
   ]
  },
  {
   "cell_type": "code",
   "execution_count": null,
   "id": "68594b14-078b-4543-b2e4-dcf9c2c4ca35",
   "metadata": {},
   "outputs": [],
   "source": [
    "soup = BeautifulSoup(response.content,'html.parser')"
   ]
  },
  {
   "cell_type": "code",
   "execution_count": null,
   "id": "05e97ed3",
   "metadata": {},
   "outputs": [],
   "source": [
    "result = soup.find_all('h2')\n",
    "result"
   ]
  },
  {
   "cell_type": "code",
   "execution_count": null,
   "id": "220ee8fd",
   "metadata": {},
   "outputs": [],
   "source": [
    "for nova in result:\n",
    "    print(nova.text)"
   ]
  },
  {
   "cell_type": "code",
   "execution_count": null,
   "id": "6c507cd6-1b33-43f2-a333-144fedb54636",
   "metadata": {},
   "outputs": [],
   "source": [
    "# 2.1 Crea un dataframe co titular e o nome do medio orixe da noticia (elpais.es, abc.com etc)"
   ]
  },
  {
   "cell_type": "code",
   "execution_count": null,
   "id": "311ef9f7-deb9-4dca-b53c-f4771e0499dd",
   "metadata": {},
   "outputs": [],
   "source": [
    "import pandas as pd"
   ]
  },
  {
   "cell_type": "code",
   "execution_count": null,
   "id": "a2258f1a",
   "metadata": {},
   "outputs": [],
   "source": [
    "result = soup.find_all(class_='link-content')\n",
    "result"
   ]
  },
  {
   "cell_type": "code",
   "execution_count": null,
   "id": "d2d3014a-df29-4d00-ad3b-9e26b7da5c73",
   "metadata": {},
   "outputs": [],
   "source": [
    "# nova"
   ]
  },
  {
   "cell_type": "code",
   "execution_count": null,
   "id": "3486cdd8-0042-4d80-8017-e6749324f433",
   "metadata": {},
   "outputs": [],
   "source": [
    "# nova.find('a',{'class': 'external-source tm-event'}).text.strip()"
   ]
  },
  {
   "cell_type": "code",
   "execution_count": null,
   "id": "b5874454-cceb-4cd3-8b29-3d4a6db43e1a",
   "metadata": {},
   "outputs": [],
   "source": [
    "novas = []\n",
    "for nova in result:\n",
    "    #print(nova.find('h2').text)\n",
    "    #print(nova.find('a',{'class': 'external-source tm-event ga-event'}).text)\n",
    "    if ( nova.find('a',{'class': 'external-source tm-event ga-event'}) == None):\n",
    "        novas.append('')\n",
    "    else:\n",
    "        novas.append([nova.find('h2').text,nova.find('a',{'class': 'external-source tm-event ga-event'}).text.strip()])\n",
    "df_novas = pd.DataFrame(novas,columns = ['titular','medio'])\n",
    "df_novas"
   ]
  },
  {
   "cell_type": "code",
   "execution_count": null,
   "id": "b7c9a187-4c2c-4134-b973-f0ba23f9a053",
   "metadata": {},
   "outputs": [],
   "source": [
    "# 3. Imprime os títulos e o ano das películas do Top 250 da IMDB\n",
    "# https://www.imdb.com/chart/top/"
   ]
  },
  {
   "cell_type": "code",
   "execution_count": null,
   "id": "dc6c35b8-ccc1-468c-8b0b-1ca11997ae3a",
   "metadata": {},
   "outputs": [],
   "source": [
    "headers = { 'User-Agent' : 'Mozilla/5.0 (X11;Ubuntu;Linux x86_64;rv:94.0) Gecko/20100101 Firefox/94.0' }\n",
    "url = 'https://www.imdb.com/chart/top/'\n",
    "response = requests.get(url, headers = headers)\n",
    "soup = BeautifulSoup(response.content,'html.parser')"
   ]
  },
  {
   "cell_type": "code",
   "execution_count": null,
   "id": "346392fa-edc8-467a-8d5e-b6c893e4c6b9",
   "metadata": {},
   "outputs": [],
   "source": [
    "result = soup.find_all('td', {'class':'titleColumn'})"
   ]
  },
  {
   "cell_type": "code",
   "execution_count": null,
   "id": "a46a8639-6523-4150-b308-9858087b2927",
   "metadata": {},
   "outputs": [],
   "source": [
    "len(result)"
   ]
  },
  {
   "cell_type": "code",
   "execution_count": null,
   "id": "4f849939-60b9-4cb7-aa12-42642f855106",
   "metadata": {},
   "outputs": [],
   "source": [
    "#result[0]"
   ]
  },
  {
   "cell_type": "code",
   "execution_count": null,
   "id": "a2871864-1a67-4e73-adb3-5748661215fb",
   "metadata": {},
   "outputs": [],
   "source": [
    "for peli in result:\n",
    "    print(peli.a.text,peli.span.text)"
   ]
  },
  {
   "cell_type": "code",
   "execution_count": null,
   "id": "859f9f3f-829e-4e69-8228-018e15db5edb",
   "metadata": {},
   "outputs": [],
   "source": [
    "# 3.2 Crea un dataframe cos datos obtidos"
   ]
  },
  {
   "cell_type": "code",
   "execution_count": null,
   "id": "4d2cf319-6c38-453f-95a2-152d8294e102",
   "metadata": {},
   "outputs": [],
   "source": [
    "import pandas as pd"
   ]
  },
  {
   "cell_type": "code",
   "execution_count": null,
   "id": "0693b80e-9a2b-440b-8dcc-90aef2e8bbf8",
   "metadata": {},
   "outputs": [],
   "source": [
    "pelis = []\n",
    "for peli in result:\n",
    "    #print(peli.a.text,peli.span.text)\n",
    "    pelis.append([peli.a.text,peli.span.text.strip('(,)')])\n",
    "df_pelis = pd.DataFrame(pelis,columns = ['título','ano'])\n",
    "df_pelis"
   ]
  },
  {
   "cell_type": "code",
   "execution_count": null,
   "id": "eb6f28ea",
   "metadata": {},
   "outputs": [],
   "source": []
  }
 ],
 "metadata": {
  "kernelspec": {
   "display_name": "systems",
   "language": "python",
   "name": "python3"
  },
  "language_info": {
   "codemirror_mode": {
    "name": "ipython",
    "version": 3
   },
   "file_extension": ".py",
   "mimetype": "text/x-python",
   "name": "python",
   "nbconvert_exporter": "python",
   "pygments_lexer": "ipython3",
   "version": "3.7.15 (default, Nov 24 2022, 21:12:53) \n[GCC 11.2.0]"
  },
  "vscode": {
   "interpreter": {
    "hash": "63eb1e5c3aa5268319f56c3b664e0523445c946ec0f1445e261f1f92702f6b14"
   }
  }
 },
 "nbformat": 4,
 "nbformat_minor": 5
}
