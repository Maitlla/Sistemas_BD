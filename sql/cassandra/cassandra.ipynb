{
 "cells": [
  {
   "cell_type": "markdown",
   "metadata": {},
   "source": [
    "# NoSQL. Cassandra\n",
    "Cassandra is a columnar storage oriented NoSQL database"
   ]
  },
  {
   "cell_type": "code",
   "execution_count": 2,
   "metadata": {},
   "outputs": [],
   "source": [
    "#  conda install conda-forge::cassandra-driver\n",
    "\n",
    "from cassandra.cluster import Cluster"
   ]
  },
  {
   "cell_type": "code",
   "execution_count": 9,
   "metadata": {},
   "outputs": [
    {
     "name": "stdout",
     "output_type": "stream",
     "text": [
      "4.1.3\n"
     ]
    }
   ],
   "source": [
    "# connect to the Cassandra Cluster/Datacenter\n",
    "\n",
    "cluster = Cluster(['localhost'], port=9042)g\n",
    "session = cluster.connect()\n",
    "\n",
    "row = session.execute(\"SELECT release_version FROM system.local\").one()\n",
    "if row:\n",
    "    print(row[0])"
   ]
  },
  {
   "cell_type": "code",
   "execution_count": 10,
   "metadata": {},
   "outputs": [
    {
     "name": "stdout",
     "output_type": "stream",
     "text": [
      "system_auth\n",
      "system_schema\n",
      "system_distributed\n",
      "system\n",
      "system_traces\n"
     ]
    }
   ],
   "source": [
    "# Show Keyspaces\n",
    "\n",
    "rows = session.execute(\"SELECT * FROM system_schema.keyspaces\")\n",
    "for row in rows:\n",
    "    print(row[0])"
   ]
  },
  {
   "cell_type": "code",
   "execution_count": 11,
   "metadata": {},
   "outputs": [
    {
     "ename": "InvalidRequest",
     "evalue": "Error from server: code=2200 [Invalid query] message=\"keyspace iot does not exist\"",
     "output_type": "error",
     "traceback": [
      "\u001b[0;31m---------------------------------------------------------------------------\u001b[0m",
      "\u001b[0;31mInvalidRequest\u001b[0m                            Traceback (most recent call last)",
      "Cell \u001b[0;32mIn[11], line 2\u001b[0m\n\u001b[1;32m      1\u001b[0m \u001b[38;5;66;03m# Query data from an existing database/keyspace\u001b[39;00m\n\u001b[0;32m----> 2\u001b[0m rows \u001b[38;5;241m=\u001b[39m \u001b[43msession\u001b[49m\u001b[38;5;241;43m.\u001b[39;49m\u001b[43mexecute\u001b[49m\u001b[43m(\u001b[49m\u001b[38;5;124;43m\"\u001b[39;49m\u001b[38;5;124;43mselect * FROM iot.sensor\u001b[39;49m\u001b[38;5;124;43m\"\u001b[39;49m\u001b[43m)\u001b[49m\n\u001b[1;32m      3\u001b[0m \u001b[38;5;28;01mfor\u001b[39;00m row \u001b[38;5;129;01min\u001b[39;00m rows:\n\u001b[1;32m      4\u001b[0m     \u001b[38;5;28mprint\u001b[39m(\u001b[38;5;124m'\u001b[39m\u001b[38;5;124mcodigo:\u001b[39m\u001b[38;5;132;01m{}\u001b[39;00m\u001b[38;5;124m temperatura:\u001b[39m\u001b[38;5;132;01m{}\u001b[39;00m\u001b[38;5;124m humidade:\u001b[39m\u001b[38;5;132;01m{}\u001b[39;00m\u001b[38;5;124m timestamp:\u001b[39m\u001b[38;5;132;01m{}\u001b[39;00m\u001b[38;5;124m'\u001b[39m\u001b[38;5;241m.\u001b[39mformat(row[\u001b[38;5;241m0\u001b[39m],row[\u001b[38;5;241m3\u001b[39m], row[\u001b[38;5;241m1\u001b[39m], row[\u001b[38;5;241m2\u001b[39m]))\n",
      "File \u001b[0;32m~/miniconda3/envs/cassandra/lib/python3.8/site-packages/cassandra/cluster.py:2240\u001b[0m, in \u001b[0;36mcassandra.cluster.Session.execute\u001b[0;34m()\u001b[0m\n",
      "File \u001b[0;32m~/miniconda3/envs/cassandra/lib/python3.8/site-packages/cassandra/cluster.py:4198\u001b[0m, in \u001b[0;36mcassandra.cluster.ResponseFuture.result\u001b[0;34m()\u001b[0m\n",
      "\u001b[0;31mInvalidRequest\u001b[0m: Error from server: code=2200 [Invalid query] message=\"keyspace iot does not exist\""
     ]
    }
   ],
   "source": [
    "# Query data from an existing database/keyspace\n",
    "rows = session.execute(\"select * FROM iot.sensor\")\n",
    "for row in rows:\n",
    "    print('codigo:{} temperatura:{} humidade:{} timestamp:{}'.format(row[0],row[3], row[1], row[2]))"
   ]
  },
  {
   "cell_type": "code",
   "execution_count": null,
   "metadata": {},
   "outputs": [],
   "source": [
    "# Insert new data\n",
    "session.execute(\"insert into iot.sensor (codigo, temperatura, humidade, last_update_timestamp) VALUES ('0003', 16, 65, toTimeStamp(now()));\")"
   ]
  },
  {
   "cell_type": "code",
   "execution_count": 8,
   "metadata": {},
   "outputs": [
    {
     "ename": "NoHostAvailable",
     "evalue": "('Unable to connect to any servers', {'127.0.0.1:9043': ConnectionRefusedError(111, \"Tried connecting to [('127.0.0.1', 9043)]. Last error: Connection refused\")})",
     "output_type": "error",
     "traceback": [
      "\u001b[0;31m---------------------------------------------------------------------------\u001b[0m",
      "\u001b[0;31mNoHostAvailable\u001b[0m                           Traceback (most recent call last)",
      "Cell \u001b[0;32mIn[8], line 5\u001b[0m\n\u001b[1;32m      3\u001b[0m cluster \u001b[38;5;241m=\u001b[39m Cluster([\u001b[38;5;124m'\u001b[39m\u001b[38;5;124mlocalhost\u001b[39m\u001b[38;5;124m'\u001b[39m], port\u001b[38;5;241m=\u001b[39m\u001b[38;5;241m9043\u001b[39m)\n\u001b[1;32m      4\u001b[0m \u001b[38;5;66;03m#cluster = Cluster(['10.133.29.12'], port=9043)\u001b[39;00m\n\u001b[0;32m----> 5\u001b[0m session \u001b[38;5;241m=\u001b[39m \u001b[43mcluster\u001b[49m\u001b[38;5;241;43m.\u001b[39;49m\u001b[43mconnect\u001b[49m\u001b[43m(\u001b[49m\u001b[43m)\u001b[49m\n\u001b[1;32m      7\u001b[0m \u001b[38;5;66;03m# Query data from an existing database/keyspace\u001b[39;00m\n\u001b[1;32m      8\u001b[0m rows \u001b[38;5;241m=\u001b[39m session\u001b[38;5;241m.\u001b[39mexecute(\u001b[38;5;124m\"\u001b[39m\u001b[38;5;124mselect * FROM iot.sensor\u001b[39m\u001b[38;5;124m\"\u001b[39m)\n",
      "File \u001b[0;32m~/miniconda3/envs/cassandra/lib/python3.8/site-packages/cassandra/cluster.py:1335\u001b[0m, in \u001b[0;36mcassandra.cluster.Cluster.connect\u001b[0;34m()\u001b[0m\n",
      "File \u001b[0;32m~/miniconda3/envs/cassandra/lib/python3.8/site-packages/cassandra/cluster.py:1371\u001b[0m, in \u001b[0;36mcassandra.cluster.Cluster.connect\u001b[0;34m()\u001b[0m\n",
      "File \u001b[0;32m~/miniconda3/envs/cassandra/lib/python3.8/site-packages/cassandra/cluster.py:1358\u001b[0m, in \u001b[0;36mcassandra.cluster.Cluster.connect\u001b[0;34m()\u001b[0m\n",
      "File \u001b[0;32m~/miniconda3/envs/cassandra/lib/python3.8/site-packages/cassandra/cluster.py:2896\u001b[0m, in \u001b[0;36mcassandra.cluster.ControlConnection.connect\u001b[0;34m()\u001b[0m\n",
      "File \u001b[0;32m~/miniconda3/envs/cassandra/lib/python3.8/site-packages/cassandra/cluster.py:2939\u001b[0m, in \u001b[0;36mcassandra.cluster.ControlConnection._reconnect_internal\u001b[0;34m()\u001b[0m\n",
      "\u001b[0;31mNoHostAvailable\u001b[0m: ('Unable to connect to any servers', {'127.0.0.1:9043': ConnectionRefusedError(111, \"Tried connecting to [('127.0.0.1', 9043)]. Last error: Connection refused\")})"
     ]
    }
   ],
   "source": [
    "# connect to another Peer\n",
    "\n",
    "cluster = Cluster(['localhost'], port=9043)\n",
    "#cluster = Cluster(['10.133.29.12'], port=9043)\n",
    "session = cluster.connect()\n",
    "\n",
    "# Query data from an existing database/keyspace\n",
    "rows = session.execute(\"select * FROM iot.sensor\")\n",
    "for row in rows:\n",
    "    print('codigo:{} temperatura:{} humidade:{} timestamp:{}'.format(row[0],row[3], row[1], row[2]))"
   ]
  },
  {
   "cell_type": "code",
   "execution_count": null,
   "metadata": {},
   "outputs": [],
   "source": [
    "# Insert new data throught another peer\n",
    "session.execute(\"insert into iot.sensor (codigo, temperatura, humidade, last_update_timestamp) VALUES ('0004', 12, 59, toTimeStamp(now()));\")"
   ]
  },
  {
   "cell_type": "code",
   "execution_count": null,
   "metadata": {},
   "outputs": [],
   "source": [
    "# Create a new database/keyspace\n",
    "\n",
    "session.execute(\"create keyspace mykeyspace with replication={'class': 'SimpleStrategy', 'replication_factor' : 2};\")"
   ]
  },
  {
   "cell_type": "code",
   "execution_count": null,
   "metadata": {},
   "outputs": [],
   "source": [
    "# Define table\n",
    "session=cluster.connect('mykeyspace')\n",
    "qry= '''\n",
    "create table students (\n",
    "   studentID int,\n",
    "   name text,\n",
    "   age int,\n",
    "   marks int,\n",
    "   primary key(studentID)\n",
    ");'''\n",
    "session.execute(qry)"
   ]
  },
  {
   "cell_type": "code",
   "execution_count": null,
   "metadata": {},
   "outputs": [],
   "source": [
    "# Insert some data\n",
    "session.execute(\"insert into students (studentID, name, age, marks) values (1, 'Juhi',20, 200);\")\n",
    "session.execute(\"insert into students (studentID, name, age, marks) values (2, 'Pepi',21, 150);\")"
   ]
  },
  {
   "cell_type": "code",
   "execution_count": null,
   "metadata": {},
   "outputs": [],
   "source": [
    "# Query the data\n",
    "rows = session.execute(\"select * from students\")\n",
    "for row in rows:\n",
    "    print('StudentID:{} Name:{} Age:{} Marks:{}'.format(row[0],row[1], row[2], row[3]))"
   ]
  }
 ],
 "metadata": {
  "kernelspec": {
   "display_name": "nosql",
   "language": "python",
   "name": "python3"
  },
  "language_info": {
   "codemirror_mode": {
    "name": "ipython",
    "version": 3
   },
   "file_extension": ".py",
   "mimetype": "text/x-python",
   "name": "python",
   "nbconvert_exporter": "python",
   "pygments_lexer": "ipython3",
   "version": "3.8.18"
  }
 },
 "nbformat": 4,
 "nbformat_minor": 2
}
