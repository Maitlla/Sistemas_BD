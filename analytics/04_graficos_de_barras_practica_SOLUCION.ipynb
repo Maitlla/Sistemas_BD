{
 "cells": [
  {
   "cell_type": "markdown",
   "metadata": {},
   "source": [
    "# Gráficas de barras - Práctica"
   ]
  },
  {
   "cell_type": "code",
   "execution_count": null,
   "metadata": {},
   "outputs": [],
   "source": [
    "# API SEABORN - Barplot\n",
    "# https://seaborn.pydata.org/generated/seaborn.barplot.html"
   ]
  },
  {
   "cell_type": "code",
   "execution_count": null,
   "metadata": {},
   "outputs": [],
   "source": [
    "# Importa as librarías necesarias para traballar con gráficos"
   ]
  },
  {
   "cell_type": "code",
   "execution_count": null,
   "metadata": {},
   "outputs": [],
   "source": [
    "import pandas as pd\n",
    "import seaborn as sns\n",
    "import matplotlib.pyplot as plt"
   ]
  },
  {
   "cell_type": "code",
   "execution_count": null,
   "metadata": {},
   "outputs": [],
   "source": [
    "# 1. Dataset con características de computuadores portátiles\n",
    "# 'Company', 'Product', 'TypeName', 'Inches', 'ScreenResolution', 'Cpu',\n",
    "#       'Ram', 'Memory', 'Gpu', 'OpSys', 'Weight', 'Price_euros'\n",
    "# laptops.csv <- dispoñible no repositorio de github, en datasets\n",
    "# https://www.kaggle.com/ionaskel/laptop-prices"
   ]
  },
  {
   "cell_type": "code",
   "execution_count": null,
   "metadata": {},
   "outputs": [],
   "source": [
    "# 1.1 Carga os datos e mostra un exemplo"
   ]
  },
  {
   "cell_type": "code",
   "execution_count": null,
   "metadata": {},
   "outputs": [],
   "source": [
    "df_laptops = pd.read_csv('../datasets/laptops.csv',encoding='iso-8859-1',index_col=0)\n",
    "df_laptops.head()"
   ]
  },
  {
   "cell_type": "code",
   "execution_count": null,
   "metadata": {},
   "outputs": [],
   "source": [
    "df_laptops.columns"
   ]
  },
  {
   "cell_type": "code",
   "execution_count": null,
   "metadata": {},
   "outputs": [],
   "source": [
    "# 1.2 Consulta os tipos de datos e cotexaos co exemplo do dataframe\n",
    "# Cantas variables numéricas/cuantitativas hai?\n",
    "# Cantas variables categóricas/cualitativas?"
   ]
  },
  {
   "cell_type": "code",
   "execution_count": null,
   "metadata": {},
   "outputs": [],
   "source": [
    "df_laptops.info()"
   ]
  },
  {
   "cell_type": "code",
   "execution_count": null,
   "metadata": {},
   "outputs": [],
   "source": [
    "# 10 variables categóricas\n",
    "# 2 variables numéricas"
   ]
  },
  {
   "cell_type": "code",
   "execution_count": null,
   "metadata": {},
   "outputs": [],
   "source": [
    "# 1.3 Consulta os estatísticos básicos do dataset para ter algo máis de información sobre os datos"
   ]
  },
  {
   "cell_type": "code",
   "execution_count": null,
   "metadata": {},
   "outputs": [],
   "source": [
    "df_laptops.describe()"
   ]
  },
  {
   "cell_type": "code",
   "execution_count": null,
   "metadata": {},
   "outputs": [],
   "source": [
    "# 1.4 Probablemente só consultaches os estatísticos básicos das variables numéricas. Fai o propio cos das variables cualitativas\n",
    "df_laptops.describe(include='object')"
   ]
  },
  {
   "cell_type": "code",
   "execution_count": null,
   "metadata": {},
   "outputs": [],
   "source": [
    "# 1.5 Con que categorías poderíamos facer análise?\n",
    "# Dito doutro modo, hai algunha categoría que teña poucos niveis e que nos permita diferenciar grupos facilmente?"
   ]
  },
  {
   "cell_type": "code",
   "execution_count": null,
   "metadata": {},
   "outputs": [],
   "source": [
    "# Algunhas categorías poderían ser:\n",
    "# - Company: 19 compañías diferentes\n",
    "# - TypeName: 6 variacións\n",
    "# - RAM: 9 ocorrencias\n",
    "# - OpSys: 9 ocorrencias"
   ]
  },
  {
   "cell_type": "code",
   "execution_count": null,
   "metadata": {},
   "outputs": [],
   "source": [
    "# 1.6 Mostra como se distribúen os prezos dos portátiles"
   ]
  },
  {
   "cell_type": "code",
   "execution_count": null,
   "metadata": {},
   "outputs": [],
   "source": [
    "# Para representar a distribución dunha única variable, sen atender a categorías, é suficiente un histograma\n",
    "sns.displot(data=df_laptops['Price_euros'])"
   ]
  },
  {
   "cell_type": "code",
   "execution_count": null,
   "metadata": {},
   "outputs": [],
   "source": [
    "# 1.7 Cal é a marca de computadores máis caros? \n",
    "# Pensa que tipo de gráfica deberías mostrar\n",
    "# Axusta o gráfico para mellorar a visualización\n",
    "# Engade un título"
   ]
  },
  {
   "cell_type": "code",
   "execution_count": null,
   "metadata": {},
   "outputs": [],
   "source": [
    "plt.figure(figsize=(20,7))\n",
    "sns.barplot(data=df_laptops,x='Company',y='Price_euros')"
   ]
  },
  {
   "cell_type": "code",
   "execution_count": null,
   "metadata": {},
   "outputs": [],
   "source": [
    "# Para ordenar o noso gráfico deberíamos dispoñer dunha lista das diferentes compañías ordenadas en relación á súa media\n",
    "df_glaptops = df_laptops.groupby('Company',as_index=False)\n",
    "df_companies = df_glaptops.mean().sort_values(by='Price_euros',ascending=False)\n",
    "#df_companies\n",
    "ordered_companies = list(df_companies.Company)\n",
    "#ordered_companies"
   ]
  },
  {
   "cell_type": "code",
   "execution_count": null,
   "metadata": {},
   "outputs": [],
   "source": [
    "plt.figure(figsize=(20,7))\n",
    "sns.barplot(data=df_laptops,x='Company',y='Price_euros',order=ordered_companies)\n",
    "plt.title('Marcas máis caras de computadores portátiles')"
   ]
  },
  {
   "cell_type": "code",
   "execution_count": null,
   "metadata": {},
   "outputs": [],
   "source": [
    "# 1.8 Comproba se hai diferencias significativas no prezo dos portátiles en función doutras categorías"
   ]
  },
  {
   "cell_type": "code",
   "execution_count": null,
   "metadata": {},
   "outputs": [],
   "source": [
    "df_laptops.head(3)"
   ]
  },
  {
   "cell_type": "code",
   "execution_count": null,
   "metadata": {},
   "outputs": [],
   "source": [
    "plt.figure(figsize=(10,7))\n",
    "sns.barplot(data=df_laptops,x='TypeName',y='Price_euros')\n",
    "# Existen diferencias evidentes no prezo entre os tipos de portátiles\n",
    "# Os mais caros, e con máis variabilidade: Workstations\n",
    "# Mais baratos son os netbooks e notebooks, eses últimos con moi pouca variabilidade no prezo"
   ]
  },
  {
   "cell_type": "code",
   "execution_count": null,
   "metadata": {},
   "outputs": [],
   "source": [
    "plt.figure(figsize=(10,7))\n",
    "sns.barplot(data=df_laptops,x='Ram',y='Price_euros')\n",
    "# Como era de esperar, vese unha clara relación do prezo coa cantidade de RAM\n",
    "# Estaría ben ordenar a gráfica"
   ]
  },
  {
   "cell_type": "code",
   "execution_count": null,
   "metadata": {},
   "outputs": [],
   "source": [
    "plt.figure(figsize=(10,7))\n",
    "sns.barplot(data=df_laptops,x='OpSys',y='Price_euros')\n",
    "# Tamén observamos diferenzas claras nos prezos dos equipos en función do sistema operativa\n",
    "# Algúns resultados poden esultar contraintuitivos, ollo! (Windows 7!?)"
   ]
  },
  {
   "cell_type": "code",
   "execution_count": null,
   "metadata": {},
   "outputs": [],
   "source": [
    "# Crees que sabes agora algo máis sobre os datos deste dataset do que sabías ao principio? ;-)"
   ]
  },
  {
   "cell_type": "code",
   "execution_count": null,
   "metadata": {},
   "outputs": [],
   "source": [
    "# 2. Dataset sobre películas\n",
    "# 10k+ movies:  title, budget, revenue, cast, director, tagline, keywords, genres, release date, runtime etc.\n",
    "# tmdb_movies_data.csv <- dispoñible no repositorio de github, en datasets\n",
    "# https://www.kaggle.com/juzershakir/tmdb-movies-dataset\n"
   ]
  },
  {
   "cell_type": "code",
   "execution_count": null,
   "metadata": {},
   "outputs": [],
   "source": [
    "# 2.1 Carga o dataset e bótalle unha ollada inicial"
   ]
  },
  {
   "cell_type": "code",
   "execution_count": null,
   "metadata": {},
   "outputs": [],
   "source": [
    "df_pelis = pd.read_csv('../datasets/tmdb_movies_data.csv')\n",
    "df_pelis.head()"
   ]
  },
  {
   "cell_type": "code",
   "execution_count": null,
   "metadata": {},
   "outputs": [],
   "source": [
    "df_pelis.info()"
   ]
  },
  {
   "cell_type": "code",
   "execution_count": null,
   "metadata": {},
   "outputs": [],
   "source": [
    "df_pelis.describe()"
   ]
  },
  {
   "cell_type": "code",
   "execution_count": null,
   "metadata": {},
   "outputs": [],
   "source": [
    "df_pelis.describe(include='object')"
   ]
  },
  {
   "cell_type": "code",
   "execution_count": null,
   "metadata": {},
   "outputs": [],
   "source": [
    "# 2.2 Que variables poden ser boas como categorías para clasificar a puntuación das películas e mostrar un gráfico de barras?"
   ]
  },
  {
   "cell_type": "code",
   "execution_count": null,
   "metadata": {},
   "outputs": [],
   "source": [
    "# Ningunha, realmente, xa que teñen demasiadas categorías"
   ]
  },
  {
   "cell_type": "code",
   "execution_count": null,
   "metadata": {},
   "outputs": [],
   "source": [
    "# 2.3 Mostra a distribución das puntuacións medias das películas.\n",
    "# Recoñeces esta gráfica?"
   ]
  },
  {
   "cell_type": "code",
   "execution_count": null,
   "metadata": {},
   "outputs": [],
   "source": [
    "sns.displot(data=df_pelis.vote_average)"
   ]
  },
  {
   "cell_type": "code",
   "execution_count": null,
   "metadata": {},
   "outputs": [],
   "source": [
    "# 2.4 Dirías que cada ano se estrean mais ou menos películas"
   ]
  },
  {
   "cell_type": "code",
   "execution_count": null,
   "metadata": {},
   "outputs": [],
   "source": [
    "sns.displot(data=df_pelis.release_year)"
   ]
  },
  {
   "cell_type": "code",
   "execution_count": null,
   "metadata": {},
   "outputs": [],
   "source": [
    "# Cada ano estréanse máis películas"
   ]
  },
  {
   "cell_type": "code",
   "execution_count": null,
   "metadata": {},
   "outputs": [],
   "source": [
    "# 2.4 Clasifica as películas en curtas (<30 minutos), medias(<90) e longas (>90)\n",
    "# Existen diferencias nas puntuacións medias das películas en relación coa súa duración?"
   ]
  },
  {
   "cell_type": "code",
   "execution_count": null,
   "metadata": {},
   "outputs": [],
   "source": [
    "df_pelis['duracion'] = df_pelis['runtime'].apply(lambda x:'curta' if x<30 else 'longa' if x>90 else 'media')"
   ]
  },
  {
   "cell_type": "code",
   "execution_count": null,
   "metadata": {},
   "outputs": [],
   "source": [
    "df_pelis.info()"
   ]
  },
  {
   "cell_type": "code",
   "execution_count": null,
   "metadata": {},
   "outputs": [],
   "source": [
    "df_pelis.duracion.unique()"
   ]
  },
  {
   "cell_type": "code",
   "execution_count": null,
   "metadata": {},
   "outputs": [],
   "source": [
    "sns.barplot(data=df_pelis,x='duracion',y='vote_average')"
   ]
  },
  {
   "cell_type": "code",
   "execution_count": null,
   "metadata": {},
   "outputs": [],
   "source": []
  }
 ],
 "metadata": {
  "interpreter": {
   "hash": "2eaf50c46cca8d47f8fbdccf847348d8678fdaff72e1c7be6ae8fbe014f877f9"
  },
  "kernelspec": {
   "display_name": "Python 3.8.12 64-bit ('SistemasBigData': conda)",
   "language": "python",
   "name": "python3"
  },
  "language_info": {
   "codemirror_mode": {
    "name": "ipython",
    "version": 3
   },
   "file_extension": ".py",
   "mimetype": "text/x-python",
   "name": "python",
   "nbconvert_exporter": "python",
   "pygments_lexer": "ipython3",
   "version": "3.8.12"
  },
  "orig_nbformat": 4
 },
 "nbformat": 4,
 "nbformat_minor": 2
}
