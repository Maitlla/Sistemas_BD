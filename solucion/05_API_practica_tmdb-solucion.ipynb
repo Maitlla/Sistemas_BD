{
 "cells": [
  {
   "cell_type": "code",
   "execution_count": null,
   "id": "c40615e8-6f07-4c4f-b7ba-4da5cb355424",
   "metadata": {},
   "outputs": [],
   "source": [
    "# A TMDB (The Movie Database\" é unha base de datos sobre películas e TV creada pola comunidade\n",
    "# https://www.themoviedb.org/about"
   ]
  },
  {
   "cell_type": "code",
   "execution_count": null,
   "id": "094dd9b1-b025-413e-8f29-e9e0e48417f0",
   "metadata": {},
   "outputs": [],
   "source": [
    "# Info da API \n",
    "# https://developers.themoviedb.org/3/getting-started/introduction"
   ]
  },
  {
   "cell_type": "code",
   "execution_count": null,
   "id": "98dff468-ae80-4315-8c56-a627d205d080",
   "metadata": {},
   "outputs": [],
   "source": [
    "import requests"
   ]
  },
  {
   "cell_type": "code",
   "execution_count": null,
   "id": "d1984adf",
   "metadata": {},
   "outputs": [],
   "source": [
    "# É importante manter as chaves fóra de ficheiros que se suben a repositorios públicos\n",
    "\n",
    "# https://towardsdatascience.com/keeping-credentials-safe-in-jupyter-notebooks-fbd215a8e311\n",
    "from configparser import ConfigParser"
   ]
  },
  {
   "cell_type": "code",
   "execution_count": null,
   "id": "d8804699",
   "metadata": {},
   "outputs": [],
   "source": [
    "parser = ConfigParser()\n",
    "_ = parser.read('notebook.cfg')\n",
    "\n",
    "API_KEY = parser.get('api_tmdb', 'auth_key')"
   ]
  },
  {
   "cell_type": "code",
   "execution_count": null,
   "id": "38bf9f65",
   "metadata": {},
   "outputs": [],
   "source": [
    "API_KEY"
   ]
  },
  {
   "cell_type": "code",
   "execution_count": null,
   "id": "b6000469-2952-48ea-9e77-78fd35bc4ca0",
   "metadata": {},
   "outputs": [],
   "source": [
    "# API_KEY = 'XXXXXXXXXXXXXXXXXXXXXXXXXXXXXXXXX'"
   ]
  },
  {
   "cell_type": "code",
   "execution_count": null,
   "id": "23745adb-e52c-4203-944d-c01f111d73d0",
   "metadata": {},
   "outputs": [],
   "source": [
    "# sample: https://api.themoviedb.org/3/movie/76341?api_key=<<api_key>> \n",
    "url_base = 'https://api.themoviedb.org/3/movie/'"
   ]
  },
  {
   "cell_type": "code",
   "execution_count": null,
   "id": "9c9336a5-795f-4adc-8131-77fb846f6005",
   "metadata": {},
   "outputs": [],
   "source": [
    "# 1. Consulta a información sobre a película 551 utilizando a autenticación simple (v3)\n",
    "# As películas están identificadas por un número\n",
    "# Título, xéneros, duración, puntuación media"
   ]
  },
  {
   "cell_type": "code",
   "execution_count": null,
   "id": "1c1db2f6-943d-42f3-93e4-a133007f6be5",
   "metadata": {},
   "outputs": [],
   "source": [
    "movie = 551"
   ]
  },
  {
   "cell_type": "code",
   "execution_count": null,
   "id": "86401cca-9f9b-4a12-a9de-515769aedcca",
   "metadata": {},
   "outputs": [],
   "source": [
    "url = url_base+str(movie)\n",
    "url"
   ]
  },
  {
   "cell_type": "code",
   "execution_count": null,
   "id": "bf124340-77bd-4ca8-a5e8-8037e7fe6c2c",
   "metadata": {},
   "outputs": [],
   "source": [
    "response = requests.get(url,params = { 'api_key' : API_KEY })\n",
    "response"
   ]
  },
  {
   "cell_type": "code",
   "execution_count": null,
   "id": "0d2dd578-d8af-4241-b275-d3ae8092e75f",
   "metadata": {},
   "outputs": [],
   "source": [
    "response.json()"
   ]
  },
  {
   "cell_type": "code",
   "execution_count": null,
   "id": "50e3025d-dd13-4a40-866e-e478a85f26d8",
   "metadata": {},
   "outputs": [],
   "source": [
    "# Título, xéneros, duración, puntuación media\n",
    "titulo = response.json()['original_title']\n",
    "xeneros = ''\n",
    "for xenero in response.json()['genres']:\n",
    "    xeneros += xenero['name']+','\n",
    "xeneros = xeneros.rstrip(',')\n",
    "duracion = response.json()['runtime']\n",
    "puntuacion = response.json()['vote_average']\n",
    "print(f'Título: {titulo}')\n",
    "print(f'Xéneros: {xeneros}')\n",
    "print(f'Duración: {duracion}')\n",
    "print(f'Puntuación: {puntuacion}')"
   ]
  },
  {
   "cell_type": "code",
   "execution_count": null,
   "id": "abba9c0a-8c79-43e3-95a8-a791c069835e",
   "metadata": {},
   "outputs": [],
   "source": [
    "# 2. Repite a consulta utilizando a autenticación (v4), con API Read Token\n",
    "# Título, xéneros, duración, puntuación media"
   ]
  },
  {
   "cell_type": "code",
   "execution_count": null,
   "id": "05c09cd7",
   "metadata": {},
   "outputs": [],
   "source": [
    "parser = ConfigParser()\n",
    "_ = parser.read('notebook.cfg')\n",
    "\n",
    "API_TOKEN = parser.get('api_tmdb', 'read_token')"
   ]
  },
  {
   "cell_type": "code",
   "execution_count": null,
   "id": "595581a1",
   "metadata": {},
   "outputs": [],
   "source": [
    "API_TOKEN"
   ]
  },
  {
   "cell_type": "code",
   "execution_count": null,
   "id": "5fab4fd4-5b1f-4f3f-a369-d00d7e55f2b3",
   "metadata": {},
   "outputs": [],
   "source": [
    "# API_TOKEN = 'YYYYYYYYYYYYYYYYYYYYYYYYYYYYYYYYYYYYYYYYYYYYYYYYY'"
   ]
  },
  {
   "cell_type": "code",
   "execution_count": null,
   "id": "10abf489-087b-4912-b342-3ed19737fc12",
   "metadata": {},
   "outputs": [],
   "source": [
    "headers = { 'Authorization' : 'Bearer ' + API_TOKEN }\n",
    "response = requests.get(url, headers = headers)\n",
    "response"
   ]
  },
  {
   "cell_type": "code",
   "execution_count": null,
   "id": "796def71-b4f5-4340-8152-7d5a2223c346",
   "metadata": {},
   "outputs": [],
   "source": [
    "# Título, xéneros, duración, puntuación media\n",
    "titulo = response.json()['original_title']\n",
    "xeneros = ''\n",
    "for xenero in response.json()['genres']:\n",
    "    xeneros += xenero['name']+','\n",
    "xeneros = xeneros.rstrip(',')\n",
    "duracion = response.json()['runtime']\n",
    "puntuacion = response.json()['vote_average']\n",
    "print(f'Título: {titulo}')\n",
    "print(f'Xéneros: {xeneros}')\n",
    "print(f'Duración: {duracion}')\n",
    "print(f'Puntuación: {puntuacion}')"
   ]
  },
  {
   "cell_type": "code",
   "execution_count": null,
   "id": "ba5ffce1-6227-409d-b803-c57dfb12ff95",
   "metadata": {},
   "outputs": [],
   "source": [
    "# 3. Busca información da película: Matrix\n",
    "# Responde ás seguintes preguntas:\n",
    "# 3.1 Cantas películas devolve a búsqueda\n",
    "# 3.2 Mostra cales son os seus títulos, data de estrea e puntuación\n",
    "# 3.3 Mostra a información das películas ordenada por data de estrea (ascendente)\n",
    "# 3.4 Mostra a información das películas ordenadas por puntuación (descendente)"
   ]
  },
  {
   "cell_type": "code",
   "execution_count": null,
   "id": "e53b87cb-5ce7-47b4-b66c-dcd9d0be1be3",
   "metadata": {},
   "outputs": [],
   "source": [
    "url = 'https://api.themoviedb.org/3/search/movie/'"
   ]
  },
  {
   "cell_type": "code",
   "execution_count": null,
   "id": "c2b9e413-1e87-4f38-b9eb-e547a02eefe1",
   "metadata": {},
   "outputs": [],
   "source": [
    "movie = 'matrix'"
   ]
  },
  {
   "cell_type": "code",
   "execution_count": null,
   "id": "6614984d-d7da-4ce1-97eb-6cbde4fbbeb1",
   "metadata": {},
   "outputs": [],
   "source": [
    "payload = {\n",
    "    'api_key' : API_KEY,\n",
    "    'query' : movie\n",
    "}"
   ]
  },
  {
   "cell_type": "code",
   "execution_count": null,
   "id": "86e23215-be5e-4e3f-b78f-af39e0119a18",
   "metadata": {},
   "outputs": [],
   "source": [
    "response = requests.get(url, params = payload)\n",
    "response"
   ]
  },
  {
   "cell_type": "code",
   "execution_count": null,
   "id": "9ad223d9-6a7e-4f0f-b4a6-eb0bd7162232",
   "metadata": {},
   "outputs": [],
   "source": [
    "response.json()"
   ]
  },
  {
   "cell_type": "code",
   "execution_count": null,
   "id": "9ded60bc",
   "metadata": {},
   "outputs": [],
   "source": [
    "import pandas as pd\n",
    "pelis = pd.DataFrame(response.json()['results'])\n"
   ]
  },
  {
   "cell_type": "code",
   "execution_count": null,
   "id": "7782ea64",
   "metadata": {},
   "outputs": [],
   "source": [
    "pelis"
   ]
  },
  {
   "cell_type": "code",
   "execution_count": null,
   "id": "fe9e1cad-4460-421a-a3a7-ff203c683890",
   "metadata": {},
   "outputs": [],
   "source": [
    "# 3.1 Número de resultados\n",
    "len(response.json()['results'])"
   ]
  },
  {
   "cell_type": "code",
   "execution_count": null,
   "id": "c4d5e13c",
   "metadata": {},
   "outputs": [],
   "source": [
    "pelis.title.count()"
   ]
  },
  {
   "cell_type": "code",
   "execution_count": null,
   "id": "c67fc593-8fbb-418e-a166-fd48c4a19ff4",
   "metadata": {},
   "outputs": [],
   "source": [
    "# 3.2 Títulos, data de estrea e puntuación\n",
    "for peli in response.json()['results']:\n",
    "    titulo = peli['title']\n",
    "    release = peli['release_date']\n",
    "    puntuacion = peli['vote_average']\n",
    "    print(f'{titulo}, {release} - {puntuacion}')"
   ]
  },
  {
   "cell_type": "code",
   "execution_count": null,
   "id": "747ab867",
   "metadata": {},
   "outputs": [],
   "source": [
    "pelis[['title','release_date','vote_average']]"
   ]
  },
  {
   "cell_type": "code",
   "execution_count": null,
   "id": "e2bc4255-6988-4fab-bf97-e96ac31aaf15",
   "metadata": {},
   "outputs": [],
   "source": [
    "# Mostra a información das películas ordenadas por data de estrea (ascendente)"
   ]
  },
  {
   "cell_type": "code",
   "execution_count": null,
   "id": "ad249b3e-5966-4f7d-983f-824d56451a08",
   "metadata": {},
   "outputs": [],
   "source": [
    "import pandas as pd"
   ]
  },
  {
   "cell_type": "code",
   "execution_count": null,
   "id": "e52d8dfa-34e9-435a-9861-664c0854803c",
   "metadata": {},
   "outputs": [],
   "source": [
    "lista_pelis = []\n",
    "for peli in response.json()['results']:\n",
    "    titulo = peli['title']\n",
    "    release = peli['release_date']\n",
    "    puntuacion = peli['vote_average']\n",
    "    #print(f'{titulo}, {release} - {puntuacion}')\n",
    "    lista_pelis.append([titulo, release, puntuacion])\n",
    "df_pelis = pd.DataFrame(lista_pelis,columns=['titulo','estrea','puntuacion'])\n",
    "df_pelis"
   ]
  },
  {
   "cell_type": "code",
   "execution_count": null,
   "id": "fd137ab4-06c6-4864-abb9-16adce78135e",
   "metadata": {},
   "outputs": [],
   "source": [
    "df_pelis.sort_values('estrea')"
   ]
  },
  {
   "cell_type": "code",
   "execution_count": null,
   "id": "5cf12aaa-c47b-4298-ab93-3c06e49a4836",
   "metadata": {},
   "outputs": [],
   "source": [
    "# Mostra a información das películas ordenadas por puntuación (descendente)"
   ]
  },
  {
   "cell_type": "code",
   "execution_count": null,
   "id": "3ce0fc6f-2dda-4a4d-bcc4-ffb890f71dd3",
   "metadata": {},
   "outputs": [],
   "source": [
    "df_pelis.sort_values('puntuacion',ascending=False)"
   ]
  },
  {
   "cell_type": "code",
   "execution_count": null,
   "id": "faebdbba-3ade-4bb9-a97b-872ff3ab0384",
   "metadata": {},
   "outputs": [],
   "source": [
    "# 4. Mostra a información da película de Matrix mellor puntuada\n",
    "# (título, duración, puntuación, ano de estrea, páxina web, sinopse (overview) e imaxe)"
   ]
  },
  {
   "cell_type": "code",
   "execution_count": null,
   "id": "cd9786b8-6886-4c47-87a5-861613462a1d",
   "metadata": {},
   "outputs": [],
   "source": [
    "lista_pelis = []\n",
    "for peli in response.json()['results']:\n",
    "    titulo = peli['title']\n",
    "    release = peli['release_date']\n",
    "    puntuacion = peli['vote_average']\n",
    "    id = peli['id']\n",
    "    #print(f'{titulo}, {release} - {puntuacion}')\n",
    "    lista_pelis.append([id,titulo, release, puntuacion])\n",
    "df_pelis = pd.DataFrame(lista_pelis,columns=['id','titulo','estrea','puntuacion'])\n",
    "id_peli_mellor_valorada = df_pelis.sort_values('puntuacion',ascending=False).iloc[0]['id']\n",
    "id_peli_mellor_valorada"
   ]
  },
  {
   "cell_type": "code",
   "execution_count": null,
   "id": "53fd454c-92cc-494a-82e4-728db05ad96c",
   "metadata": {},
   "outputs": [],
   "source": [
    "url_base = 'https://api.themoviedb.org/3/movie/'\n",
    "url = url_base+str(id_peli_mellor_valorada)\n",
    "response = requests.get(url,params = { 'api_key' : API_KEY })\n",
    "response.json()"
   ]
  },
  {
   "cell_type": "code",
   "execution_count": null,
   "id": "de677710-1f91-41ed-b234-5a946d81e387",
   "metadata": {},
   "outputs": [],
   "source": [
    "#título, duración, puntuación, ano de estrea, páxina web, sinopse (overview) e imaxe\n",
    "titulo = response.json()['title']\n",
    "puntuacion = response.json()['vote_average']\n",
    "ano = response.json()['release_date'].split('-')[0]\n",
    "webpage = response.json()['homepage']\n",
    "sinopse = response.json()['overview']\n",
    "poster_path = response.json()['poster_path']\n",
    "print(f'{titulo} ({ano})')\n",
    "print(f'Puntuacion: {puntuacion}')\n",
    "print(f'{sinopse}')\n",
    "print(webpage)"
   ]
  },
  {
   "cell_type": "code",
   "execution_count": null,
   "id": "4ea18f02-8aa6-401b-8f15-41ab8cf22f03",
   "metadata": {},
   "outputs": [],
   "source": [
    "from IPython import display\n",
    "display.Image('https://image.tmdb.org/t/p/w300'+poster_path)"
   ]
  },
  {
   "cell_type": "code",
   "execution_count": null,
   "id": "a38dc430-4574-4549-987b-cb879f3b5587",
   "metadata": {},
   "outputs": [],
   "source": [
    "# 5. Busca información das películas de Star Wars\n",
    "# Salva a información en formato CSV\n",
    "# Salva a información en formato JSON"
   ]
  },
  {
   "cell_type": "code",
   "execution_count": null,
   "id": "51aaebd3",
   "metadata": {},
   "outputs": [],
   "source": [
    "# API_TOKEN = 'YYYYYYYYYYYYYYYYYYYYYYYYYYYYYYYYYYYYYYYYYY'"
   ]
  },
  {
   "cell_type": "code",
   "execution_count": null,
   "id": "6e7303d4",
   "metadata": {},
   "outputs": [],
   "source": [
    "import requests\n",
    "import pandas as pd\n",
    "\n",
    "url = 'https://api.themoviedb.org/3/search/movie/'\n",
    "movie = 'Star Wars'\n",
    "payload = {'query' : movie, 'page':1}\n",
    "headers = { 'Authorization' : 'Bearer ' + API_TOKEN }\n",
    "response = requests.get(url, headers = headers, params = payload)\n",
    "paxinas = response.json()['total_pages']\n",
    "\n",
    "#response.json()['results']\n",
    "\n",
    "lista_pelis_SW = []\n",
    "for paxina in range(1,paxinas+1):\n",
    "    payload = {'query' : movie, 'page':paxina}\n",
    "    response = requests.get(url, headers = headers, params = payload)\n",
    "    lista_pelis_SW += response.json()['results']\n",
    "\n",
    "df_SW = pd.DataFrame(lista_pelis_SW)\n",
    "df_SW\n"
   ]
  },
  {
   "cell_type": "code",
   "execution_count": null,
   "id": "bb91457a",
   "metadata": {},
   "outputs": [],
   "source": [
    "df_SW.to_csv('output/lista_pelis_SW.csv')"
   ]
  },
  {
   "cell_type": "code",
   "execution_count": null,
   "id": "8d2d667a",
   "metadata": {},
   "outputs": [],
   "source": [
    "df_SW.to_json('output/lista_pelis_SW.json',orient='records')"
   ]
  },
  {
   "cell_type": "code",
   "execution_count": null,
   "id": "809b76d9",
   "metadata": {},
   "outputs": [],
   "source": [
    "# 6. Busca información sobre o teu actor/actriz favorito (ou sobre un calquera)\n",
    "# Busca información sobrea as películas nas que participou\n",
    "# Exporta a formato JSON a información do teu actor/actriz\n",
    "# Exporta a formato JSON a información das películas nas que participou"
   ]
  },
  {
   "cell_type": "code",
   "execution_count": null,
   "id": "a608a995",
   "metadata": {},
   "outputs": [],
   "source": [
    "# API_TOKEN = 'YYYYYYYYYYYYYYYYYYYYYYYYYYYYYYYYYYYYYYYYYYYYYYYY'"
   ]
  },
  {
   "cell_type": "code",
   "execution_count": null,
   "id": "6a53a52d",
   "metadata": {},
   "outputs": [],
   "source": [
    "import requests\n",
    "import pandas as pd\n",
    "\n",
    "url = 'https://api.themoviedb.org/3/search/person/'\n",
    "movie = 'Bill Murray'\n",
    "payload = {'query' : movie, 'page':1}\n",
    "headers = { 'Authorization' : 'Bearer ' + API_TOKEN }\n",
    "response = requests.get(url, headers = headers, params = payload)\n",
    "response.json()"
   ]
  },
  {
   "cell_type": "code",
   "execution_count": null,
   "id": "e3bf432e",
   "metadata": {},
   "outputs": [],
   "source": [
    "print('xénero:',response.json()['results'][0]['gender'])\n",
    "print('nome:',response.json()['results'][0]['name'])\n",
    "print('popularidade:',response.json()['results'][0]['popularity'])"
   ]
  },
  {
   "cell_type": "code",
   "execution_count": null,
   "id": "40d97b75",
   "metadata": {},
   "outputs": [],
   "source": [
    "df_actor = pd.DataFrame({'nome' : [response.json()['results'][0]['name']], \n",
    "                          'xenero' : [response.json()['results'][0]['gender']],\n",
    "                          'popularidade' : [response.json()['results'][0]['popularity']]\n",
    "                        })\n",
    "df_actor"
   ]
  },
  {
   "cell_type": "code",
   "execution_count": null,
   "id": "2da56cda",
   "metadata": {},
   "outputs": [],
   "source": [
    "df_actor.to_json('output/datos_actor.json',orient='records')"
   ]
  },
  {
   "cell_type": "code",
   "execution_count": null,
   "id": "466c48c2",
   "metadata": {},
   "outputs": [],
   "source": [
    "from IPython import display\n",
    "profile_path = response.json()['results'][0]['profile_path']\n",
    "display.Image('https://image.tmdb.org/t/p/w300'+profile_path)"
   ]
  },
  {
   "cell_type": "code",
   "execution_count": null,
   "id": "ce3ed5fe",
   "metadata": {},
   "outputs": [],
   "source": [
    "response.json()['results'][0]['known_for']"
   ]
  },
  {
   "cell_type": "code",
   "execution_count": null,
   "id": "d1d0612f",
   "metadata": {},
   "outputs": [],
   "source": [
    "df_pelis_actor = pd.DataFrame(response.json()['results'][0]['known_for'])\n",
    "df_pelis_actor"
   ]
  },
  {
   "cell_type": "code",
   "execution_count": null,
   "id": "dac20d71",
   "metadata": {},
   "outputs": [],
   "source": [
    "df_pelis_actor.to_json('output/pelis_de_actor.json',orient='records', lines=True)"
   ]
  },
  {
   "cell_type": "code",
   "execution_count": null,
   "id": "432dd497",
   "metadata": {},
   "outputs": [],
   "source": []
  }
 ],
 "metadata": {
  "kernelspec": {
   "display_name": "systems",
   "language": "python",
   "name": "python3"
  },
  "language_info": {
   "codemirror_mode": {
    "name": "ipython",
    "version": 3
   },
   "file_extension": ".py",
   "mimetype": "text/x-python",
   "name": "python",
   "nbconvert_exporter": "python",
   "pygments_lexer": "ipython3",
   "version": "3.7.15"
  },
  "vscode": {
   "interpreter": {
    "hash": "63eb1e5c3aa5268319f56c3b664e0523445c946ec0f1445e261f1f92702f6b14"
   }
  }
 },
 "nbformat": 4,
 "nbformat_minor": 5
}
