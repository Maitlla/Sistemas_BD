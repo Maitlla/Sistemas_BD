{
 "cells": [
  {
   "cell_type": "markdown",
   "metadata": {},
   "source": [
    "# Data sources. Other formats. \n",
    "\n",
    "* Parquet\n",
    "* JSON\n",
    "* Shapefile\n",
    "* PC-Axis\n",
    "* ...\n",
    "\n",
    "Pandas documentation: https://pandas.pydata.org/docs/index.html\n",
    "\n",
    "Pandas API reference: https://pandas.pydata.org/docs/reference/index.html#api"
   ]
  },
  {
   "cell_type": "code",
   "execution_count": 1,
   "id": "1e7f7d2b-d89c-49d6-a5dd-3cc5157c449d",
   "metadata": {},
   "outputs": [],
   "source": [
    "# import pandas library\n",
    "import pandas as pd"
   ]
  },
  {
   "cell_type": "code",
   "execution_count": null,
   "id": "a0cb7983",
   "metadata": {},
   "outputs": [],
   "source": [
    "#!conda install pyarrow"
   ]
  },
  {
   "cell_type": "markdown",
   "id": "df743294-23a9-4d7c-8745-a61bf0403e52",
   "metadata": {},
   "source": [
    "### Parquet\n",
    "\n",
    "Parquet is a compressed binary format that stores data in column mode (instead of the usual row mode)\n",
    "\n",
    "It's especially suitable for Datasets with a large numbre of columns."
   ]
  },
  {
   "cell_type": "markdown",
   "metadata": {},
   "source": [
    "### Social vulnerability Dataset\n",
    "\n",
    "Source: Data.gov (US Open Data Project)\n",
    "\n",
    "https://catalog.data.gov/dataset/social-vulnerability-index-2018-united-states-tract \n"
   ]
  },
  {
   "cell_type": "code",
   "execution_count": 2,
   "id": "8724e9f0-c112-4607-b51d-be5e10fdbe21",
   "metadata": {},
   "outputs": [
    {
     "ename": "FileNotFoundError",
     "evalue": "[Errno 2] No such file or directory: '/huge/datasets/Social_Vulnerability_Index_2018_-_United_States__tract.csv'",
     "output_type": "error",
     "traceback": [
      "\u001b[0;31m---------------------------------------------------------------------------\u001b[0m",
      "\u001b[0;31mFileNotFoundError\u001b[0m                         Traceback (most recent call last)",
      "Cell \u001b[0;32mIn[2], line 2\u001b[0m\n\u001b[1;32m      1\u001b[0m \u001b[38;5;66;03m# CSV File greater than 200MB\u001b[39;00m\n\u001b[0;32m----> 2\u001b[0m df \u001b[38;5;241m=\u001b[39m \u001b[43mpd\u001b[49m\u001b[38;5;241;43m.\u001b[39;49m\u001b[43mread_csv\u001b[49m\u001b[43m(\u001b[49m\u001b[38;5;124;43m'\u001b[39;49m\u001b[38;5;124;43m/huge/datasets/Social_Vulnerability_Index_2018_-_United_States__tract.csv\u001b[39;49m\u001b[38;5;124;43m'\u001b[39;49m\u001b[43m)\u001b[49m\n",
      "File \u001b[0;32m~/miniconda3/envs/sistemas/lib/python3.12/site-packages/pandas/io/parsers/readers.py:948\u001b[0m, in \u001b[0;36mread_csv\u001b[0;34m(filepath_or_buffer, sep, delimiter, header, names, index_col, usecols, dtype, engine, converters, true_values, false_values, skipinitialspace, skiprows, skipfooter, nrows, na_values, keep_default_na, na_filter, verbose, skip_blank_lines, parse_dates, infer_datetime_format, keep_date_col, date_parser, date_format, dayfirst, cache_dates, iterator, chunksize, compression, thousands, decimal, lineterminator, quotechar, quoting, doublequote, escapechar, comment, encoding, encoding_errors, dialect, on_bad_lines, delim_whitespace, low_memory, memory_map, float_precision, storage_options, dtype_backend)\u001b[0m\n\u001b[1;32m    935\u001b[0m kwds_defaults \u001b[38;5;241m=\u001b[39m _refine_defaults_read(\n\u001b[1;32m    936\u001b[0m     dialect,\n\u001b[1;32m    937\u001b[0m     delimiter,\n\u001b[0;32m   (...)\u001b[0m\n\u001b[1;32m    944\u001b[0m     dtype_backend\u001b[38;5;241m=\u001b[39mdtype_backend,\n\u001b[1;32m    945\u001b[0m )\n\u001b[1;32m    946\u001b[0m kwds\u001b[38;5;241m.\u001b[39mupdate(kwds_defaults)\n\u001b[0;32m--> 948\u001b[0m \u001b[38;5;28;01mreturn\u001b[39;00m \u001b[43m_read\u001b[49m\u001b[43m(\u001b[49m\u001b[43mfilepath_or_buffer\u001b[49m\u001b[43m,\u001b[49m\u001b[43m \u001b[49m\u001b[43mkwds\u001b[49m\u001b[43m)\u001b[49m\n",
      "File \u001b[0;32m~/miniconda3/envs/sistemas/lib/python3.12/site-packages/pandas/io/parsers/readers.py:611\u001b[0m, in \u001b[0;36m_read\u001b[0;34m(filepath_or_buffer, kwds)\u001b[0m\n\u001b[1;32m    608\u001b[0m _validate_names(kwds\u001b[38;5;241m.\u001b[39mget(\u001b[38;5;124m\"\u001b[39m\u001b[38;5;124mnames\u001b[39m\u001b[38;5;124m\"\u001b[39m, \u001b[38;5;28;01mNone\u001b[39;00m))\n\u001b[1;32m    610\u001b[0m \u001b[38;5;66;03m# Create the parser.\u001b[39;00m\n\u001b[0;32m--> 611\u001b[0m parser \u001b[38;5;241m=\u001b[39m \u001b[43mTextFileReader\u001b[49m\u001b[43m(\u001b[49m\u001b[43mfilepath_or_buffer\u001b[49m\u001b[43m,\u001b[49m\u001b[43m \u001b[49m\u001b[38;5;241;43m*\u001b[39;49m\u001b[38;5;241;43m*\u001b[39;49m\u001b[43mkwds\u001b[49m\u001b[43m)\u001b[49m\n\u001b[1;32m    613\u001b[0m \u001b[38;5;28;01mif\u001b[39;00m chunksize \u001b[38;5;129;01mor\u001b[39;00m iterator:\n\u001b[1;32m    614\u001b[0m     \u001b[38;5;28;01mreturn\u001b[39;00m parser\n",
      "File \u001b[0;32m~/miniconda3/envs/sistemas/lib/python3.12/site-packages/pandas/io/parsers/readers.py:1448\u001b[0m, in \u001b[0;36mTextFileReader.__init__\u001b[0;34m(self, f, engine, **kwds)\u001b[0m\n\u001b[1;32m   1445\u001b[0m     \u001b[38;5;28mself\u001b[39m\u001b[38;5;241m.\u001b[39moptions[\u001b[38;5;124m\"\u001b[39m\u001b[38;5;124mhas_index_names\u001b[39m\u001b[38;5;124m\"\u001b[39m] \u001b[38;5;241m=\u001b[39m kwds[\u001b[38;5;124m\"\u001b[39m\u001b[38;5;124mhas_index_names\u001b[39m\u001b[38;5;124m\"\u001b[39m]\n\u001b[1;32m   1447\u001b[0m \u001b[38;5;28mself\u001b[39m\u001b[38;5;241m.\u001b[39mhandles: IOHandles \u001b[38;5;241m|\u001b[39m \u001b[38;5;28;01mNone\u001b[39;00m \u001b[38;5;241m=\u001b[39m \u001b[38;5;28;01mNone\u001b[39;00m\n\u001b[0;32m-> 1448\u001b[0m \u001b[38;5;28mself\u001b[39m\u001b[38;5;241m.\u001b[39m_engine \u001b[38;5;241m=\u001b[39m \u001b[38;5;28;43mself\u001b[39;49m\u001b[38;5;241;43m.\u001b[39;49m\u001b[43m_make_engine\u001b[49m\u001b[43m(\u001b[49m\u001b[43mf\u001b[49m\u001b[43m,\u001b[49m\u001b[43m \u001b[49m\u001b[38;5;28;43mself\u001b[39;49m\u001b[38;5;241;43m.\u001b[39;49m\u001b[43mengine\u001b[49m\u001b[43m)\u001b[49m\n",
      "File \u001b[0;32m~/miniconda3/envs/sistemas/lib/python3.12/site-packages/pandas/io/parsers/readers.py:1705\u001b[0m, in \u001b[0;36mTextFileReader._make_engine\u001b[0;34m(self, f, engine)\u001b[0m\n\u001b[1;32m   1703\u001b[0m     \u001b[38;5;28;01mif\u001b[39;00m \u001b[38;5;124m\"\u001b[39m\u001b[38;5;124mb\u001b[39m\u001b[38;5;124m\"\u001b[39m \u001b[38;5;129;01mnot\u001b[39;00m \u001b[38;5;129;01min\u001b[39;00m mode:\n\u001b[1;32m   1704\u001b[0m         mode \u001b[38;5;241m+\u001b[39m\u001b[38;5;241m=\u001b[39m \u001b[38;5;124m\"\u001b[39m\u001b[38;5;124mb\u001b[39m\u001b[38;5;124m\"\u001b[39m\n\u001b[0;32m-> 1705\u001b[0m \u001b[38;5;28mself\u001b[39m\u001b[38;5;241m.\u001b[39mhandles \u001b[38;5;241m=\u001b[39m \u001b[43mget_handle\u001b[49m\u001b[43m(\u001b[49m\n\u001b[1;32m   1706\u001b[0m \u001b[43m    \u001b[49m\u001b[43mf\u001b[49m\u001b[43m,\u001b[49m\n\u001b[1;32m   1707\u001b[0m \u001b[43m    \u001b[49m\u001b[43mmode\u001b[49m\u001b[43m,\u001b[49m\n\u001b[1;32m   1708\u001b[0m \u001b[43m    \u001b[49m\u001b[43mencoding\u001b[49m\u001b[38;5;241;43m=\u001b[39;49m\u001b[38;5;28;43mself\u001b[39;49m\u001b[38;5;241;43m.\u001b[39;49m\u001b[43moptions\u001b[49m\u001b[38;5;241;43m.\u001b[39;49m\u001b[43mget\u001b[49m\u001b[43m(\u001b[49m\u001b[38;5;124;43m\"\u001b[39;49m\u001b[38;5;124;43mencoding\u001b[39;49m\u001b[38;5;124;43m\"\u001b[39;49m\u001b[43m,\u001b[49m\u001b[43m \u001b[49m\u001b[38;5;28;43;01mNone\u001b[39;49;00m\u001b[43m)\u001b[49m\u001b[43m,\u001b[49m\n\u001b[1;32m   1709\u001b[0m \u001b[43m    \u001b[49m\u001b[43mcompression\u001b[49m\u001b[38;5;241;43m=\u001b[39;49m\u001b[38;5;28;43mself\u001b[39;49m\u001b[38;5;241;43m.\u001b[39;49m\u001b[43moptions\u001b[49m\u001b[38;5;241;43m.\u001b[39;49m\u001b[43mget\u001b[49m\u001b[43m(\u001b[49m\u001b[38;5;124;43m\"\u001b[39;49m\u001b[38;5;124;43mcompression\u001b[39;49m\u001b[38;5;124;43m\"\u001b[39;49m\u001b[43m,\u001b[49m\u001b[43m \u001b[49m\u001b[38;5;28;43;01mNone\u001b[39;49;00m\u001b[43m)\u001b[49m\u001b[43m,\u001b[49m\n\u001b[1;32m   1710\u001b[0m \u001b[43m    \u001b[49m\u001b[43mmemory_map\u001b[49m\u001b[38;5;241;43m=\u001b[39;49m\u001b[38;5;28;43mself\u001b[39;49m\u001b[38;5;241;43m.\u001b[39;49m\u001b[43moptions\u001b[49m\u001b[38;5;241;43m.\u001b[39;49m\u001b[43mget\u001b[49m\u001b[43m(\u001b[49m\u001b[38;5;124;43m\"\u001b[39;49m\u001b[38;5;124;43mmemory_map\u001b[39;49m\u001b[38;5;124;43m\"\u001b[39;49m\u001b[43m,\u001b[49m\u001b[43m \u001b[49m\u001b[38;5;28;43;01mFalse\u001b[39;49;00m\u001b[43m)\u001b[49m\u001b[43m,\u001b[49m\n\u001b[1;32m   1711\u001b[0m \u001b[43m    \u001b[49m\u001b[43mis_text\u001b[49m\u001b[38;5;241;43m=\u001b[39;49m\u001b[43mis_text\u001b[49m\u001b[43m,\u001b[49m\n\u001b[1;32m   1712\u001b[0m \u001b[43m    \u001b[49m\u001b[43merrors\u001b[49m\u001b[38;5;241;43m=\u001b[39;49m\u001b[38;5;28;43mself\u001b[39;49m\u001b[38;5;241;43m.\u001b[39;49m\u001b[43moptions\u001b[49m\u001b[38;5;241;43m.\u001b[39;49m\u001b[43mget\u001b[49m\u001b[43m(\u001b[49m\u001b[38;5;124;43m\"\u001b[39;49m\u001b[38;5;124;43mencoding_errors\u001b[39;49m\u001b[38;5;124;43m\"\u001b[39;49m\u001b[43m,\u001b[49m\u001b[43m \u001b[49m\u001b[38;5;124;43m\"\u001b[39;49m\u001b[38;5;124;43mstrict\u001b[39;49m\u001b[38;5;124;43m\"\u001b[39;49m\u001b[43m)\u001b[49m\u001b[43m,\u001b[49m\n\u001b[1;32m   1713\u001b[0m \u001b[43m    \u001b[49m\u001b[43mstorage_options\u001b[49m\u001b[38;5;241;43m=\u001b[39;49m\u001b[38;5;28;43mself\u001b[39;49m\u001b[38;5;241;43m.\u001b[39;49m\u001b[43moptions\u001b[49m\u001b[38;5;241;43m.\u001b[39;49m\u001b[43mget\u001b[49m\u001b[43m(\u001b[49m\u001b[38;5;124;43m\"\u001b[39;49m\u001b[38;5;124;43mstorage_options\u001b[39;49m\u001b[38;5;124;43m\"\u001b[39;49m\u001b[43m,\u001b[49m\u001b[43m \u001b[49m\u001b[38;5;28;43;01mNone\u001b[39;49;00m\u001b[43m)\u001b[49m\u001b[43m,\u001b[49m\n\u001b[1;32m   1714\u001b[0m \u001b[43m\u001b[49m\u001b[43m)\u001b[49m\n\u001b[1;32m   1715\u001b[0m \u001b[38;5;28;01massert\u001b[39;00m \u001b[38;5;28mself\u001b[39m\u001b[38;5;241m.\u001b[39mhandles \u001b[38;5;129;01mis\u001b[39;00m \u001b[38;5;129;01mnot\u001b[39;00m \u001b[38;5;28;01mNone\u001b[39;00m\n\u001b[1;32m   1716\u001b[0m f \u001b[38;5;241m=\u001b[39m \u001b[38;5;28mself\u001b[39m\u001b[38;5;241m.\u001b[39mhandles\u001b[38;5;241m.\u001b[39mhandle\n",
      "File \u001b[0;32m~/miniconda3/envs/sistemas/lib/python3.12/site-packages/pandas/io/common.py:863\u001b[0m, in \u001b[0;36mget_handle\u001b[0;34m(path_or_buf, mode, encoding, compression, memory_map, is_text, errors, storage_options)\u001b[0m\n\u001b[1;32m    858\u001b[0m \u001b[38;5;28;01melif\u001b[39;00m \u001b[38;5;28misinstance\u001b[39m(handle, \u001b[38;5;28mstr\u001b[39m):\n\u001b[1;32m    859\u001b[0m     \u001b[38;5;66;03m# Check whether the filename is to be opened in binary mode.\u001b[39;00m\n\u001b[1;32m    860\u001b[0m     \u001b[38;5;66;03m# Binary mode does not support 'encoding' and 'newline'.\u001b[39;00m\n\u001b[1;32m    861\u001b[0m     \u001b[38;5;28;01mif\u001b[39;00m ioargs\u001b[38;5;241m.\u001b[39mencoding \u001b[38;5;129;01mand\u001b[39;00m \u001b[38;5;124m\"\u001b[39m\u001b[38;5;124mb\u001b[39m\u001b[38;5;124m\"\u001b[39m \u001b[38;5;129;01mnot\u001b[39;00m \u001b[38;5;129;01min\u001b[39;00m ioargs\u001b[38;5;241m.\u001b[39mmode:\n\u001b[1;32m    862\u001b[0m         \u001b[38;5;66;03m# Encoding\u001b[39;00m\n\u001b[0;32m--> 863\u001b[0m         handle \u001b[38;5;241m=\u001b[39m \u001b[38;5;28;43mopen\u001b[39;49m\u001b[43m(\u001b[49m\n\u001b[1;32m    864\u001b[0m \u001b[43m            \u001b[49m\u001b[43mhandle\u001b[49m\u001b[43m,\u001b[49m\n\u001b[1;32m    865\u001b[0m \u001b[43m            \u001b[49m\u001b[43mioargs\u001b[49m\u001b[38;5;241;43m.\u001b[39;49m\u001b[43mmode\u001b[49m\u001b[43m,\u001b[49m\n\u001b[1;32m    866\u001b[0m \u001b[43m            \u001b[49m\u001b[43mencoding\u001b[49m\u001b[38;5;241;43m=\u001b[39;49m\u001b[43mioargs\u001b[49m\u001b[38;5;241;43m.\u001b[39;49m\u001b[43mencoding\u001b[49m\u001b[43m,\u001b[49m\n\u001b[1;32m    867\u001b[0m \u001b[43m            \u001b[49m\u001b[43merrors\u001b[49m\u001b[38;5;241;43m=\u001b[39;49m\u001b[43merrors\u001b[49m\u001b[43m,\u001b[49m\n\u001b[1;32m    868\u001b[0m \u001b[43m            \u001b[49m\u001b[43mnewline\u001b[49m\u001b[38;5;241;43m=\u001b[39;49m\u001b[38;5;124;43m\"\u001b[39;49m\u001b[38;5;124;43m\"\u001b[39;49m\u001b[43m,\u001b[49m\n\u001b[1;32m    869\u001b[0m \u001b[43m        \u001b[49m\u001b[43m)\u001b[49m\n\u001b[1;32m    870\u001b[0m     \u001b[38;5;28;01melse\u001b[39;00m:\n\u001b[1;32m    871\u001b[0m         \u001b[38;5;66;03m# Binary mode\u001b[39;00m\n\u001b[1;32m    872\u001b[0m         handle \u001b[38;5;241m=\u001b[39m \u001b[38;5;28mopen\u001b[39m(handle, ioargs\u001b[38;5;241m.\u001b[39mmode)\n",
      "\u001b[0;31mFileNotFoundError\u001b[0m: [Errno 2] No such file or directory: '/huge/datasets/Social_Vulnerability_Index_2018_-_United_States__tract.csv'"
     ]
    }
   ],
   "source": [
    "# CSV File greater than 200MB\n",
    "df = pd.read_csv('/huge/datasets/Social_Vulnerability_Index_2018_-_United_States__tract.csv')"
   ]
  },
  {
   "cell_type": "code",
   "execution_count": null,
   "id": "7384a50e-31cb-485e-a813-0469189068ba",
   "metadata": {},
   "outputs": [],
   "source": [
    "df.shape"
   ]
  },
  {
   "cell_type": "code",
   "execution_count": null,
   "id": "6a6c4555-c6ab-4763-be35-f1156b32f451",
   "metadata": {},
   "outputs": [],
   "source": [
    "df.head()"
   ]
  },
  {
   "cell_type": "code",
   "execution_count": 3,
   "id": "bceb4a0e-e290-48b4-b9ed-fe2b88f1f60f",
   "metadata": {},
   "outputs": [
    {
     "ename": "NameError",
     "evalue": "name 'df' is not defined",
     "output_type": "error",
     "traceback": [
      "\u001b[0;31m---------------------------------------------------------------------------\u001b[0m",
      "\u001b[0;31mNameError\u001b[0m                                 Traceback (most recent call last)",
      "Cell \u001b[0;32mIn[3], line 1\u001b[0m\n\u001b[0;32m----> 1\u001b[0m \u001b[43mdf\u001b[49m\u001b[38;5;241m.\u001b[39mto_parquet(\u001b[38;5;124m'\u001b[39m\u001b[38;5;124m/huge/datasets/Social_Vulnerability_Index_2018_-_United_States__tract.parquet\u001b[39m\u001b[38;5;124m'\u001b[39m)\n",
      "\u001b[0;31mNameError\u001b[0m: name 'df' is not defined"
     ]
    }
   ],
   "source": [
    "df.to_parquet('/huge/datasets/Social_Vulnerability_Index_2018_-_United_States__tract.parquet')"
   ]
  },
  {
   "cell_type": "code",
   "execution_count": null,
   "metadata": {},
   "outputs": [],
   "source": [
    "# Parquet is a binary format (don't try to open the file with a text editor)\n",
    "# Note the compression rate of parquet format, look at the file size."
   ]
  },
  {
   "cell_type": "code",
   "execution_count": null,
   "id": "7ce96ff3-e15d-43cb-8f69-ffc5b4dce20d",
   "metadata": {},
   "outputs": [],
   "source": [
    "df_pq = pd.read_parquet('/huge/datasets/Social_Vulnerability_Index_2018_-_United_States__tract.parquet')\n",
    "df_pq.head()                        "
   ]
  },
  {
   "cell_type": "code",
   "execution_count": null,
   "id": "c78dc311-ec2d-4f71-b435-db42ad3abc3b",
   "metadata": {},
   "outputs": [],
   "source": [
    "# Compare the reading execution time of the dataset in CSV vs Parquet?\n",
    "# Do you notice any difference?"
   ]
  },
  {
   "cell_type": "code",
   "execution_count": null,
   "metadata": {},
   "outputs": [],
   "source": [
    "# Use %time python magic to measure the execution time\n",
    "%time df = pd.read_csv('/huge/datasets/Social_Vulnerability_Index_2018_-_United_States__tract.csv')"
   ]
  },
  {
   "cell_type": "code",
   "execution_count": null,
   "metadata": {},
   "outputs": [],
   "source": [
    "# Use %time python magic to measure the execution time\n",
    "%time df_pq = pd.read_parquet('/huge/datasets/Social_Vulnerability_Index_2018_-_United_States__tract.parquet')\n"
   ]
  },
  {
   "cell_type": "code",
   "execution_count": null,
   "id": "75759624-88f6-47cf-afb0-0b6a9d8b9789",
   "metadata": {},
   "outputs": [],
   "source": [
    "df_pq.sample(10)"
   ]
  },
  {
   "cell_type": "markdown",
   "id": "81d2a0e9-85ce-49c7-9da1-30f49abf04c9",
   "metadata": {},
   "source": [
    "### JSON\n",
    "\n",
    "JSON is a text based format with the Javascript Sintax Notation."
   ]
  },
  {
   "cell_type": "code",
   "execution_count": 30,
   "id": "8dafc7a0-5f87-452a-94a1-5ec3f2c62ac2",
   "metadata": {},
   "outputs": [],
   "source": [
    "# Sample JSON file with data Series\n",
    "# https://www.w3schools.com/python/pandas/data.js\n",
    "df = pd.read_json('../datasets/data_series.json')"
   ]
  },
  {
   "cell_type": "code",
   "execution_count": 31,
   "id": "a864d8c3-85af-4e1d-87aa-92d4508c1b39",
   "metadata": {},
   "outputs": [
    {
     "data": {
      "text/html": [
       "<div>\n",
       "<style scoped>\n",
       "    .dataframe tbody tr th:only-of-type {\n",
       "        vertical-align: middle;\n",
       "    }\n",
       "\n",
       "    .dataframe tbody tr th {\n",
       "        vertical-align: top;\n",
       "    }\n",
       "\n",
       "    .dataframe thead th {\n",
       "        text-align: right;\n",
       "    }\n",
       "</style>\n",
       "<table border=\"1\" class=\"dataframe\">\n",
       "  <thead>\n",
       "    <tr style=\"text-align: right;\">\n",
       "      <th></th>\n",
       "      <th>Duration</th>\n",
       "      <th>Pulse</th>\n",
       "      <th>Maxpulse</th>\n",
       "      <th>Calories</th>\n",
       "    </tr>\n",
       "  </thead>\n",
       "  <tbody>\n",
       "    <tr>\n",
       "      <th>0</th>\n",
       "      <td>60</td>\n",
       "      <td>110</td>\n",
       "      <td>130</td>\n",
       "      <td>409.1</td>\n",
       "    </tr>\n",
       "    <tr>\n",
       "      <th>1</th>\n",
       "      <td>60</td>\n",
       "      <td>117</td>\n",
       "      <td>145</td>\n",
       "      <td>479.0</td>\n",
       "    </tr>\n",
       "    <tr>\n",
       "      <th>2</th>\n",
       "      <td>60</td>\n",
       "      <td>103</td>\n",
       "      <td>135</td>\n",
       "      <td>340.0</td>\n",
       "    </tr>\n",
       "    <tr>\n",
       "      <th>3</th>\n",
       "      <td>45</td>\n",
       "      <td>109</td>\n",
       "      <td>175</td>\n",
       "      <td>282.4</td>\n",
       "    </tr>\n",
       "    <tr>\n",
       "      <th>4</th>\n",
       "      <td>45</td>\n",
       "      <td>117</td>\n",
       "      <td>148</td>\n",
       "      <td>406.0</td>\n",
       "    </tr>\n",
       "    <tr>\n",
       "      <th>...</th>\n",
       "      <td>...</td>\n",
       "      <td>...</td>\n",
       "      <td>...</td>\n",
       "      <td>...</td>\n",
       "    </tr>\n",
       "    <tr>\n",
       "      <th>164</th>\n",
       "      <td>60</td>\n",
       "      <td>105</td>\n",
       "      <td>140</td>\n",
       "      <td>290.8</td>\n",
       "    </tr>\n",
       "    <tr>\n",
       "      <th>165</th>\n",
       "      <td>60</td>\n",
       "      <td>110</td>\n",
       "      <td>145</td>\n",
       "      <td>300.4</td>\n",
       "    </tr>\n",
       "    <tr>\n",
       "      <th>166</th>\n",
       "      <td>60</td>\n",
       "      <td>115</td>\n",
       "      <td>145</td>\n",
       "      <td>310.2</td>\n",
       "    </tr>\n",
       "    <tr>\n",
       "      <th>167</th>\n",
       "      <td>75</td>\n",
       "      <td>120</td>\n",
       "      <td>150</td>\n",
       "      <td>320.4</td>\n",
       "    </tr>\n",
       "    <tr>\n",
       "      <th>168</th>\n",
       "      <td>75</td>\n",
       "      <td>125</td>\n",
       "      <td>150</td>\n",
       "      <td>330.4</td>\n",
       "    </tr>\n",
       "  </tbody>\n",
       "</table>\n",
       "<p>169 rows × 4 columns</p>\n",
       "</div>"
      ],
      "text/plain": [
       "     Duration  Pulse  Maxpulse  Calories\n",
       "0          60    110       130     409.1\n",
       "1          60    117       145     479.0\n",
       "2          60    103       135     340.0\n",
       "3          45    109       175     282.4\n",
       "4          45    117       148     406.0\n",
       "..        ...    ...       ...       ...\n",
       "164        60    105       140     290.8\n",
       "165        60    110       145     300.4\n",
       "166        60    115       145     310.2\n",
       "167        75    120       150     320.4\n",
       "168        75    125       150     330.4\n",
       "\n",
       "[169 rows x 4 columns]"
      ]
     },
     "execution_count": 31,
     "metadata": {},
     "output_type": "execute_result"
    }
   ],
   "source": [
    "df"
   ]
  },
  {
   "cell_type": "code",
   "execution_count": 32,
   "id": "2836a041-fec0-454c-b61a-25c669ba4ead",
   "metadata": {},
   "outputs": [
    {
     "data": {
      "text/plain": [
       "'     Duration  Pulse  Maxpulse  Calories\\n0          60    110       130     409.1\\n1          60    117       145     479.0\\n2          60    103       135     340.0\\n3          45    109       175     282.4\\n4          45    117       148     406.0\\n5          60    102       127     300.5\\n6          60    110       136     374.0\\n7          45    104       134     253.3\\n8          30    109       133     195.1\\n9          60     98       124     269.0\\n10         60    103       147     329.3\\n11         60    100       120     250.7\\n12         60    106       128     345.3\\n13         60    104       132     379.3\\n14         60     98       123     275.0\\n15         60     98       120     215.2\\n16         60    100       120     300.0\\n17         45     90       112       NaN\\n18         60    103       123     323.0\\n19         45     97       125     243.0\\n20         60    108       131     364.2\\n21         45    100       119     282.0\\n22         60    130       101     300.0\\n23         45    105       132     246.0\\n24         60    102       126     334.5\\n25         60    100       120     250.0\\n26         60     92       118     241.0\\n27         60    103       132       NaN\\n28         60    100       132     280.0\\n29         60    102       129     380.3\\n30         60     92       115     243.0\\n31         45     90       112     180.1\\n32         60    101       124     299.0\\n33         60     93       113     223.0\\n34         60    107       136     361.0\\n35         60    114       140     415.0\\n36         60    102       127     300.5\\n37         60    100       120     300.1\\n38         60    100       120     300.0\\n39         45    104       129     266.0\\n40         45     90       112     180.1\\n41         60     98       126     286.0\\n42         60    100       122     329.4\\n43         60    111       138     400.0\\n44         60    111       131     397.0\\n45         60     99       119     273.0\\n46         60    109       153     387.6\\n47         45    111       136     300.0\\n48         45    108       129     298.0\\n49         60    111       139     397.6\\n50         60    107       136     380.2\\n51         80    123       146     643.1\\n52         60    106       130     263.0\\n53         60    118       151     486.0\\n54         30    136       175     238.0\\n55         60    121       146     450.7\\n56         60    118       121     413.0\\n57         45    115       144     305.0\\n58         20    153       172     226.4\\n59         45    123       152     321.0\\n60        210    108       160    1376.0\\n61        160    110       137    1034.4\\n62        160    109       135     853.0\\n63         45    118       141     341.0\\n64         20    110       130     131.4\\n65        180     90       130     800.4\\n66        150    105       135     873.4\\n67        150    107       130     816.0\\n68         20    106       136     110.4\\n69        300    108       143    1500.2\\n70        150     97       129    1115.0\\n71         60    109       153     387.6\\n72         90    100       127     700.0\\n73        150     97       127     953.2\\n74         45    114       146     304.0\\n75         90     98       125     563.2\\n76         45    105       134     251.0\\n77         45    110       141     300.0\\n78        120    100       130     500.4\\n79        270    100       131    1729.0\\n80         30    159       182     319.2\\n81         45    149       169     344.0\\n82         30    103       139     151.1\\n83        120    100       130     500.0\\n84         45    100       120     225.3\\n85         30    151       170     300.1\\n86         45    102       136     234.0\\n87        120    100       157    1000.1\\n88         45    129       103     242.0\\n89         20     83       107      50.3\\n90        180    101       127     600.1\\n91         45    107       137       NaN\\n92         30     90       107     105.3\\n93         15     80       100      50.5\\n94         20    150       171     127.4\\n95         20    151       168     229.4\\n96         30     95       128     128.2\\n97         25    152       168     244.2\\n98         30    109       131     188.2\\n99         90     93       124     604.1\\n100        20     95       112      77.7\\n101        90     90       110     500.0\\n102        90     90       100     500.0\\n103        90     90       100     500.4\\n104        30     92       108      92.7\\n105        30     93       128     124.0\\n106       180     90       120     800.3\\n107        30     90       120      86.2\\n108        90     90       120     500.3\\n109       210    137       184    1860.4\\n110        60    102       124     325.2\\n111        45    107       124     275.0\\n112        15    124       139     124.2\\n113        45    100       120     225.3\\n114        60    108       131     367.6\\n115        60    108       151     351.7\\n116        60    116       141     443.0\\n117        60     97       122     277.4\\n118        60    105       125       NaN\\n119        60    103       124     332.7\\n120        30    112       137     193.9\\n121        45    100       120     100.7\\n122        60    119       169     336.7\\n123        60    107       127     344.9\\n124        60    111       151     368.5\\n125        60     98       122     271.0\\n126        60     97       124     275.3\\n127        60    109       127     382.0\\n128        90     99       125     466.4\\n129        60    114       151     384.0\\n130        60    104       134     342.5\\n131        60    107       138     357.5\\n132        60    103       133     335.0\\n133        60    106       132     327.5\\n134        60    103       136     339.0\\n135        20    136       156     189.0\\n136        45    117       143     317.7\\n137        45    115       137     318.0\\n138        45    113       138     308.0\\n139        20    141       162     222.4\\n140        60    108       135     390.0\\n141        60     97       127       NaN\\n142        45    100       120     250.4\\n143        45    122       149     335.4\\n144        60    136       170     470.2\\n145        45    106       126     270.8\\n146        60    107       136     400.0\\n147        60    112       146     361.9\\n148        30    103       127     185.0\\n149        60    110       150     409.4\\n150        60    106       134     343.0\\n151        60    109       129     353.2\\n152        60    109       138     374.0\\n153        30    150       167     275.8\\n154        60    105       128     328.0\\n155        60    111       151     368.5\\n156        60     97       131     270.4\\n157        60    100       120     270.4\\n158        60    114       150     382.8\\n159        30     80       120     240.9\\n160        30     85       120     250.4\\n161        45     90       130     260.4\\n162        45     95       130     270.0\\n163        45    100       140     280.9\\n164        60    105       140     290.8\\n165        60    110       145     300.4\\n166        60    115       145     310.2\\n167        75    120       150     320.4\\n168        75    125       150     330.4'"
      ]
     },
     "execution_count": 32,
     "metadata": {},
     "output_type": "execute_result"
    }
   ],
   "source": [
    "# Show the dataframe in text mode\n",
    "df.to_string()\n",
    "#print(df.to_string())"
   ]
  },
  {
   "cell_type": "code",
   "execution_count": 36,
   "id": "f1ecd2b5-1076-4aaf-b0b2-2f60da7edfc6",
   "metadata": {},
   "outputs": [
    {
     "data": {
      "text/html": [
       "<div>\n",
       "<style scoped>\n",
       "    .dataframe tbody tr th:only-of-type {\n",
       "        vertical-align: middle;\n",
       "    }\n",
       "\n",
       "    .dataframe tbody tr th {\n",
       "        vertical-align: top;\n",
       "    }\n",
       "\n",
       "    .dataframe thead th {\n",
       "        text-align: right;\n",
       "    }\n",
       "</style>\n",
       "<table border=\"1\" class=\"dataframe\">\n",
       "  <thead>\n",
       "    <tr style=\"text-align: right;\">\n",
       "      <th></th>\n",
       "      <th>Pulse</th>\n",
       "      <th>Calories</th>\n",
       "    </tr>\n",
       "  </thead>\n",
       "  <tbody>\n",
       "    <tr>\n",
       "      <th>0</th>\n",
       "      <td>110</td>\n",
       "      <td>409.1</td>\n",
       "    </tr>\n",
       "    <tr>\n",
       "      <th>1</th>\n",
       "      <td>117</td>\n",
       "      <td>479.0</td>\n",
       "    </tr>\n",
       "    <tr>\n",
       "      <th>2</th>\n",
       "      <td>103</td>\n",
       "      <td>340.0</td>\n",
       "    </tr>\n",
       "    <tr>\n",
       "      <th>5</th>\n",
       "      <td>102</td>\n",
       "      <td>300.5</td>\n",
       "    </tr>\n",
       "    <tr>\n",
       "      <th>6</th>\n",
       "      <td>110</td>\n",
       "      <td>374.0</td>\n",
       "    </tr>\n",
       "    <tr>\n",
       "      <th>...</th>\n",
       "      <td>...</td>\n",
       "      <td>...</td>\n",
       "    </tr>\n",
       "    <tr>\n",
       "      <th>157</th>\n",
       "      <td>100</td>\n",
       "      <td>270.4</td>\n",
       "    </tr>\n",
       "    <tr>\n",
       "      <th>158</th>\n",
       "      <td>114</td>\n",
       "      <td>382.8</td>\n",
       "    </tr>\n",
       "    <tr>\n",
       "      <th>164</th>\n",
       "      <td>105</td>\n",
       "      <td>290.8</td>\n",
       "    </tr>\n",
       "    <tr>\n",
       "      <th>165</th>\n",
       "      <td>110</td>\n",
       "      <td>300.4</td>\n",
       "    </tr>\n",
       "    <tr>\n",
       "      <th>166</th>\n",
       "      <td>115</td>\n",
       "      <td>310.2</td>\n",
       "    </tr>\n",
       "  </tbody>\n",
       "</table>\n",
       "<p>79 rows × 2 columns</p>\n",
       "</div>"
      ],
      "text/plain": [
       "     Pulse  Calories\n",
       "0      110     409.1\n",
       "1      117     479.0\n",
       "2      103     340.0\n",
       "5      102     300.5\n",
       "6      110     374.0\n",
       "..     ...       ...\n",
       "157    100     270.4\n",
       "158    114     382.8\n",
       "164    105     290.8\n",
       "165    110     300.4\n",
       "166    115     310.2\n",
       "\n",
       "[79 rows x 2 columns]"
      ]
     },
     "execution_count": 36,
     "metadata": {},
     "output_type": "execute_result"
    }
   ],
   "source": [
    "# Select Pulse and Calories with Duration 60\n",
    "df60 = df[df.Duration == 60][['Pulse','Calories']]\n",
    "df60"
   ]
  },
  {
   "cell_type": "code",
   "execution_count": 40,
   "id": "4cb62ba5-9d2e-4883-9f60-b4ce0ae65918",
   "metadata": {},
   "outputs": [],
   "source": [
    "# Save results in a new JSON file\n",
    "df60.to_json('output/data_60.json')"
   ]
  },
  {
   "cell_type": "code",
   "execution_count": null,
   "id": "d16e7359-6b08-4f16-bf17-6d481fa28b8c",
   "metadata": {},
   "outputs": [],
   "source": [
    "# Open the new file with a text editor"
   ]
  },
  {
   "cell_type": "code",
   "execution_count": 41,
   "id": "c957cbfa-f67c-4a8a-b9f6-ed72c48868ed",
   "metadata": {},
   "outputs": [],
   "source": [
    "# Sample JSON file with data in one level only, no nested data\n",
    "# https://github.com/ankitgoel1602/data-science/tree/master/json-data\n",
    "df = pd.read_json('../datasets/level_1.json')"
   ]
  },
  {
   "cell_type": "code",
   "execution_count": null,
   "id": "b5455564-e108-4773-a803-dc6e41e7c62c",
   "metadata": {},
   "outputs": [],
   "source": [
    "df"
   ]
  },
  {
   "cell_type": "code",
   "execution_count": null,
   "id": "5d914c7a-5430-4322-9468-997c63517745",
   "metadata": {},
   "outputs": [],
   "source": [
    "# JSON complex files\n",
    "# https://towardsdatascience.com/how-to-parse-json-data-with-python-pandas-f84fbd0b1025\n",
    "# pd.read_json won't be enough with nested data in JSON files. "
   ]
  },
  {
   "cell_type": "code",
   "execution_count": null,
   "id": "708c60df-2762-47d8-8902-aaf18546fb01",
   "metadata": {},
   "outputs": [],
   "source": [
    "# Load a remote JSON dataset\n",
    "# Dataset with cities of the world\n",
    "url = 'https://raw.githubusercontent.com/lutangar/cities.json/master/cities.json'\n",
    "df = pd.read_json(url)\n",
    "df"
   ]
  },
  {
   "cell_type": "code",
   "execution_count": null,
   "id": "b1fe01e3-499b-4008-8bf1-57c0b6831304",
   "metadata": {},
   "outputs": [],
   "source": [
    "# Search city: Lugo\n",
    "df[df.name == 'Lugo']"
   ]
  },
  {
   "cell_type": "code",
   "execution_count": null,
   "id": "2069dcf2-9abb-4247-9741-3b60fdd8d124",
   "metadata": {},
   "outputs": [],
   "source": [
    "# Search city: Coruña\n",
    "df[df.name.str.contains('Coruña')]"
   ]
  },
  {
   "cell_type": "code",
   "execution_count": null,
   "id": "b5715618-5ac0-4511-82b8-9a6092211cfe",
   "metadata": {},
   "outputs": [],
   "source": [
    "# Search many elements\n",
    "df[df.name.isin(['Lugo','Pontevedra'])]"
   ]
  },
  {
   "cell_type": "code",
   "execution_count": null,
   "id": "e017028e-de9d-493d-8fc1-1a3aadb99fbe",
   "metadata": {},
   "outputs": [],
   "source": [
    "# We can explore the dataset and make questions:"
   ]
  },
  {
   "cell_type": "code",
   "execution_count": null,
   "id": "12b42d2b-15ef-40fb-8db2-d4cb1215bcb9",
   "metadata": {},
   "outputs": [],
   "source": [
    "# Question: how many cities are there in Spain?\n",
    "df[df.country == 'ES'].name.count()"
   ]
  },
  {
   "cell_type": "code",
   "execution_count": null,
   "id": "5e5eda8f-3157-436e-9e24-9ff852dabf34",
   "metadata": {},
   "outputs": [],
   "source": [
    "# and France?\n",
    "df[df.country == 'FR'].name.count()"
   ]
  },
  {
   "cell_type": "code",
   "execution_count": null,
   "id": "231b874b-417e-4ab6-96e7-0959dcd630ba",
   "metadata": {},
   "outputs": [],
   "source": [
    "# Diference between cities in France and Spain\n",
    "df[df.country == 'FR'].name.count() - df[df.country == 'ES'].name.count()"
   ]
  },
  {
   "cell_type": "markdown",
   "id": "b0400231-edc1-4baa-9fb6-3992834cf2bd",
   "metadata": {},
   "source": [
    "### Shapefile\n",
    "\n",
    "There are many file extensions related to Shapefiles: .shp, .dbf, .shx...\n",
    "\n",
    "Shapefile is a format designed to store vector grapich information, as well as related information.\n",
    "\n",
    "Format popularized by geographical data processing applications such as QGIS or ArcGIS\n",
    "\n",
    "Shapefile is a collection of three basic files: .shp, .shx and .dbf\n",
    "\n",
    "The three files must be in the same directory.\n",
    "\n",
    " +info: https://mxd.codes/articles/what-is-a-shapefile-shp-dbf-and-shx"
   ]
  },
  {
   "cell_type": "code",
   "execution_count": null,
   "id": "4a668e66-a4e2-4da9-9b76-64b34bca2fb5",
   "metadata": {},
   "outputs": [],
   "source": [
    "# Import geopandas library\n",
    "import geopandas as gpd"
   ]
  },
  {
   "cell_type": "code",
   "execution_count": null,
   "metadata": {},
   "outputs": [],
   "source": [
    "#!conda install geopandas -y"
   ]
  },
  {
   "cell_type": "markdown",
   "metadata": {},
   "source": [
    "### Galician municipalities \n",
    "\n",
    "Source: Sergas.es // GIS: Cartografía de Galicia en formato vectorial SHP para Sistemas de Información Xeográfica \n",
    "\n",
    "https://www.sergas.es/Saude-publica/GIS-Concellos\n"
   ]
  },
  {
   "cell_type": "code",
   "execution_count": null,
   "id": "caac1bc3-3d0d-4c5a-98a1-c9978a6506e7",
   "metadata": {},
   "outputs": [],
   "source": [
    "# Load shapefile into a GeoDataFrame\n",
    "gdf = gpd.read_file('../datasets/Concellos/Concellos_IGN.shp')"
   ]
  },
  {
   "cell_type": "code",
   "execution_count": null,
   "id": "b962ac53-ba57-4185-9692-9a27f03df256",
   "metadata": {},
   "outputs": [],
   "source": [
    "gdf"
   ]
  },
  {
   "cell_type": "code",
   "execution_count": null,
   "id": "8cad9eb1-17b3-4184-bddb-6c5cb89e547c",
   "metadata": {},
   "outputs": [],
   "source": [
    "# Geopandas creates a new kind of DataFrame\n",
    "type(gdf)"
   ]
  },
  {
   "cell_type": "code",
   "execution_count": null,
   "id": "50329929-4c1d-46d1-a657-ae9dafa4627a",
   "metadata": {},
   "outputs": [],
   "source": [
    "# Draw the DataFrame\n",
    "gdf.plot()"
   ]
  },
  {
   "cell_type": "code",
   "execution_count": null,
   "id": "a5510562-c491-42bf-b257-a709069aee7d",
   "metadata": {},
   "outputs": [],
   "source": [
    "# Draw only a province: Pontevedra\n",
    "gdf[gdf.Provincia == 'Pontevedra'].plot()"
   ]
  },
  {
   "cell_type": "markdown",
   "id": "d8a0e874-6e18-43ff-8474-41460a25adb0",
   "metadata": {},
   "source": [
    "### PC-Axis\n",
    "\n",
    "PC-Axis is a especial format designed by statistical programs. It's quite present in public administrations.\n",
    "\n",
    "The original application is from Sweden: PXwin, PxWeb and PXEdit\n",
    "\n",
    "It uses the .px extension"
   ]
  },
  {
   "cell_type": "code",
   "execution_count": null,
   "metadata": {},
   "outputs": [],
   "source": [
    "# You can't find the library in Conda repos so you can try pip.\n",
    "# https://pypi.org/project/pyaxis/\n",
    "!pip install pyaxis"
   ]
  },
  {
   "cell_type": "code",
   "execution_count": null,
   "id": "99d2e99a-33fc-4ea0-b93a-61d7dc9b86ce",
   "metadata": {},
   "outputs": [],
   "source": [
    "#import pyaxis library\n",
    "from pyaxis import pyaxis "
   ]
  },
  {
   "cell_type": "markdown",
   "metadata": {},
   "source": [
    "### Criminality in Spain\n",
    "\n",
    "Source: Ministerio de Interior\n",
    "\n",
    "https://estadisticasdecriminalidad.ses.mir.es/publico/portalestadistico/balances.html\n"
   ]
  },
  {
   "cell_type": "code",
   "execution_count": null,
   "id": "499b5a1b-de22-44b3-8d22-aaaee5a8da15",
   "metadata": {},
   "outputs": [],
   "source": [
    "# Load file\n",
    "px = pyaxis.parse('../datasets/criminalidade_2021_t3.px', encoding='ISO-8859-2')"
   ]
  },
  {
   "cell_type": "code",
   "execution_count": null,
   "id": "be486e1d-159a-4304-8244-39df18738bb7",
   "metadata": {},
   "outputs": [],
   "source": [
    "px # esto que carga no es un dataframe"
   ]
  },
  {
   "cell_type": "code",
   "execution_count": null,
   "id": "24f0ce86-b610-4b25-9eb6-b4e4e7274b37",
   "metadata": {},
   "outputs": [],
   "source": [
    "px['DATA']"
   ]
  },
  {
   "cell_type": "code",
   "execution_count": null,
   "id": "147f25a6-b93a-4494-9308-8012c40de954",
   "metadata": {},
   "outputs": [],
   "source": [
    "px['METADATA']"
   ]
  },
  {
   "cell_type": "markdown",
   "id": "d0c16e99-5445-4bfe-b083-154f6d280eda",
   "metadata": {},
   "source": [
    "### Compressed files\n",
    "\n",
    "Pandas allows to read and import csv compressed files in different formats: .zip, .tar.xz etc..."
   ]
  },
  {
   "cell_type": "code",
   "execution_count": 42,
   "id": "3c726496-e996-48dc-8d50-d04002134498",
   "metadata": {},
   "outputs": [
    {
     "data": {
      "text/html": [
       "<div>\n",
       "<style scoped>\n",
       "    .dataframe tbody tr th:only-of-type {\n",
       "        vertical-align: middle;\n",
       "    }\n",
       "\n",
       "    .dataframe tbody tr th {\n",
       "        vertical-align: top;\n",
       "    }\n",
       "\n",
       "    .dataframe thead th {\n",
       "        text-align: right;\n",
       "    }\n",
       "</style>\n",
       "<table border=\"1\" class=\"dataframe\">\n",
       "  <thead>\n",
       "    <tr style=\"text-align: right;\">\n",
       "      <th></th>\n",
       "      <th>Season</th>\n",
       "      <th>Winner</th>\n",
       "      <th>Runner-up</th>\n",
       "      <th>Third Place</th>\n",
       "      <th>Top Scorer</th>\n",
       "      <th>Top scorer's club(s)</th>\n",
       "      <th>Goals</th>\n",
       "    </tr>\n",
       "  </thead>\n",
       "  <tbody>\n",
       "    <tr>\n",
       "      <th>0</th>\n",
       "      <td>1929</td>\n",
       "      <td>Barcelona</td>\n",
       "      <td>Real Madrid</td>\n",
       "      <td>Athletic Bilbao</td>\n",
       "      <td>Paco Bienzobas</td>\n",
       "      <td>Real Sociedad</td>\n",
       "      <td>14</td>\n",
       "    </tr>\n",
       "    <tr>\n",
       "      <th>1</th>\n",
       "      <td>1929–30</td>\n",
       "      <td>Athletic Bilbao</td>\n",
       "      <td>Barcelona</td>\n",
       "      <td>Arenas</td>\n",
       "      <td>Guillermo Gorostiza</td>\n",
       "      <td>Athletic Bilbao</td>\n",
       "      <td>19</td>\n",
       "    </tr>\n",
       "    <tr>\n",
       "      <th>2</th>\n",
       "      <td>1930–31</td>\n",
       "      <td>Athletic Bilbao</td>\n",
       "      <td>Racing Santander</td>\n",
       "      <td>Real Sociedad</td>\n",
       "      <td>Agustín Sauto Arana</td>\n",
       "      <td>Athletic Bilbao</td>\n",
       "      <td>27</td>\n",
       "    </tr>\n",
       "    <tr>\n",
       "      <th>3</th>\n",
       "      <td>1931–32</td>\n",
       "      <td>Real Madrid</td>\n",
       "      <td>Athletic Bilbao</td>\n",
       "      <td>Barcelona</td>\n",
       "      <td>Guillermo Gorostiza</td>\n",
       "      <td>Athletic Bilbao</td>\n",
       "      <td>12</td>\n",
       "    </tr>\n",
       "    <tr>\n",
       "      <th>4</th>\n",
       "      <td>1932–33</td>\n",
       "      <td>Real Madrid</td>\n",
       "      <td>Athletic Bilbao</td>\n",
       "      <td>Espanyol</td>\n",
       "      <td>Manuel Olivares</td>\n",
       "      <td>Real Madrid</td>\n",
       "      <td>16</td>\n",
       "    </tr>\n",
       "  </tbody>\n",
       "</table>\n",
       "</div>"
      ],
      "text/plain": [
       "    Season            Winner          Runner-up      Third Place  \\\n",
       "0     1929        Barcelona        Real Madrid   Athletic Bilbao   \n",
       "1  1929–30  Athletic Bilbao          Barcelona            Arenas   \n",
       "2  1930–31  Athletic Bilbao   Racing Santander     Real Sociedad   \n",
       "3  1931–32      Real Madrid    Athletic Bilbao         Barcelona   \n",
       "4  1932–33      Real Madrid    Athletic Bilbao          Espanyol   \n",
       "\n",
       "            Top Scorer Top scorer's club(s) Goals  \n",
       "0       Paco Bienzobas        Real Sociedad    14  \n",
       "1  Guillermo Gorostiza      Athletic Bilbao    19  \n",
       "2  Agustín Sauto Arana      Athletic Bilbao    27  \n",
       "3  Guillermo Gorostiza      Athletic Bilbao    12  \n",
       "4      Manuel Olivares          Real Madrid    16  "
      ]
     },
     "execution_count": 42,
     "metadata": {},
     "output_type": "execute_result"
    }
   ],
   "source": [
    "df = pd.read_csv('../datasets/La_Liga_Winners.tar.xz')\n",
    "df.head()"
   ]
  },
  {
   "cell_type": "code",
   "execution_count": 43,
   "id": "55843056-389e-4c7e-a74d-ea3e324c3f98",
   "metadata": {},
   "outputs": [
    {
     "data": {
      "text/html": [
       "<div>\n",
       "<style scoped>\n",
       "    .dataframe tbody tr th:only-of-type {\n",
       "        vertical-align: middle;\n",
       "    }\n",
       "\n",
       "    .dataframe tbody tr th {\n",
       "        vertical-align: top;\n",
       "    }\n",
       "\n",
       "    .dataframe thead th {\n",
       "        text-align: right;\n",
       "    }\n",
       "</style>\n",
       "<table border=\"1\" class=\"dataframe\">\n",
       "  <thead>\n",
       "    <tr style=\"text-align: right;\">\n",
       "      <th></th>\n",
       "      <th>Season</th>\n",
       "      <th>Winner</th>\n",
       "      <th>Runner-up</th>\n",
       "      <th>Third Place</th>\n",
       "      <th>Top Scorer</th>\n",
       "      <th>Top scorer's club(s)</th>\n",
       "      <th>Goals</th>\n",
       "    </tr>\n",
       "  </thead>\n",
       "  <tbody>\n",
       "    <tr>\n",
       "      <th>0</th>\n",
       "      <td>1929</td>\n",
       "      <td>Barcelona</td>\n",
       "      <td>Real Madrid</td>\n",
       "      <td>Athletic Bilbao</td>\n",
       "      <td>Paco Bienzobas</td>\n",
       "      <td>Real Sociedad</td>\n",
       "      <td>14</td>\n",
       "    </tr>\n",
       "    <tr>\n",
       "      <th>1</th>\n",
       "      <td>1929–30</td>\n",
       "      <td>Athletic Bilbao</td>\n",
       "      <td>Barcelona</td>\n",
       "      <td>Arenas</td>\n",
       "      <td>Guillermo Gorostiza</td>\n",
       "      <td>Athletic Bilbao</td>\n",
       "      <td>19</td>\n",
       "    </tr>\n",
       "    <tr>\n",
       "      <th>2</th>\n",
       "      <td>1930–31</td>\n",
       "      <td>Athletic Bilbao</td>\n",
       "      <td>Racing Santander</td>\n",
       "      <td>Real Sociedad</td>\n",
       "      <td>Agustín Sauto Arana</td>\n",
       "      <td>Athletic Bilbao</td>\n",
       "      <td>27</td>\n",
       "    </tr>\n",
       "    <tr>\n",
       "      <th>3</th>\n",
       "      <td>1931–32</td>\n",
       "      <td>Real Madrid</td>\n",
       "      <td>Athletic Bilbao</td>\n",
       "      <td>Barcelona</td>\n",
       "      <td>Guillermo Gorostiza</td>\n",
       "      <td>Athletic Bilbao</td>\n",
       "      <td>12</td>\n",
       "    </tr>\n",
       "    <tr>\n",
       "      <th>4</th>\n",
       "      <td>1932–33</td>\n",
       "      <td>Real Madrid</td>\n",
       "      <td>Athletic Bilbao</td>\n",
       "      <td>Espanyol</td>\n",
       "      <td>Manuel Olivares</td>\n",
       "      <td>Real Madrid</td>\n",
       "      <td>16</td>\n",
       "    </tr>\n",
       "  </tbody>\n",
       "</table>\n",
       "</div>"
      ],
      "text/plain": [
       "    Season            Winner          Runner-up      Third Place  \\\n",
       "0     1929        Barcelona        Real Madrid   Athletic Bilbao   \n",
       "1  1929–30  Athletic Bilbao          Barcelona            Arenas   \n",
       "2  1930–31  Athletic Bilbao   Racing Santander     Real Sociedad   \n",
       "3  1931–32      Real Madrid    Athletic Bilbao         Barcelona   \n",
       "4  1932–33      Real Madrid    Athletic Bilbao          Espanyol   \n",
       "\n",
       "            Top Scorer Top scorer's club(s) Goals  \n",
       "0       Paco Bienzobas        Real Sociedad    14  \n",
       "1  Guillermo Gorostiza      Athletic Bilbao    19  \n",
       "2  Agustín Sauto Arana      Athletic Bilbao    27  \n",
       "3  Guillermo Gorostiza      Athletic Bilbao    12  \n",
       "4      Manuel Olivares          Real Madrid    16  "
      ]
     },
     "execution_count": 43,
     "metadata": {},
     "output_type": "execute_result"
    }
   ],
   "source": [
    "df = pd.read_csv('../datasets/La_Liga_Winners.zip')\n",
    "df.head()"
   ]
  },
  {
   "cell_type": "code",
   "execution_count": 44,
   "id": "c7f539a8-e2d9-44c7-a862-00e764a2e204",
   "metadata": {},
   "outputs": [],
   "source": [
    "# Save to a compressed CSV file the large amount of victories of teh Deportivo in the Liga\n",
    "# Try gz format (gz->OK , zip->some problems?)\n",
    "deportivo = df[df.Winner.str.contains('Deportivo')]\n",
    "deportivo.to_csv('output/deportivo_wins.csv.gz',index=False,compression='gzip')"
   ]
  }
 ],
 "metadata": {
  "kernelspec": {
   "display_name": "Python 3.8.15 ('sistemas')",
   "language": "python",
   "name": "python3"
  },
  "language_info": {
   "codemirror_mode": {
    "name": "ipython",
    "version": 3
   },
   "file_extension": ".py",
   "mimetype": "text/x-python",
   "name": "python",
   "nbconvert_exporter": "python",
   "pygments_lexer": "ipython3",
   "version": "3.12.0"
  },
  "vscode": {
   "interpreter": {
    "hash": "0e884a0ec9feefaf3a914d578a359c036e9f33fc4d2669d69b11c8c204f1f6a8"
   }
  }
 },
 "nbformat": 4,
 "nbformat_minor": 5
}
