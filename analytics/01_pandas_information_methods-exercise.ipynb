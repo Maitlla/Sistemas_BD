{
 "cells": [
  {
   "cell_type": "markdown",
   "id": "c2380f29",
   "metadata": {},
   "source": [
    "# Analitycs. Exercise 1"
   ]
  },
  {
   "cell_type": "code",
   "execution_count": null,
   "id": "1da8a4f9",
   "metadata": {},
   "outputs": [],
   "source": [
    "# Load the data extracted from Narrativa's API on contagions and deaths by Covid\n",
    "# Today the API is not operational\n",
    "# Use the data saved in .csv\n",
    "# datos_covid2021_3paises.csv"
   ]
  },
  {
   "cell_type": "markdown",
   "id": "cde6b8a0",
   "metadata": {},
   "source": []
  },
  {
   "cell_type": "code",
   "execution_count": null,
   "id": "1131eb22-8044-4182-b3a4-66a5da1cdfad",
   "metadata": {},
   "outputs": [],
   "source": [
    "# Data downloaded from Narrativa API\n",
    "# - today_new_confirmed\n",
    "# - today_new_deaths\n",
    "# https://api.covid19tracking.narrativa.com/api/"
   ]
  },
  {
   "cell_type": "code",
   "execution_count": 1,
   "id": "5469ce98",
   "metadata": {},
   "outputs": [],
   "source": [
    "# Import libraries\n",
    "import pandas as pd"
   ]
  },
  {
   "cell_type": "code",
   "execution_count": 2,
   "id": "46777973",
   "metadata": {},
   "outputs": [],
   "source": [
    "# Load dataset datos_covid2021_3paises.csv\n",
    "df = pd.read_csv('../datasets/datos_covid2021_3paises.csv')"
   ]
  },
  {
   "cell_type": "code",
   "execution_count": 3,
   "id": "a34e454a",
   "metadata": {},
   "outputs": [
    {
     "data": {
      "text/html": [
       "<div>\n",
       "<style scoped>\n",
       "    .dataframe tbody tr th:only-of-type {\n",
       "        vertical-align: middle;\n",
       "    }\n",
       "\n",
       "    .dataframe tbody tr th {\n",
       "        vertical-align: top;\n",
       "    }\n",
       "\n",
       "    .dataframe thead th {\n",
       "        text-align: right;\n",
       "    }\n",
       "</style>\n",
       "<table border=\"1\" class=\"dataframe\">\n",
       "  <thead>\n",
       "    <tr style=\"text-align: right;\">\n",
       "      <th></th>\n",
       "      <th>Unnamed: 0</th>\n",
       "      <th>dia</th>\n",
       "      <th>pais</th>\n",
       "      <th>contaxios</th>\n",
       "      <th>mortes</th>\n",
       "    </tr>\n",
       "  </thead>\n",
       "  <tbody>\n",
       "    <tr>\n",
       "      <th>0</th>\n",
       "      <td>0</td>\n",
       "      <td>2021-01-01</td>\n",
       "      <td>Spain</td>\n",
       "      <td>18047</td>\n",
       "      <td>148</td>\n",
       "    </tr>\n",
       "    <tr>\n",
       "      <th>1</th>\n",
       "      <td>1</td>\n",
       "      <td>2021-01-02</td>\n",
       "      <td>Spain</td>\n",
       "      <td>0</td>\n",
       "      <td>0</td>\n",
       "    </tr>\n",
       "    <tr>\n",
       "      <th>2</th>\n",
       "      <td>2</td>\n",
       "      <td>2021-01-03</td>\n",
       "      <td>Spain</td>\n",
       "      <td>0</td>\n",
       "      <td>0</td>\n",
       "    </tr>\n",
       "    <tr>\n",
       "      <th>3</th>\n",
       "      <td>3</td>\n",
       "      <td>2021-01-04</td>\n",
       "      <td>Spain</td>\n",
       "      <td>30579</td>\n",
       "      <td>241</td>\n",
       "    </tr>\n",
       "    <tr>\n",
       "      <th>4</th>\n",
       "      <td>4</td>\n",
       "      <td>2021-01-05</td>\n",
       "      <td>Spain</td>\n",
       "      <td>23700</td>\n",
       "      <td>352</td>\n",
       "    </tr>\n",
       "    <tr>\n",
       "      <th>...</th>\n",
       "      <td>...</td>\n",
       "      <td>...</td>\n",
       "      <td>...</td>\n",
       "      <td>...</td>\n",
       "      <td>...</td>\n",
       "    </tr>\n",
       "    <tr>\n",
       "      <th>1090</th>\n",
       "      <td>1090</td>\n",
       "      <td>2021-12-27</td>\n",
       "      <td>France</td>\n",
       "      <td>29614</td>\n",
       "      <td>245</td>\n",
       "    </tr>\n",
       "    <tr>\n",
       "      <th>1091</th>\n",
       "      <td>1091</td>\n",
       "      <td>2021-12-28</td>\n",
       "      <td>France</td>\n",
       "      <td>179316</td>\n",
       "      <td>294</td>\n",
       "    </tr>\n",
       "    <tr>\n",
       "      <th>1092</th>\n",
       "      <td>1092</td>\n",
       "      <td>2021-12-29</td>\n",
       "      <td>France</td>\n",
       "      <td>202293</td>\n",
       "      <td>173</td>\n",
       "    </tr>\n",
       "    <tr>\n",
       "      <th>1093</th>\n",
       "      <td>1093</td>\n",
       "      <td>2021-12-30</td>\n",
       "      <td>France</td>\n",
       "      <td>206243</td>\n",
       "      <td>180</td>\n",
       "    </tr>\n",
       "    <tr>\n",
       "      <th>1094</th>\n",
       "      <td>1094</td>\n",
       "      <td>2021-12-31</td>\n",
       "      <td>France</td>\n",
       "      <td>232200</td>\n",
       "      <td>189</td>\n",
       "    </tr>\n",
       "  </tbody>\n",
       "</table>\n",
       "<p>1095 rows × 5 columns</p>\n",
       "</div>"
      ],
      "text/plain": [
       "      Unnamed: 0         dia    pais  contaxios  mortes\n",
       "0              0  2021-01-01   Spain      18047     148\n",
       "1              1  2021-01-02   Spain          0       0\n",
       "2              2  2021-01-03   Spain          0       0\n",
       "3              3  2021-01-04   Spain      30579     241\n",
       "4              4  2021-01-05   Spain      23700     352\n",
       "...          ...         ...     ...        ...     ...\n",
       "1090        1090  2021-12-27  France      29614     245\n",
       "1091        1091  2021-12-28  France     179316     294\n",
       "1092        1092  2021-12-29  France     202293     173\n",
       "1093        1093  2021-12-30  France     206243     180\n",
       "1094        1094  2021-12-31  France     232200     189\n",
       "\n",
       "[1095 rows x 5 columns]"
      ]
     },
     "execution_count": 3,
     "metadata": {},
     "output_type": "execute_result"
    }
   ],
   "source": [
    "# Show the dataset ; it also shows the number of rows and columns\n",
    "df"
   ]
  },
  {
   "cell_type": "code",
   "execution_count": 4,
   "id": "0a09f1a7",
   "metadata": {},
   "outputs": [
    {
     "name": "stdout",
     "output_type": "stream",
     "text": [
      "<class 'pandas.core.frame.DataFrame'>\n",
      "RangeIndex: 1095 entries, 0 to 1094\n",
      "Data columns (total 5 columns):\n",
      " #   Column      Non-Null Count  Dtype \n",
      "---  ------      --------------  ----- \n",
      " 0   Unnamed: 0  1095 non-null   int64 \n",
      " 1   dia         1095 non-null   object\n",
      " 2   pais        1095 non-null   object\n",
      " 3   contaxios   1095 non-null   int64 \n",
      " 4   mortes      1095 non-null   int64 \n",
      "dtypes: int64(3), object(2)\n",
      "memory usage: 42.9+ KB\n"
     ]
    }
   ],
   "source": [
    "df.info()"
   ]
  },
  {
   "cell_type": "code",
   "execution_count": 5,
   "id": "b7906677",
   "metadata": {},
   "outputs": [
    {
     "data": {
      "text/plain": [
       "Index(['Unnamed: 0', 'dia', 'pais', 'contaxios', 'mortes'], dtype='object')"
      ]
     },
     "execution_count": 5,
     "metadata": {},
     "output_type": "execute_result"
    }
   ],
   "source": [
    "df.columns"
   ]
  },
  {
   "cell_type": "code",
   "execution_count": 6,
   "id": "0da9fe8c",
   "metadata": {},
   "outputs": [
    {
     "data": {
      "text/plain": [
       "(1095, 5)"
      ]
     },
     "execution_count": 6,
     "metadata": {},
     "output_type": "execute_result"
    }
   ],
   "source": [
    "# Dimensiones del dataset\n",
    "df.shape"
   ]
  },
  {
   "cell_type": "markdown",
   "id": "29337a44",
   "metadata": {},
   "source": [
    "Limpeza de datos -> eliminación de valores nulos?? Valores a cero?"
   ]
  },
  {
   "cell_type": "code",
   "execution_count": 7,
   "id": "2932e0d3",
   "metadata": {},
   "outputs": [
    {
     "data": {
      "text/plain": [
       "Unnamed: 0    0\n",
       "dia           0\n",
       "pais          0\n",
       "contaxios     0\n",
       "mortes        0\n",
       "dtype: int64"
      ]
     },
     "execution_count": 7,
     "metadata": {},
     "output_type": "execute_result"
    }
   ],
   "source": [
    "# Para comprobar que no haya nulls en las columnas\n",
    "df.isnull().sum()"
   ]
  },
  {
   "cell_type": "code",
   "execution_count": 8,
   "id": "1d808faf",
   "metadata": {},
   "outputs": [
    {
     "data": {
      "text/html": [
       "<div>\n",
       "<style scoped>\n",
       "    .dataframe tbody tr th:only-of-type {\n",
       "        vertical-align: middle;\n",
       "    }\n",
       "\n",
       "    .dataframe tbody tr th {\n",
       "        vertical-align: top;\n",
       "    }\n",
       "\n",
       "    .dataframe thead th {\n",
       "        text-align: right;\n",
       "    }\n",
       "</style>\n",
       "<table border=\"1\" class=\"dataframe\">\n",
       "  <thead>\n",
       "    <tr style=\"text-align: right;\">\n",
       "      <th></th>\n",
       "      <th>Unnamed: 0</th>\n",
       "      <th>contaxios</th>\n",
       "      <th>mortes</th>\n",
       "    </tr>\n",
       "  </thead>\n",
       "  <tbody>\n",
       "    <tr>\n",
       "      <th>count</th>\n",
       "      <td>1095.000000</td>\n",
       "      <td>1095.000000</td>\n",
       "      <td>1095.000000</td>\n",
       "    </tr>\n",
       "    <tr>\n",
       "      <th>mean</th>\n",
       "      <td>547.000000</td>\n",
       "      <td>12094.346119</td>\n",
       "      <td>98.001826</td>\n",
       "    </tr>\n",
       "    <tr>\n",
       "      <th>std</th>\n",
       "      <td>316.243577</td>\n",
       "      <td>22131.971090</td>\n",
       "      <td>156.600004</td>\n",
       "    </tr>\n",
       "    <tr>\n",
       "      <th>min</th>\n",
       "      <td>0.000000</td>\n",
       "      <td>0.000000</td>\n",
       "      <td>0.000000</td>\n",
       "    </tr>\n",
       "    <tr>\n",
       "      <th>25%</th>\n",
       "      <td>273.500000</td>\n",
       "      <td>740.000000</td>\n",
       "      <td>6.000000</td>\n",
       "    </tr>\n",
       "    <tr>\n",
       "      <th>50%</th>\n",
       "      <td>547.000000</td>\n",
       "      <td>4197.000000</td>\n",
       "      <td>29.000000</td>\n",
       "    </tr>\n",
       "    <tr>\n",
       "      <th>75%</th>\n",
       "      <td>820.500000</td>\n",
       "      <td>14774.500000</td>\n",
       "      <td>126.500000</td>\n",
       "    </tr>\n",
       "    <tr>\n",
       "      <th>max</th>\n",
       "      <td>1094.000000</td>\n",
       "      <td>232200.000000</td>\n",
       "      <td>1163.000000</td>\n",
       "    </tr>\n",
       "  </tbody>\n",
       "</table>\n",
       "</div>"
      ],
      "text/plain": [
       "        Unnamed: 0      contaxios       mortes\n",
       "count  1095.000000    1095.000000  1095.000000\n",
       "mean    547.000000   12094.346119    98.001826\n",
       "std     316.243577   22131.971090   156.600004\n",
       "min       0.000000       0.000000     0.000000\n",
       "25%     273.500000     740.000000     6.000000\n",
       "50%     547.000000    4197.000000    29.000000\n",
       "75%     820.500000   14774.500000   126.500000\n",
       "max    1094.000000  232200.000000  1163.000000"
      ]
     },
     "execution_count": 8,
     "metadata": {},
     "output_type": "execute_result"
    }
   ],
   "source": [
    "# Análisis estadístico\n",
    "# mean la media\n",
    "df.describe()"
   ]
  },
  {
   "cell_type": "code",
   "execution_count": 9,
   "id": "79c56d16",
   "metadata": {},
   "outputs": [
    {
     "data": {
      "text/plain": [
       "12094.346118721462"
      ]
     },
     "execution_count": 9,
     "metadata": {},
     "output_type": "execute_result"
    }
   ],
   "source": [
    "# Calcula a media de nuevos casos\n",
    "df.contaxios.mean()"
   ]
  },
  {
   "cell_type": "code",
   "execution_count": 10,
   "id": "9aa2831a",
   "metadata": {},
   "outputs": [
    {
     "data": {
      "text/plain": [
       "12094.346118721462"
      ]
     },
     "execution_count": 10,
     "metadata": {},
     "output_type": "execute_result"
    }
   ],
   "source": [
    "df['contaxios'].mean()"
   ]
  },
  {
   "cell_type": "code",
   "execution_count": null,
   "id": "4d77ab34",
   "metadata": {},
   "outputs": [],
   "source": [
    "# Calcula a media de novos casos ao día"
   ]
  },
  {
   "cell_type": "code",
   "execution_count": 11,
   "id": "ecf192a1",
   "metadata": {},
   "outputs": [
    {
     "name": "stdout",
     "output_type": "stream",
     "text": [
      "36283.03835616438\n"
     ]
    }
   ],
   "source": [
    "# Convertir la columna 'dia' a formato de fecha si no lo está y si es necesario\n",
    "# df['dia'] = pd.to_datetime(df['dia'])\n",
    "\n",
    "# Calcular la suma total de contaxios por COVID\n",
    "suma_contaxios_covid = df['contaxios'].sum()\n",
    "\n",
    "# Calcular el número total de días en los datos\n",
    "total_dias = df['dia'].nunique()\n",
    "\n",
    "# Calcular la media de contaxios al día por COVID\n",
    "media_contaxios_al_dia_covid = suma_contaxios_covid / total_dias\n",
    "\n",
    "print(media_contaxios_al_dia_covid)"
   ]
  },
  {
   "cell_type": "code",
   "execution_count": 12,
   "id": "14150215",
   "metadata": {},
   "outputs": [
    {
     "data": {
      "text/plain": [
       "98.00182648401827"
      ]
     },
     "execution_count": 12,
     "metadata": {},
     "output_type": "execute_result"
    }
   ],
   "source": [
    "# Calcula a media de mortes \n",
    "df.mortes.mean()"
   ]
  },
  {
   "cell_type": "code",
   "execution_count": 13,
   "id": "0a82098b",
   "metadata": {},
   "outputs": [
    {
     "data": {
      "text/plain": [
       "98.00182648401827"
      ]
     },
     "execution_count": 13,
     "metadata": {},
     "output_type": "execute_result"
    }
   ],
   "source": [
    "df['mortes'].mean()"
   ]
  },
  {
   "cell_type": "code",
   "execution_count": null,
   "id": "9bc6fb00",
   "metadata": {},
   "outputs": [],
   "source": [
    "# Calcula a media de mortes ao día"
   ]
  },
  {
   "cell_type": "code",
   "execution_count": 14,
   "id": "5b7c2906",
   "metadata": {},
   "outputs": [
    {
     "name": "stdout",
     "output_type": "stream",
     "text": [
      "294.0054794520548\n"
     ]
    }
   ],
   "source": [
    "# Calcular la suma total de muertes por COVID\n",
    "suma_mortes_covid = df['mortes'].sum()\n",
    "\n",
    "# Calcular el número total de días en los datos\n",
    "total_dias = df['dia'].nunique()\n",
    "\n",
    "# Calcular la media de muertes al día por COVID\n",
    "media_mortes_al_dia_covid = suma_mortes_covid / total_dias\n",
    "\n",
    "print(media_mortes_al_dia_covid)"
   ]
  },
  {
   "cell_type": "code",
   "execution_count": 15,
   "id": "1f1272be",
   "metadata": {},
   "outputs": [
    {
     "data": {
      "text/plain": [
       "Unnamed: 0      547.000000\n",
       "contaxios     12094.346119\n",
       "mortes           98.001826\n",
       "dtype: float64"
      ]
     },
     "execution_count": 15,
     "metadata": {},
     "output_type": "execute_result"
    }
   ],
   "source": [
    "df.mean(numeric_only=True)"
   ]
  },
  {
   "cell_type": "code",
   "execution_count": null,
   "id": "f3a944c9",
   "metadata": {},
   "outputs": [],
   "source": [
    "# 1.Calculate the average number of contagions for 'Spain'.\n",
    "# 1.Calcular la media de contagios de 'España'."
   ]
  },
  {
   "cell_type": "code",
   "execution_count": 16,
   "id": "0a3451b1",
   "metadata": {},
   "outputs": [
    {
     "data": {
      "text/html": [
       "<div>\n",
       "<style scoped>\n",
       "    .dataframe tbody tr th:only-of-type {\n",
       "        vertical-align: middle;\n",
       "    }\n",
       "\n",
       "    .dataframe tbody tr th {\n",
       "        vertical-align: top;\n",
       "    }\n",
       "\n",
       "    .dataframe thead th {\n",
       "        text-align: right;\n",
       "    }\n",
       "</style>\n",
       "<table border=\"1\" class=\"dataframe\">\n",
       "  <thead>\n",
       "    <tr style=\"text-align: right;\">\n",
       "      <th></th>\n",
       "      <th>Unnamed: 0</th>\n",
       "      <th>dia</th>\n",
       "      <th>pais</th>\n",
       "      <th>contaxios</th>\n",
       "      <th>mortes</th>\n",
       "    </tr>\n",
       "  </thead>\n",
       "  <tbody>\n",
       "    <tr>\n",
       "      <th>0</th>\n",
       "      <td>0</td>\n",
       "      <td>2021-01-01</td>\n",
       "      <td>Spain</td>\n",
       "      <td>18047</td>\n",
       "      <td>148</td>\n",
       "    </tr>\n",
       "    <tr>\n",
       "      <th>1</th>\n",
       "      <td>1</td>\n",
       "      <td>2021-01-02</td>\n",
       "      <td>Spain</td>\n",
       "      <td>0</td>\n",
       "      <td>0</td>\n",
       "    </tr>\n",
       "    <tr>\n",
       "      <th>2</th>\n",
       "      <td>2</td>\n",
       "      <td>2021-01-03</td>\n",
       "      <td>Spain</td>\n",
       "      <td>0</td>\n",
       "      <td>0</td>\n",
       "    </tr>\n",
       "    <tr>\n",
       "      <th>3</th>\n",
       "      <td>3</td>\n",
       "      <td>2021-01-04</td>\n",
       "      <td>Spain</td>\n",
       "      <td>30579</td>\n",
       "      <td>241</td>\n",
       "    </tr>\n",
       "    <tr>\n",
       "      <th>4</th>\n",
       "      <td>4</td>\n",
       "      <td>2021-01-05</td>\n",
       "      <td>Spain</td>\n",
       "      <td>23700</td>\n",
       "      <td>352</td>\n",
       "    </tr>\n",
       "    <tr>\n",
       "      <th>...</th>\n",
       "      <td>...</td>\n",
       "      <td>...</td>\n",
       "      <td>...</td>\n",
       "      <td>...</td>\n",
       "      <td>...</td>\n",
       "    </tr>\n",
       "    <tr>\n",
       "      <th>360</th>\n",
       "      <td>360</td>\n",
       "      <td>2021-12-27</td>\n",
       "      <td>Spain</td>\n",
       "      <td>214619</td>\n",
       "      <td>120</td>\n",
       "    </tr>\n",
       "    <tr>\n",
       "      <th>361</th>\n",
       "      <td>361</td>\n",
       "      <td>2021-12-28</td>\n",
       "      <td>Spain</td>\n",
       "      <td>99671</td>\n",
       "      <td>114</td>\n",
       "    </tr>\n",
       "    <tr>\n",
       "      <th>362</th>\n",
       "      <td>362</td>\n",
       "      <td>2021-12-29</td>\n",
       "      <td>Spain</td>\n",
       "      <td>100760</td>\n",
       "      <td>78</td>\n",
       "    </tr>\n",
       "    <tr>\n",
       "      <th>363</th>\n",
       "      <td>363</td>\n",
       "      <td>2021-12-30</td>\n",
       "      <td>Spain</td>\n",
       "      <td>161688</td>\n",
       "      <td>74</td>\n",
       "    </tr>\n",
       "    <tr>\n",
       "      <th>364</th>\n",
       "      <td>364</td>\n",
       "      <td>2021-12-31</td>\n",
       "      <td>Spain</td>\n",
       "      <td>161688</td>\n",
       "      <td>74</td>\n",
       "    </tr>\n",
       "  </tbody>\n",
       "</table>\n",
       "<p>365 rows × 5 columns</p>\n",
       "</div>"
      ],
      "text/plain": [
       "     Unnamed: 0         dia   pais  contaxios  mortes\n",
       "0             0  2021-01-01  Spain      18047     148\n",
       "1             1  2021-01-02  Spain          0       0\n",
       "2             2  2021-01-03  Spain          0       0\n",
       "3             3  2021-01-04  Spain      30579     241\n",
       "4             4  2021-01-05  Spain      23700     352\n",
       "..          ...         ...    ...        ...     ...\n",
       "360         360  2021-12-27  Spain     214619     120\n",
       "361         361  2021-12-28  Spain      99671     114\n",
       "362         362  2021-12-29  Spain     100760      78\n",
       "363         363  2021-12-30  Spain     161688      74\n",
       "364         364  2021-12-31  Spain     161688      74\n",
       "\n",
       "[365 rows x 5 columns]"
      ]
     },
     "execution_count": 16,
     "metadata": {},
     "output_type": "execute_result"
    }
   ],
   "source": [
    "df_españa = df[df['pais'] == 'Spain']\n",
    "df_españa"
   ]
  },
  {
   "cell_type": "code",
   "execution_count": 17,
   "id": "aecca89a",
   "metadata": {},
   "outputs": [
    {
     "data": {
      "text/plain": [
       "12977.517808219178"
      ]
     },
     "execution_count": 17,
     "metadata": {},
     "output_type": "execute_result"
    }
   ],
   "source": [
    "df.loc[df['pais'] == 'Spain', 'contaxios'].mean()"
   ]
  },
  {
   "cell_type": "code",
   "execution_count": 18,
   "id": "cf435b16",
   "metadata": {},
   "outputs": [
    {
     "data": {
      "text/plain": [
       "12977.517808219178"
      ]
     },
     "execution_count": 18,
     "metadata": {},
     "output_type": "execute_result"
    }
   ],
   "source": [
    "df_españa = df[df['pais'] == 'Spain']\n",
    "df_españa['contaxios'].mean()"
   ]
  },
  {
   "cell_type": "code",
   "execution_count": null,
   "id": "dd0da431-d1fc-495e-bba7-b1bf0b4ed34f",
   "metadata": {},
   "outputs": [],
   "source": [
    "# 2.Calculate the average number of deaths per day for 'France'.\n",
    "# 2.Calcula el número medio de muertes por día en 'Francia'."
   ]
  },
  {
   "cell_type": "code",
   "execution_count": 19,
   "id": "6cb43bc5",
   "metadata": {},
   "outputs": [
    {
     "data": {
      "text/html": [
       "<div>\n",
       "<style scoped>\n",
       "    .dataframe tbody tr th:only-of-type {\n",
       "        vertical-align: middle;\n",
       "    }\n",
       "\n",
       "    .dataframe tbody tr th {\n",
       "        vertical-align: top;\n",
       "    }\n",
       "\n",
       "    .dataframe thead th {\n",
       "        text-align: right;\n",
       "    }\n",
       "</style>\n",
       "<table border=\"1\" class=\"dataframe\">\n",
       "  <thead>\n",
       "    <tr style=\"text-align: right;\">\n",
       "      <th></th>\n",
       "      <th>Unnamed: 0</th>\n",
       "      <th>dia</th>\n",
       "      <th>pais</th>\n",
       "      <th>contaxios</th>\n",
       "      <th>mortes</th>\n",
       "    </tr>\n",
       "  </thead>\n",
       "  <tbody>\n",
       "    <tr>\n",
       "      <th>730</th>\n",
       "      <td>730</td>\n",
       "      <td>2021-01-01</td>\n",
       "      <td>France</td>\n",
       "      <td>19143</td>\n",
       "      <td>132</td>\n",
       "    </tr>\n",
       "    <tr>\n",
       "      <th>731</th>\n",
       "      <td>731</td>\n",
       "      <td>2021-01-02</td>\n",
       "      <td>France</td>\n",
       "      <td>3359</td>\n",
       "      <td>156</td>\n",
       "    </tr>\n",
       "    <tr>\n",
       "      <th>732</th>\n",
       "      <td>732</td>\n",
       "      <td>2021-01-03</td>\n",
       "      <td>France</td>\n",
       "      <td>12489</td>\n",
       "      <td>116</td>\n",
       "    </tr>\n",
       "    <tr>\n",
       "      <th>733</th>\n",
       "      <td>733</td>\n",
       "      <td>2021-01-04</td>\n",
       "      <td>France</td>\n",
       "      <td>4022</td>\n",
       "      <td>378</td>\n",
       "    </tr>\n",
       "    <tr>\n",
       "      <th>734</th>\n",
       "      <td>734</td>\n",
       "      <td>2021-01-05</td>\n",
       "      <td>France</td>\n",
       "      <td>20280</td>\n",
       "      <td>866</td>\n",
       "    </tr>\n",
       "    <tr>\n",
       "      <th>...</th>\n",
       "      <td>...</td>\n",
       "      <td>...</td>\n",
       "      <td>...</td>\n",
       "      <td>...</td>\n",
       "      <td>...</td>\n",
       "    </tr>\n",
       "    <tr>\n",
       "      <th>1090</th>\n",
       "      <td>1090</td>\n",
       "      <td>2021-12-27</td>\n",
       "      <td>France</td>\n",
       "      <td>29614</td>\n",
       "      <td>245</td>\n",
       "    </tr>\n",
       "    <tr>\n",
       "      <th>1091</th>\n",
       "      <td>1091</td>\n",
       "      <td>2021-12-28</td>\n",
       "      <td>France</td>\n",
       "      <td>179316</td>\n",
       "      <td>294</td>\n",
       "    </tr>\n",
       "    <tr>\n",
       "      <th>1092</th>\n",
       "      <td>1092</td>\n",
       "      <td>2021-12-29</td>\n",
       "      <td>France</td>\n",
       "      <td>202293</td>\n",
       "      <td>173</td>\n",
       "    </tr>\n",
       "    <tr>\n",
       "      <th>1093</th>\n",
       "      <td>1093</td>\n",
       "      <td>2021-12-30</td>\n",
       "      <td>France</td>\n",
       "      <td>206243</td>\n",
       "      <td>180</td>\n",
       "    </tr>\n",
       "    <tr>\n",
       "      <th>1094</th>\n",
       "      <td>1094</td>\n",
       "      <td>2021-12-31</td>\n",
       "      <td>France</td>\n",
       "      <td>232200</td>\n",
       "      <td>189</td>\n",
       "    </tr>\n",
       "  </tbody>\n",
       "</table>\n",
       "<p>365 rows × 5 columns</p>\n",
       "</div>"
      ],
      "text/plain": [
       "      Unnamed: 0         dia    pais  contaxios  mortes\n",
       "730          730  2021-01-01  France      19143     132\n",
       "731          731  2021-01-02  France       3359     156\n",
       "732          732  2021-01-03  France      12489     116\n",
       "733          733  2021-01-04  France       4022     378\n",
       "734          734  2021-01-05  France      20280     866\n",
       "...          ...         ...     ...        ...     ...\n",
       "1090        1090  2021-12-27  France      29614     245\n",
       "1091        1091  2021-12-28  France     179316     294\n",
       "1092        1092  2021-12-29  France     202293     173\n",
       "1093        1093  2021-12-30  France     206243     180\n",
       "1094        1094  2021-12-31  France     232200     189\n",
       "\n",
       "[365 rows x 5 columns]"
      ]
     },
     "execution_count": 19,
     "metadata": {},
     "output_type": "execute_result"
    }
   ],
   "source": [
    "df[df['pais'] == 'France']"
   ]
  },
  {
   "cell_type": "code",
   "execution_count": 20,
   "id": "e807b6c9",
   "metadata": {},
   "outputs": [
    {
     "name": "stdout",
     "output_type": "stream",
     "text": [
      "154.0904109589041\n"
     ]
    }
   ],
   "source": [
    "# Filtrar el DataFrame por \"Francia\"\n",
    "df_francia = df[df['pais'] == 'France']\n",
    "\n",
    "# Calcular la suma total de muertes por COVID en Francia\n",
    "suma_mortes_francia = df_francia['mortes'].sum()\n",
    "\n",
    "# Calcular el número total de días en los datos para Francia\n",
    "total_dias_francia = df_francia['dia'].nunique()\n",
    "\n",
    "# Calcular la media de muertes al día por COVID en Francia\n",
    "media_mortes_al_dia_francia = suma_mortes_francia / total_dias_francia\n",
    "\n",
    "print(media_mortes_al_dia_francia)"
   ]
  },
  {
   "cell_type": "code",
   "execution_count": 21,
   "id": "6a1a9fbb",
   "metadata": {},
   "outputs": [
    {
     "data": {
      "text/plain": [
       "154.0904109589041"
      ]
     },
     "execution_count": 21,
     "metadata": {},
     "output_type": "execute_result"
    }
   ],
   "source": [
    "mortes_francia = df[df['pais'] == 'France']\n",
    "media_mortes_francia_dia = mortes_francia.groupby('dia')['mortes'].mean()\n",
    "media_mortes_francia_dia.mean()"
   ]
  },
  {
   "cell_type": "markdown",
   "id": "debafc0f",
   "metadata": {},
   "source": [
    "Index(['Unnamed: 0', 'dia', 'pais', 'contaxios', 'mortes'], dtype='object')"
   ]
  },
  {
   "cell_type": "code",
   "execution_count": 22,
   "id": "0cde44c4-5ba6-4680-8eee-316300319119",
   "metadata": {},
   "outputs": [
    {
     "data": {
      "text/plain": [
       "232200"
      ]
     },
     "execution_count": 22,
     "metadata": {},
     "output_type": "execute_result"
    }
   ],
   "source": [
    "# 3.Calculate the maximum number of cases.\n",
    "# 3.Calcule el número máximo de casos.\n",
    "df.contaxios.max()"
   ]
  },
  {
   "cell_type": "code",
   "execution_count": 23,
   "id": "c9ae4e58",
   "metadata": {},
   "outputs": [
    {
     "data": {
      "text/html": [
       "<div>\n",
       "<style scoped>\n",
       "    .dataframe tbody tr th:only-of-type {\n",
       "        vertical-align: middle;\n",
       "    }\n",
       "\n",
       "    .dataframe tbody tr th {\n",
       "        vertical-align: top;\n",
       "    }\n",
       "\n",
       "    .dataframe thead th {\n",
       "        text-align: right;\n",
       "    }\n",
       "</style>\n",
       "<table border=\"1\" class=\"dataframe\">\n",
       "  <thead>\n",
       "    <tr style=\"text-align: right;\">\n",
       "      <th></th>\n",
       "      <th>Unnamed: 0</th>\n",
       "      <th>dia</th>\n",
       "      <th>pais</th>\n",
       "      <th>contaxios</th>\n",
       "      <th>mortes</th>\n",
       "    </tr>\n",
       "  </thead>\n",
       "  <tbody>\n",
       "    <tr>\n",
       "      <th>max</th>\n",
       "      <td>1094</td>\n",
       "      <td>2021-12-31</td>\n",
       "      <td>Spain</td>\n",
       "      <td>232200</td>\n",
       "      <td>1163</td>\n",
       "    </tr>\n",
       "  </tbody>\n",
       "</table>\n",
       "</div>"
      ],
      "text/plain": [
       "     Unnamed: 0         dia   pais  contaxios  mortes\n",
       "max        1094  2021-12-31  Spain     232200    1163"
      ]
     },
     "execution_count": 23,
     "metadata": {},
     "output_type": "execute_result"
    }
   ],
   "source": [
    "df.agg(['max'])"
   ]
  },
  {
   "cell_type": "code",
   "execution_count": 24,
   "id": "6d24012b",
   "metadata": {},
   "outputs": [
    {
     "data": {
      "text/plain": [
       "Unnamed: 0          1094\n",
       "dia           2021-12-31\n",
       "pais               Spain\n",
       "contaxios         232200\n",
       "mortes              1163\n",
       "dtype: object"
      ]
     },
     "execution_count": 24,
     "metadata": {},
     "output_type": "execute_result"
    }
   ],
   "source": [
    "df.max()"
   ]
  },
  {
   "cell_type": "code",
   "execution_count": 25,
   "id": "eb023e90-0ee6-4c4c-bac2-bd87adbc4d90",
   "metadata": {},
   "outputs": [
    {
     "data": {
      "text/plain": [
       "pais\n",
       "France      20638.731507\n",
       "Portugal     2666.789041\n",
       "Spain       12977.517808\n",
       "Name: contaxios, dtype: float64"
      ]
     },
     "execution_count": 25,
     "metadata": {},
     "output_type": "execute_result"
    }
   ],
   "source": [
    "# 4.Calculate the average number of cases separated by groups.\n",
    "# 4.Calcula el número promedio de casos separados por grupos.\n",
    "df_grupos_pais = df.groupby('pais')\n",
    "df_grupos_pais.contaxios.mean()"
   ]
  },
  {
   "cell_type": "code",
   "execution_count": null,
   "id": "a4c395aa-0586-46a0-a2ad-b13496673b5a",
   "metadata": {},
   "outputs": [],
   "source": [
    "# 5.Is there a correlation between number of new cases and deaths?\n",
    "# 5.¿Existe una correlación entre el número de casos nuevos y las muertes?"
   ]
  },
  {
   "cell_type": "code",
   "execution_count": 26,
   "id": "754340ea-7d18-4d3b-9e95-66bc61c8ca52",
   "metadata": {},
   "outputs": [
    {
     "data": {
      "text/html": [
       "<div>\n",
       "<style scoped>\n",
       "    .dataframe tbody tr th:only-of-type {\n",
       "        vertical-align: middle;\n",
       "    }\n",
       "\n",
       "    .dataframe tbody tr th {\n",
       "        vertical-align: top;\n",
       "    }\n",
       "\n",
       "    .dataframe thead th {\n",
       "        text-align: right;\n",
       "    }\n",
       "</style>\n",
       "<table border=\"1\" class=\"dataframe\">\n",
       "  <thead>\n",
       "    <tr style=\"text-align: right;\">\n",
       "      <th></th>\n",
       "      <th>Unnamed: 0</th>\n",
       "      <th>contaxios</th>\n",
       "      <th>mortes</th>\n",
       "    </tr>\n",
       "  </thead>\n",
       "  <tbody>\n",
       "    <tr>\n",
       "      <th>Unnamed: 0</th>\n",
       "      <td>1.000000</td>\n",
       "      <td>0.163231</td>\n",
       "      <td>-0.037993</td>\n",
       "    </tr>\n",
       "    <tr>\n",
       "      <th>contaxios</th>\n",
       "      <td>0.163231</td>\n",
       "      <td>1.000000</td>\n",
       "      <td>0.385233</td>\n",
       "    </tr>\n",
       "    <tr>\n",
       "      <th>mortes</th>\n",
       "      <td>-0.037993</td>\n",
       "      <td>0.385233</td>\n",
       "      <td>1.000000</td>\n",
       "    </tr>\n",
       "  </tbody>\n",
       "</table>\n",
       "</div>"
      ],
      "text/plain": [
       "            Unnamed: 0  contaxios    mortes\n",
       "Unnamed: 0    1.000000   0.163231 -0.037993\n",
       "contaxios     0.163231   1.000000  0.385233\n",
       "mortes       -0.037993   0.385233  1.000000"
      ]
     },
     "execution_count": 26,
     "metadata": {},
     "output_type": "execute_result"
    }
   ],
   "source": [
    "df.corr(numeric_only=True)"
   ]
  },
  {
   "cell_type": "markdown",
   "id": "c6185916",
   "metadata": {},
   "source": [
    "Explicar correlación"
   ]
  },
  {
   "cell_type": "code",
   "execution_count": 27,
   "id": "2ce3fa93-abbb-4fe2-8cb4-e8725e4f1469",
   "metadata": {},
   "outputs": [
    {
     "data": {
      "text/html": [
       "<div>\n",
       "<style scoped>\n",
       "    .dataframe tbody tr th:only-of-type {\n",
       "        vertical-align: middle;\n",
       "    }\n",
       "\n",
       "    .dataframe tbody tr th {\n",
       "        vertical-align: top;\n",
       "    }\n",
       "\n",
       "    .dataframe thead th {\n",
       "        text-align: right;\n",
       "    }\n",
       "</style>\n",
       "<table border=\"1\" class=\"dataframe\">\n",
       "  <thead>\n",
       "    <tr style=\"text-align: right;\">\n",
       "      <th></th>\n",
       "      <th></th>\n",
       "      <th>Unnamed: 0</th>\n",
       "      <th>contaxios</th>\n",
       "      <th>mortes</th>\n",
       "    </tr>\n",
       "    <tr>\n",
       "      <th>pais</th>\n",
       "      <th></th>\n",
       "      <th></th>\n",
       "      <th></th>\n",
       "      <th></th>\n",
       "    </tr>\n",
       "  </thead>\n",
       "  <tbody>\n",
       "    <tr>\n",
       "      <th rowspan=\"3\" valign=\"top\">France</th>\n",
       "      <th>Unnamed: 0</th>\n",
       "      <td>1.000000</td>\n",
       "      <td>0.166301</td>\n",
       "      <td>-0.552387</td>\n",
       "    </tr>\n",
       "    <tr>\n",
       "      <th>contaxios</th>\n",
       "      <td>0.166301</td>\n",
       "      <td>1.000000</td>\n",
       "      <td>0.298286</td>\n",
       "    </tr>\n",
       "    <tr>\n",
       "      <th>mortes</th>\n",
       "      <td>-0.552387</td>\n",
       "      <td>0.298286</td>\n",
       "      <td>1.000000</td>\n",
       "    </tr>\n",
       "    <tr>\n",
       "      <th rowspan=\"3\" valign=\"top\">Portugal</th>\n",
       "      <th>Unnamed: 0</th>\n",
       "      <td>1.000000</td>\n",
       "      <td>-0.052026</td>\n",
       "      <td>-0.540876</td>\n",
       "    </tr>\n",
       "    <tr>\n",
       "      <th>contaxios</th>\n",
       "      <td>-0.052026</td>\n",
       "      <td>1.000000</td>\n",
       "      <td>0.563438</td>\n",
       "    </tr>\n",
       "    <tr>\n",
       "      <th>mortes</th>\n",
       "      <td>-0.540876</td>\n",
       "      <td>0.563438</td>\n",
       "      <td>1.000000</td>\n",
       "    </tr>\n",
       "    <tr>\n",
       "      <th rowspan=\"3\" valign=\"top\">Spain</th>\n",
       "      <th>Unnamed: 0</th>\n",
       "      <td>1.000000</td>\n",
       "      <td>0.067659</td>\n",
       "      <td>-0.478932</td>\n",
       "    </tr>\n",
       "    <tr>\n",
       "      <th>contaxios</th>\n",
       "      <td>0.067659</td>\n",
       "      <td>1.000000</td>\n",
       "      <td>0.323957</td>\n",
       "    </tr>\n",
       "    <tr>\n",
       "      <th>mortes</th>\n",
       "      <td>-0.478932</td>\n",
       "      <td>0.323957</td>\n",
       "      <td>1.000000</td>\n",
       "    </tr>\n",
       "  </tbody>\n",
       "</table>\n",
       "</div>"
      ],
      "text/plain": [
       "                     Unnamed: 0  contaxios    mortes\n",
       "pais                                                \n",
       "France   Unnamed: 0    1.000000   0.166301 -0.552387\n",
       "         contaxios     0.166301   1.000000  0.298286\n",
       "         mortes       -0.552387   0.298286  1.000000\n",
       "Portugal Unnamed: 0    1.000000  -0.052026 -0.540876\n",
       "         contaxios    -0.052026   1.000000  0.563438\n",
       "         mortes       -0.540876   0.563438  1.000000\n",
       "Spain    Unnamed: 0    1.000000   0.067659 -0.478932\n",
       "         contaxios     0.067659   1.000000  0.323957\n",
       "         mortes       -0.478932   0.323957  1.000000"
      ]
     },
     "execution_count": 27,
     "metadata": {},
     "output_type": "execute_result"
    }
   ],
   "source": [
    "# 6.If there is a relationship, in which country is it greater?\n",
    "# 6.Si existe relación, ¿en qué país es mayor?\n",
    "df_grupos_pais.corr(numeric_only=True)"
   ]
  },
  {
   "cell_type": "markdown",
   "id": "c8190fc9",
   "metadata": {},
   "source": [
    "En Portugal es mayor la relación entre el número de casoso nuevos y las muertes"
   ]
  },
  {
   "cell_type": "code",
   "execution_count": null,
   "id": "48fe9cd7",
   "metadata": {},
   "outputs": [],
   "source": [
    "# 7. What is the median of contagions in Portugal?\n",
    "# 7. ¿Cuál es la mediana de contagios en Portugal?"
   ]
  },
  {
   "cell_type": "code",
   "execution_count": 28,
   "id": "f10a1e01",
   "metadata": {},
   "outputs": [
    {
     "data": {
      "text/html": [
       "<div>\n",
       "<style scoped>\n",
       "    .dataframe tbody tr th:only-of-type {\n",
       "        vertical-align: middle;\n",
       "    }\n",
       "\n",
       "    .dataframe tbody tr th {\n",
       "        vertical-align: top;\n",
       "    }\n",
       "\n",
       "    .dataframe thead th {\n",
       "        text-align: right;\n",
       "    }\n",
       "</style>\n",
       "<table border=\"1\" class=\"dataframe\">\n",
       "  <thead>\n",
       "    <tr style=\"text-align: right;\">\n",
       "      <th></th>\n",
       "      <th>Unnamed: 0</th>\n",
       "      <th>contaxios</th>\n",
       "      <th>mortes</th>\n",
       "    </tr>\n",
       "  </thead>\n",
       "  <tbody>\n",
       "    <tr>\n",
       "      <th>count</th>\n",
       "      <td>365.000000</td>\n",
       "      <td>365.000000</td>\n",
       "      <td>365.000000</td>\n",
       "    </tr>\n",
       "    <tr>\n",
       "      <th>mean</th>\n",
       "      <td>547.000000</td>\n",
       "      <td>2666.789041</td>\n",
       "      <td>32.964384</td>\n",
       "    </tr>\n",
       "    <tr>\n",
       "      <th>std</th>\n",
       "      <td>105.510663</td>\n",
       "      <td>3923.690020</td>\n",
       "      <td>64.752796</td>\n",
       "    </tr>\n",
       "    <tr>\n",
       "      <th>min</th>\n",
       "      <td>365.000000</td>\n",
       "      <td>0.000000</td>\n",
       "      <td>0.000000</td>\n",
       "    </tr>\n",
       "    <tr>\n",
       "      <th>25%</th>\n",
       "      <td>456.000000</td>\n",
       "      <td>592.000000</td>\n",
       "      <td>4.000000</td>\n",
       "    </tr>\n",
       "    <tr>\n",
       "      <th>50%</th>\n",
       "      <td>547.000000</td>\n",
       "      <td>1186.000000</td>\n",
       "      <td>9.000000</td>\n",
       "    </tr>\n",
       "    <tr>\n",
       "      <th>75%</th>\n",
       "      <td>638.000000</td>\n",
       "      <td>2898.000000</td>\n",
       "      <td>17.000000</td>\n",
       "    </tr>\n",
       "    <tr>\n",
       "      <th>max</th>\n",
       "      <td>729.000000</td>\n",
       "      <td>30829.000000</td>\n",
       "      <td>303.000000</td>\n",
       "    </tr>\n",
       "  </tbody>\n",
       "</table>\n",
       "</div>"
      ],
      "text/plain": [
       "       Unnamed: 0     contaxios      mortes\n",
       "count  365.000000    365.000000  365.000000\n",
       "mean   547.000000   2666.789041   32.964384\n",
       "std    105.510663   3923.690020   64.752796\n",
       "min    365.000000      0.000000    0.000000\n",
       "25%    456.000000    592.000000    4.000000\n",
       "50%    547.000000   1186.000000    9.000000\n",
       "75%    638.000000   2898.000000   17.000000\n",
       "max    729.000000  30829.000000  303.000000"
      ]
     },
     "execution_count": 28,
     "metadata": {},
     "output_type": "execute_result"
    }
   ],
   "source": [
    "df[df['pais'] == 'Portugal'].describe()"
   ]
  },
  {
   "cell_type": "code",
   "execution_count": 29,
   "id": "2f53109a",
   "metadata": {},
   "outputs": [
    {
     "data": {
      "text/plain": [
       "count      365.000000\n",
       "mean      2666.789041\n",
       "std       3923.690020\n",
       "min          0.000000\n",
       "25%        592.000000\n",
       "50%       1186.000000\n",
       "75%       2898.000000\n",
       "max      30829.000000\n",
       "Name: contaxios, dtype: float64"
      ]
     },
     "execution_count": 29,
     "metadata": {},
     "output_type": "execute_result"
    }
   ],
   "source": [
    "df[df['pais'] == 'Portugal'].contaxios.describe()"
   ]
  },
  {
   "cell_type": "code",
   "execution_count": 30,
   "id": "63a13cc9",
   "metadata": {},
   "outputs": [
    {
     "data": {
      "text/plain": [
       "1186.0"
      ]
     },
     "execution_count": 30,
     "metadata": {},
     "output_type": "execute_result"
    }
   ],
   "source": [
    "df[df.pais == 'Portugal'].contaxios.median()"
   ]
  },
  {
   "cell_type": "code",
   "execution_count": 31,
   "id": "f210adca-4ae3-44ce-83e0-e469d32febf2",
   "metadata": {},
   "outputs": [
    {
     "data": {
      "text/plain": [
       "count       365.000000\n",
       "mean      20638.731507\n",
       "std       27856.055009\n",
       "min           0.000000\n",
       "25%        4256.000000\n",
       "50%       13630.000000\n",
       "75%       25087.000000\n",
       "max      232200.000000\n",
       "Name: contaxios, dtype: float64"
      ]
     },
     "execution_count": 31,
     "metadata": {},
     "output_type": "execute_result"
    }
   ],
   "source": [
    "# 8. What are the values of the Q1 and Q3 percentages for France for the number of infections?\n",
    "# 8. ¿Cuáles son los valores de los porcentajes del primer y tercer trimestre de Francia en cuanto al número de contagios?\n",
    "df[df.pais == 'France'].contaxios.describe() # no se si esta bien"
   ]
  },
  {
   "cell_type": "markdown",
   "id": "01726364",
   "metadata": {},
   "source": [
    "25%        4256.000000\n",
    "\n",
    "75%       25087.000000"
   ]
  },
  {
   "cell_type": "code",
   "execution_count": null,
   "id": "3525da69-544f-4c0b-8863-f846d93d97b9",
   "metadata": {},
   "outputs": [],
   "source": [
    "# 9. How many different values are there for the number of infections in a day in each country?\n",
    "# 9. ¿Cuántos valores diferentes existen para el número de contagios en un día en cada país?"
   ]
  },
  {
   "cell_type": "code",
   "execution_count": 36,
   "id": "5ddb9bc5-0bb7-45c2-9e85-e02e30880b57",
   "metadata": {},
   "outputs": [
    {
     "data": {
      "text/plain": [
       "332"
      ]
     },
     "execution_count": 36,
     "metadata": {},
     "output_type": "execute_result"
    }
   ],
   "source": [
    "len(df[df.pais == 'France'].contaxios.unique())"
   ]
  },
  {
   "cell_type": "code",
   "execution_count": 37,
   "id": "baf08aff-76e7-484e-9514-cb53199a1145",
   "metadata": {},
   "outputs": [
    {
     "data": {
      "text/plain": [
       "250"
      ]
     },
     "execution_count": 37,
     "metadata": {},
     "output_type": "execute_result"
    }
   ],
   "source": [
    "len(df[df.pais == 'Spain'].contaxios.unique())"
   ]
  },
  {
   "cell_type": "code",
   "execution_count": 38,
   "id": "d1e1a1c0-271e-4750-8335-c4f1456820ca",
   "metadata": {},
   "outputs": [
    {
     "data": {
      "text/plain": [
       "345"
      ]
     },
     "execution_count": 38,
     "metadata": {},
     "output_type": "execute_result"
    }
   ],
   "source": [
    "len(df[df.pais == 'Portugal'].contaxios.unique())"
   ]
  },
  {
   "cell_type": "code",
   "execution_count": 39,
   "id": "f663df1d-0a4b-4ea0-bc22-ab246e670f79",
   "metadata": {},
   "outputs": [
    {
     "data": {
      "text/html": [
       "<div>\n",
       "<style scoped>\n",
       "    .dataframe tbody tr th:only-of-type {\n",
       "        vertical-align: middle;\n",
       "    }\n",
       "\n",
       "    .dataframe tbody tr th {\n",
       "        vertical-align: top;\n",
       "    }\n",
       "\n",
       "    .dataframe thead th {\n",
       "        text-align: right;\n",
       "    }\n",
       "</style>\n",
       "<table border=\"1\" class=\"dataframe\">\n",
       "  <thead>\n",
       "    <tr style=\"text-align: right;\">\n",
       "      <th></th>\n",
       "      <th>min</th>\n",
       "      <th>max</th>\n",
       "    </tr>\n",
       "    <tr>\n",
       "      <th>pais</th>\n",
       "      <th></th>\n",
       "      <th></th>\n",
       "    </tr>\n",
       "  </thead>\n",
       "  <tbody>\n",
       "    <tr>\n",
       "      <th>France</th>\n",
       "      <td>0</td>\n",
       "      <td>232200</td>\n",
       "    </tr>\n",
       "    <tr>\n",
       "      <th>Portugal</th>\n",
       "      <td>0</td>\n",
       "      <td>30829</td>\n",
       "    </tr>\n",
       "    <tr>\n",
       "      <th>Spain</th>\n",
       "      <td>0</td>\n",
       "      <td>214619</td>\n",
       "    </tr>\n",
       "  </tbody>\n",
       "</table>\n",
       "</div>"
      ],
      "text/plain": [
       "          min     max\n",
       "pais                 \n",
       "France      0  232200\n",
       "Portugal    0   30829\n",
       "Spain       0  214619"
      ]
     },
     "execution_count": 39,
     "metadata": {},
     "output_type": "execute_result"
    }
   ],
   "source": [
    "# 10. Minimum and maximum value of infections per day for each country\n",
    "# 10. Valor mínimo y máximo de contagios por día para cada país\n",
    "df_grupos_pais.contaxios.agg(['min','max'])"
   ]
  },
  {
   "cell_type": "code",
   "execution_count": 40,
   "id": "2fe706be",
   "metadata": {},
   "outputs": [
    {
     "data": {
      "text/plain": [
       "pais\n",
       "France      0\n",
       "Portugal    0\n",
       "Spain       0\n",
       "Name: contaxios, dtype: int64"
      ]
     },
     "execution_count": 40,
     "metadata": {},
     "output_type": "execute_result"
    }
   ],
   "source": [
    "df.groupby('pais')['contaxios'].min()"
   ]
  },
  {
   "cell_type": "code",
   "execution_count": 40,
   "id": "c5ce0f2a",
   "metadata": {},
   "outputs": [
    {
     "data": {
      "text/plain": [
       "pais\n",
       "France      232200\n",
       "Portugal     30829\n",
       "Spain       214619\n",
       "Name: contaxios, dtype: int64"
      ]
     },
     "execution_count": 40,
     "metadata": {},
     "output_type": "execute_result"
    }
   ],
   "source": [
    "df.groupby('pais')['contaxios'].max()"
   ]
  }
 ],
 "metadata": {
  "kernelspec": {
   "display_name": "Python 3 (ipykernel)",
   "language": "python",
   "name": "python3"
  },
  "language_info": {
   "codemirror_mode": {
    "name": "ipython",
    "version": 3
   },
   "file_extension": ".py",
   "mimetype": "text/x-python",
   "name": "python",
   "nbconvert_exporter": "python",
   "pygments_lexer": "ipython3",
   "version": "3.12.0"
  }
 },
 "nbformat": 4,
 "nbformat_minor": 5
}
