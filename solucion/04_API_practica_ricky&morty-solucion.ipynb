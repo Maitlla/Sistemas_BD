{
 "cells": [
  {
   "attachments": {},
   "cell_type": "markdown",
   "metadata": {},
   "source": [
    "# Exercicio API de Rick & Morty"
   ]
  },
  {
   "cell_type": "code",
   "execution_count": null,
   "metadata": {},
   "outputs": [],
   "source": [
    "# importa as librarías necesarias"
   ]
  },
  {
   "cell_type": "code",
   "execution_count": null,
   "metadata": {},
   "outputs": [],
   "source": [
    "import requests\n",
    "import pandas as pd"
   ]
  },
  {
   "cell_type": "code",
   "execution_count": null,
   "metadata": {},
   "outputs": [],
   "source": [
    "# API: Rick and Morty\n",
    "# https://rickandmortyapi.com/\n",
    "\n",
    "# Utiliza a API para respostar ás seguintes preguntas:"
   ]
  },
  {
   "cell_type": "code",
   "execution_count": null,
   "metadata": {},
   "outputs": [],
   "source": [
    "# 1. Cantos episodios ten a serie?"
   ]
  },
  {
   "cell_type": "code",
   "execution_count": null,
   "metadata": {},
   "outputs": [],
   "source": [
    "url = 'https://rickandmortyapi.com/api/episode'\n",
    "response = requests.get(url)\n",
    "#response.json()\n",
    "num_episodios = response.json()['info']['count']\n",
    "f'A serie ten {num_episodios} episodios'"
   ]
  },
  {
   "cell_type": "code",
   "execution_count": null,
   "metadata": {},
   "outputs": [],
   "source": [
    "# 2. En cantas páxinas se nos ofrece o resultado"
   ]
  },
  {
   "cell_type": "code",
   "execution_count": null,
   "metadata": {},
   "outputs": [],
   "source": [
    "url = 'https://rickandmortyapi.com/api/episode'\n",
    "response = requests.get(url)\n",
    "response.json()\n",
    "num_pages = response.json()['info']['pages']\n",
    "f'A info está en  {num_pages} páxinas'"
   ]
  },
  {
   "cell_type": "code",
   "execution_count": null,
   "metadata": {},
   "outputs": [],
   "source": [
    "# 3. Mostra a información do primeiro episodio (json)"
   ]
  },
  {
   "cell_type": "code",
   "execution_count": null,
   "metadata": {},
   "outputs": [],
   "source": [
    "response.json()['results'][0]"
   ]
  },
  {
   "attachments": {},
   "cell_type": "markdown",
   "metadata": {},
   "source": [
    "Pandas provee unha función para crear Dataframes. Trátase da función Dataframe(), á que podemos chamar de diferentes formas.\n",
    "\n",
    "Unha forma de crear Dataframes a partir de respostas JSON dunha API é pasarlle á función, directamente, unha lista de diccionarios cos datos que queremos engadir ao DataFrame.\n",
    "\n",
    "Outra forma, ás veces máis complicada, sería pasarlle unha lista de listas cos datos por fila (1 lista por fila), e indicar a maiores os títulos das diferentes columnas.\n",
    "\n",
    "Podes visitar a documenación para ter máis información."
   ]
  },
  {
   "cell_type": "code",
   "execution_count": null,
   "metadata": {},
   "outputs": [],
   "source": [
    "# 4. Crea un dataframe con TODOS os episodios da primeira páxina de resultados"
   ]
  },
  {
   "cell_type": "code",
   "execution_count": null,
   "metadata": {},
   "outputs": [],
   "source": [
    "response.json()['results']"
   ]
  },
  {
   "cell_type": "code",
   "execution_count": null,
   "metadata": {},
   "outputs": [],
   "source": [
    "url = 'https://rickandmortyapi.com/api/episode'\n",
    "response = requests.get(url)\n",
    "df = pd.DataFrame(response.json()['results'])\n",
    "df.set_index('id',inplace=True)\n",
    "df"
   ]
  },
  {
   "cell_type": "code",
   "execution_count": null,
   "metadata": {},
   "outputs": [],
   "source": [
    "# 5. Crea un dataframe con TODOS os episodios (de todas as páxinas)"
   ]
  },
  {
   "cell_type": "code",
   "execution_count": null,
   "metadata": {},
   "outputs": [],
   "source": [
    "url = 'https://rickandmortyapi.com/api/episode'\n",
    "\n",
    "lista_episodios = []\n",
    "for i in range(1,num_pages+1):\n",
    "    response = requests.get(url,params= {'page':i})\n",
    "    lista_episodios += (response.json()['results'])\n",
    "\n",
    "df = pd.DataFrame(lista_episodios)\n",
    "df.set_index('id',inplace=True)\n",
    "df"
   ]
  },
  {
   "cell_type": "code",
   "execution_count": null,
   "metadata": {},
   "outputs": [],
   "source": [
    "# 6. Elimina a columna dos personaxes (en caso de que exista) do dataframe que contén todos os episodios"
   ]
  },
  {
   "cell_type": "code",
   "execution_count": null,
   "metadata": {},
   "outputs": [],
   "source": [
    "df.drop('characters',axis=1,inplace=True)\n",
    "df"
   ]
  },
  {
   "cell_type": "code",
   "execution_count": null,
   "metadata": {},
   "outputs": [],
   "source": [
    "# 7. Elimina a columna \"created\" (en caso de que exista) do dataframe que contén todos os episodios"
   ]
  },
  {
   "cell_type": "code",
   "execution_count": null,
   "metadata": {},
   "outputs": [],
   "source": [
    "df.drop('created',axis=1,inplace=True)\n",
    "df"
   ]
  },
  {
   "cell_type": "code",
   "execution_count": null,
   "metadata": {},
   "outputs": [],
   "source": [
    "# 8. Cantas personaxes aparecen na serie?"
   ]
  },
  {
   "cell_type": "code",
   "execution_count": null,
   "metadata": {},
   "outputs": [],
   "source": [
    "url = 'https://rickandmortyapi.com/api/character'\n",
    "response = requests.get(url)\n",
    "response.json()"
   ]
  },
  {
   "cell_type": "code",
   "execution_count": null,
   "metadata": {},
   "outputs": [],
   "source": [
    "url = 'https://rickandmortyapi.com/api/character'\n",
    "response = requests.get(url)\n",
    "response.json()\n",
    "num_personaxes = response.json()['info']['count']\n",
    "f'A serie ten {num_personaxes} personaxes'"
   ]
  },
  {
   "cell_type": "code",
   "execution_count": null,
   "metadata": {},
   "outputs": [],
   "source": [
    "# 9. Crea un dataframe con todas as personaxes da serie cos seguintes datos: nome, especie e xénero"
   ]
  },
  {
   "cell_type": "code",
   "execution_count": null,
   "metadata": {},
   "outputs": [],
   "source": [
    "# opción 1 \n",
    "\n",
    "url = 'https://rickandmortyapi.com/api/character'\n",
    "response = requests.get(url)\n",
    "num_pages = response.json()['info']['pages']\n",
    "\n",
    "lista_personaxes = []\n",
    "for i in range(1,num_pages+1):\n",
    "    response = requests.get(url,params= {'page':i})\n",
    "    lista_personaxes += (response.json()['results'])\n",
    "\n",
    "personaxes = pd.DataFrame(lista_personaxes)\n",
    "personaxes.set_index('id',inplace=True)\n",
    "personaxes = personaxes[['name','species','gender']]\n",
    "personaxes.tail()"
   ]
  },
  {
   "cell_type": "code",
   "execution_count": null,
   "metadata": {},
   "outputs": [],
   "source": [
    "# 10. Cantas especies están representadas na serie?"
   ]
  },
  {
   "cell_type": "code",
   "execution_count": null,
   "metadata": {},
   "outputs": [],
   "source": [
    "personaxes.species.unique()"
   ]
  },
  {
   "cell_type": "code",
   "execution_count": null,
   "metadata": {},
   "outputs": [],
   "source": [
    "f'Na serie hai {len(personaxes.species.unique())} especies representadas'"
   ]
  },
  {
   "cell_type": "code",
   "execution_count": null,
   "metadata": {},
   "outputs": [],
   "source": [
    "# 11. Hai igualdade na representación de xéneros na serie?"
   ]
  },
  {
   "cell_type": "code",
   "execution_count": null,
   "metadata": {},
   "outputs": [],
   "source": [
    "personaxes.gender.unique()"
   ]
  },
  {
   "cell_type": "code",
   "execution_count": null,
   "metadata": {},
   "outputs": [],
   "source": [
    "males = personaxes[personaxes.gender == 'Male'].name.count()\n",
    "females = personaxes[personaxes.gender == 'Female'].name.count()\n",
    "genderless = personaxes[personaxes.gender == 'Genderless'].name.count()\n",
    "unknown = personaxes[personaxes.gender == 'unknown'].name.count()\n",
    "print('Hai',males,'personaxes masculinas')\n",
    "print('Hai',females,'personaxes femininas')\n",
    "print('Hai',genderless,'personaxes sen xénero')\n",
    "print('Hai',unknown,'personaxes con xénero descoñecido')"
   ]
  },
  {
   "cell_type": "code",
   "execution_count": null,
   "metadata": {},
   "outputs": [],
   "source": []
  }
 ],
 "metadata": {
  "kernelspec": {
   "display_name": "Python 3",
   "language": "python",
   "name": "python3"
  },
  "language_info": {
   "codemirror_mode": {
    "name": "ipython",
    "version": 3
   },
   "file_extension": ".py",
   "mimetype": "text/x-python",
   "name": "python",
   "nbconvert_exporter": "python",
   "pygments_lexer": "ipython3",
   "version": "3.8.10"
  },
  "orig_nbformat": 4,
  "vscode": {
   "interpreter": {
    "hash": "916dbcbb3f70747c44a77c7bcd40155683ae19c65e1c03b4aa3499c5328201f1"
   }
  }
 },
 "nbformat": 4,
 "nbformat_minor": 2
}
