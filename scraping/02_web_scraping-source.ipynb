{
 "cells": [
  {
   "cell_type": "markdown",
   "id": "cd448bb3",
   "metadata": {},
   "source": [
    "# Web scraping. 2"
   ]
  },
  {
   "cell_type": "code",
   "execution_count": null,
   "id": "706e240f-4638-4b29-85c3-5403dbcdf574",
   "metadata": {},
   "outputs": [],
   "source": [
    "# BeautifulSoup library documentation\n",
    "# https://www.crummy.com/software/BeautifulSoup/bs4/doc/"
   ]
  },
  {
   "cell_type": "code",
   "execution_count": 1,
   "id": "936d81d2-f642-4bcc-be44-6f2e4badb250",
   "metadata": {},
   "outputs": [],
   "source": [
    "# Basic libraries\n",
    "import requests\n",
    "from bs4 import BeautifulSoup"
   ]
  },
  {
   "cell_type": "code",
   "execution_count": 2,
   "id": "f3c4ef8e-b244-487b-9ffa-0e27e271dce4",
   "metadata": {},
   "outputs": [
    {
     "name": "stdout",
     "output_type": "stream",
     "text": [
      "<!DOCTYPE html>\n",
      "<html>\n",
      " <head>\n",
      "  <title>\n",
      "   Páxina web con seccións\n",
      "  </title>\n",
      "  <meta charset=\"utf-8\"/>\n",
      " </head>\n",
      " <body>\n",
      "  <article>\n",
      "   <header class=\"art\">\n",
      "    <h1>\n",
      "     Título do artigo\n",
      "    </h1>\n",
      "    <p>\n",
      "     Introducción do artigo\n",
      "    </p>\n",
      "   </header>\n",
      "   <section id=\"main_content\">\n",
      "    <p>\n",
      "     Lorem ipsum dolor sit amet, consectetur adipisicing elit, sed do eiusmod tempor incididunt ut labore et dolore magna aliqua. Ut enim ad minim veniam, quis nostrud exercitation ullamco laboris nisi ut aliquip ex ea commodo consequat.\n",
      "    </p>\n",
      "   </section>\n",
      "   <section id=\"aux_content\">\n",
      "    <p>\n",
      "     Duis aute irure dolor in reprehenderit in voluptate velit esse cillum dolore eu fugiat nulla pariatur. Excepteur sint occaecat cupidatat non proident, sunt in culpa qui officia deserunt mollit anim id est laborum.\n",
      "    </p>\n",
      "   </section>\n",
      "   <footer class=\"art\">\n",
      "    <p>\n",
      "     Pé do artigo\n",
      "    </p>\n",
      "   </footer>\n",
      "  </article>\n",
      "  <footer class=\"web\">\n",
      "   <p>\n",
      "    Pé de toda a web\n",
      "   </p>\n",
      "  </footer>\n",
      " </body>\n",
      "</html>\n",
      "\n"
     ]
    }
   ],
   "source": [
    "# https://bigdatawirtz.github.io/exemplo-web/08.html\n",
    "url = 'https://bigdatawirtz.github.io/exemplo-web/08.html'\n",
    "paxina = requests.get(url)\n",
    "\n",
    "soup = BeautifulSoup(paxina.content,'html.parser')\n",
    "#soup\n",
    "print(soup.prettify())"
   ]
  },
  {
   "cell_type": "code",
   "execution_count": 3,
   "id": "ffcd5894-60f9-4c9c-8837-1de4b13b2910",
   "metadata": {},
   "outputs": [
    {
     "data": {
      "text/plain": [
       "[<footer class=\"art\">\n",
       " <p>Pé do artigo</p>\n",
       " </footer>,\n",
       " <footer class=\"web\">\n",
       " <p>Pé de toda a web</p>\n",
       " </footer>]"
      ]
     },
     "execution_count": 3,
     "metadata": {},
     "output_type": "execute_result"
    }
   ],
   "source": [
    "# Show footres\n",
    "# We have two footers (one for the article and other for the web)\n",
    "soup.find_all('footer')"
   ]
  },
  {
   "cell_type": "code",
   "execution_count": 4,
   "id": "0d2d014d-7ad8-4075-a58c-7875efa04f6f",
   "metadata": {},
   "outputs": [
    {
     "data": {
      "text/plain": [
       "[<header class=\"art\">\n",
       " <h1>Título do artigo</h1>\n",
       " <p>Introducción do artigo</p>\n",
       " </header>,\n",
       " <footer class=\"art\">\n",
       " <p>Pé do artigo</p>\n",
       " </footer>]"
      ]
     },
     "execution_count": 4,
     "metadata": {},
     "output_type": "execute_result"
    }
   ],
   "source": [
    "# In addition to selecting by tag...\n",
    "# we can also select by class\n",
    "soup.find_all(class_='art')"
   ]
  },
  {
   "cell_type": "code",
   "execution_count": 5,
   "id": "e815d80b-5fbd-4df5-8d8c-5b5f6ec50281",
   "metadata": {},
   "outputs": [
    {
     "data": {
      "text/plain": [
       "[<footer class=\"art\">\n",
       " <p>Pé do artigo</p>\n",
       " </footer>]"
      ]
     },
     "execution_count": 5,
     "metadata": {},
     "output_type": "execute_result"
    }
   ],
   "source": [
    "# Select by tag and class\n",
    "# Select the footer with 'art' class\n",
    "soup.find_all('footer', class_='art')"
   ]
  },
  {
   "cell_type": "code",
   "execution_count": 6,
   "id": "b39e8ece-e247-431a-a23c-0ef23858fdfc",
   "metadata": {},
   "outputs": [
    {
     "data": {
      "text/plain": [
       "[<header class=\"art\">\n",
       " <h1>Título do artigo</h1>\n",
       " <p>Introducción do artigo</p>\n",
       " </header>]"
      ]
     },
     "execution_count": 6,
     "metadata": {},
     "output_type": "execute_result"
    }
   ],
   "source": [
    "# Select the header with 'art' class\n",
    "soup.find_all('header', class_='art')"
   ]
  },
  {
   "cell_type": "code",
   "execution_count": 7,
   "id": "754b82a5-1d0c-4368-804d-dfc17cfff76c",
   "metadata": {},
   "outputs": [
    {
     "data": {
      "text/plain": [
       "<section id=\"main_content\">\n",
       "<p>Lorem ipsum dolor sit amet, consectetur adipisicing elit, sed do eiusmod tempor incididunt ut labore et dolore magna aliqua. Ut enim ad minim veniam, quis nostrud exercitation ullamco laboris nisi ut aliquip ex ea commodo consequat.</p>\n",
       "</section>"
      ]
     },
     "execution_count": 7,
     "metadata": {},
     "output_type": "execute_result"
    }
   ],
   "source": [
    "# Select by id\n",
    "# The ids identify elements that are unique on the web -> use find, instead of find_all\n",
    "soup.find(id='main_content')"
   ]
  },
  {
   "cell_type": "code",
   "execution_count": 8,
   "id": "43d648ad-c7d6-4aef-9ba7-398c50baa3f8",
   "metadata": {},
   "outputs": [
    {
     "data": {
      "text/plain": [
       "<article>\n",
       "<header class=\"art\">\n",
       "<h1>Título do artigo</h1>\n",
       "<p>Introducción do artigo</p>\n",
       "</header>\n",
       "<section id=\"main_content\">\n",
       "<p>Lorem ipsum dolor sit amet, consectetur adipisicing elit, sed do eiusmod tempor incididunt ut labore et dolore magna aliqua. Ut enim ad minim veniam, quis nostrud exercitation ullamco laboris nisi ut aliquip ex ea commodo consequat.</p>\n",
       "</section>\n",
       "<section id=\"aux_content\">\n",
       "<p>Duis aute irure dolor in reprehenderit in voluptate velit esse cillum dolore eu fugiat nulla pariatur. Excepteur sint occaecat cupidatat non proident, sunt in culpa qui officia deserunt mollit anim id est laborum.</p>\n",
       "</section>\n",
       "<footer class=\"art\">\n",
       "<p>Pé do artigo</p>\n",
       "</footer>\n",
       "</article>"
      ]
     },
     "execution_count": 8,
     "metadata": {},
     "output_type": "execute_result"
    }
   ],
   "source": [
    "# Search for \"article\"\n",
    "soup.article"
   ]
  },
  {
   "cell_type": "code",
   "execution_count": 9,
   "id": "47822cab-ec27-4d72-a32a-3cecef7744a1",
   "metadata": {},
   "outputs": [
    {
     "data": {
      "text/plain": [
       "['\\n',\n",
       " <header class=\"art\">\n",
       " <h1>Título do artigo</h1>\n",
       " <p>Introducción do artigo</p>\n",
       " </header>,\n",
       " '\\n',\n",
       " <section id=\"main_content\">\n",
       " <p>Lorem ipsum dolor sit amet, consectetur adipisicing elit, sed do eiusmod tempor incididunt ut labore et dolore magna aliqua. Ut enim ad minim veniam, quis nostrud exercitation ullamco laboris nisi ut aliquip ex ea commodo consequat.</p>\n",
       " </section>,\n",
       " '\\n',\n",
       " <section id=\"aux_content\">\n",
       " <p>Duis aute irure dolor in reprehenderit in voluptate velit esse cillum dolore eu fugiat nulla pariatur. Excepteur sint occaecat cupidatat non proident, sunt in culpa qui officia deserunt mollit anim id est laborum.</p>\n",
       " </section>,\n",
       " '\\n',\n",
       " <footer class=\"art\">\n",
       " <p>Pé do artigo</p>\n",
       " </footer>,\n",
       " '\\n']"
      ]
     },
     "execution_count": 9,
     "metadata": {},
     "output_type": "execute_result"
    }
   ],
   "source": [
    "# We can build a list of elements \"child\" or \"inside\" of *article*\n",
    "soup.article.contents"
   ]
  },
  {
   "cell_type": "code",
   "execution_count": 10,
   "id": "669f77f0-7120-4c5c-833e-297439eefe8e",
   "metadata": {},
   "outputs": [
    {
     "data": {
      "text/plain": [
       "[<header class=\"art\">\n",
       " <h1>Título do artigo</h1>\n",
       " <p>Introducción do artigo</p>\n",
       " </header>,\n",
       " <section id=\"main_content\">\n",
       " <p>Lorem ipsum dolor sit amet, consectetur adipisicing elit, sed do eiusmod tempor incididunt ut labore et dolore magna aliqua. Ut enim ad minim veniam, quis nostrud exercitation ullamco laboris nisi ut aliquip ex ea commodo consequat.</p>\n",
       " </section>,\n",
       " <section id=\"aux_content\">\n",
       " <p>Duis aute irure dolor in reprehenderit in voluptate velit esse cillum dolore eu fugiat nulla pariatur. Excepteur sint occaecat cupidatat non proident, sunt in culpa qui officia deserunt mollit anim id est laborum.</p>\n",
       " </section>,\n",
       " <footer class=\"art\">\n",
       " <p>Pé do artigo</p>\n",
       " </footer>]"
      ]
     },
     "execution_count": 10,
     "metadata": {},
     "output_type": "execute_result"
    }
   ],
   "source": [
    "\n",
    "# You should delete the \\n to leave only the contents in the list\n",
    "contidos = soup.article.contents\n",
    "while '\\n' in contidos: \n",
    "    contidos.remove('\\n')\n",
    "contidos"
   ]
  },
  {
   "cell_type": "code",
   "execution_count": 11,
   "id": "76687441-6202-41fd-912b-a22ede03ac16",
   "metadata": {},
   "outputs": [
    {
     "data": {
      "text/plain": [
       "<header class=\"art\">\n",
       "<h1>Título do artigo</h1>\n",
       "<p>Introducción do artigo</p>\n",
       "</header>"
      ]
     },
     "execution_count": 11,
     "metadata": {},
     "output_type": "execute_result"
    }
   ],
   "source": [
    "# Access to the contents\n",
    "contidos[0]"
   ]
  },
  {
   "cell_type": "code",
   "execution_count": 12,
   "id": "e875e146-b319-4719-b72d-7adead406d0e",
   "metadata": {},
   "outputs": [
    {
     "data": {
      "text/plain": [
       "<section id=\"main_content\">\n",
       "<p>Lorem ipsum dolor sit amet, consectetur adipisicing elit, sed do eiusmod tempor incididunt ut labore et dolore magna aliqua. Ut enim ad minim veniam, quis nostrud exercitation ullamco laboris nisi ut aliquip ex ea commodo consequat.</p>\n",
       "</section>"
      ]
     },
     "execution_count": 12,
     "metadata": {},
     "output_type": "execute_result"
    }
   ],
   "source": [
    "contidos[1]"
   ]
  },
  {
   "cell_type": "code",
   "execution_count": 13,
   "id": "a2a71943-f79e-4cf3-b5e0-6bf2f4f8c566",
   "metadata": {},
   "outputs": [
    {
     "data": {
      "text/plain": [
       "['\\n',\n",
       " <p>Lorem ipsum dolor sit amet, consectetur adipisicing elit, sed do eiusmod tempor incididunt ut labore et dolore magna aliqua. Ut enim ad minim veniam, quis nostrud exercitation ullamco laboris nisi ut aliquip ex ea commodo consequat.</p>,\n",
       " '\\n']"
      ]
     },
     "execution_count": 13,
     "metadata": {},
     "output_type": "execute_result"
    }
   ],
   "source": [
    "contidos[1].contents"
   ]
  },
  {
   "attachments": {},
   "cell_type": "markdown",
   "id": "f4c70a27-614b-4823-9f05-cbd0a89bc319",
   "metadata": {},
   "source": [
    "## Table Scraping\n",
    "\n",
    "The information that we are interested in downloading is in tables and our objective is to import them into Pandas tables. This conversion usually requires the manipulation of the text, numbers and data contained in the original táboa.\n",
    "\n",
    "The typical structure of a table in `html` is:\n",
    "\n",
    "```\n",
    "<table>\n",
    "    <thead>\n",
    "        <tr>\n",
    "            <th>Columna A</th>\n",
    "            <th>Columna B</th>\n",
    "        </tr>\n",
    "    </thead>\n",
    "    <tbody>\n",
    "        <tr>\n",
    "            <td>A1</td>\n",
    "            <td>B1</td>\n",
    "        </tr>\n",
    "        <tr>\n",
    "            <td>A2</td>\n",
    "            <td>B2</td>\n",
    "        </tr>\n",
    "    </tbody>\n",
    "</table>   \n",
    "```"
   ]
  },
  {
   "cell_type": "code",
   "execution_count": 14,
   "id": "ed8503e4-c74e-4cce-9af5-cd63d1826785",
   "metadata": {},
   "outputs": [
    {
     "name": "stdout",
     "output_type": "stream",
     "text": [
      "<!DOCTYPE html>\n",
      "<html>\n",
      " <head>\n",
      "  <title>\n",
      "   Taboa simple\n",
      "  </title>\n",
      "  <meta charset=\"utf-8\"/>\n",
      " </head>\n",
      " <body>\n",
      "  <p>\n",
      "   Temperatura da Coruña\n",
      "  </p>\n",
      "  <table border=\"2\" title=\"Taboa simple\">\n",
      "   <tr>\n",
      "    <td>\n",
      "     Mes\n",
      "    </td>\n",
      "    <td>\n",
      "     Temperatura media\n",
      "    </td>\n",
      "   </tr>\n",
      "   <tr>\n",
      "    <td>\n",
      "     Xaneiro\n",
      "    </td>\n",
      "    <td>\n",
      "     11\n",
      "    </td>\n",
      "   </tr>\n",
      "   <tr>\n",
      "    <td>\n",
      "     Febreiro\n",
      "    </td>\n",
      "    <td>\n",
      "     11\n",
      "    </td>\n",
      "   </tr>\n",
      "   <tr>\n",
      "    <td>\n",
      "     Marzo\n",
      "    </td>\n",
      "    <td>\n",
      "     12\n",
      "    </td>\n",
      "   </tr>\n",
      "   <tr>\n",
      "    <td>\n",
      "     Abril\n",
      "    </td>\n",
      "    <td>\n",
      "     13\n",
      "    </td>\n",
      "   </tr>\n",
      "   <tr>\n",
      "    <td>\n",
      "     Maio\n",
      "    </td>\n",
      "    <td>\n",
      "     15\n",
      "    </td>\n",
      "   </tr>\n",
      "   <tr>\n",
      "    <td>\n",
      "     Xuño\n",
      "    </td>\n",
      "    <td>\n",
      "     18\n",
      "    </td>\n",
      "   </tr>\n",
      "   <tr>\n",
      "    <td>\n",
      "     Xullo\n",
      "    </td>\n",
      "    <td>\n",
      "     19\n",
      "    </td>\n",
      "   </tr>\n",
      "   <tr>\n",
      "    <td>\n",
      "     Agosto\n",
      "    </td>\n",
      "    <td>\n",
      "     20\n",
      "    </td>\n",
      "   </tr>\n",
      "   <tr>\n",
      "    <td>\n",
      "     Setembro\n",
      "    </td>\n",
      "    <td>\n",
      "     18\n",
      "    </td>\n",
      "   </tr>\n",
      "   <tr>\n",
      "    <td>\n",
      "     Outubro\n",
      "    </td>\n",
      "    <td>\n",
      "     16\n",
      "    </td>\n",
      "   </tr>\n",
      "   <tr>\n",
      "    <td>\n",
      "     Novembro\n",
      "    </td>\n",
      "    <td>\n",
      "     13\n",
      "    </td>\n",
      "   </tr>\n",
      "   <tr>\n",
      "    <td>\n",
      "     Decembro\n",
      "    </td>\n",
      "    <td>\n",
      "     11\n",
      "    </td>\n",
      "   </tr>\n",
      "  </table>\n",
      " </body>\n",
      "</html>\n",
      "\n"
     ]
    }
   ],
   "source": [
    "# https://bigdatawirtz.github.io/exemplo-web/taboa_simple.html\n",
    "url = 'https://bigdatawirtz.github.io/exemplo-web/taboa_simple.html'\n",
    "paxina = requests.get(url)\n",
    "\n",
    "soup = BeautifulSoup(paxina.content,'html.parser')\n",
    "print(soup.prettify())"
   ]
  },
  {
   "cell_type": "code",
   "execution_count": 20,
   "id": "6e38a0d0-017c-4996-b0e2-1467ee123e8f",
   "metadata": {},
   "outputs": [
    {
     "name": "stdout",
     "output_type": "stream",
     "text": [
      "Mes\n",
      "Temperatura media\n",
      "Xaneiro\n",
      "11\n"
     ]
    }
   ],
   "source": [
    "#soup.find_all('tr')\n",
    "lista_filas = soup.find_all('tr')\n",
    "\n",
    "#lista_filas[0]\n",
    "#lista_filas[0].find_all('td')\n",
    "fila_0 = lista_filas[0].find_all('td')\n",
    "\n",
    "for cela in fila_0:\n",
    "    print(cela.text)\n",
    "    \n",
    "fila_1 = lista_filas[1].find_all('td')\n",
    "fila_1\n",
    "\n",
    "for cela in fila_1:\n",
    "    print(cela.text)\n"
   ]
  },
  {
   "cell_type": "code",
   "execution_count": 21,
   "id": "fde94e9d-db27-4ce9-a8ca-47e4bb8506c2",
   "metadata": {},
   "outputs": [
    {
     "name": "stdout",
     "output_type": "stream",
     "text": [
      "Mes\n",
      "Temperatura media\n",
      "Xaneiro\n",
      "11\n",
      "Febreiro\n",
      "11\n",
      "Marzo\n",
      "12\n",
      "Abril\n",
      "13\n",
      "Maio\n",
      "15\n",
      "Xuño\n",
      "18\n",
      "Xullo\n",
      "19\n",
      "Agosto\n",
      "20\n",
      "Setembro\n",
      "18\n",
      "Outubro\n",
      "16\n",
      "Novembro\n",
      "13\n",
      "Decembro\n",
      "11\n"
     ]
    }
   ],
   "source": [
    "lista_filas = soup.find_all('tr')\n",
    "\n",
    "for fila in lista_filas:\n",
    "    lista_celas = fila.find_all('td')\n",
    "    for cela in lista_celas:\n",
    "        print(cela.text)"
   ]
  },
  {
   "cell_type": "code",
   "execution_count": 22,
   "id": "4c526936-6a1d-4e85-bb50-bee7a18791cf",
   "metadata": {},
   "outputs": [
    {
     "data": {
      "text/plain": [
       "[['Mes', 'Temperatura media'],\n",
       " ['Xaneiro', '11'],\n",
       " ['Febreiro', '11'],\n",
       " ['Marzo', '12'],\n",
       " ['Abril', '13'],\n",
       " ['Maio', '15'],\n",
       " ['Xuño', '18'],\n",
       " ['Xullo', '19'],\n",
       " ['Agosto', '20'],\n",
       " ['Setembro', '18'],\n",
       " ['Outubro', '16'],\n",
       " ['Novembro', '13'],\n",
       " ['Decembro', '11']]"
      ]
     },
     "execution_count": 22,
     "metadata": {},
     "output_type": "execute_result"
    }
   ],
   "source": [
    "taboa = []\n",
    "temp_fila = []\n",
    "\n",
    "lista_filas = soup.find_all('tr')\n",
    "\n",
    "for fila in lista_filas:\n",
    "    lista_celas = fila.find_all('td')    \n",
    "    for cela in lista_celas:\n",
    "        #print(cela.text)\n",
    "        temp_fila.append(cela.text)\n",
    "    taboa.append(temp_fila)\n",
    "    temp_fila = []\n",
    "taboa"
   ]
  },
  {
   "cell_type": "code",
   "execution_count": 23,
   "id": "b2e57196-6a02-426f-924f-3115403310f0",
   "metadata": {},
   "outputs": [
    {
     "data": {
      "text/html": [
       "<div>\n",
       "<style scoped>\n",
       "    .dataframe tbody tr th:only-of-type {\n",
       "        vertical-align: middle;\n",
       "    }\n",
       "\n",
       "    .dataframe tbody tr th {\n",
       "        vertical-align: top;\n",
       "    }\n",
       "\n",
       "    .dataframe thead th {\n",
       "        text-align: right;\n",
       "    }\n",
       "</style>\n",
       "<table border=\"1\" class=\"dataframe\">\n",
       "  <thead>\n",
       "    <tr style=\"text-align: right;\">\n",
       "      <th></th>\n",
       "      <th>0</th>\n",
       "      <th>1</th>\n",
       "    </tr>\n",
       "  </thead>\n",
       "  <tbody>\n",
       "    <tr>\n",
       "      <th>0</th>\n",
       "      <td>Mes</td>\n",
       "      <td>Temperatura media</td>\n",
       "    </tr>\n",
       "    <tr>\n",
       "      <th>1</th>\n",
       "      <td>Xaneiro</td>\n",
       "      <td>11</td>\n",
       "    </tr>\n",
       "    <tr>\n",
       "      <th>2</th>\n",
       "      <td>Febreiro</td>\n",
       "      <td>11</td>\n",
       "    </tr>\n",
       "    <tr>\n",
       "      <th>3</th>\n",
       "      <td>Marzo</td>\n",
       "      <td>12</td>\n",
       "    </tr>\n",
       "    <tr>\n",
       "      <th>4</th>\n",
       "      <td>Abril</td>\n",
       "      <td>13</td>\n",
       "    </tr>\n",
       "    <tr>\n",
       "      <th>5</th>\n",
       "      <td>Maio</td>\n",
       "      <td>15</td>\n",
       "    </tr>\n",
       "    <tr>\n",
       "      <th>6</th>\n",
       "      <td>Xuño</td>\n",
       "      <td>18</td>\n",
       "    </tr>\n",
       "    <tr>\n",
       "      <th>7</th>\n",
       "      <td>Xullo</td>\n",
       "      <td>19</td>\n",
       "    </tr>\n",
       "    <tr>\n",
       "      <th>8</th>\n",
       "      <td>Agosto</td>\n",
       "      <td>20</td>\n",
       "    </tr>\n",
       "    <tr>\n",
       "      <th>9</th>\n",
       "      <td>Setembro</td>\n",
       "      <td>18</td>\n",
       "    </tr>\n",
       "    <tr>\n",
       "      <th>10</th>\n",
       "      <td>Outubro</td>\n",
       "      <td>16</td>\n",
       "    </tr>\n",
       "    <tr>\n",
       "      <th>11</th>\n",
       "      <td>Novembro</td>\n",
       "      <td>13</td>\n",
       "    </tr>\n",
       "    <tr>\n",
       "      <th>12</th>\n",
       "      <td>Decembro</td>\n",
       "      <td>11</td>\n",
       "    </tr>\n",
       "  </tbody>\n",
       "</table>\n",
       "</div>"
      ],
      "text/plain": [
       "           0                  1\n",
       "0        Mes  Temperatura media\n",
       "1    Xaneiro                 11\n",
       "2   Febreiro                 11\n",
       "3      Marzo                 12\n",
       "4      Abril                 13\n",
       "5       Maio                 15\n",
       "6       Xuño                 18\n",
       "7      Xullo                 19\n",
       "8     Agosto                 20\n",
       "9   Setembro                 18\n",
       "10   Outubro                 16\n",
       "11  Novembro                 13\n",
       "12  Decembro                 11"
      ]
     },
     "execution_count": 23,
     "metadata": {},
     "output_type": "execute_result"
    }
   ],
   "source": [
    "import pandas as pd\n",
    "df = pd.DataFrame(taboa)\n",
    "df"
   ]
  },
  {
   "cell_type": "code",
   "execution_count": 24,
   "id": "5543d554-a9f6-4a64-a70c-981f88c46eac",
   "metadata": {},
   "outputs": [],
   "source": [
    "#df.rename(columns=pd.Series(['mes','temperatura']))\n",
    "#df.iloc[0]\n",
    "#df.rename(columns=df.iloc[0])\n",
    "#df.drop(1)\n",
    "#df.rename(columns=df.iloc[0]).drop(0)\n",
    "df = df.rename(columns=df.iloc[0]).drop(0)"
   ]
  },
  {
   "cell_type": "code",
   "execution_count": 25,
   "id": "49a1357a-dc58-40ed-8058-cd9df245598e",
   "metadata": {},
   "outputs": [
    {
     "data": {
      "text/html": [
       "<div>\n",
       "<style scoped>\n",
       "    .dataframe tbody tr th:only-of-type {\n",
       "        vertical-align: middle;\n",
       "    }\n",
       "\n",
       "    .dataframe tbody tr th {\n",
       "        vertical-align: top;\n",
       "    }\n",
       "\n",
       "    .dataframe thead th {\n",
       "        text-align: right;\n",
       "    }\n",
       "</style>\n",
       "<table border=\"1\" class=\"dataframe\">\n",
       "  <thead>\n",
       "    <tr style=\"text-align: right;\">\n",
       "      <th></th>\n",
       "      <th>Mes</th>\n",
       "      <th>Temperatura media</th>\n",
       "    </tr>\n",
       "  </thead>\n",
       "  <tbody>\n",
       "    <tr>\n",
       "      <th>1</th>\n",
       "      <td>Xaneiro</td>\n",
       "      <td>11</td>\n",
       "    </tr>\n",
       "    <tr>\n",
       "      <th>2</th>\n",
       "      <td>Febreiro</td>\n",
       "      <td>11</td>\n",
       "    </tr>\n",
       "    <tr>\n",
       "      <th>3</th>\n",
       "      <td>Marzo</td>\n",
       "      <td>12</td>\n",
       "    </tr>\n",
       "    <tr>\n",
       "      <th>4</th>\n",
       "      <td>Abril</td>\n",
       "      <td>13</td>\n",
       "    </tr>\n",
       "    <tr>\n",
       "      <th>5</th>\n",
       "      <td>Maio</td>\n",
       "      <td>15</td>\n",
       "    </tr>\n",
       "    <tr>\n",
       "      <th>6</th>\n",
       "      <td>Xuño</td>\n",
       "      <td>18</td>\n",
       "    </tr>\n",
       "    <tr>\n",
       "      <th>7</th>\n",
       "      <td>Xullo</td>\n",
       "      <td>19</td>\n",
       "    </tr>\n",
       "    <tr>\n",
       "      <th>8</th>\n",
       "      <td>Agosto</td>\n",
       "      <td>20</td>\n",
       "    </tr>\n",
       "    <tr>\n",
       "      <th>9</th>\n",
       "      <td>Setembro</td>\n",
       "      <td>18</td>\n",
       "    </tr>\n",
       "    <tr>\n",
       "      <th>10</th>\n",
       "      <td>Outubro</td>\n",
       "      <td>16</td>\n",
       "    </tr>\n",
       "    <tr>\n",
       "      <th>11</th>\n",
       "      <td>Novembro</td>\n",
       "      <td>13</td>\n",
       "    </tr>\n",
       "    <tr>\n",
       "      <th>12</th>\n",
       "      <td>Decembro</td>\n",
       "      <td>11</td>\n",
       "    </tr>\n",
       "  </tbody>\n",
       "</table>\n",
       "</div>"
      ],
      "text/plain": [
       "         Mes Temperatura media\n",
       "1    Xaneiro                11\n",
       "2   Febreiro                11\n",
       "3      Marzo                12\n",
       "4      Abril                13\n",
       "5       Maio                15\n",
       "6       Xuño                18\n",
       "7      Xullo                19\n",
       "8     Agosto                20\n",
       "9   Setembro                18\n",
       "10   Outubro                16\n",
       "11  Novembro                13\n",
       "12  Decembro                11"
      ]
     },
     "execution_count": 25,
     "metadata": {},
     "output_type": "execute_result"
    }
   ],
   "source": [
    "df"
   ]
  },
  {
   "cell_type": "code",
   "execution_count": 26,
   "id": "aa30b39f-94b4-427c-b06a-17792318d042",
   "metadata": {},
   "outputs": [],
   "source": [
    "#df.set_index('Mes')\n",
    "df = df.set_index('Mes')"
   ]
  },
  {
   "cell_type": "code",
   "execution_count": null,
   "id": "9d119601-68c4-49e2-a74f-2f8999c1b889",
   "metadata": {},
   "outputs": [],
   "source": [
    "df"
   ]
  },
  {
   "cell_type": "code",
   "execution_count": 27,
   "id": "d2c288f8-2487-4bcb-9b76-b047c65bac9b",
   "metadata": {},
   "outputs": [
    {
     "name": "stdout",
     "output_type": "stream",
     "text": [
      "<!DOCTYPE html>\n",
      "<html>\n",
      " <head>\n",
      "  <title>\n",
      "   Tablas\n",
      "  </title>\n",
      "  <meta charset=\"utf-8\"/>\n",
      " </head>\n",
      " <body>\n",
      "  <table border=\"2\" title=\"Tabla de Gastos\">\n",
      "   <caption>\n",
      "    Tabla de Gastos\n",
      "   </caption>\n",
      "   <thead>\n",
      "    <tr>\n",
      "     <th>\n",
      "      Mes\n",
      "     </th>\n",
      "     <th>\n",
      "      Ganacias\n",
      "     </th>\n",
      "    </tr>\n",
      "   </thead>\n",
      "   <tbody>\n",
      "    <tr>\n",
      "     <td>\n",
      "      Enero\n",
      "     </td>\n",
      "     <td>\n",
      "      100 €\n",
      "     </td>\n",
      "    </tr>\n",
      "    <tr>\n",
      "     <td>\n",
      "      Febrero\n",
      "     </td>\n",
      "     <td>\n",
      "      80 €\n",
      "     </td>\n",
      "    </tr>\n",
      "   </tbody>\n",
      "   <tfoot>\n",
      "    <tr>\n",
      "     <td>\n",
      "      Total\n",
      "     </td>\n",
      "     <td>\n",
      "      180 €\n",
      "     </td>\n",
      "    </tr>\n",
      "   </tfoot>\n",
      "  </table>\n",
      "  <hr/>\n",
      "  <table border=\"1\" title=\"Tabla de pruebas\">\n",
      "   <caption>\n",
      "    Tabla de pruebas de colspan y rowspan\n",
      "   </caption>\n",
      "   <tbody>\n",
      "    <tr>\n",
      "     <td colspan=\"2\">\n",
      "      Esto tiene un colspan de 2\n",
      "     </td>\n",
      "    </tr>\n",
      "    <tr>\n",
      "     <td rowspan=\"2\">\n",
      "      Esta tiene un rowspan de 2\n",
      "     </td>\n",
      "     <td>\n",
      "      nada por aquí\n",
      "     </td>\n",
      "    </tr>\n",
      "    <tr>\n",
      "     <td>\n",
      "      Una cosa\n",
      "     </td>\n",
      "    </tr>\n",
      "    <tr>\n",
      "     <td>\n",
      "      Ahora normal\n",
      "     </td>\n",
      "     <td>\n",
      "      Y ahora también\n",
      "     </td>\n",
      "    </tr>\n",
      "   </tbody>\n",
      "  </table>\n",
      " </body>\n",
      "</html>\n",
      "\n"
     ]
    }
   ],
   "source": [
    "# https://bigdatawirtz.github.io/exemplo-web/05.html\n",
    "url = 'https://bigdatawirtz.github.io/exemplo-web/05.html'\n",
    "paxina = requests.get(url)\n",
    "\n",
    "soup = BeautifulSoup(paxina.content,'html.parser')\n",
    "print(soup.prettify())"
   ]
  },
  {
   "cell_type": "code",
   "execution_count": 28,
   "id": "613f56cf-68ac-4938-b721-c50e06e49d37",
   "metadata": {},
   "outputs": [
    {
     "data": {
      "text/plain": [
       "<table border=\"2\" title=\"Tabla de Gastos\">\n",
       "<caption>Tabla de Gastos</caption>\n",
       "<thead>\n",
       "<tr>\n",
       "<th>Mes</th>\n",
       "<th>Ganacias</th>\n",
       "</tr>\n",
       "</thead>\n",
       "<tbody>\n",
       "<tr>\n",
       "<td>Enero</td>\n",
       "<td>100 €</td>\n",
       "</tr>\n",
       "<tr>\n",
       "<td>Febrero</td>\n",
       "<td>80 €</td>\n",
       "</tr>\n",
       "</tbody>\n",
       "<tfoot>\n",
       "<tr>\n",
       "<td>Total</td>\n",
       "<td>180 €</td>\n",
       "</tr>\n",
       "</tfoot>\n",
       "</table>"
      ]
     },
     "execution_count": 28,
     "metadata": {},
     "output_type": "execute_result"
    }
   ],
   "source": [
    "# Locate the table\n",
    "taboa_gastos = soup.find('table')\n",
    "taboa_gastos"
   ]
  },
  {
   "cell_type": "code",
   "execution_count": 29,
   "id": "8e7d44d5-994c-4bfe-9676-3df3c7c34ade",
   "metadata": {},
   "outputs": [
    {
     "data": {
      "text/plain": [
       "'Mes'"
      ]
     },
     "execution_count": 29,
     "metadata": {},
     "output_type": "execute_result"
    }
   ],
   "source": [
    "# p.ex: access to an elemento of the table header\n",
    "taboa_gastos.find('th').text\n"
   ]
  },
  {
   "cell_type": "code",
   "execution_count": 30,
   "id": "b212ca89-1956-468d-801d-e899f663353f",
   "metadata": {},
   "outputs": [
    {
     "data": {
      "text/plain": [
       "[['Mes', 'Ganacias'],\n",
       " ['Enero', '100 €'],\n",
       " ['Febrero', '80 €'],\n",
       " ['Total', '180 €']]"
      ]
     },
     "execution_count": 30,
     "metadata": {},
     "output_type": "execute_result"
    }
   ],
   "source": [
    "lista = []\n",
    "temp_lista = []\n",
    "\n",
    "for fila in taboa_gastos.find_all('tr'):\n",
    "    for linha in fila.find_all(['td','th']): #we can search for two elements at the same time\n",
    "        temp_lista.append(linha.text)\n",
    "    lista.append(temp_lista)\n",
    "    temp_lista = []\n",
    "    \n",
    "lista"
   ]
  },
  {
   "cell_type": "code",
   "execution_count": 31,
   "id": "ff28ffbb-6fc6-4fab-a4e6-41f842944da3",
   "metadata": {},
   "outputs": [],
   "source": [
    "import pandas as pd"
   ]
  },
  {
   "cell_type": "code",
   "execution_count": 32,
   "id": "b43b65f2-752b-4f7e-8834-a5b8b4755f56",
   "metadata": {},
   "outputs": [
    {
     "data": {
      "text/html": [
       "<div>\n",
       "<style scoped>\n",
       "    .dataframe tbody tr th:only-of-type {\n",
       "        vertical-align: middle;\n",
       "    }\n",
       "\n",
       "    .dataframe tbody tr th {\n",
       "        vertical-align: top;\n",
       "    }\n",
       "\n",
       "    .dataframe thead th {\n",
       "        text-align: right;\n",
       "    }\n",
       "</style>\n",
       "<table border=\"1\" class=\"dataframe\">\n",
       "  <thead>\n",
       "    <tr style=\"text-align: right;\">\n",
       "      <th></th>\n",
       "      <th>0</th>\n",
       "      <th>1</th>\n",
       "    </tr>\n",
       "  </thead>\n",
       "  <tbody>\n",
       "    <tr>\n",
       "      <th>0</th>\n",
       "      <td>Mes</td>\n",
       "      <td>Ganacias</td>\n",
       "    </tr>\n",
       "    <tr>\n",
       "      <th>1</th>\n",
       "      <td>Enero</td>\n",
       "      <td>100 €</td>\n",
       "    </tr>\n",
       "    <tr>\n",
       "      <th>2</th>\n",
       "      <td>Febrero</td>\n",
       "      <td>80 €</td>\n",
       "    </tr>\n",
       "    <tr>\n",
       "      <th>3</th>\n",
       "      <td>Total</td>\n",
       "      <td>180 €</td>\n",
       "    </tr>\n",
       "  </tbody>\n",
       "</table>\n",
       "</div>"
      ],
      "text/plain": [
       "         0         1\n",
       "0      Mes  Ganacias\n",
       "1    Enero     100 €\n",
       "2  Febrero      80 €\n",
       "3    Total     180 €"
      ]
     },
     "execution_count": 32,
     "metadata": {},
     "output_type": "execute_result"
    }
   ],
   "source": [
    "# Create a dataframe\n",
    "df = pd.DataFrame(lista)\n",
    "df"
   ]
  },
  {
   "cell_type": "code",
   "execution_count": 33,
   "id": "a1cb8758-0df6-4a78-a4a8-6a6155f667d3",
   "metadata": {},
   "outputs": [
    {
     "data": {
      "text/html": [
       "<div>\n",
       "<style scoped>\n",
       "    .dataframe tbody tr th:only-of-type {\n",
       "        vertical-align: middle;\n",
       "    }\n",
       "\n",
       "    .dataframe tbody tr th {\n",
       "        vertical-align: top;\n",
       "    }\n",
       "\n",
       "    .dataframe thead th {\n",
       "        text-align: right;\n",
       "    }\n",
       "</style>\n",
       "<table border=\"1\" class=\"dataframe\">\n",
       "  <thead>\n",
       "    <tr style=\"text-align: right;\">\n",
       "      <th></th>\n",
       "      <th>Mes</th>\n",
       "      <th>Ganacias</th>\n",
       "    </tr>\n",
       "  </thead>\n",
       "  <tbody>\n",
       "    <tr>\n",
       "      <th>1</th>\n",
       "      <td>Enero</td>\n",
       "      <td>100 €</td>\n",
       "    </tr>\n",
       "    <tr>\n",
       "      <th>2</th>\n",
       "      <td>Febrero</td>\n",
       "      <td>80 €</td>\n",
       "    </tr>\n",
       "    <tr>\n",
       "      <th>3</th>\n",
       "      <td>Total</td>\n",
       "      <td>180 €</td>\n",
       "    </tr>\n",
       "  </tbody>\n",
       "</table>\n",
       "</div>"
      ],
      "text/plain": [
       "       Mes Ganacias\n",
       "1    Enero    100 €\n",
       "2  Febrero     80 €\n",
       "3    Total    180 €"
      ]
     },
     "execution_count": 33,
     "metadata": {},
     "output_type": "execute_result"
    }
   ],
   "source": [
    "# Create a dataframe and adjust headers\n",
    "df = pd.DataFrame(lista)\n",
    "df = df.rename(columns=df.iloc[0]).drop(0)\n",
    "df"
   ]
  },
  {
   "cell_type": "code",
   "execution_count": 34,
   "id": "c9f083c7-ecee-478b-9045-038d4636bc10",
   "metadata": {},
   "outputs": [
    {
     "data": {
      "text/html": [
       "<div>\n",
       "<style scoped>\n",
       "    .dataframe tbody tr th:only-of-type {\n",
       "        vertical-align: middle;\n",
       "    }\n",
       "\n",
       "    .dataframe tbody tr th {\n",
       "        vertical-align: top;\n",
       "    }\n",
       "\n",
       "    .dataframe thead th {\n",
       "        text-align: right;\n",
       "    }\n",
       "</style>\n",
       "<table border=\"1\" class=\"dataframe\">\n",
       "  <thead>\n",
       "    <tr style=\"text-align: right;\">\n",
       "      <th></th>\n",
       "      <th>Ganacias</th>\n",
       "    </tr>\n",
       "    <tr>\n",
       "      <th>Mes</th>\n",
       "      <th></th>\n",
       "    </tr>\n",
       "  </thead>\n",
       "  <tbody>\n",
       "    <tr>\n",
       "      <th>Enero</th>\n",
       "      <td>100 €</td>\n",
       "    </tr>\n",
       "    <tr>\n",
       "      <th>Febrero</th>\n",
       "      <td>80 €</td>\n",
       "    </tr>\n",
       "    <tr>\n",
       "      <th>Total</th>\n",
       "      <td>180 €</td>\n",
       "    </tr>\n",
       "  </tbody>\n",
       "</table>\n",
       "</div>"
      ],
      "text/plain": [
       "        Ganacias\n",
       "Mes             \n",
       "Enero      100 €\n",
       "Febrero     80 €\n",
       "Total      180 €"
      ]
     },
     "execution_count": 34,
     "metadata": {},
     "output_type": "execute_result"
    }
   ],
   "source": [
    "# Adjust indexes\n",
    "df.set_index('Mes')"
   ]
  },
  {
   "cell_type": "code",
   "execution_count": null,
   "id": "ee65a66d",
   "metadata": {},
   "outputs": [],
   "source": []
  }
 ],
 "metadata": {
  "kernelspec": {
   "display_name": "systems",
   "language": "python",
   "name": "python3"
  },
  "language_info": {
   "codemirror_mode": {
    "name": "ipython",
    "version": 3
   },
   "file_extension": ".py",
   "mimetype": "text/x-python",
   "name": "python",
   "nbconvert_exporter": "python",
   "pygments_lexer": "ipython3",
   "version": "3.12.0"
  },
  "vscode": {
   "interpreter": {
    "hash": "63eb1e5c3aa5268319f56c3b664e0523445c946ec0f1445e261f1f92702f6b14"
   }
  }
 },
 "nbformat": 4,
 "nbformat_minor": 5
}
